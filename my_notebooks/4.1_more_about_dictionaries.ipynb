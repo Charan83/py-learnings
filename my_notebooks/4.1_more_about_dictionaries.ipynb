{
 "cells": [
  {
   "cell_type": "markdown",
   "id": "0822d56f",
   "metadata": {},
   "source": [
    "# Dictionary Elements\n",
    "\n",
    "key: value\n",
    "\n",
    "- value : any python object(integer, custom class or instance, function, module, ... any python object\n",
    "\n",
    "- key : any hashable object (strings, int, float, complex, binary, Decimal, Fraction...are immutable)\n",
    "\n",
    "**hash tables requires hash of an object to be constant for the life of the program\n",
    "\n",
    "    - lists are not hasable\n",
    "    - roughly: immutable objects are hasable\n",
    "    - mutable objects are NOT hasable"
   ]
  },
  {
   "cell_type": "markdown",
   "id": "70017aa4",
   "metadata": {},
   "source": [
    "# Hashable Objects\n",
    "- hash(obj) : \n",
    "    - returns an integer\n",
    "    - Exception, TypeError --> when its not hashable\n",
    "    \n",
    "- int, float, complex, binary, Decimal, Fraction, :  immutable --> hashable\n",
    "- strings : immutable collection --> hashable\n",
    "- frozenset : immutable collection --> elements are required to be hashable --> hashable\n",
    "- tuples : immutable collection --> hashable only if all the elements are also hashable\n",
    "- set, dictionary, list : mutable collection --> not hashable\n",
    "- functions : immutable --> hashable\n",
    "- customer classes and objects : may be\n",
    "\n",
    "### Rules for hashable\n",
    "- The hash of the object must be an integer value\n",
    "- if two objects compare equal(==), the hashes must also be equal\n",
    "\n",
    "### Creating Dictionaries : Literals\n"
   ]
  },
  {
   "cell_type": "code",
   "execution_count": 3,
   "id": "4193c95e",
   "metadata": {},
   "outputs": [
    {
     "name": "stdout",
     "output_type": "stream",
     "text": [
      "{'john': ['John', 'Martin', 78], (0, 0): 'Origin', 'repr': <function <lambda> at 0x7fcfb0b3c5e0>, 'eric': {'name': 'Eric Idle', 'age': 75}}\n"
     ]
    }
   ],
   "source": [
    "dict1 = {\n",
    "    'john': ['John', 'Martin', 78],\n",
    "    (0,0): 'Origin',\n",
    "    'repr': lambda x: x**2,\n",
    "    'eric': {'name': 'Eric Idle', 'age': 75}\n",
    "}\n",
    "print(dict1)"
   ]
  },
  {
   "cell_type": "code",
   "execution_count": null,
   "id": "3a0d0477",
   "metadata": {},
   "outputs": [],
   "source": []
  }
 ],
 "metadata": {
  "kernelspec": {
   "display_name": "Python 3 (ipykernel)",
   "language": "python",
   "name": "python3"
  },
  "language_info": {
   "codemirror_mode": {
    "name": "ipython",
    "version": 3
   },
   "file_extension": ".py",
   "mimetype": "text/x-python",
   "name": "python",
   "nbconvert_exporter": "python",
   "pygments_lexer": "ipython3",
   "version": "3.9.12"
  }
 },
 "nbformat": 4,
 "nbformat_minor": 5
}

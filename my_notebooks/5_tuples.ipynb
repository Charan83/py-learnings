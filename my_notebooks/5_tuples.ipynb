{
 "cells": [
  {
   "cell_type": "markdown",
   "id": "9527defb",
   "metadata": {},
   "source": [
    "# Tuples\n",
    "   - An ordered collection or group of items (in this sence its similar to list)\n",
    "   - can hold duplicate data like lists => (1,2,3,4,3,3,3)\n",
    "   - The difference b/n tuple / list\n",
    "       - syntax : tiples () / list []\n",
    "       - tuple is immutable (we cannot change it) / lists are mutable we can add/remove items, change the value of the existing item\n",
    "   - when we try to change the item in a tuple we get TypeError\n",
    "       - methods like append / remove / clear .... which modifies are not available for tuple\n",
    "       \n",
    "## Why use tupes\n",
    "   - faster than lists\n",
    "   - code safer when we want that datasttructure should not be changes\n",
    "   - can be used as valid keys in a dictionary\n",
    "   - some methods return tuple like .items() of dictionary\n",
    "       \n",
    "## Examples\n",
    "   - months of a year (ordered list that doesn't change)\n",
    "      \n",
    "## Two ways to create\n",
    "   - tuple(1, 2, 3)\n",
    "   - (1, 2, 3)\n",
    " \n",
    "## Accessing values of tuple\n",
    "   - accessing val from a tuple is same as list with index ex, alphabet[0]: a\n",
    "\n",
    "## Checking if value is there in tuple\n",
    "   - 'a' in alphabet : same as list\n",
    "   \n",
    "## using type to get the type of alphabet type(alphabet): <class 'tuple'>\n"
   ]
  },
  {
   "cell_type": "code",
   "execution_count": 4,
   "id": "f4412286",
   "metadata": {},
   "outputs": [
    {
     "name": "stdout",
     "output_type": "stream",
     "text": [
      "alphabet : ('a', 'b')\n",
      "accessing values using index :  ('a', 'b')\n",
      "'a' in alphabet : True\n",
      "type(alphabet) : <class 'tuple'>\n"
     ]
    }
   ],
   "source": [
    "alphabet = ('a', 'b')\n",
    "print(f\"alphabet : {alphabet}\")\n",
    "print(f\"accessing values using index :  {alphabet[0], alphabet[1]}\")\n",
    "print(f\"'a' in alphabet : {'a' in alphabet}\")\n",
    "print(f\"type(alphabet) : {type(alphabet)}\")\n"
   ]
  },
  {
   "cell_type": "markdown",
   "id": "fd9bd796",
   "metadata": {},
   "source": [
    "## we can use tuples as keys in dictionary"
   ]
  },
  {
   "cell_type": "code",
   "execution_count": 5,
   "id": "c74cce35",
   "metadata": {},
   "outputs": [
    {
     "name": "stdout",
     "output_type": "stream",
     "text": [
      "{(39.59, 35.56): 'Stockholm', (52.34, 23.54): 'Hyderabad', (34.56, 34.46): 'Paris'}\n"
     ]
    }
   ],
   "source": [
    "location = {\n",
    "    (39.59, 35.56): 'Stockholm',\n",
    "    (52.34, 23.54): 'Hyderabad',\n",
    "    (34.56, 34.46): 'Paris'\n",
    "}\n",
    "\n",
    "print(location)"
   ]
  },
  {
   "cell_type": "markdown",
   "id": "e61bf8e4",
   "metadata": {},
   "source": [
    "# Iterating a tuple\n",
    "   - same as list, we can use 'for' or 'while'"
   ]
  },
  {
   "cell_type": "markdown",
   "id": "b961191a",
   "metadata": {},
   "source": [
    "## example 1 : for loop"
   ]
  },
  {
   "cell_type": "code",
   "execution_count": 8,
   "id": "15959fad",
   "metadata": {},
   "outputs": [
    {
     "name": "stdout",
     "output_type": "stream",
     "text": [
      "('Jan', 'Feb', 'Mar', 'Apr') <class 'tuple'>\n",
      "Jan\n",
      "Feb\n",
      "Mar\n",
      "Apr\n"
     ]
    }
   ],
   "source": [
    "months = ('Jan', 'Feb', 'Mar', 'Apr')\n",
    "print(months, type(months))\n",
    "\n",
    "for month in months:\n",
    "    print(month)"
   ]
  },
  {
   "cell_type": "markdown",
   "id": "6880fcd4",
   "metadata": {},
   "source": [
    "## example 2 : while loop to loop from last item to first"
   ]
  },
  {
   "cell_type": "code",
   "execution_count": 13,
   "id": "f4451e8d",
   "metadata": {},
   "outputs": [
    {
     "name": "stdout",
     "output_type": "stream",
     "text": [
      "idx : 3,  Apr\n",
      "idx : 2,  Mar\n",
      "idx : 1,  Feb\n",
      "idx : 0,  Jan\n"
     ]
    }
   ],
   "source": [
    "months = ('Jan', 'Feb', 'Mar', 'Apr')\n",
    "idx = len(months) - 1\n",
    "while idx >= 0:\n",
    "    print(f\"idx : {idx}, \", months[idx])\n",
    "    idx -= 1\n"
   ]
  },
  {
   "cell_type": "markdown",
   "id": "612a5839",
   "metadata": {},
   "source": [
    "# tuples methods\n",
    "   - tuples have only 2 methods\n",
    "       - count : returns the count of the item in question\n",
    "       - index : gets the index of the item in question (first index position if its a dublicate item)"
   ]
  },
  {
   "cell_type": "code",
   "execution_count": 18,
   "id": "bac1644d",
   "metadata": {},
   "outputs": [
    {
     "name": "stdout",
     "output_type": "stream",
     "text": [
      "tuple_methods.count(3) : 3\n",
      "index of 3 : 2\n",
      "tuple_methods.count(33) : 0\n"
     ]
    },
    {
     "ename": "ValueError",
     "evalue": "tuple.index(x): x not in tuple",
     "output_type": "error",
     "traceback": [
      "\u001b[0;31m---------------------------------------------------------------------------\u001b[0m",
      "\u001b[0;31mValueError\u001b[0m                                Traceback (most recent call last)",
      "Input \u001b[0;32mIn [18]\u001b[0m, in \u001b[0;36m<cell line: 5>\u001b[0;34m()\u001b[0m\n\u001b[1;32m      3\u001b[0m \u001b[38;5;28mprint\u001b[39m(\u001b[38;5;124mf\u001b[39m\u001b[38;5;124m\"\u001b[39m\u001b[38;5;124mindex of 3 : \u001b[39m\u001b[38;5;132;01m{\u001b[39;00mtuple_methods\u001b[38;5;241m.\u001b[39mindex(\u001b[38;5;241m3\u001b[39m)\u001b[38;5;132;01m}\u001b[39;00m\u001b[38;5;124m\"\u001b[39m)\n\u001b[1;32m      4\u001b[0m \u001b[38;5;28mprint\u001b[39m(\u001b[38;5;124mf\u001b[39m\u001b[38;5;124m\"\u001b[39m\u001b[38;5;124mtuple_methods.count(33) : \u001b[39m\u001b[38;5;132;01m{\u001b[39;00mtuple_methods\u001b[38;5;241m.\u001b[39mcount(\u001b[38;5;241m33\u001b[39m)\u001b[38;5;132;01m}\u001b[39;00m\u001b[38;5;124m\"\u001b[39m)\n\u001b[0;32m----> 5\u001b[0m \u001b[38;5;28mprint\u001b[39m(\u001b[38;5;124mf\u001b[39m\u001b[38;5;124m\"\u001b[39m\u001b[38;5;124mindex of 9, which is not there : \u001b[39m\u001b[38;5;132;01m{\u001b[39;00mtuple_methods\u001b[38;5;241m.\u001b[39mindex(\u001b[38;5;241m9\u001b[39m)\u001b[38;5;132;01m}\u001b[39;00m\u001b[38;5;124m\"\u001b[39m)\n",
      "\u001b[0;31mValueError\u001b[0m: tuple.index(x): x not in tuple"
     ]
    }
   ],
   "source": [
    "tuple_methods = (1, 2, 3, 3, 3, 4, 5)\n",
    "print(f\"tuple_methods.count(3) : {tuple_methods.count(3)}\")\n",
    "print(f\"index of 3 : {tuple_methods.index(3)}\")\n",
    "print(f\"tuple_methods.count(33) : {tuple_methods.count(33)}\")\n",
    "print(f\"index of 9, which is not there : {tuple_methods.index(9)}\")"
   ]
  },
  {
   "cell_type": "markdown",
   "id": "b27628f2",
   "metadata": {},
   "source": [
    "# slicing on tuples"
   ]
  },
  {
   "cell_type": "code",
   "execution_count": 8,
   "id": "df0c162c",
   "metadata": {},
   "outputs": [
    {
     "name": "stdout",
     "output_type": "stream",
     "text": [
      "slicing with end param : (1, 2, 3, 4, 5)\n",
      "tuple_slicing, original tuple is not changed, BTW tuples are any way immutable : (1, 2, 3, 4, 5, 6, 7)\n",
      "slicing with start param : (6, 7)\n",
      "slicing using -ve step param to reverse the tuple : (7, 6, 5, 4, 3, 2, 1)\n",
      "slincing with -ve end param --> to remove the last item : (1, 2, 3, 4, 5, 6) \n",
      "slincing with -ve start param --> to get the last item : (7,) \n"
     ]
    }
   ],
   "source": [
    "tuple_slicing = (1, 2, 3, 4, 5, 6, 7)\n",
    "print(f\"slicing with end param : {tuple_slicing[:5]}\")\n",
    "print(f\"tuple_slicing, original tuple is not changed, BTW tuples are any way immutable : {tuple_slicing}\")\n",
    "print(f\"slicing with start param : {tuple_slicing[5:]}\")\n",
    "print(f\"slicing using -ve step param to reverse the tuple : {tuple_slicing[::-1]}\")\n",
    "print(f\"slincing with -ve end param --> to remove the last item : {tuple_slicing[:-1]} \")\n",
    "print(f\"slincing with -ve start param --> to get the last item : {tuple_slicing[-1:]} \")"
   ]
  },
  {
   "cell_type": "code",
   "execution_count": null,
   "id": "b7e42a3c",
   "metadata": {},
   "outputs": [],
   "source": []
  }
 ],
 "metadata": {
  "kernelspec": {
   "display_name": "Python 3 (ipykernel)",
   "language": "python",
   "name": "python3"
  },
  "language_info": {
   "codemirror_mode": {
    "name": "ipython",
    "version": 3
   },
   "file_extension": ".py",
   "mimetype": "text/x-python",
   "name": "python",
   "nbconvert_exporter": "python",
   "pygments_lexer": "ipython3",
   "version": "3.9.12"
  }
 },
 "nbformat": 4,
 "nbformat_minor": 5
}

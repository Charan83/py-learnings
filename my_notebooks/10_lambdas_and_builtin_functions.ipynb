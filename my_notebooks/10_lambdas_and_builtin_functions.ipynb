{
 "cells": [
  {
   "cell_type": "markdown",
   "id": "72d5c557",
   "metadata": {},
   "source": [
    "# Lambda\n",
    "   - syntax : sum = lambda a,b: a+b\n",
    "   -          square = lambda a: a**2\n",
    "   - no names for lambda function, regular functions have a name. lambda functions are like anonymous function in JS\n",
    "   - is generally used when we have to pass a function into another function as a parameter\n",
    "   - it implicitly returns, no need to specify return explicitly"
   ]
  },
  {
   "cell_type": "markdown",
   "id": "8782c8a3",
   "metadata": {},
   "source": [
    "## lambda can be stored to a variable"
   ]
  },
  {
   "cell_type": "code",
   "execution_count": 4,
   "id": "833a9a91",
   "metadata": {},
   "outputs": [
    {
     "name": "stdout",
     "output_type": "stream",
     "text": [
      "type(square2) : <class 'function'>\n",
      "square2 : <function <lambda> at 0x7fde8fbad3a0>\n",
      "square(4) : 16\n",
      "<lambda>\n"
     ]
    }
   ],
   "source": [
    "square2 = lambda num: num*num\n",
    "print(f\"type(square2) : {type(square2)}\")\n",
    "print(f\"square2 : {square2}\")\n",
    "print(f\"square(4) : {square2(4)}\")\n",
    "print(square2.__name__) # lambda doesn't have a name"
   ]
  },
  {
   "cell_type": "code",
   "execution_count": 5,
   "id": "ee061bde",
   "metadata": {},
   "outputs": [
    {
     "name": "stdout",
     "output_type": "stream",
     "text": [
      "5\n"
     ]
    }
   ],
   "source": [
    "add = lambda a,b: a + b\n",
    "\n",
    "print(add(2,3))"
   ]
  },
  {
   "cell_type": "markdown",
   "id": "48a7952e",
   "metadata": {},
   "source": [
    "## lambda with no params"
   ]
  },
  {
   "cell_type": "code",
   "execution_count": 7,
   "id": "3650d6b7",
   "metadata": {},
   "outputs": [
    {
     "name": "stdout",
     "output_type": "stream",
     "text": [
      "print_string_from_lambda : printing string from lambda\n"
     ]
    }
   ],
   "source": [
    "def print_string_from_lambda(str_lambda): # str_lambda holds the lambda function\n",
    "    print(f\"print_string_from_lambda : {str_lambda()}\")\n",
    "    \n",
    "print_string_from_lambda(lambda: 'printing string from lambda')"
   ]
  },
  {
   "cell_type": "markdown",
   "id": "da0fdb9c",
   "metadata": {},
   "source": [
    "## write a lambda for cube"
   ]
  },
  {
   "cell_type": "code",
   "execution_count": 10,
   "id": "e5769990",
   "metadata": {},
   "outputs": [
    {
     "name": "stdout",
     "output_type": "stream",
     "text": [
      "cube_lambda(3) : 27\n"
     ]
    }
   ],
   "source": [
    "cube_lambda = lambda num: num**3\n",
    "print(f\"cube_lambda(3) : {cube_lambda(3)}\")"
   ]
  },
  {
   "cell_type": "markdown",
   "id": "5c59539f",
   "metadata": {},
   "source": [
    "# map\n",
    "  - standard function that acceppts 2 arguments\n",
    "      - function\n",
    "          - iterable (like ., lists, strinigs, dictionaries, sets, tuples)\n",
    "      - we can pass lambda function for the function argument:\n",
    "          - which will run for each value in the iterable\n",
    "      - when we convert the map to an iterable, it will iterate thr all the items in the map, so once iterated it will be empty\n",
    "      - list(map_object) --> iterates thr the map and converts to a list and the map object will be empty\n",
    "       \n",
    "  - returns a map object which can be converted into other data structures\n",
    "  - **once we iterate over the map, the map will be empty**"
   ]
  },
  {
   "cell_type": "code",
   "execution_count": 15,
   "id": "9082e91f",
   "metadata": {},
   "outputs": [
    {
     "name": "stdout",
     "output_type": "stream",
     "text": [
      "doubles : <map object at 0x7fde8fd24d30>\n",
      "doubles_list : [1, 4, 9, 16, 25]\n",
      "sum : 55\n",
      "after iterating the list created from map it will be same: [1, 4, 9, 16, 25]\n",
      "cant peek into the map object :  <map object at 0x7fde8fd24d30>\n",
      "before iterating the map object, when converted to a list: []\n",
      "after iterating the map object when converted to list it will be empty: []\n"
     ]
    }
   ],
   "source": [
    "doubles = map(lambda num: num**2, (1,2,3,4,5))\n",
    "# the first argument lambda function will be executed on each item in the iterable that is passed as the second argument\n",
    "print(f\"doubles : {doubles}\") # it will be a map object, can be converted to other data structures (list, tuples ...)\n",
    "doubles_list = list(doubles)\n",
    "print(f\"doubles_list : {doubles_list}\") # [1, 4, 9, 16, 25]\n",
    "# once we iterate over the list it will be empty\n",
    "sum = 0\n",
    "for item in doubles_list:\n",
    "    sum += item\n",
    "print(f\"sum : {sum}\")\n",
    "print(f\"after iterating the list created from map it will be same: {doubles_list}\")\n",
    "# we can also iterate the map object\n",
    "print(f\"cant peek into the map object :  {doubles}\")\n",
    "\n",
    "sum_from_map = 0\n",
    "for item in doubles:\n",
    "    sum_from_map += item\n",
    "\n",
    "print(f\"after iterating the map object when converted to list it will be empty: {list(doubles)}\")"
   ]
  },
  {
   "cell_type": "markdown",
   "id": "bfd42d92",
   "metadata": {},
   "source": [
    "## Example : decrement list"
   ]
  },
  {
   "cell_type": "code",
   "execution_count": 17,
   "id": "2e0552af",
   "metadata": {},
   "outputs": [
    {
     "name": "stdout",
     "output_type": "stream",
     "text": [
      "[0, 1, 2, 3]\n"
     ]
    }
   ],
   "source": [
    "lst = [1,2,3,4]\n",
    "def decrement_list(lst):\n",
    "    decrement_map = map(lambda itm: itm - 1, lst)\n",
    "    return list(decrement_map)\n",
    "print(decrement_list(lst))"
   ]
  },
  {
   "cell_type": "markdown",
   "id": "303d6492",
   "metadata": {},
   "source": [
    "# filter\n",
    "   - lambda runs for each value in the iterable (same as map)\n",
    "   - returns filter object which can be converted to other iterables\n",
    "   - The filter object contains only the values that return true to the lambda function"
   ]
  },
  {
   "cell_type": "markdown",
   "id": "57428b6f",
   "metadata": {},
   "source": [
    "## Filter Example : filter to get the list of even nums"
   ]
  },
  {
   "cell_type": "code",
   "execution_count": 21,
   "id": "5c16d58f",
   "metadata": {},
   "outputs": [
    {
     "name": "stdout",
     "output_type": "stream",
     "text": [
      "lst_range : range(1, 30)\n",
      "lst : [1, 2, 3, 4, 5, 6, 7, 8, 9, 10, 11, 12, 13, 14, 15, 16, 17, 18, 19, 20, 21, 22, 23, 24, 25, 26, 27, 28, 29]\n",
      "list_evens : [2, 4, 6, 8, 10, 12, 14, 16, 18, 20, 22, 24, 26, 28]\n"
     ]
    }
   ],
   "source": [
    "lst_range = range(1,30)\n",
    "print(f\"lst_range : {lst_range}\")\n",
    "lst = list(lst_range)\n",
    "print(f\"lst : {lst}\")\n",
    "list_evens = list(filter(lambda num: num%2==0, lst))\n",
    "print(f\"list_evens : {list_evens}\")"
   ]
  },
  {
   "cell_type": "markdown",
   "id": "45d24ab2",
   "metadata": {},
   "source": [
    "## Filter Example : filter inactive users"
   ]
  },
  {
   "cell_type": "code",
   "execution_count": 29,
   "id": "9ba63d56",
   "metadata": {},
   "outputs": [
    {
     "name": "stdout",
     "output_type": "stream",
     "text": [
      "inactive_users : [{'username': 'Dhoni', 'tweets': []}, {'username': 'Ishan', 'tweets': []}]\n",
      "active_users : [{'username': 'sam', 'tweets': ['I love coding', 'I love cake']}, {'username': 'Rohit', 'tweets': ['I love batting', 'I love catching']}, {'username': 'Prudvi', 'tweets': ['I love coding', 'I love cake']}]\n"
     ]
    }
   ],
   "source": [
    "users = [\n",
    "    {\"username\": \"sam\", \"tweets\": [\"I love coding\", \"I love cake\"]},\n",
    "    {\"username\": \"Rohit\", \"tweets\": [\"I love batting\", \"I love catching\"]},\n",
    "    {\"username\": \"Dhoni\", \"tweets\": []},\n",
    "    {\"username\": \"Prudvi\", \"tweets\": [\"I love coding\", \"I love cake\"]},\n",
    "    {\"username\": \"Ishan\", \"tweets\": []},\n",
    "]\n",
    "\n",
    "inactive_users = list(filter(lambda user: not user.get('tweets'), users))\n",
    "active_users = list(filter(lambda user: user['tweets'], users)) \n",
    "\n",
    "print(f\"inactive_users : {inactive_users}\")\n",
    "print(f\"active_users : {active_users}\")"
   ]
  },
  {
   "cell_type": "markdown",
   "id": "9d19af68",
   "metadata": {},
   "source": [
    "## List comprehension : same can be done using list comprehension"
   ]
  },
  {
   "cell_type": "code",
   "execution_count": 31,
   "id": "fdbf38a0",
   "metadata": {},
   "outputs": [
    {
     "name": "stdout",
     "output_type": "stream",
     "text": [
      "in_active_users_list_comprehension : [{'username': 'Dhoni', 'tweets': []}, {'username': 'Ishan', 'tweets': []}]\n"
     ]
    }
   ],
   "source": [
    "users_lc = [\n",
    "    {\"username\": \"sam\", \"tweets\": [\"I love coding\", \"I love cake\"]},\n",
    "    {\"username\": \"Rohit\", \"tweets\": [\"I love batting\", \"I love catching\"]},\n",
    "    {\"username\": \"Dhoni\", \"tweets\": []},\n",
    "    {\"username\": \"Prudvi\", \"tweets\": [\"I love coding\", \"I love cake\"]},\n",
    "    {\"username\": \"Ishan\", \"tweets\": []},\n",
    "]\n",
    "\n",
    "in_active_users_list_comprehension = [user for user in users_lc if not user['tweets']]\n",
    "print(f\"in_active_users_list_comprehension : {in_active_users_list_comprehension}\")"
   ]
  },
  {
   "cell_type": "code",
   "execution_count": 39,
   "id": "1d029c14",
   "metadata": {},
   "outputs": [
    {
     "name": "stdout",
     "output_type": "stream",
     "text": [
      "(-1, -2, 3, 4, -5, 6, 7, 8, 9)\n",
      "positive_filter: [3, 4, 6, 7, 8, 9]\n",
      "positives : [3, 4, 6, 7, 8, 9]\n"
     ]
    }
   ],
   "source": [
    "## Filter Example : remove negative\n",
    "tple = (-1, -2, 3,4,-5,6,7,8,9)\n",
    "print(tple)\n",
    "positive_filter = list(filter(lambda item: item > 0, tple))\n",
    "print(f\"positive_filter: {positive_filter}\")\n",
    "positives = [item for item in tple if item > 0]\n",
    "print(f\"positives : {positives}\")"
   ]
  },
  {
   "cell_type": "code",
   "execution_count": null,
   "id": "4e2620bd",
   "metadata": {},
   "outputs": [],
   "source": []
  }
 ],
 "metadata": {
  "kernelspec": {
   "display_name": "Python 3 (ipykernel)",
   "language": "python",
   "name": "python3"
  },
  "language_info": {
   "codemirror_mode": {
    "name": "ipython",
    "version": 3
   },
   "file_extension": ".py",
   "mimetype": "text/x-python",
   "name": "python",
   "nbconvert_exporter": "python",
   "pygments_lexer": "ipython3",
   "version": "3.9.12"
  }
 },
 "nbformat": 4,
 "nbformat_minor": 5
}

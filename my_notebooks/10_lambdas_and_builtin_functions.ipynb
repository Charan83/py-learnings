{
 "cells": [
  {
   "cell_type": "markdown",
   "id": "22f24371",
   "metadata": {},
   "source": [
    "# Lambda\n",
    "   - syntax : sum = lambda a,b: a+b\n",
    "   -          square = lambda a: a**2\n",
    "   - no names for lambda function, regular functions have a name. lambda functions are like anonymous function in JS\n",
    "   - is generally used when we have to pass a function into another function as a parameter\n",
    "   - it implicitly returns, no need to specify return explicitly"
   ]
  },
  {
   "cell_type": "markdown",
   "id": "c04278ab",
   "metadata": {},
   "source": [
    "## lambda can be stored to a variable"
   ]
  },
  {
   "cell_type": "code",
   "execution_count": 4,
   "id": "f9fe8640",
   "metadata": {},
   "outputs": [
    {
     "name": "stdout",
     "output_type": "stream",
     "text": [
      "type(square2) : <class 'function'>\n",
      "square2 : <function <lambda> at 0x7fde8fbad3a0>\n",
      "square(4) : 16\n",
      "<lambda>\n"
     ]
    }
   ],
   "source": [
    "square2 = lambda num: num*num\n",
    "print(f\"type(square2) : {type(square2)}\")\n",
    "print(f\"square2 : {square2}\")\n",
    "print(f\"square(4) : {square2(4)}\")\n",
    "print(square2.__name__) # lambda doesn't have a name"
   ]
  },
  {
   "cell_type": "code",
   "execution_count": 5,
   "id": "e6536d04",
   "metadata": {},
   "outputs": [
    {
     "name": "stdout",
     "output_type": "stream",
     "text": [
      "5\n"
     ]
    }
   ],
   "source": [
    "add = lambda a,b: a + b\n",
    "\n",
    "print(add(2,3))"
   ]
  },
  {
   "cell_type": "markdown",
   "id": "d700b8c7",
   "metadata": {},
   "source": [
    "## no parameter for lambda"
   ]
  },
  {
   "cell_type": "code",
   "execution_count": 7,
   "id": "de3deee6",
   "metadata": {},
   "outputs": [
    {
     "name": "stdout",
     "output_type": "stream",
     "text": [
      "print_string_from_lambda : printing string from lambda\n"
     ]
    }
   ],
   "source": [
    "def print_string_from_lambda(str_lambda): # str_lambda holds the lambda function\n",
    "    print(f\"print_string_from_lambda : {str_lambda()}\")\n",
    "    \n",
    "print_string_from_lambda(lambda: 'printing string from lambda')"
   ]
  },
  {
   "cell_type": "markdown",
   "id": "be8832fc",
   "metadata": {},
   "source": [
    "## write a lambda for cube"
   ]
  },
  {
   "cell_type": "code",
   "execution_count": 10,
   "id": "937ffe60",
   "metadata": {},
   "outputs": [
    {
     "name": "stdout",
     "output_type": "stream",
     "text": [
      "cube_lambda(3) : 27\n"
     ]
    }
   ],
   "source": [
    "cube_lambda = lambda num: num**3\n",
    "print(f\"cube_lambda(3) : {cube_lambda(3)}\")"
   ]
  },
  {
   "cell_type": "markdown",
   "id": "144a6562",
   "metadata": {},
   "source": [
    "# map\n",
    "  - standard function that acceppts 2 arguments\n",
    "      - function\n",
    "          - iterable (like ., lists, strinigs, dictionaries, sets, tuples)\n",
    "      - we can pass lambda function for the function argument:\n",
    "          - which will run for each value in the iterable\n",
    "      - when we convert the map to an iterable, it will iterate thr all the items in the map, so once iterated it will be empty\n",
    "      - list(map_object) --> iterates thr the map and converts to a list and the map object will be empty\n",
    "       \n",
    "  - returns a map object which can be converted into other data structures\n",
    "  - **once we iterate over the map, the map will be empty**"
   ]
  },
  {
   "cell_type": "code",
   "execution_count": 15,
   "id": "4f81f1ff",
   "metadata": {},
   "outputs": [
    {
     "name": "stdout",
     "output_type": "stream",
     "text": [
      "doubles : <map object at 0x7fde8fd24d30>\n",
      "doubles_list : [1, 4, 9, 16, 25]\n",
      "sum : 55\n",
      "after iterating the list created from map it will be same: [1, 4, 9, 16, 25]\n",
      "cant peek into the map object :  <map object at 0x7fde8fd24d30>\n",
      "before iterating the map object, when converted to a list: []\n",
      "after iterating the map object when converted to list it will be empty: []\n"
     ]
    }
   ],
   "source": [
    "doubles = map(lambda num: num**2, (1,2,3,4,5))\n",
    "# the first argument lambda function will be executed on each item in the iterable that is passed as the second argument\n",
    "print(f\"doubles : {doubles}\") # it will be a map object, can be converted to other data structures (list, tuples ...)\n",
    "doubles_list = list(doubles)\n",
    "print(f\"doubles_list : {doubles_list}\") # [1, 4, 9, 16, 25]\n",
    "# once we iterate over the list it will be empty\n",
    "sum = 0\n",
    "for item in doubles_list:\n",
    "    sum += item\n",
    "print(f\"sum : {sum}\")\n",
    "print(f\"after iterating the list created from map it will be same: {doubles_list}\")\n",
    "# we can also iterate the map object\n",
    "print(f\"cant peek into the map object :  {doubles}\")\n",
    "\n",
    "sum_from_map = 0\n",
    "for item in doubles:\n",
    "    sum_from_map += item\n",
    "\n",
    "print(f\"after iterating the map object when converted to list it will be empty: {list(doubles)}\")"
   ]
  },
  {
   "cell_type": "markdown",
   "id": "8782b046",
   "metadata": {},
   "source": [
    "## Example : decrement list"
   ]
  },
  {
   "cell_type": "code",
   "execution_count": 16,
   "id": "0b61d5b9",
   "metadata": {},
   "outputs": [
    {
     "ename": "TypeError",
     "evalue": "map() must have at least two arguments.",
     "output_type": "error",
     "traceback": [
      "\u001b[0;31m---------------------------------------------------------------------------\u001b[0m",
      "\u001b[0;31mTypeError\u001b[0m                                 Traceback (most recent call last)",
      "Input \u001b[0;32mIn [16]\u001b[0m, in \u001b[0;36m<cell line: 5>\u001b[0;34m()\u001b[0m\n\u001b[1;32m      3\u001b[0m     decrement_map \u001b[38;5;241m=\u001b[39m \u001b[38;5;28mmap\u001b[39m(\u001b[38;5;28;01mlambda\u001b[39;00m itm: itm \u001b[38;5;241m-\u001b[39m \u001b[38;5;241m1\u001b[39m)\n\u001b[1;32m      4\u001b[0m     \u001b[38;5;28;01mreturn\u001b[39;00m \u001b[38;5;28mlist\u001b[39m(decrement_map)\n\u001b[0;32m----> 5\u001b[0m \u001b[38;5;28mprint\u001b[39m(\u001b[43mdecrement_list\u001b[49m\u001b[43m(\u001b[49m\u001b[43mlst\u001b[49m\u001b[43m)\u001b[49m)\n",
      "Input \u001b[0;32mIn [16]\u001b[0m, in \u001b[0;36mdecrement_list\u001b[0;34m(lst)\u001b[0m\n\u001b[1;32m      2\u001b[0m \u001b[38;5;28;01mdef\u001b[39;00m \u001b[38;5;21mdecrement_list\u001b[39m(lst):\n\u001b[0;32m----> 3\u001b[0m     decrement_map \u001b[38;5;241m=\u001b[39m \u001b[38;5;28;43mmap\u001b[39;49m\u001b[43m(\u001b[49m\u001b[38;5;28;43;01mlambda\u001b[39;49;00m\u001b[43m \u001b[49m\u001b[43mitm\u001b[49m\u001b[43m:\u001b[49m\u001b[43m \u001b[49m\u001b[43mitm\u001b[49m\u001b[43m \u001b[49m\u001b[38;5;241;43m-\u001b[39;49m\u001b[43m \u001b[49m\u001b[38;5;241;43m1\u001b[39;49m\u001b[43m)\u001b[49m\n\u001b[1;32m      4\u001b[0m     \u001b[38;5;28;01mreturn\u001b[39;00m \u001b[38;5;28mlist\u001b[39m(decrement_map)\n",
      "\u001b[0;31mTypeError\u001b[0m: map() must have at least two arguments."
     ]
    }
   ],
   "source": [
    "lst = [1,2,3,4]\n",
    "def decrement_list(lst):\n",
    "    decrement_map = map(lambda itm: itm - 1)\n",
    "    return list(decrement_map)\n",
    "print(decrement_list(lst))"
   ]
  },
  {
   "cell_type": "code",
   "execution_count": null,
   "id": "76c84030",
   "metadata": {},
   "outputs": [],
   "source": []
  }
 ],
 "metadata": {
  "kernelspec": {
   "display_name": "Python 3 (ipykernel)",
   "language": "python",
   "name": "python3"
  },
  "language_info": {
   "codemirror_mode": {
    "name": "ipython",
    "version": 3
   },
   "file_extension": ".py",
   "mimetype": "text/x-python",
   "name": "python",
   "nbconvert_exporter": "python",
   "pygments_lexer": "ipython3",
   "version": "3.9.12"
  }
 },
 "nbformat": 4,
 "nbformat_minor": 5
}

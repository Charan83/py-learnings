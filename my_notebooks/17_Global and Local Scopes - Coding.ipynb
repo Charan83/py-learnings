{
 "cells": [
  {
   "cell_type": "code",
   "execution_count": 7,
   "id": "78f30378",
   "metadata": {},
   "outputs": [
    {
     "name": "stdout",
     "output_type": "stream",
     "text": [
      "100\n",
      "10\n",
      "200\n"
     ]
    }
   ],
   "source": [
    "a = 10 # module scope\n",
    "c = 100 # module scope \n",
    "def my_funct(b):# local scope of this function\n",
    "    print(a) # a : will check the local scope and then moves to global scope where it finds 'a'\n",
    "             # print : will check local, global, then moves to built-in scope where it finds 'print'\n",
    "    c = 200 # when we assign, python creates another variable in that scope, so c is created as local var again though its there in global\n",
    "    print(c)\n",
    "print(c) # 'c' here refers to global variable and the local var 'c' scope is cleaned when the funct execution is completed\n",
    "\n",
    "my_funct(300)"
   ]
  },
  {
   "cell_type": "markdown",
   "id": "3403bf3a",
   "metadata": {},
   "source": [
    "Different Scopes\n",
    "- Built-in Scope\n",
    "- Global Scope (per module)\n",
    "- local Scope (ex: different blocks, functions)\n",
    "\n",
    "During the compile time, the body within the funtion is not executed, and python will only say a,b,c variables will be \n",
    "used for this function.\n",
    "During execution when python see 'a' it will check local scope and then moved to global scope.\n",
    "    - 'a' there is no direct assignment nor its part of parameters then it will not create that variable at local scope\n",
    "    - 'b' as its a parameter to the funtion it will create as a local scoped variable\n",
    "    - 'c' though its there in global scope as there is an assignment it will create a var 'c' at local scope\n",
    "        - 'c' will mask the global variable 'c'"
   ]
  },
  {
   "cell_type": "code",
   "execution_count": 8,
   "id": "e6b14472",
   "metadata": {},
   "outputs": [
    {
     "name": "stdout",
     "output_type": "stream",
     "text": [
      "10\n",
      "200\n"
     ]
    }
   ],
   "source": [
    "a = 10\n",
    "def func1():\n",
    "    global a # when we use global, we are now refering to the global scope and even when there is assignment it will not create a var 'a' at local scope\n",
    "    a=200\n",
    "    \n",
    "print(a) # refers to global var 'a' whose val = 10\n",
    "func1() # as we are referring to global 'a' and re-assigning to 200 within the func1 and that is executed, global a=200 now\n",
    "print(a)"
   ]
  },
  {
   "cell_type": "code",
   "execution_count": 9,
   "id": "81dbeaba",
   "metadata": {},
   "outputs": [
    {
     "name": "stdout",
     "output_type": "stream",
     "text": [
      "9\n"
     ]
    }
   ],
   "source": [
    "for i in range(10):\n",
    "    x = i\n",
    "    \n",
    "print(x)"
   ]
  },
  {
   "cell_type": "markdown",
   "id": "025bf53d",
   "metadata": {},
   "source": [
    "- 'x' is available at globle scope \n",
    "- in python the variable in the blocks are available at global scope and not limited within the block\n"
   ]
  },
  {
   "cell_type": "code",
   "execution_count": null,
   "id": "ddac29c8",
   "metadata": {},
   "outputs": [],
   "source": []
  }
 ],
 "metadata": {
  "kernelspec": {
   "display_name": "Python 3 (ipykernel)",
   "language": "python",
   "name": "python3"
  },
  "language_info": {
   "codemirror_mode": {
    "name": "ipython",
    "version": 3
   },
   "file_extension": ".py",
   "mimetype": "text/x-python",
   "name": "python",
   "nbconvert_exporter": "python",
   "pygments_lexer": "ipython3",
   "version": "3.9.12"
  }
 },
 "nbformat": 4,
 "nbformat_minor": 5
}

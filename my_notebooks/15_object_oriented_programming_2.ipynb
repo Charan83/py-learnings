{
 "cells": [
  {
   "cell_type": "markdown",
   "id": "d39b8396",
   "metadata": {},
   "source": [
    "#   inheritance\n",
    "      - Cat inherits from Animal,\n",
    "           - class Cat(Animal)"
   ]
  },
  {
   "cell_type": "code",
   "execution_count": 2,
   "id": "9ec9073a",
   "metadata": {},
   "outputs": [
    {
     "name": "stdout",
     "output_type": "stream",
     "text": [
      "This animal says animal sound\n",
      "This animal says cat sound\n"
     ]
    }
   ],
   "source": [
    "class Animal:\n",
    "    cool = True\n",
    "    \n",
    "    def make_sound(self, sound):\n",
    "        print(f\"This animal says {sound}\")\n",
    "        \n",
    "class Cat(Animal):\n",
    "    pass\n",
    "\n",
    "animal = Animal()\n",
    "animal.make_sound('animal sound')\n",
    "cat = Animal()\n",
    "cat.make_sound('cat sound')"
   ]
  },
  {
   "cell_type": "markdown",
   "id": "61b3cc2b",
   "metadata": {},
   "source": [
    "# All about Properties"
   ]
  },
  {
   "cell_type": "code",
   "execution_count": 27,
   "id": "1e4a557e",
   "metadata": {},
   "outputs": [
    {
     "name": "stdout",
     "output_type": "stream",
     "text": [
      "Guru\n",
      "5555\n"
     ]
    },
    {
     "ename": "ValueError",
     "evalue": "age should be positive",
     "output_type": "error",
     "traceback": [
      "\u001b[0;31m---------------------------------------------------------------------------\u001b[0m",
      "\u001b[0;31mValueError\u001b[0m                                Traceback (most recent call last)",
      "Input \u001b[0;32mIn [27]\u001b[0m, in \u001b[0;36m<cell line: 44>\u001b[0;34m()\u001b[0m\n\u001b[1;32m     42\u001b[0m \u001b[38;5;28mprint\u001b[39m(h2\u001b[38;5;241m.\u001b[39mfname)\n\u001b[1;32m     43\u001b[0m \u001b[38;5;66;03m# h2.fname = 2345 --> Throws error\u001b[39;00m\n\u001b[0;32m---> 44\u001b[0m h1\u001b[38;5;241m.\u001b[39mage \u001b[38;5;241m=\u001b[39m \u001b[38;5;241m-\u001b[39m\u001b[38;5;241m90\u001b[39m\n",
      "Input \u001b[0;32mIn [27]\u001b[0m, in \u001b[0;36mHuman.age\u001b[0;34m(self, val)\u001b[0m\n\u001b[1;32m     32\u001b[0m \u001b[38;5;129m@age\u001b[39m\u001b[38;5;241m.\u001b[39msetter\n\u001b[1;32m     33\u001b[0m \u001b[38;5;28;01mdef\u001b[39;00m \u001b[38;5;21mage\u001b[39m(\u001b[38;5;28mself\u001b[39m, val):\n\u001b[1;32m     34\u001b[0m     \u001b[38;5;28;01mif\u001b[39;00m val \u001b[38;5;241m<\u001b[39m \u001b[38;5;241m0\u001b[39m:\n\u001b[0;32m---> 35\u001b[0m         \u001b[38;5;28;01mraise\u001b[39;00m \u001b[38;5;167;01mValueError\u001b[39;00m(\u001b[38;5;124m\"\u001b[39m\u001b[38;5;124mage should be positive\u001b[39m\u001b[38;5;124m\"\u001b[39m)\n\u001b[1;32m     36\u001b[0m     \u001b[38;5;28mself\u001b[39m\u001b[38;5;241m.\u001b[39m_age \u001b[38;5;241m=\u001b[39m val\n",
      "\u001b[0;31mValueError\u001b[0m: age should be positive"
     ]
    }
   ],
   "source": [
    "class Human:\n",
    "    def __init__(self, fname, lname, age):\n",
    "        if type(fname) != str or type(lname) != str or age < 0:\n",
    "            raise ValueError(f\"Instance data should be checked and passed!\")\n",
    "        self._fname = fname\n",
    "        self._lname = lname\n",
    "        self._age = age\n",
    "        \n",
    "    @property\n",
    "    def fname(self):\n",
    "        return self._fname\n",
    "    @property\n",
    "    def lname(self):\n",
    "        return self._lname\n",
    "    @property\n",
    "    def age(self):\n",
    "        return self._age\n",
    "    \n",
    "    @fname.setter\n",
    "    def fname(self, val):\n",
    "        print(type(val), f\"val : {val}\")\n",
    "        if type(val) != str:\n",
    "            raise ValueError(\"Enter a valid fname\")\n",
    "        self._fname = val\n",
    "        \n",
    "    @lname.setter\n",
    "    def lname(self, val):\n",
    "        if type(val) != str:\n",
    "            raise ValueError(\"Enter a valid lname\")\n",
    "        self._lname = val\n",
    "        \n",
    "    @age.setter\n",
    "    def age(self, val):\n",
    "        if val < 0:\n",
    "            raise ValueError(\"age should be positive\")\n",
    "        self._age = val\n",
    "        \n",
    "    \n",
    "h1 = Human('Guru', 'Annapantula', 38)\n",
    "print(h1.fname)\n",
    "# h2 = Human(5555, 'Annapantula', 38) --> Throws Error\n",
    "print(h2.fname)\n",
    "# h2.fname = 2345 --> Throws error\n",
    "h1.age = -90\n"
   ]
  },
  {
   "cell_type": "markdown",
   "id": "69b700cd",
   "metadata": {},
   "source": [
    "# super"
   ]
  },
  {
   "cell_type": "code",
   "execution_count": 29,
   "id": "49b43ec7",
   "metadata": {},
   "outputs": [
    {
     "name": "stdout",
     "output_type": "stream",
     "text": [
      "Blue is a  Cat, its breed is Scottish Fold and has a toy String\n",
      "the animal says meow\n"
     ]
    }
   ],
   "source": [
    "class Animal:\n",
    "    def __init__(self, name, species):\n",
    "        self._name = name\n",
    "        self._species = species\n",
    "        \n",
    "    def __repr__(self):\n",
    "        return f\"{self._name} is a {self._species}\"\n",
    "    \n",
    "    @property\n",
    "    def name(self):\n",
    "        return self._name\n",
    "    \n",
    "    @property\n",
    "    def species(self):\n",
    "        return self._species\n",
    "    \n",
    "    def make_sound(self, sound):\n",
    "        print(f\"the animal says {sound}\")\n",
    "        \n",
    "# ===============================================\n",
    "        # Cat class\n",
    "# ===============================================\n",
    "class Cat(Animal):\n",
    "    def __init__(self, name, species, breed, toy):\n",
    "        # super() --> refers to the base/parent class\n",
    "        super().__init__(name, species)\n",
    "        self._breed = breed\n",
    "        self._toy = toy\n",
    "        \n",
    "    def __repr__(self):\n",
    "        return f\"{self._name} is a  {self._species}, its breed is {self._breed} and has a toy {self._toy}\"\n",
    "    \n",
    "    @property\n",
    "    def breed(self):\n",
    "        return self._breed\n",
    "    @property\n",
    "    def toy(self):\n",
    "        return self._toy\n",
    "    \n",
    "    \n",
    "blue = Cat('Blue', 'Cat', 'Scottish Fold', 'String')\n",
    "print(blue)\n",
    "blue.make_sound('meow')\n",
    "\n"
   ]
  },
  {
   "cell_type": "markdown",
   "id": "9a5d5890",
   "metadata": {},
   "source": [
    "# Inheritance : User , Moderator example\n"
   ]
  },
  {
   "cell_type": "code",
   "execution_count": null,
   "id": "b570e82a",
   "metadata": {},
   "outputs": [],
   "source": []
  }
 ],
 "metadata": {
  "kernelspec": {
   "display_name": "Python 3 (ipykernel)",
   "language": "python",
   "name": "python3"
  },
  "language_info": {
   "codemirror_mode": {
    "name": "ipython",
    "version": 3
   },
   "file_extension": ".py",
   "mimetype": "text/x-python",
   "name": "python",
   "nbconvert_exporter": "python",
   "pygments_lexer": "ipython3",
   "version": "3.9.12"
  }
 },
 "nbformat": 4,
 "nbformat_minor": 5
}

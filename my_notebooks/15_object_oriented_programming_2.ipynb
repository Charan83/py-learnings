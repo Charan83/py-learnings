{
 "cells": [
  {
   "cell_type": "markdown",
   "id": "a6b68add",
   "metadata": {},
   "source": [
    "#   inheritance\n",
    "      - Cat inherits from Animal,\n",
    "           - class Cat(Animal)"
   ]
  },
  {
   "cell_type": "code",
   "execution_count": 2,
   "id": "690e5435",
   "metadata": {},
   "outputs": [
    {
     "name": "stdout",
     "output_type": "stream",
     "text": [
      "This animal says animal sound\n",
      "This animal says cat sound\n"
     ]
    }
   ],
   "source": [
    "class Animal:\n",
    "    cool = True\n",
    "    \n",
    "    def make_sound(self, sound):\n",
    "        print(f\"This animal says {sound}\")\n",
    "        \n",
    "class Cat(Animal):\n",
    "    pass\n",
    "\n",
    "animal = Animal()\n",
    "animal.make_sound('animal sound')\n",
    "cat = Animal()\n",
    "cat.make_sound('cat sound')"
   ]
  },
  {
   "cell_type": "markdown",
   "id": "02d98f72",
   "metadata": {},
   "source": [
    "# All about Properties"
   ]
  },
  {
   "cell_type": "code",
   "execution_count": 27,
   "id": "613fa0c5",
   "metadata": {},
   "outputs": [
    {
     "name": "stdout",
     "output_type": "stream",
     "text": [
      "Guru\n",
      "5555\n"
     ]
    },
    {
     "ename": "ValueError",
     "evalue": "age should be positive",
     "output_type": "error",
     "traceback": [
      "\u001b[0;31m---------------------------------------------------------------------------\u001b[0m",
      "\u001b[0;31mValueError\u001b[0m                                Traceback (most recent call last)",
      "Input \u001b[0;32mIn [27]\u001b[0m, in \u001b[0;36m<cell line: 44>\u001b[0;34m()\u001b[0m\n\u001b[1;32m     42\u001b[0m \u001b[38;5;28mprint\u001b[39m(h2\u001b[38;5;241m.\u001b[39mfname)\n\u001b[1;32m     43\u001b[0m \u001b[38;5;66;03m# h2.fname = 2345 --> Throws error\u001b[39;00m\n\u001b[0;32m---> 44\u001b[0m h1\u001b[38;5;241m.\u001b[39mage \u001b[38;5;241m=\u001b[39m \u001b[38;5;241m-\u001b[39m\u001b[38;5;241m90\u001b[39m\n",
      "Input \u001b[0;32mIn [27]\u001b[0m, in \u001b[0;36mHuman.age\u001b[0;34m(self, val)\u001b[0m\n\u001b[1;32m     32\u001b[0m \u001b[38;5;129m@age\u001b[39m\u001b[38;5;241m.\u001b[39msetter\n\u001b[1;32m     33\u001b[0m \u001b[38;5;28;01mdef\u001b[39;00m \u001b[38;5;21mage\u001b[39m(\u001b[38;5;28mself\u001b[39m, val):\n\u001b[1;32m     34\u001b[0m     \u001b[38;5;28;01mif\u001b[39;00m val \u001b[38;5;241m<\u001b[39m \u001b[38;5;241m0\u001b[39m:\n\u001b[0;32m---> 35\u001b[0m         \u001b[38;5;28;01mraise\u001b[39;00m \u001b[38;5;167;01mValueError\u001b[39;00m(\u001b[38;5;124m\"\u001b[39m\u001b[38;5;124mage should be positive\u001b[39m\u001b[38;5;124m\"\u001b[39m)\n\u001b[1;32m     36\u001b[0m     \u001b[38;5;28mself\u001b[39m\u001b[38;5;241m.\u001b[39m_age \u001b[38;5;241m=\u001b[39m val\n",
      "\u001b[0;31mValueError\u001b[0m: age should be positive"
     ]
    }
   ],
   "source": [
    "class Human:\n",
    "    def __init__(self, fname, lname, age):\n",
    "        if type(fname) != str or type(lname) != str or age < 0:\n",
    "            raise ValueError(f\"Instance data should be checked and passed!\")\n",
    "        self._fname = fname\n",
    "        self._lname = lname\n",
    "        self._age = age\n",
    "        \n",
    "    @property\n",
    "    def fname(self):\n",
    "        return self._fname\n",
    "    @property\n",
    "    def lname(self):\n",
    "        return self._lname\n",
    "    @property\n",
    "    def age(self):\n",
    "        return self._age\n",
    "    \n",
    "    @fname.setter\n",
    "    def fname(self, val):\n",
    "        print(type(val), f\"val : {val}\")\n",
    "        if type(val) != str:\n",
    "            raise ValueError(\"Enter a valid fname\")\n",
    "        self._fname = val\n",
    "        \n",
    "    @lname.setter\n",
    "    def lname(self, val):\n",
    "        if type(val) != str:\n",
    "            raise ValueError(\"Enter a valid lname\")\n",
    "        self._lname = val\n",
    "        \n",
    "    @age.setter\n",
    "    def age(self, val):\n",
    "        if val < 0:\n",
    "            raise ValueError(\"age should be positive\")\n",
    "        self._age = val\n",
    "        \n",
    "    \n",
    "h1 = Human('Guru', 'Annapantula', 38)\n",
    "print(h1.fname)\n",
    "# h2 = Human(5555, 'Annapantula', 38) --> Throws Error\n",
    "print(h2.fname)\n",
    "# h2.fname = 2345 --> Throws error\n",
    "h1.age = -90\n"
   ]
  },
  {
   "cell_type": "markdown",
   "id": "13a84a15",
   "metadata": {},
   "source": [
    "# super"
   ]
  },
  {
   "cell_type": "code",
   "execution_count": 29,
   "id": "e3f06694",
   "metadata": {},
   "outputs": [
    {
     "name": "stdout",
     "output_type": "stream",
     "text": [
      "Blue is a  Cat, its breed is Scottish Fold and has a toy String\n",
      "the animal says meow\n"
     ]
    }
   ],
   "source": [
    "class Animal:\n",
    "    def __init__(self, name, species):\n",
    "        self._name = name\n",
    "        self._species = species\n",
    "        \n",
    "    def __repr__(self):\n",
    "        return f\"{self._name} is a {self._species}\"\n",
    "    \n",
    "    @property\n",
    "    def name(self):\n",
    "        return self._name\n",
    "    \n",
    "    @property\n",
    "    def species(self):\n",
    "        return self._species\n",
    "    \n",
    "    def make_sound(self, sound):\n",
    "        print(f\"the animal says {sound}\")\n",
    "        \n",
    "# ===============================================\n",
    "        # Cat class\n",
    "# ===============================================\n",
    "class Cat(Animal):\n",
    "    def __init__(self, name, species, breed, toy):\n",
    "        # super() --> refers to the base/parent class\n",
    "        super().__init__(name, species)\n",
    "        self._breed = breed\n",
    "        self._toy = toy\n",
    "        \n",
    "    def __repr__(self):\n",
    "        return f\"{self._name} is a  {self._species}, its breed is {self._breed} and has a toy {self._toy}\"\n",
    "    \n",
    "    @property\n",
    "    def breed(self):\n",
    "        return self._breed\n",
    "    @property\n",
    "    def toy(self):\n",
    "        return self._toy\n",
    "    \n",
    "    \n",
    "blue = Cat('Blue', 'Cat', 'Scottish Fold', 'String')\n",
    "print(blue)\n",
    "blue.make_sound('meow')\n",
    "\n"
   ]
  },
  {
   "cell_type": "markdown",
   "id": "1a616c1b",
   "metadata": {},
   "source": [
    "# Inheritance : User , Moderator example\n"
   ]
  },
  {
   "cell_type": "code",
   "execution_count": 35,
   "id": "a8de5845",
   "metadata": {},
   "outputs": [
    {
     "name": "stdout",
     "output_type": "stream",
     "text": [
      "0\n",
      "Guru\n",
      "1\n",
      "Jasmine\n",
      "2\n",
      "Jasmine removed post from the Piano community\n"
     ]
    }
   ],
   "source": [
    "class User:\n",
    "    active_users = 0\n",
    "    @classmethod\n",
    "    def display_active_users(cls):\n",
    "        # print(cls)\n",
    "        # print(f\"Current Active users Count : {User.active_users}\")\n",
    "        return User.active_users\n",
    "    \n",
    "    @classmethod\n",
    "    def from_csv(cls, data_string):\n",
    "        first, last, age = data_string.split(',')\n",
    "        return cls(first, last, age)\n",
    "        \n",
    "    def __init__(self, fname, lname, age):\n",
    "        self.fname = fname\n",
    "        self.lname = lname\n",
    "        self.age = age\n",
    "        User.active_users += 1\n",
    "    \n",
    "    def __repr__(self):\n",
    "        return f\"fname : {self.fname}, lname : {self.lname}, age : {self.age}\"\n",
    "        \n",
    "    def logout(self):\n",
    "        User.active_users -= 1\n",
    "        print(f\"User {self.fname} is logout\")\n",
    "        \n",
    "\n",
    "class Moderator(User):\n",
    "    def __init__(self, fname, lname, age, community):\n",
    "        super().__init__(fname, lname, age)\n",
    "        self._community = community\n",
    "    \n",
    "    @property\n",
    "    def community(self):\n",
    "        return self._community\n",
    "    \n",
    "    def remove_post(self):\n",
    "        return f\"{self.fname} removed post from the {self._community} community\"\n",
    "\n",
    "print(User.display_active_users())\n",
    "user1 = User('Guru', 'Annapantula', 38)\n",
    "print(user1.fname)\n",
    "print(User.display_active_users())\n",
    "mod1 = Moderator('Jasmine', 'Cater', 61, 'Piano')\n",
    "print(mod1.fname)\n",
    "print(User.display_active_users())\n",
    "print(mod1.remove_post())"
   ]
  },
  {
   "cell_type": "markdown",
   "id": "1091493d",
   "metadata": {},
   "source": [
    "# Inheritance EX : Roleplaying Game "
   ]
  },
  {
   "cell_type": "code",
   "execution_count": null,
   "id": "0671cd39",
   "metadata": {},
   "outputs": [],
   "source": [
    "# TODO"
   ]
  },
  {
   "cell_type": "markdown",
   "id": "e22ec57b",
   "metadata": {},
   "source": [
    "# Multiple Inheritance\n",
    "\n",
    "##### will only call the __init__ of the first class (in this case, Ambulatory) passed in the list\n",
    "        super().__init__(name)\n",
    "        Aquatic.__init__(self, name)  # we need to call manually, if its needed"
   ]
  },
  {
   "cell_type": "code",
   "execution_count": 37,
   "id": "c64d4ec9",
   "metadata": {},
   "outputs": [
    {
     "name": "stdout",
     "output_type": "stream",
     "text": [
      "Aquatic __init__\n",
      "Ambulatory __init__\n",
      "Penguin __init__\n",
      "Ambulatory __init__\n",
      "Aquatic __init__\n",
      "Jaws Jaws is swimming Im Jaws of the sea\n",
      "Lassie Lassie is walking Im Lassie of the land\n",
      "Captain Cook Captain Cook is swimming Captain Cook is walking Im Captain Cook of the land\n"
     ]
    }
   ],
   "source": [
    "class Aquatic():\n",
    "    def __init__(self, name) -> None:\n",
    "        print(\"Aquatic __init__\")\n",
    "        self._name = name\n",
    "\n",
    "    @property\n",
    "    def name(self):\n",
    "        return self._name\n",
    "\n",
    "    def swim(self):\n",
    "        return f\"{self.name} is swimming\"\n",
    "\n",
    "    def greet(self):\n",
    "        return f\"Im {self.name} of the sea\"\n",
    "\n",
    "\n",
    "class Ambulatory:\n",
    "    def __init__(self, name) -> None:\n",
    "        print(\"Ambulatory __init__\")\n",
    "        self._name = name\n",
    "\n",
    "    @property\n",
    "    def name(self):\n",
    "        return self._name\n",
    "\n",
    "    def walk(self):\n",
    "        return f\"{self.name} is walking\"\n",
    "\n",
    "    def greet(self):\n",
    "        return f\"Im {self.name} of the land\"\n",
    "\n",
    "\n",
    "class Penguin(Ambulatory, Aquatic):\n",
    "    def __init__(self, name):\n",
    "        print(\"Penguin __init__\")\n",
    "        # will only call the __init__ of the first class Ambulatory, passed inthe list\n",
    "        super().__init__(name)\n",
    "        Aquatic.__init__(self, name)  # we need to call manually, if its needed\n",
    "\n",
    "\n",
    "jaws = Aquatic('Jaws')\n",
    "lassie = Ambulatory('Lassie')\n",
    "captain_cook = Penguin('Captain Cook')\n",
    "\"\"\" \n",
    "Jaws Jaws is swimming Im Jaws of the sea\n",
    "Lassie Lassie is walking Im Lassie of the land\n",
    "Captain Cook Captain Cook is swimming Captain Cook is walking Im Captain Cook of the land \n",
    "\"\"\"\n",
    "print(jaws.name, jaws.swim(), jaws.greet())\n",
    "print(lassie.name, lassie.walk(), lassie.greet())\n",
    "print(captain_cook.name, captain_cook.swim(),\n",
    "      captain_cook.walk(),\n",
    "      captain_cook.greet())  # Im Captain Cook of the land, it takes the method from Ambulatory as its the first one the in the inheritance list that we passed to Penguin\n"
   ]
  },
  {
   "cell_type": "markdown",
   "id": "5feeed69",
   "metadata": {},
   "source": [
    "# Method Resolution Order\n",
    "\n",
    "       - when there is multiple inheritance to understand the method resolution order, we can use\n",
    "           - <class>.__mro__\n",
    "           - <class>.mro()\n",
    "           - help(<class>)"
   ]
  },
  {
   "cell_type": "code",
   "execution_count": 41,
   "id": "87d0c79d",
   "metadata": {},
   "outputs": [
    {
     "data": {
      "text/plain": [
       "(__main__.Penguin, __main__.Ambulatory, __main__.Aquatic, object)"
      ]
     },
     "execution_count": 41,
     "metadata": {},
     "output_type": "execute_result"
    }
   ],
   "source": [
    "Penguin.__mro__\n"
   ]
  },
  {
   "cell_type": "code",
   "execution_count": 42,
   "id": "f2dd29d0",
   "metadata": {},
   "outputs": [
    {
     "name": "stdout",
     "output_type": "stream",
     "text": [
      "Im Captain Cook of the land\n"
     ]
    }
   ],
   "source": [
    "print(captain_cook.greet()) # by seeing the above mro return value we can say "
   ]
  },
  {
   "cell_type": "markdown",
   "id": "a662da04",
   "metadata": {},
   "source": [
    "# Polymorphism Introduction\n",
    "\n",
    "       - an object can take on many(poly) forms(morph)\n",
    "       - two imp practical application of polymorphism\n",
    "           - the same class method works in a different way for different classes (method overwriting)\n",
    "               - ex: __repr__()\n",
    "           - the same mehod with in the class works different for different kinds of objects (method overloading)\n",
    "               - ex: len('string'), len([1,2,3,4])\n",
    "               - the way this is done with some special __ dunder methods"
   ]
  },
  {
   "cell_type": "code",
   "execution_count": null,
   "id": "f3274d33",
   "metadata": {},
   "outputs": [],
   "source": [
    "class Animal:\n",
    "    def speak(self):\n",
    "        raise NotImplementedError(\"subclass needs to implement this method\")\n",
    "\n",
    "\n",
    "class Dog(Animal):\n",
    "    def speak(self):\n",
    "        return \"woof woof\"\n",
    "\n",
    "\n",
    "class Cat(Animal):\n",
    "\n",
    "    def speak(self):\n",
    "        return \"meow meow\"\n",
    "\n",
    "    def display(self, str):\n",
    "        print(str)\n",
    "\n",
    "    def display(self, lst):\n",
    "        print(lst)\n",
    "\n",
    "\n",
    "class Fish(Animal):\n",
    "    pass\n",
    "\n",
    "\n",
    "c = Cat()\n",
    "print(c.speak())\n",
    "c.display('speaking')\n",
    "c.display([1, 2, 3])\n",
    "\n",
    "f = Fish()\n",
    "f.speak()\n",
    "a = Animal()\n",
    "a.speak()\n"
   ]
  },
  {
   "cell_type": "markdown",
   "id": "967c7cf9",
   "metadata": {},
   "source": [
    "# Special __magic__ methods\n",
    "\n",
    "-  '+' will refer to this __add__() behind the scence\n",
    "    - 8 + 2 : the __add__() method in int class (if the first(left) operand is an instance of int, __add__() does mathematical addition\n",
    "    - \"8\" + \"2\" : the __add__() method in the string class is referred here and does string concatenation\n",
    "- __len__() : len() method refers to this magic __len__() of the class\n",
    "- __repr__() : is called when we print the object/instance of the class\n",
    "\n",
    "- https://docs.python.org/3/reference/datamodel.html\n",
    "\n"
   ]
  },
  {
   "cell_type": "code",
   "execution_count": 11,
   "id": "bf63302a",
   "metadata": {},
   "outputs": [
    {
     "name": "stdout",
     "output_type": "stream",
     "text": [
      "Human named :  Newborn Annapantula\n",
      "[Human named :  Newborn Annapantula, Human named :  Newborn Annapantula, Human named :  Newborn Annapantula]\n",
      "as we used copy(self) and not just self, these instance are referring to separate objects in memory :False\n"
     ]
    }
   ],
   "source": [
    "from copy import copy\n",
    "\n",
    "class Human:\n",
    "    def __init__(self, fname, lname, age):\n",
    "        self._fname = fname\n",
    "        self._lname = lname\n",
    "        self._age = age\n",
    "        \n",
    "    def __repr__(self):\n",
    "        return f\"Human named :  {self._fname} {self._lname}\"\n",
    "    \n",
    "    def __len__(self):\n",
    "        return self._age\n",
    "    \n",
    "    def __add__(self, other):\n",
    "        if isinstance(other, Human):\n",
    "            return Human(\"Newborn\", self._lname, age=0)\n",
    "        raise ValueError(\"You can only add two Humans\")\n",
    "        \n",
    "    \"\"\"\n",
    "    - '*' : refers to __mul__()\n",
    "    ~ have twins or triplets ....\n",
    "    \"\"\"\n",
    "    def __mul__(self, other):\n",
    "        if isinstance(other, int):\n",
    "            return [copy(self) for i in range(other)]\n",
    "        raise TypeError(\"should be an instance of 'int'\")\n",
    "    \n",
    "    @property\n",
    "    def fname(self):\n",
    "        return self._fname\n",
    "    \n",
    "    @fname.setter\n",
    "    def fname(self, val):\n",
    "        if type(val) != str:\n",
    "            raise ValueError(\"Only strings are valid for name\")\n",
    "        self._fname = val\n",
    "        \n",
    "g = Human('Guru', 'Annapantula', 26)\n",
    "s = Human('Sakhi', 'Annapantula', 26)\n",
    "h = g + s\n",
    "print(h)\n",
    "\n",
    "kids3 = (g + s) * 3\n",
    "print(kids3)\n",
    "print(f\"As we used copy(self) and not just self, these instance are referring to separate objects in memory :{kids3[0] is kids3[1]}\")"
   ]
  },
  {
   "cell_type": "markdown",
   "id": "232c50af",
   "metadata": {},
   "source": [
    "# special dunder methods with inheritance"
   ]
  },
  {
   "cell_type": "code",
   "execution_count": 19,
   "id": "cbc42fb7",
   "metadata": {},
   "outputs": [
    {
     "name": "stdout",
     "output_type": "stream",
     "text": [
      "You are printing GRUMPYDICT\n",
      "{'first': 'Guru', 'last': 'Annapantula', 'age': 38}\n",
      "*********************\n",
      "You are printing GRUMPYDICT\n",
      "{'first': 'Guru', 'animal': 'Dog'}\n",
      "------------\n",
      "Changing the dictionary!!!\n",
      "------------\n",
      "You are printing GRUMPYDICT\n",
      "{'first': 'Guru', 'animal': 'Dog', 'newkey': 'NEW VALUE'}\n",
      "------------\n",
      "Checking if the item is in the GRUMPYDICT\n",
      "True\n",
      "------------\n",
      "Missing NOKEY in the dictionary\n"
     ]
    },
    {
     "ename": "AttributeError",
     "evalue": "'super' object has no attribute '__missing__'",
     "output_type": "error",
     "traceback": [
      "\u001b[0;31m---------------------------------------------------------------------------\u001b[0m",
      "\u001b[0;31mAttributeError\u001b[0m                            Traceback (most recent call last)",
      "Input \u001b[0;32mIn [19]\u001b[0m, in \u001b[0;36m<cell line: 34>\u001b[0;34m()\u001b[0m\n\u001b[1;32m     32\u001b[0m \u001b[38;5;28mprint\u001b[39m(\u001b[38;5;124m\"\u001b[39m\u001b[38;5;124mfirst\u001b[39m\u001b[38;5;124m\"\u001b[39m \u001b[38;5;129;01min\u001b[39;00m gd)\n\u001b[1;32m     33\u001b[0m \u001b[38;5;28mprint\u001b[39m(\u001b[38;5;124m\"\u001b[39m\u001b[38;5;124m------------\u001b[39m\u001b[38;5;124m\"\u001b[39m)\n\u001b[0;32m---> 34\u001b[0m \u001b[43mgd\u001b[49m\u001b[43m[\u001b[49m\u001b[38;5;124;43m\"\u001b[39;49m\u001b[38;5;124;43mNOKEY\u001b[39;49m\u001b[38;5;124;43m\"\u001b[39;49m\u001b[43m]\u001b[49m\n\u001b[1;32m     35\u001b[0m \u001b[38;5;28mprint\u001b[39m(\u001b[38;5;124m\"\u001b[39m\u001b[38;5;124m------------\u001b[39m\u001b[38;5;124m\"\u001b[39m)\n",
      "Input \u001b[0;32mIn [19]\u001b[0m, in \u001b[0;36mGrumpyDict.__missing__\u001b[0;34m(self, key)\u001b[0m\n\u001b[1;32m      8\u001b[0m \u001b[38;5;28;01mdef\u001b[39;00m \u001b[38;5;21m__missing__\u001b[39m(\u001b[38;5;28mself\u001b[39m, key):\n\u001b[1;32m      9\u001b[0m     \u001b[38;5;28mprint\u001b[39m(\u001b[38;5;124mf\u001b[39m\u001b[38;5;124m\"\u001b[39m\u001b[38;5;124mMissing \u001b[39m\u001b[38;5;132;01m{\u001b[39;00mkey\u001b[38;5;132;01m}\u001b[39;00m\u001b[38;5;124m in the dictionary\u001b[39m\u001b[38;5;124m\"\u001b[39m)\n\u001b[0;32m---> 10\u001b[0m     \u001b[38;5;28;01mreturn\u001b[39;00m \u001b[38;5;28;43msuper\u001b[39;49m\u001b[43m(\u001b[49m\u001b[43m)\u001b[49m\u001b[38;5;241;43m.\u001b[39;49m\u001b[38;5;21;43m__missing__\u001b[39;49m(key)\n",
      "\u001b[0;31mAttributeError\u001b[0m: 'super' object has no attribute '__missing__'"
     ]
    }
   ],
   "source": [
    "class GrumpyDict(dict):\n",
    "    # __init__ : we are not defining here so the __init__() of base class ie,. dict will be used\n",
    "    \n",
    "    def __repr__(self):\n",
    "        print(\"You are printing GRUMPYDICT\")\n",
    "        return super().__repr__()\n",
    "    \n",
    "    def __missing__(self, key):\n",
    "        print(f\"Missing {key} in the dictionary\")\n",
    "        return super().__missing__(key)\n",
    "    \n",
    "    def __setitem__(self, key, val):\n",
    "        print(\"Changing the dictionary!!!\")\n",
    "        super().__setitem__(key, val.upper())\n",
    "        \n",
    "    def __contains__(self, item):\n",
    "        print(\"Checking if the item is in the GRUMPYDICT\")\n",
    "        return super().__contains__(item)\n",
    "        \n",
    "\n",
    "d1 = GrumpyDict({\"first\": \"Guru\", \"last\": \"Annapantula\", \"age\": 38})\n",
    "print(d1)\n",
    "print(\"*********************\")\n",
    "\n",
    "gd = GrumpyDict({\"first\": \"Guru\", \"animal\": \"Dog\"})\n",
    "print(gd)\n",
    "print(\"------------\")\n",
    "gd[\"newkey\"] = \"new value\"\n",
    "print(\"------------\")\n",
    "print(gd)\n",
    "print(\"------------\")\n",
    "print(\"first\" in gd)\n",
    "print(\"------------\")\n",
    "gd[\"NOKEY\"]\n",
    "print(\"------------\")"
   ]
  },
  {
   "cell_type": "code",
   "execution_count": null,
   "id": "0adbad02",
   "metadata": {},
   "outputs": [],
   "source": [
    "# TODO : Special Methods Exercise"
   ]
  }
 ],
 "metadata": {
  "kernelspec": {
   "display_name": "Python 3 (ipykernel)",
   "language": "python",
   "name": "python3"
  },
  "language_info": {
   "codemirror_mode": {
    "name": "ipython",
    "version": 3
   },
   "file_extension": ".py",
   "mimetype": "text/x-python",
   "name": "python",
   "nbconvert_exporter": "python",
   "pygments_lexer": "ipython3",
   "version": "3.9.12"
  }
 },
 "nbformat": 4,
 "nbformat_minor": 5
}

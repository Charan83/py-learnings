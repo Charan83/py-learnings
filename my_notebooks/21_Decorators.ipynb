{
 "cells": [
  {
   "cell_type": "markdown",
   "id": "ff709513",
   "metadata": {},
   "source": [
    "# Decorators\n",
    "- We decorated our function add within another function counter.\n",
    "\n",
    "- we essentially modified our add functionality by wrapping it inside another function that added some additional functionality to it.\n",
    "\n",
    "- now the 'counter' is called as decorated function\n",
    "\n",
    "\n",
    "# In general a Decorators function:\n",
    "\n",
    "- takes a function as an argument\n",
    "\n",
    "- returns a closure\n",
    "\n",
    "- the closure usually accepts any combination of parameters (so *args, **kwargs)\n",
    "\n",
    "- runs some code in the inner function (closure)\n",
    "\n",
    "- the closure function calls the original function using the arguments passed to the closure\n",
    "\n",
    "- returns whatever is returned by that function call\n",
    "\n",
    "\n",
    "# Decorators and @ symbols\n",
    "- wraps from functools.wraps is a decorator provided by python, which can help us to fix the metadata of our inner function in our decorator\n",
    "- we need to tell which function the decorator should wrap to fix the meta data for debugging\n",
    "\n"
   ]
  },
  {
   "cell_type": "code",
   "execution_count": 24,
   "id": "28162aea",
   "metadata": {},
   "outputs": [
    {
     "name": "stdout",
     "output_type": "stream",
     "text": [
      "Help on function inner in module __main__:\n",
      "\n",
      "inner(*args, **kwargs)\n",
      "\n"
     ]
    },
    {
     "data": {
      "text/plain": [
       "(<cell at 0x7fee6f05db50: int object at 0x7fee69e21910>,\n",
       " <cell at 0x7fee6f05d850: function object at 0x7fee7005e280>)"
      ]
     },
     "execution_count": 24,
     "metadata": {},
     "output_type": "execute_result"
    }
   ],
   "source": [
    "\n",
    "def counter(fn):\n",
    "    count = 0\n",
    "    def inner(*args, **kwargs): # *args, **kwargs are NOT free variables they are local to inner alone\n",
    "        nonlocal count\n",
    "        count += 1\n",
    "        print(\"The function '{0}' is called for {1} time\".format(fn.__name__, count))\n",
    "        return fn(*args, **kwargs)\n",
    "    return inner\n",
    "@counter\n",
    "def add(a:int,b:int=0): # creating decorator using '@' symbol\n",
    "    \"\"\"\n",
    "    Add two values\n",
    "    \"\"\"\n",
    "    return a+b\n",
    "\n",
    "help(add) # we get help on the inner function but not on add function\n",
    "\n",
    "add_without_symbol = counter(add) # creating decorator manually\n",
    "\n",
    "add.__closure__\n",
    "\n",
    "\n"
   ]
  },
  {
   "cell_type": "code",
   "execution_count": 27,
   "id": "3704e892",
   "metadata": {},
   "outputs": [
    {
     "data": {
      "text/plain": [
       "(<cell at 0x7fee6eb5f190: int object at 0x7fee69e21910>,\n",
       " <cell at 0x7fee6eada430: function object at 0x7fee70100310>)"
      ]
     },
     "execution_count": 27,
     "metadata": {},
     "output_type": "execute_result"
    }
   ],
   "source": [
    "@counter\n",
    "def mul(a:int, b:int, c:int=1, *, d):\n",
    "    \"\"\"\n",
    "    multiplies 4 values\n",
    "    \"\"\"\n",
    "    return a*b*c*d\n",
    "\n",
    "mul.__closure__"
   ]
  },
  {
   "cell_type": "code",
   "execution_count": 9,
   "id": "01dacfa1",
   "metadata": {},
   "outputs": [
    {
     "data": {
      "text/plain": [
       "(<cell at 0x7fee6eead2b0: int object at 0x7fee69e21910>,\n",
       " <cell at 0x7fee6eead8b0: function object at 0x7fee6f75f670>)"
      ]
     },
     "execution_count": 9,
     "metadata": {},
     "output_type": "execute_result"
    }
   ],
   "source": [
    "add_without_symbol.__closure__"
   ]
  },
  {
   "cell_type": "code",
   "execution_count": 17,
   "id": "74c0cde5",
   "metadata": {},
   "outputs": [
    {
     "name": "stdout",
     "output_type": "stream",
     "text": [
      "The function 'add' is called for 2 time\n"
     ]
    },
    {
     "data": {
      "text/plain": [
       "5"
      ]
     },
     "execution_count": 17,
     "metadata": {},
     "output_type": "execute_result"
    }
   ],
   "source": [
    "add(2,3)"
   ]
  },
  {
   "cell_type": "code",
   "execution_count": 18,
   "id": "ec8acaa7",
   "metadata": {},
   "outputs": [
    {
     "name": "stdout",
     "output_type": "stream",
     "text": [
      "The function 'inner' is called for 2 time\n",
      "The function 'add' is called for 3 time\n"
     ]
    },
    {
     "data": {
      "text/plain": [
       "10"
      ]
     },
     "execution_count": 18,
     "metadata": {},
     "output_type": "execute_result"
    }
   ],
   "source": [
    "add_without_symbol(5,5)"
   ]
  },
  {
   "cell_type": "code",
   "execution_count": 28,
   "id": "678493b0",
   "metadata": {},
   "outputs": [
    {
     "name": "stdout",
     "output_type": "stream",
     "text": [
      "The function 'mul' is called for 1 time\n"
     ]
    },
    {
     "data": {
      "text/plain": [
       "240"
      ]
     },
     "execution_count": 28,
     "metadata": {},
     "output_type": "execute_result"
    }
   ],
   "source": [
    "mul(2,3,4,d=10)"
   ]
  },
  {
   "cell_type": "code",
   "execution_count": null,
   "id": "d17e22af",
   "metadata": {},
   "outputs": [],
   "source": []
  }
 ],
 "metadata": {
  "kernelspec": {
   "display_name": "Python 3 (ipykernel)",
   "language": "python",
   "name": "python3"
  },
  "language_info": {
   "codemirror_mode": {
    "name": "ipython",
    "version": 3
   },
   "file_extension": ".py",
   "mimetype": "text/x-python",
   "name": "python",
   "nbconvert_exporter": "python",
   "pygments_lexer": "ipython3",
   "version": "3.9.12"
  }
 },
 "nbformat": 4,
 "nbformat_minor": 5
}

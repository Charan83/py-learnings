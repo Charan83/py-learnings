{
 "cells": [
  {
   "cell_type": "markdown",
   "id": "9449a278",
   "metadata": {},
   "source": [
    "# Iterators vs Iterables\n",
    "\n",
    "### Iterator\n",
    "- an object that can be iterated upon\n",
    "- an object which returns data, one element at a time when next() is called on it\n",
    "- like any object where we can call for loop on\n",
    "\n",
    "### Iterable\n",
    "- An object which will return an iterator when iter() is called on it\n",
    "\n",
    "\n",
    "#### Ex:\n",
    "- \"Hello\" is an iterable, but it is not an iterator on its own\n",
    "- iter(\"Hello\") returns an iterator\n",
    "- similarly\n",
    "    - list is an iterable, the list is not actually directly looped over.\n",
    "    - actually what happens is that the 'for' loop calls the iter(list) by passing in the list, which returns an iterator, then the loop will call next on the iterator over and over this it reaches the end\n",
    "    \n",
    "- next(\"Hello\") --> This will throw error as \"Hello\" is not iterator but an iterable. So we can call iter(\"Hello\") and then we get an iterable on which we can call next()\n"
   ]
  },
  {
   "cell_type": "markdown",
   "id": "68633799",
   "metadata": {},
   "source": [
    "#   iterator\n",
    "       - an object that can be iterated upon\n",
    "       - An object which returns data, one element at a time when next() is called on it.\n",
    "\n",
    "#   iterable\n",
    "       - An object which will return an iterator when iter() is called on it\n",
    "\n",
    "       - Ex: any string is an iterable but not a iterator\n",
    "       - \"Hello\" is an iterable and when we call iter(\"Hello\") -> retuns an iterator\n",
    "       - Then we can iterate through that iterator using next(), to get each item in the iterator until all elements are returned\n",
    "       - When there are no more items to return it will throw StopIteration\n",
    "\n",
    "#   next()\n",
    "       - When next() is called on an iterator, the iterator will return the next item. It keeps doing until it raised StopIteration error"
   ]
  },
  {
   "cell_type": "code",
   "execution_count": 1,
   "id": "08584369",
   "metadata": {},
   "outputs": [
    {
     "ename": "TypeError",
     "evalue": "'str' object is not an iterator",
     "output_type": "error",
     "traceback": [
      "\u001b[0;31m---------------------------------------------------------------------------\u001b[0m",
      "\u001b[0;31mTypeError\u001b[0m                                 Traceback (most recent call last)",
      "Input \u001b[0;32mIn [1]\u001b[0m, in \u001b[0;36m<cell line: 2>\u001b[0;34m()\u001b[0m\n\u001b[1;32m      1\u001b[0m name \u001b[38;5;241m=\u001b[39m \u001b[38;5;124m\"\u001b[39m\u001b[38;5;124mGuru\u001b[39m\u001b[38;5;124m\"\u001b[39m\n\u001b[0;32m----> 2\u001b[0m \u001b[38;5;28;43mnext\u001b[39;49m\u001b[43m(\u001b[49m\u001b[43mname\u001b[49m\u001b[43m)\u001b[49m\n",
      "\u001b[0;31mTypeError\u001b[0m: 'str' object is not an iterator"
     ]
    }
   ],
   "source": [
    "name = \"Guru\"\n",
    "next(name)"
   ]
  },
  {
   "cell_type": "code",
   "execution_count": 4,
   "id": "ccacbe2f",
   "metadata": {},
   "outputs": [
    {
     "name": "stdout",
     "output_type": "stream",
     "text": [
      "<str_iterator object at 0x7f8a1abae280>\n",
      "G\n",
      "u\n",
      "r\n",
      "u\n"
     ]
    },
    {
     "ename": "StopIteration",
     "evalue": "",
     "output_type": "error",
     "traceback": [
      "\u001b[0;31m---------------------------------------------------------------------------\u001b[0m",
      "\u001b[0;31mStopIteration\u001b[0m                             Traceback (most recent call last)",
      "Input \u001b[0;32mIn [4]\u001b[0m, in \u001b[0;36m<cell line: 8>\u001b[0;34m()\u001b[0m\n\u001b[1;32m      6\u001b[0m \u001b[38;5;28mprint\u001b[39m(\u001b[38;5;28mnext\u001b[39m(iterator1))\n\u001b[1;32m      7\u001b[0m \u001b[38;5;28mprint\u001b[39m(\u001b[38;5;28mnext\u001b[39m(iterator1))\n\u001b[0;32m----> 8\u001b[0m \u001b[38;5;28mprint\u001b[39m(\u001b[38;5;28;43mnext\u001b[39;49m\u001b[43m(\u001b[49m\u001b[43miterator1\u001b[49m\u001b[43m)\u001b[49m)\n\u001b[1;32m      9\u001b[0m \u001b[38;5;28mprint\u001b[39m(\u001b[38;5;28mnext\u001b[39m(iterator1))\n",
      "\u001b[0;31mStopIteration\u001b[0m: "
     ]
    }
   ],
   "source": [
    "fname = \"Guru\" # String is an iterable, but string is not iterator\n",
    "iterator1 = iter(fname) # we have an iterator now, on which we can call next(<iterator>) to loop thr\n",
    "print(iterator1)\n",
    "print(next(iterator1))\n",
    "print(next(iterator1))\n",
    "print(next(iterator1))\n",
    "print(next(iterator1))\n",
    "print(next(iterator1))\n",
    "print(next(iterator1))"
   ]
  },
  {
   "cell_type": "markdown",
   "id": "06cd7d09",
   "metadata": {},
   "source": [
    "## next()\n",
    "- When next() is called on an iterator, the iterator returns the next item.\n",
    "- It keeps doing so until it raises a StopIteration error\n"
   ]
  },
  {
   "cell_type": "code",
   "execution_count": 5,
   "id": "bbf0f320",
   "metadata": {},
   "outputs": [
    {
     "name": "stdout",
     "output_type": "stream",
     "text": [
      "<list_iterator object at 0x7f8a1ad22070>\n",
      "1\n",
      "2\n",
      "3\n",
      "4\n",
      "5\n",
      "6\n"
     ]
    },
    {
     "ename": "StopIteration",
     "evalue": "",
     "output_type": "error",
     "traceback": [
      "\u001b[0;31m---------------------------------------------------------------------------\u001b[0m",
      "\u001b[0;31mStopIteration\u001b[0m                             Traceback (most recent call last)",
      "Input \u001b[0;32mIn [5]\u001b[0m, in \u001b[0;36m<cell line: 10>\u001b[0;34m()\u001b[0m\n\u001b[1;32m      8\u001b[0m \u001b[38;5;28mprint\u001b[39m(\u001b[38;5;28mnext\u001b[39m(iter1))\n\u001b[1;32m      9\u001b[0m \u001b[38;5;28mprint\u001b[39m(\u001b[38;5;28mnext\u001b[39m(iter1))\n\u001b[0;32m---> 10\u001b[0m \u001b[38;5;28mprint\u001b[39m(\u001b[38;5;28;43mnext\u001b[39;49m\u001b[43m(\u001b[49m\u001b[43miter1\u001b[49m\u001b[43m)\u001b[49m)\n",
      "\u001b[0;31mStopIteration\u001b[0m: "
     ]
    }
   ],
   "source": [
    "lst = [1,2,3,4,5,6]\n",
    "iter1 = iter(lst)\n",
    "print(iter1)\n",
    "print(next(iter1))\n",
    "print(next(iter1))\n",
    "print(next(iter1))\n",
    "print(next(iter1))\n",
    "print(next(iter1))\n",
    "print(next(iter1))\n",
    "print(next(iter1))"
   ]
  },
  {
   "cell_type": "markdown",
   "id": "2a4be015",
   "metadata": {},
   "source": [
    "## Writing Our Own Version of for loop"
   ]
  },
  {
   "cell_type": "code",
   "execution_count": 6,
   "id": "728bcb65",
   "metadata": {},
   "outputs": [
    {
     "name": "stdout",
     "output_type": "stream",
     "text": [
      "1\n",
      "2\n",
      "3\n",
      "4\n",
      "5\n",
      "No more items to iterate\n"
     ]
    }
   ],
   "source": [
    "def my_for(iterable):\n",
    "    iterator = iter(iterable)\n",
    "    \n",
    "    while True:\n",
    "        try:\n",
    "            print(next(iterator))\n",
    "        except StopIteration:\n",
    "            print(\"No more items to iterate\")\n",
    "            break\n",
    "\n",
    "my_for((1,2,3,4,5))\n",
    "        "
   ]
  },
  {
   "cell_type": "markdown",
   "id": "4d196f6b",
   "metadata": {},
   "source": [
    "# for loop with function"
   ]
  },
  {
   "cell_type": "code",
   "execution_count": 13,
   "id": "cf9cb7db",
   "metadata": {},
   "outputs": [
    {
     "name": "stdout",
     "output_type": "stream",
     "text": [
      "1\n",
      "2\n",
      "3\n",
      "4\n",
      "5\n",
      "Exiting the for loop!!\n",
      "1\n",
      "4\n",
      "9\n",
      "16\n",
      "25\n",
      "Exiting the for loop!!\n"
     ]
    }
   ],
   "source": [
    "def my_for_func(iterable, funct):\n",
    "    iterator = iter(iterable)\n",
    "    while True:\n",
    "        try:\n",
    "            item = next(iterator)\n",
    "        except StopIteration:\n",
    "            print(\"Exiting the for loop!!\")\n",
    "            break\n",
    "        else:\n",
    "            funct(item)\n",
    "        \n",
    "my_for_func((1,2,3,4,5), print)\n",
    "\n",
    "def square(item):\n",
    "    print(item * item)\n",
    "    \n",
    "my_for_func((1,2,3,4,5), square)"
   ]
  },
  {
   "cell_type": "markdown",
   "id": "b06e78db",
   "metadata": {},
   "source": [
    "# Writing a Custom Iterator\n",
    "\n",
    "- Reference : https://www.udemy.com/course/the-modern-python3-bootcamp/learn/lecture/7991120#questions/11587718\n",
    "\n",
    "- To make a class iterable we should define __iter__() method on the class\n"
   ]
  },
  {
   "cell_type": "code",
   "execution_count": 15,
   "id": "3f086d49",
   "metadata": {},
   "outputs": [
    {
     "name": "stdout",
     "output_type": "stream",
     "text": [
      "0\n",
      "1\n",
      "2\n",
      "3\n",
      "4\n",
      "5\n",
      "6\n",
      "7\n",
      "8\n",
      "9\n"
     ]
    }
   ],
   "source": [
    "class Counter:\n",
    "    def __init__(self, low, high):\n",
    "        self._current = low\n",
    "        self._high = high\n",
    "        \n",
    "    def __iter__(self):\n",
    "        return self\n",
    "    \n",
    "    def __next__(self):\n",
    "        if self._current < self._high:\n",
    "            num = self._current\n",
    "            self._current += 1\n",
    "            return num\n",
    "        raise StopIteration\n",
    "        \n",
    "    @property\n",
    "    def current(self):\n",
    "        return self._current\n",
    "    @property\n",
    "    def high(self):\n",
    "        return self._high\n",
    "    \n",
    "for x in Counter(0,10):\n",
    "    print(x)"
   ]
  },
  {
   "cell_type": "code",
   "execution_count": null,
   "id": "de065265",
   "metadata": {},
   "outputs": [],
   "source": [
    "# TODO : Making Deck Class iterable"
   ]
  },
  {
   "cell_type": "markdown",
   "id": "c1c515d9",
   "metadata": {},
   "source": [
    "# Introduction to Generators\n",
    "\n",
    "##   generators\n",
    "       - generators are iterators, and are subset of iterators (every generator is an iterator but not every iterator is a generator)\n",
    "       - genrators can be created\n",
    "           - using generator functions(a way to create generator which is an iterator) which uses yield keyword\n",
    "               - uses yield\n",
    "               - can yield multiple times\n",
    "               - when invoked, return a generator\n",
    "           - Generators can also be created with generator expression\n",
    "               - uses return\n",
    "               - returns once only\n",
    "               - when invoked, return the return value\n",
    "               \n",
    "***When a function is invoked its returns a return value***\n",
    "***When a Generator Function is invoked, returns a generator***"
   ]
  },
  {
   "cell_type": "code",
   "execution_count": 18,
   "id": "96ac026e",
   "metadata": {},
   "outputs": [
    {
     "name": "stdout",
     "output_type": "stream",
     "text": [
      "1\n",
      "No going back in the generator! once yielded it moves ahead\n",
      "2\n",
      "3\n",
      "4\n"
     ]
    }
   ],
   "source": [
    "# generator Function, returns a generator\n",
    "# generator is an iterator, so we can call next on it\n",
    "\n",
    "def count_up_to(max):\n",
    "    count = 1\n",
    "    while count < max:\n",
    "        yield count\n",
    "        count += 1\n",
    "\n",
    "generator1 = count_up_to(5)\n",
    "print(next(generator1))\n",
    "print('No going back in the generator! once yielded it moves ahead')\n",
    "for item in generator1:\n",
    "    print(item)"
   ]
  },
  {
   "cell_type": "markdown",
   "id": "c8ca3a75",
   "metadata": {},
   "source": [
    "# Generator Exercise : week days\n",
    "   - Write a function called week, which returns a generator that yields each day of the week, starting with Monday and ending with Sunday.  After Sunday, the generator is exhausted.  It does not start over."
   ]
  },
  {
   "cell_type": "code",
   "execution_count": 20,
   "id": "9ee7a429",
   "metadata": {},
   "outputs": [
    {
     "name": "stdout",
     "output_type": "stream",
     "text": [
      "Monday\n",
      "Tuesday\n",
      "Wednesday\n",
      "Thursday\n",
      "Friday\n",
      "Saturday\n",
      "Sunday\n"
     ]
    }
   ],
   "source": [
    "WEEKDAYS = ('Monday', 'Tuesday', 'Wednesday', 'Thursday', 'Friday', 'Saturday', 'Sunday')\n",
    "def week():\n",
    "    for day in WEEKDAYS:\n",
    "        yield day\n",
    "        \n",
    "gen_wd = week()\n",
    "\n",
    "print(next(gen_wd))\n",
    "\n",
    "for wd in gen_wd:\n",
    "    print(wd)\n",
    "    "
   ]
  },
  {
   "cell_type": "markdown",
   "id": "8f22fe52",
   "metadata": {},
   "source": [
    "# Generator Ex : yes_or_no\n",
    "- Write a function called yes_or_no, which returns a generator that first yields yes , then no , then yes , then no , and so on."
   ]
  },
  {
   "cell_type": "code",
   "execution_count": 34,
   "id": "57f3aaac",
   "metadata": {},
   "outputs": [
    {
     "name": "stdout",
     "output_type": "stream",
     "text": [
      "yes\n",
      "no\n",
      "yes\n",
      "no\n",
      "yes\n",
      "no\n",
      "yes\n",
      "no\n",
      "yes\n",
      "no\n",
      "yes\n"
     ]
    }
   ],
   "source": [
    "def yes_or_no():\n",
    "    is_yes = True\n",
    "    while True:\n",
    "        if is_yes:\n",
    "            yield 'yes'\n",
    "        else:\n",
    "            yield 'no'\n",
    "        is_yes = not is_yes\n",
    "            \n",
    "gen = yes_or_no()\n",
    "print(next(gen))\n",
    "for i in range(10):\n",
    "    print(next(gen))\n",
    "    \n",
    "# NOTE : You dont call the function everytime (yes_or_no()), then a new generator will be \n",
    "#         created each time you are calling the funtion\n",
    "#         Rather we iterate over the generator that is created while calling the function"
   ]
  },
  {
   "cell_type": "markdown",
   "id": "787501c1",
   "metadata": {},
   "source": [
    "# Generator Ex : Beat Making Generator"
   ]
  },
  {
   "cell_type": "code",
   "execution_count": 42,
   "id": "8a9a26fa",
   "metadata": {},
   "outputs": [],
   "source": [
    "# TODO"
   ]
  },
  {
   "cell_type": "code",
   "execution_count": 50,
   "id": "87782adb",
   "metadata": {},
   "outputs": [
    {
     "name": "stdout",
     "output_type": "stream",
     "text": [
      "1\n",
      "2\n",
      "3\n",
      "4\n",
      "1\n",
      "2\n",
      "3\n",
      "4\n",
      "1\n",
      "2\n",
      "3\n",
      "4\n",
      "1\n",
      "2\n",
      "3\n",
      "4\n",
      "1\n",
      "2\n",
      "3\n",
      "4\n",
      "1\n",
      "2\n",
      "3\n",
      "4\n",
      "1\n",
      "2\n",
      "3\n",
      "4\n",
      "1\n",
      "2\n",
      "3\n",
      "4\n",
      "1\n",
      "2\n",
      "3\n",
      "4\n",
      "1\n",
      "2\n",
      "3\n",
      "4\n",
      "1\n",
      "2\n",
      "3\n",
      "4\n",
      "1\n",
      "2\n",
      "3\n",
      "4\n",
      "1\n",
      "2\n",
      "3\n",
      "4\n",
      "1\n",
      "2\n",
      "3\n",
      "4\n",
      "1\n",
      "2\n",
      "3\n",
      "4\n",
      "1\n",
      "2\n",
      "3\n",
      "4\n",
      "1\n",
      "2\n",
      "3\n",
      "4\n",
      "1\n",
      "2\n",
      "3\n",
      "4\n",
      "1\n",
      "2\n",
      "3\n",
      "4\n",
      "1\n",
      "2\n",
      "3\n",
      "4\n",
      "1\n",
      "2\n",
      "3\n",
      "4\n",
      "1\n",
      "2\n",
      "3\n",
      "4\n",
      "1\n",
      "2\n",
      "3\n",
      "4\n",
      "1\n",
      "2\n",
      "3\n",
      "4\n",
      "1\n",
      "2\n",
      "3\n",
      "4\n",
      "1\n",
      "2\n",
      "3\n",
      "4\n",
      "1\n",
      "2\n",
      "3\n",
      "4\n",
      "1\n",
      "2\n",
      "3\n",
      "4\n",
      "1\n",
      "2\n",
      "3\n",
      "4\n",
      "1\n",
      "2\n",
      "3\n",
      "4\n",
      "1\n",
      "2\n",
      "3\n",
      "4\n",
      "1\n",
      "2\n",
      "3\n",
      "4\n",
      "1\n",
      "2\n",
      "3\n",
      "4\n",
      "1\n",
      "2\n",
      "3\n",
      "4\n",
      "1\n",
      "2\n",
      "3\n",
      "4\n",
      "1\n",
      "2\n",
      "3\n",
      "4\n",
      "1\n",
      "2\n",
      "3\n",
      "4\n",
      "1\n",
      "2\n",
      "3\n"
     ]
    }
   ],
   "source": [
    "def beats(times):\n",
    "    seq = (1,2,3,4)\n",
    "    _times = 0\n",
    "    _idx = 0\n",
    "    \n",
    "    while _times <= times:\n",
    "        yield(seq[_idx])\n",
    "        if _idx < len(seq)-1:\n",
    "            _idx += 1\n",
    "        else:\n",
    "            _idx = 0\n",
    "        \n",
    "gen_beats = beats(100)\n",
    "\n",
    "print(next(gen_beats))\n",
    "for i in range(150):\n",
    "    print(next(gen_beats))\n",
    "    "
   ]
  },
  {
   "cell_type": "code",
   "execution_count": null,
   "id": "b078ca74",
   "metadata": {},
   "outputs": [],
   "source": []
  },
  {
   "cell_type": "code",
   "execution_count": null,
   "id": "a09e699b",
   "metadata": {},
   "outputs": [],
   "source": []
  },
  {
   "cell_type": "code",
   "execution_count": null,
   "id": "81375606",
   "metadata": {},
   "outputs": [],
   "source": []
  },
  {
   "cell_type": "code",
   "execution_count": null,
   "id": "46bf71e0",
   "metadata": {},
   "outputs": [],
   "source": []
  },
  {
   "cell_type": "code",
   "execution_count": null,
   "id": "2f66fb58",
   "metadata": {},
   "outputs": [],
   "source": []
  }
 ],
 "metadata": {
  "kernelspec": {
   "display_name": "Python 3 (ipykernel)",
   "language": "python",
   "name": "python3"
  },
  "language_info": {
   "codemirror_mode": {
    "name": "ipython",
    "version": 3
   },
   "file_extension": ".py",
   "mimetype": "text/x-python",
   "name": "python",
   "nbconvert_exporter": "python",
   "pygments_lexer": "ipython3",
   "version": "3.9.12"
  }
 },
 "nbformat": 4,
 "nbformat_minor": 5
}

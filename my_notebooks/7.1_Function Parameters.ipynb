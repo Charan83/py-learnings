{
 "cells": [
  {
   "cell_type": "markdown",
   "id": "1a0bb08b",
   "metadata": {},
   "source": [
    "# Positional Arguments\n",
    "- Most common way of assigning arguments to parameters : Via the order in which they are passed ie. their position\n",
    "\n",
    "# Default Values\n",
    "- A positional argument can be made optional by specifying a default value for the corresponding parameter\n",
    "- **If a positional parameter is defined with a default value, then every positional parameter after it MUST also be given a default value**\n",
    "\n",
    "# Keyword Arguments: (named arguments)\n",
    "- specify the name of the parameter with value, when calling a function\n",
    "- **Once we use keyword argument, all arguments thereafter MUST be keyword arguments too.**"
   ]
  },
  {
   "cell_type": "code",
   "execution_count": 4,
   "id": "911f0537",
   "metadata": {},
   "outputs": [],
   "source": [
    "def my_funct(a, b=5, c=10):\n",
    "    pass\n",
    "\n",
    "my_funct(1, c=20)\n",
    "\n",
    "my_funct(a=1, c=3)\n",
    "\n",
    "\n",
    "# **Once we use keyword argument, all arguments thereafter MUST be keyword arguments too.**\n",
    "# my_funct(c=1, 2,3) # SyntaxError: positional argument follows keyword argument\n",
    "my_funct(c=1, a=4, b=2)\n",
    "\n",
    "my_funct(1, c=3, b=4)\n"
   ]
  },
  {
   "cell_type": "markdown",
   "id": "f21f4987",
   "metadata": {},
   "source": [
    "## Keyword Arguments Continue\n",
    "- All arguments after the first named(keyword) argument, must be  named too\n",
    "- Default arguments may still be omitted\n"
   ]
  },
  {
   "cell_type": "code",
   "execution_count": 8,
   "id": "603356e0",
   "metadata": {},
   "outputs": [],
   "source": [
    "def my_func(a, b=2, c=3):\n",
    "    pass\n",
    "\n",
    "my_func(a=1)\n",
    "my_func(a=1, c=5)\n",
    "my_func(1)"
   ]
  },
  {
   "cell_type": "markdown",
   "id": "008d1c20",
   "metadata": {},
   "source": [
    "# Coding: Positional and Keyword Arguments\n"
   ]
  },
  {
   "cell_type": "code",
   "execution_count": 9,
   "id": "d50a2260",
   "metadata": {},
   "outputs": [],
   "source": [
    "def my_func(a,b,c):\n",
    "    print(f\"{a}, {b}, {c}\")\n"
   ]
  },
  {
   "cell_type": "code",
   "execution_count": 10,
   "id": "17319ad3",
   "metadata": {},
   "outputs": [
    {
     "name": "stdout",
     "output_type": "stream",
     "text": [
      "1, 2, 3\n"
     ]
    }
   ],
   "source": [
    "my_func(1,2,3)"
   ]
  },
  {
   "cell_type": "code",
   "execution_count": 11,
   "id": "d8dc02a9",
   "metadata": {},
   "outputs": [
    {
     "ename": "TypeError",
     "evalue": "my_func() missing 1 required positional argument: 'c'",
     "output_type": "error",
     "traceback": [
      "\u001b[0;31m---------------------------------------------------------------------------\u001b[0m",
      "\u001b[0;31mTypeError\u001b[0m                                 Traceback (most recent call last)",
      "Input \u001b[0;32mIn [11]\u001b[0m, in \u001b[0;36m<cell line: 1>\u001b[0;34m()\u001b[0m\n\u001b[0;32m----> 1\u001b[0m \u001b[43mmy_func\u001b[49m\u001b[43m(\u001b[49m\u001b[38;5;241;43m1\u001b[39;49m\u001b[43m,\u001b[49m\u001b[38;5;241;43m2\u001b[39;49m\u001b[43m)\u001b[49m\n",
      "\u001b[0;31mTypeError\u001b[0m: my_func() missing 1 required positional argument: 'c'"
     ]
    }
   ],
   "source": [
    "my_func(1,2)"
   ]
  },
  {
   "cell_type": "code",
   "execution_count": 12,
   "id": "530ebfd5",
   "metadata": {},
   "outputs": [
    {
     "ename": "SyntaxError",
     "evalue": "non-default argument follows default argument (3228342276.py, line 1)",
     "output_type": "error",
     "traceback": [
      "\u001b[0;36m  Input \u001b[0;32mIn [12]\u001b[0;36m\u001b[0m\n\u001b[0;31m    def my_func(a,b=2,c):\u001b[0m\n\u001b[0m                       ^\u001b[0m\n\u001b[0;31mSyntaxError\u001b[0m\u001b[0;31m:\u001b[0m non-default argument follows default argument\n"
     ]
    }
   ],
   "source": [
    "# If a positional parameter is defined with a default value, \n",
    "# then every positional parameter after it MUST also be given a default value\n",
    "def my_func(a,b=2,c):\n",
    "    print(f\"{a}, {b}, {c}\")"
   ]
  },
  {
   "cell_type": "code",
   "execution_count": 15,
   "id": "a5edfa72",
   "metadata": {},
   "outputs": [],
   "source": [
    "def my_func(a,b=2,c=10):\n",
    "    print(f\"a={a}, b={b}, c={c}\")"
   ]
  },
  {
   "cell_type": "code",
   "execution_count": 16,
   "id": "22d22fd7",
   "metadata": {},
   "outputs": [
    {
     "name": "stdout",
     "output_type": "stream",
     "text": [
      "a=1, b=2, c=10\n"
     ]
    }
   ],
   "source": [
    "my_func(1)"
   ]
  },
  {
   "cell_type": "code",
   "execution_count": 18,
   "id": "bfacc809",
   "metadata": {},
   "outputs": [
    {
     "name": "stdout",
     "output_type": "stream",
     "text": [
      "a=1, b=2, c=10\n"
     ]
    }
   ],
   "source": [
    "my_func(1, b=2)"
   ]
  },
  {
   "cell_type": "code",
   "execution_count": 19,
   "id": "6fc6976e",
   "metadata": {},
   "outputs": [
    {
     "name": "stdout",
     "output_type": "stream",
     "text": [
      "a=10, b=30, c=20\n"
     ]
    }
   ],
   "source": [
    "my_func(10, c=20, b = 30)"
   ]
  },
  {
   "cell_type": "code",
   "execution_count": 20,
   "id": "2cb97dc1",
   "metadata": {},
   "outputs": [
    {
     "name": "stdout",
     "output_type": "stream",
     "text": [
      "a=1, b=2, c=10\n"
     ]
    }
   ],
   "source": [
    "my_func(1)"
   ]
  },
  {
   "cell_type": "markdown",
   "id": "49d86ec3",
   "metadata": {},
   "source": [
    "# Unpacking Iterables\n",
    "\n",
    "### A side note on Tuple\n",
    "(1,2,3) : what defines a tuple in Python is not '()' but ','\n",
    "1,2,3 --> is a tuple \n",
    "(1,2,3) --> '()' is just used to make Tuple clearer\n",
    "\n",
    "### To create a tuple with a single element:\n",
    "(1) --> will not create a Tuple even though we use '()'\n",
    "(1,) or 1, --> will create a Tuple as we have ','\n",
    "\n",
    "### The only exception is when we create an empty tuple:\n",
    "() or tuple()\n",
    "\n",
    "## Packed values:\n",
    "Packed values refers to values that are bundled together in some way\n",
    "\n",
    "- Tuples and lists : \n",
    "    - t = (1,2,3)\n",
    "    - l = [1,2,3]\n",
    "- strings \n",
    "    - s = 'abcd\n",
    "- sets and dictionaries\n",
    "    - set1 = {1,2,3}\n",
    "    - d = {'a':1, 'b':2, 'c':3}\n",
    "    \n",
    "    \n",
    "**Infact any iterable can be considered as a packed value**\n",
    "\n",
    "# Unpacking Packed Values\n",
    "- unpacking is the act of splitting packed values into individual variables contained in a list or tuple\n",
    "a,b,c = [1,2,3]\n",
    "\n",
    "- The unpacking into individual variables is based on the relative positions of each element\n",
    "- This is how the positional arguments were assigned to parameters in function\n",
    "\n"
   ]
  },
  {
   "cell_type": "code",
   "execution_count": 21,
   "id": "7620557d",
   "metadata": {},
   "outputs": [
    {
     "name": "stdout",
     "output_type": "stream",
     "text": [
      "a=10, b=20, c=hello\n"
     ]
    }
   ],
   "source": [
    "a,b,c = 10, 20, 'hello'\n",
    "print(f\"a={a}, b={b}, c={c}\")"
   ]
  },
  {
   "cell_type": "code",
   "execution_count": 22,
   "id": "ad78efe2",
   "metadata": {},
   "outputs": [
    {
     "name": "stdout",
     "output_type": "stream",
     "text": [
      "a=x, b=y, c=z\n"
     ]
    }
   ],
   "source": [
    "a,b,c = 'xyz'\n",
    "print(f\"a={a}, b={b}, c={c}\")"
   ]
  },
  {
   "cell_type": "code",
   "execution_count": 23,
   "id": "991787ea",
   "metadata": {},
   "outputs": [
    {
     "name": "stdout",
     "output_type": "stream",
     "text": [
      "a=20, b=10\n"
     ]
    }
   ],
   "source": [
    "# Swapping Values\n",
    "a,b= 10, 20\n",
    "b,a = a,b\n",
    "print(f\"a={a}, b={b}\")\n"
   ]
  },
  {
   "cell_type": "markdown",
   "id": "344d23fa",
   "metadata": {},
   "source": [
    "**The above works as in python, the entire RHS is evaluated first and then assignment are made to the LHS**\n",
    "\n",
    "## Unpacking Sets and Dictionaries\n",
    "- We can unpack Sets and Dictionaries, but as they are not ordered(unlike Lists/Tuples), when we unpack we are not sure which item will be assigned to which variable\n"
   ]
  },
  {
   "cell_type": "markdown",
   "id": "9504ddfc",
   "metadata": {},
   "source": [
    "# Extending Unpacking\n",
    "\n",
    "### The use case for *\n",
    "- we can unpack some and leave the rest as packed values\n",
    "- The '*' operator can only be used once in the LHS of an unpacking assignment\n",
    "- We can use '*' operator on the right hand side as well"
   ]
  },
  {
   "cell_type": "code",
   "execution_count": 1,
   "id": "7492366f",
   "metadata": {},
   "outputs": [
    {
     "name": "stdout",
     "output_type": "stream",
     "text": [
      "a=1, b=[2, 3, 4, 5, 6]\n"
     ]
    }
   ],
   "source": [
    "l = [1,2,3,4,5,6]\n",
    "a,b = l[0], l[1:] # l[1:] --> works only for sequnce types, ie indexable valiable to slice\n",
    "print(f\"a={a}, b={b}\")"
   ]
  },
  {
   "cell_type": "code",
   "execution_count": 2,
   "id": "594896a8",
   "metadata": {},
   "outputs": [
    {
     "name": "stdout",
     "output_type": "stream",
     "text": [
      "a=1, b=[2, 3, 4, 5, 6]\n"
     ]
    }
   ],
   "source": [
    "# using '*' to pack the rest into a list\n",
    "a, *b = l\n",
    "print(f\"a={a}, b={b}\")\n",
    "\n",
    "# For Example Sets and Dictionary are not ordered and dont have indexes, so we cannot slice them, and in such cases\n",
    "# we need to use '*' approach"
   ]
  },
  {
   "cell_type": "code",
   "execution_count": 3,
   "id": "a30cbb5b",
   "metadata": {},
   "outputs": [
    {
     "name": "stdout",
     "output_type": "stream",
     "text": [
      "a=1, b=[2, 3, 4, 5]\n"
     ]
    }
   ],
   "source": [
    "a, *b = (1,2,3,4,5)\n",
    "print(f\"a={a}, b={b}\")  # even though we unpack from tuple, b is still a list"
   ]
  },
  {
   "cell_type": "code",
   "execution_count": 5,
   "id": "7c283ff3",
   "metadata": {},
   "outputs": [
    {
     "name": "stdout",
     "output_type": "stream",
     "text": [
      "a=X, b=['Y', 'Z']\n"
     ]
    }
   ],
   "source": [
    "a, *b = 'XYZ'\n",
    "print(f\"a={a}, b={b}\")"
   ]
  },
  {
   "cell_type": "code",
   "execution_count": 6,
   "id": "975689b3",
   "metadata": {},
   "outputs": [
    {
     "name": "stdout",
     "output_type": "stream",
     "text": [
      "a=1, b=2, c=[3, 4, 5, 6], d=7\n"
     ]
    }
   ],
   "source": [
    "a,b,*c,d = [1,2,3,4,5,6,7]\n",
    "print(f\"a={a}, b={b}, c={c}, d={d}\")"
   ]
  },
  {
   "cell_type": "code",
   "execution_count": 9,
   "id": "9e40d92e",
   "metadata": {},
   "outputs": [
    {
     "name": "stdout",
     "output_type": "stream",
     "text": [
      "a=P, b=['y', 't', 'h'], c=o, d=n\n"
     ]
    }
   ],
   "source": [
    "a,*b,c,d = 'Python'\n",
    "print(f\"a={a}, b={b}, c={c}, d={d}\")"
   ]
  },
  {
   "cell_type": "code",
   "execution_count": 10,
   "id": "0ab08ce0",
   "metadata": {},
   "outputs": [
    {
     "name": "stdout",
     "output_type": "stream",
     "text": [
      "[1, 2, 3, 4, 5, 6]\n"
     ]
    }
   ],
   "source": [
    "l1 = [1,2,3]\n",
    "l2 = [4,5,6]\n",
    "l = [*l1, *l2]\n",
    "print(l)\n"
   ]
  },
  {
   "cell_type": "code",
   "execution_count": 11,
   "id": "eee91c0f",
   "metadata": {},
   "outputs": [
    {
     "name": "stdout",
     "output_type": "stream",
     "text": [
      "[1, 2, 3, 'P', 'y', 't', 'h', 'o', 'n']\n"
     ]
    }
   ],
   "source": [
    "l1 = [1,2,3]\n",
    "word = 'Python'\n",
    "l = [*l1, *word]\n",
    "print(l)"
   ]
  },
  {
   "cell_type": "markdown",
   "id": "60762dd8",
   "metadata": {},
   "source": [
    "#### using with un-ordered Types (Sets and Dictionaries have no ordering)"
   ]
  },
  {
   "cell_type": "code",
   "execution_count": 16,
   "id": "a5090b11",
   "metadata": {},
   "outputs": [
    {
     "name": "stdout",
     "output_type": "stream",
     "text": [
      "{10, 3, -99, 'd'}\n"
     ]
    }
   ],
   "source": [
    "s = {10, -99, 3, 'd'}\n",
    "print(s)"
   ]
  },
  {
   "cell_type": "code",
   "execution_count": 17,
   "id": "baad89a3",
   "metadata": {},
   "outputs": [
    {
     "name": "stdout",
     "output_type": "stream",
     "text": [
      "a=10, b=[3], c=-99, d=d\n"
     ]
    }
   ],
   "source": [
    "a, *b, c, d = s\n",
    "print(f\"a={a}, b={b}, c={c}, d={d}\") # There is no order and we may end upp getting differnt values for a,b,c,d"
   ]
  },
  {
   "cell_type": "code",
   "execution_count": 19,
   "id": "74f6491c",
   "metadata": {},
   "outputs": [
    {
     "name": "stdout",
     "output_type": "stream",
     "text": [
      "['p', 'y', 't', 'h', 'h', 'o', 'n']\n"
     ]
    }
   ],
   "source": [
    "d1 = {'p': 1, 'y': 2}\n",
    "d2 = {'t': 3, 'h': 4}\n",
    "d3 = {'h': 5, 'o': 6, 'n': 7}\n",
    "l = [*d1, *d2,*d3]\n",
    "print(l)\n"
   ]
  },
  {
   "cell_type": "code",
   "execution_count": 20,
   "id": "fe003db9",
   "metadata": {},
   "outputs": [
    {
     "name": "stdout",
     "output_type": "stream",
     "text": [
      "{'p', 'o', 'y', 'h', 't', 'n'}\n"
     ]
    }
   ],
   "source": [
    "s = {*d1, *d2, *d3}\n",
    "print(s)"
   ]
  },
  {
   "cell_type": "markdown",
   "id": "e5f891b0",
   "metadata": {},
   "source": [
    "#### The ** unpacking operator\n",
    "- When working with dictionaries we saw that * essentially iterated the keys\n",
    "- **NOTE: This ** operator CANNOT BE USED ON THE LHS of an assignment**\n"
   ]
  },
  {
   "cell_type": "code",
   "execution_count": 21,
   "id": "f182fe57",
   "metadata": {},
   "outputs": [
    {
     "name": "stdout",
     "output_type": "stream",
     "text": [
      "a=h, b=['o', 'n']\n"
     ]
    }
   ],
   "source": [
    "d3 = {'h': 5, 'o': 6, 'n': 7}\n",
    "a, *b = d3\n",
    "print(f\"a={a}, b={b}\")"
   ]
  },
  {
   "cell_type": "code",
   "execution_count": 22,
   "id": "fcab3ff1",
   "metadata": {},
   "outputs": [
    {
     "name": "stdout",
     "output_type": "stream",
     "text": [
      "{'p': 1, 'y': 2, 't': 3, 'h': 5, 'o': 6, 'n': 7}\n"
     ]
    }
   ],
   "source": [
    "d1 = {'p': 1, 'y': 2}\n",
    "d2 = {'t': 3, 'h': 4}\n",
    "d3 = {'h': 5, 'o': 6, 'n': 7}\n",
    "d = {**d1, **d2, **d3}\n",
    "print(d)"
   ]
  },
  {
   "cell_type": "markdown",
   "id": "9a0581f5",
   "metadata": {},
   "source": [
    "**This is how we can merge dictionries**"
   ]
  },
  {
   "cell_type": "code",
   "execution_count": 23,
   "id": "421e744b",
   "metadata": {},
   "outputs": [
    {
     "name": "stdout",
     "output_type": "stream",
     "text": [
      "{'g': 1000, 'p': 1, 'y': 2, 't': 3, 'h': 5, 'o': 6, 'n': 7}\n"
     ]
    }
   ],
   "source": [
    "d1 = {'p': 1, 'y': 2}\n",
    "d2 = {'t': 3, 'h': 4}\n",
    "d3 = {'h': 5, 'o': 6, 'n': 7}\n",
    "d = {'g': 1000, **d1, **d2, **d3}\n",
    "print(d)"
   ]
  },
  {
   "cell_type": "markdown",
   "id": "64cecf83",
   "metadata": {},
   "source": [
    "### Nested Unpacking"
   ]
  },
  {
   "cell_type": "code",
   "execution_count": 26,
   "id": "b60c3212",
   "metadata": {},
   "outputs": [
    {
     "name": "stdout",
     "output_type": "stream",
     "text": [
      "a=1, b=2, c=3, d=4, e=[]\n"
     ]
    }
   ],
   "source": [
    "l = [1, 2, [3, 4]]\n",
    "a, b, (c, d, *e) = l\n",
    "print(f\"a={a}, b={b}, c={c}, d={d}, e={e}\")"
   ]
  },
  {
   "cell_type": "code",
   "execution_count": 27,
   "id": "59c3d7b6",
   "metadata": {},
   "outputs": [
    {
     "name": "stdout",
     "output_type": "stream",
     "text": [
      "a=1, b=[2, 3], c=X, d=Y, e=Z\n"
     ]
    }
   ],
   "source": [
    "a, *b, (c,d,e) = [1,2,3,'XYZ']\n",
    "print(f\"a={a}, b={b}, c={c}, d={d}, e={e}\")"
   ]
  },
  {
   "cell_type": "code",
   "execution_count": 28,
   "id": "3f205921",
   "metadata": {},
   "outputs": [
    {
     "name": "stdout",
     "output_type": "stream",
     "text": [
      "a=1, b=[2, 3], c=p, d=['y', 't', 'h', 'o', 'n']\n"
     ]
    }
   ],
   "source": [
    "a,*b, (c,*d) = [1,2,3, 'python']\n",
    "print(f\"a={a}, b={b}, c={c}, d={d}\")"
   ]
  },
  {
   "cell_type": "markdown",
   "id": "6515fae1",
   "metadata": {},
   "source": [
    "# *args\n",
    "\n",
    "#### Recall from iterable unpacking\n",
    "- unpack the iterable on RHS to the variables(list of vars in a tuple, actually) on LHS"
   ]
  },
  {
   "cell_type": "code",
   "execution_count": 2,
   "id": "78e1100b",
   "metadata": {},
   "outputs": [
    {
     "name": "stdout",
     "output_type": "stream",
     "text": [
      "a=10, b=20, c=30\n"
     ]
    }
   ],
   "source": [
    "a,b,c = (10,20,30)\n",
    "print(f\"a={a}, b={b}, c={c}\")"
   ]
  },
  {
   "cell_type": "markdown",
   "id": "56f2007e",
   "metadata": {},
   "source": [
    "- **something similar happens when positional arguments are passed to a function**"
   ]
  },
  {
   "cell_type": "code",
   "execution_count": 3,
   "id": "f6eb0dce",
   "metadata": {},
   "outputs": [
    {
     "name": "stdout",
     "output_type": "stream",
     "text": [
      "a=1, b=2, c=3\n"
     ]
    }
   ],
   "source": [
    "def func(a,b,c):\n",
    "    print(f\"a={a}, b={b}, c={c}\")\n",
    "\n",
    "func(1,2,3) # we are passing (1,2,3) tuple to the function and then assignment happens"
   ]
  },
  {
   "cell_type": "markdown",
   "id": "d393538b",
   "metadata": {},
   "source": [
    "- And essentially it's going to be as if we were unpacking this tuple 10, 20, 30 into the variables\n",
    "- Is also supports the *args in the function\n",
    "- only difference in *args between LHS = RHS(literal unpacking) and function is, In a function the *args value will be a Tuple and not a list"
   ]
  },
  {
   "cell_type": "code",
   "execution_count": 4,
   "id": "d381f628",
   "metadata": {},
   "outputs": [
    {
     "name": "stdout",
     "output_type": "stream",
     "text": [
      "a=1, b=2, c=[3, 4, 5]\n"
     ]
    }
   ],
   "source": [
    "a,b,*c = (1,2,3,4,5)\n",
    "print(f\"a={a}, b={b}, c={c}\")"
   ]
  },
  {
   "cell_type": "code",
   "execution_count": 6,
   "id": "f73eed6d",
   "metadata": {},
   "outputs": [
    {
     "name": "stdout",
     "output_type": "stream",
     "text": [
      "a=1, b=2, args=(3, 4, 5, 6)\n"
     ]
    }
   ],
   "source": [
    "def func(a,b, *args):\n",
    "    print(f\"a={a}, b={b}, args={args}\")\n",
    "\n",
    "func(1,2,3,4,5,6)"
   ]
  },
  {
   "cell_type": "markdown",
   "id": "c9ae54f0",
   "metadata": {},
   "source": [
    "- *args exhausts the positional arguments in function unpacking, this is also a difference wrt literal unpacking\n",
    "- We cannot add more positional arguments after *args\n"
   ]
  },
  {
   "cell_type": "code",
   "execution_count": 8,
   "id": "2b999ad8",
   "metadata": {},
   "outputs": [
    {
     "name": "stdout",
     "output_type": "stream",
     "text": [
      "a=1, b=2, args=(3, 4, 5, 6), d=keyword argument\n"
     ]
    },
    {
     "ename": "TypeError",
     "evalue": "func() missing 1 required keyword-only argument: 'd'",
     "output_type": "error",
     "traceback": [
      "\u001b[0;31m---------------------------------------------------------------------------\u001b[0m",
      "\u001b[0;31mTypeError\u001b[0m                                 Traceback (most recent call last)",
      "Input \u001b[0;32mIn [8]\u001b[0m, in \u001b[0;36m<cell line: 5>\u001b[0;34m()\u001b[0m\n\u001b[1;32m      2\u001b[0m     \u001b[38;5;28mprint\u001b[39m(\u001b[38;5;124mf\u001b[39m\u001b[38;5;124m\"\u001b[39m\u001b[38;5;124ma=\u001b[39m\u001b[38;5;132;01m{\u001b[39;00ma\u001b[38;5;132;01m}\u001b[39;00m\u001b[38;5;124m, b=\u001b[39m\u001b[38;5;132;01m{\u001b[39;00mb\u001b[38;5;132;01m}\u001b[39;00m\u001b[38;5;124m, args=\u001b[39m\u001b[38;5;132;01m{\u001b[39;00margs\u001b[38;5;132;01m}\u001b[39;00m\u001b[38;5;124m, d=\u001b[39m\u001b[38;5;132;01m{\u001b[39;00md\u001b[38;5;132;01m}\u001b[39;00m\u001b[38;5;124m\"\u001b[39m)\n\u001b[1;32m      4\u001b[0m func(\u001b[38;5;241m1\u001b[39m,\u001b[38;5;241m2\u001b[39m,\u001b[38;5;241m3\u001b[39m,\u001b[38;5;241m4\u001b[39m,\u001b[38;5;241m5\u001b[39m,\u001b[38;5;241m6\u001b[39m, d\u001b[38;5;241m=\u001b[39m\u001b[38;5;124m\"\u001b[39m\u001b[38;5;124mkeyword argument\u001b[39m\u001b[38;5;124m\"\u001b[39m)\n\u001b[0;32m----> 5\u001b[0m \u001b[43mfunc\u001b[49m\u001b[43m(\u001b[49m\u001b[38;5;241;43m1\u001b[39;49m\u001b[43m,\u001b[49m\u001b[38;5;241;43m2\u001b[39;49m\u001b[43m,\u001b[49m\u001b[38;5;241;43m3\u001b[39;49m\u001b[43m,\u001b[49m\u001b[38;5;241;43m4\u001b[39;49m\u001b[43m,\u001b[49m\u001b[38;5;241;43m5\u001b[39;49m\u001b[43m,\u001b[49m\u001b[38;5;241;43m6\u001b[39;49m\u001b[43m)\u001b[49m\n",
      "\u001b[0;31mTypeError\u001b[0m: func() missing 1 required keyword-only argument: 'd'"
     ]
    }
   ],
   "source": [
    "def func(a,b,*args, d): # d is not a positional argument, its a keyword argument, as *args exhausts positional arguments\n",
    "    print(f\"a={a}, b={b}, args={args}, d={d}\")\n",
    "\n",
    "func(1,2,3,4,5,6, d=\"keyword argument\")\n",
    "func(1,2,3,4,5,6) \n",
    "\n"
   ]
  },
  {
   "cell_type": "code",
   "execution_count": 9,
   "id": "8478157a",
   "metadata": {},
   "outputs": [
    {
     "name": "stdout",
     "output_type": "stream",
     "text": [
      "a=1, b=2, args=[3, 4, 5], d=6\n"
     ]
    }
   ],
   "source": [
    "# literal unpacking that will work, but not unpacking furing function call\n",
    "a,b,*args, d = 1,2,3,4,5,6\n",
    "print(f\"a={a}, b={b}, args={args}, d={d}\")"
   ]
  },
  {
   "cell_type": "code",
   "execution_count": 10,
   "id": "66792ebf",
   "metadata": {},
   "outputs": [
    {
     "ename": "TypeError",
     "evalue": "func() missing 2 required positional arguments: 'd' and 'c'",
     "output_type": "error",
     "traceback": [
      "\u001b[0;31m---------------------------------------------------------------------------\u001b[0m",
      "\u001b[0;31mTypeError\u001b[0m                                 Traceback (most recent call last)",
      "Input \u001b[0;32mIn [10]\u001b[0m, in \u001b[0;36m<cell line: 7>\u001b[0;34m()\u001b[0m\n\u001b[1;32m      4\u001b[0m \u001b[38;5;28;01mdef\u001b[39;00m \u001b[38;5;21mfunc\u001b[39m(a,d, c):\n\u001b[1;32m      5\u001b[0m     \u001b[38;5;28mprint\u001b[39m(\u001b[38;5;124mf\u001b[39m\u001b[38;5;124m\"\u001b[39m\u001b[38;5;124ma=\u001b[39m\u001b[38;5;132;01m{\u001b[39;00ma\u001b[38;5;132;01m}\u001b[39;00m\u001b[38;5;124m, b=\u001b[39m\u001b[38;5;132;01m{\u001b[39;00mb\u001b[38;5;132;01m}\u001b[39;00m\u001b[38;5;124m, c=\u001b[39m\u001b[38;5;132;01m{\u001b[39;00mc\u001b[38;5;132;01m}\u001b[39;00m\u001b[38;5;124m\"\u001b[39m)\n\u001b[0;32m----> 7\u001b[0m \u001b[43mfunc\u001b[49m\u001b[43m(\u001b[49m\u001b[43mlst\u001b[49m\u001b[43m)\u001b[49m\n",
      "\u001b[0;31mTypeError\u001b[0m: func() missing 2 required positional arguments: 'd' and 'c'"
     ]
    }
   ],
   "source": [
    "# unpacking arguments\n",
    "lst = [10,20,30]\n",
    "\n",
    "def func(a,d, c):\n",
    "    print(f\"a={a}, b={b}, c={c}\")\n",
    "    \n",
    "func(lst) # wont work, it will not automatically unpack list and assign to a,b,c\n",
    "    "
   ]
  },
  {
   "cell_type": "code",
   "execution_count": 11,
   "id": "660dac92",
   "metadata": {},
   "outputs": [
    {
     "name": "stdout",
     "output_type": "stream",
     "text": [
      "a=10, b=2, c=30\n"
     ]
    }
   ],
   "source": [
    "func(*lst) # We should unpack the items in list during the function call"
   ]
  },
  {
   "cell_type": "markdown",
   "id": "69758b54",
   "metadata": {},
   "source": [
    "# Keyword Arguments\n",
    "- Recall:\n",
    "    - positional parameters can, optionally be passed as names (keyword) arguments\n",
    "    "
   ]
  },
  {
   "cell_type": "code",
   "execution_count": 12,
   "id": "bb940344",
   "metadata": {},
   "outputs": [
    {
     "name": "stdout",
     "output_type": "stream",
     "text": [
      "a=1, b=2, c=3\n"
     ]
    }
   ],
   "source": [
    "def func(a, b, c):\n",
    "    print(f\"a={a}, b={b}, c={c}\")\n",
    "\n",
    "func(1,2,3)"
   ]
  },
  {
   "cell_type": "code",
   "execution_count": 13,
   "id": "b11257f8",
   "metadata": {},
   "outputs": [
    {
     "name": "stdout",
     "output_type": "stream",
     "text": [
      "a=10, b=2, c=1\n"
     ]
    }
   ],
   "source": [
    "func(c=1, b=2, a=10) # positional parameters can, optionally be passed as names (keyword) arguments\n",
    "# using named arguments in this way is upto the caller"
   ]
  },
  {
   "cell_type": "markdown",
   "id": "a0755be3",
   "metadata": {},
   "source": [
    "### Mandatory Keyword Arguments\n",
    "- To make keyword arguments mandatory, we should exhaust the positional arguments\n",
    "- WE have seen earlier that * exhausts the positional parameters"
   ]
  },
  {
   "cell_type": "code",
   "execution_count": 14,
   "id": "c1f83816",
   "metadata": {},
   "outputs": [
    {
     "name": "stdout",
     "output_type": "stream",
     "text": [
      "a=1, b=2, c=keyword argument, args=(3, 4, 5, 6, 7)\n"
     ]
    }
   ],
   "source": [
    "def func(a,b,*args, c): # *args exhausts positional arguments, so 'c' MUST be passed as a keyword argument\n",
    "    print(f\"a={a}, b={b}, c={c}, args={args}\")\n",
    "    \n",
    "func(1,2,3,4,5,6,7, c=\"keyword argument\")"
   ]
  },
  {
   "cell_type": "code",
   "execution_count": 18,
   "id": "43a85454",
   "metadata": {},
   "outputs": [
    {
     "ename": "TypeError",
     "evalue": "func() missing 1 required keyword-only argument: 'c'",
     "output_type": "error",
     "traceback": [
      "\u001b[0;31m---------------------------------------------------------------------------\u001b[0m",
      "\u001b[0;31mTypeError\u001b[0m                                 Traceback (most recent call last)",
      "Input \u001b[0;32mIn [18]\u001b[0m, in \u001b[0;36m<cell line: 1>\u001b[0;34m()\u001b[0m\n\u001b[0;32m----> 1\u001b[0m \u001b[43mfunc\u001b[49m\u001b[43m(\u001b[49m\u001b[38;5;241;43m1\u001b[39;49m\u001b[43m,\u001b[49m\u001b[38;5;241;43m2\u001b[39;49m\u001b[43m,\u001b[49m\u001b[38;5;241;43m3\u001b[39;49m\u001b[43m,\u001b[49m\u001b[38;5;241;43m4\u001b[39;49m\u001b[43m,\u001b[49m\u001b[38;5;241;43m5\u001b[39;49m\u001b[43m)\u001b[49m\n",
      "\u001b[0;31mTypeError\u001b[0m: func() missing 1 required keyword-only argument: 'c'"
     ]
    }
   ],
   "source": [
    "func(1,2,3,4,5) # Here we can see missing 1 required keyword-only argument: 'c'\n",
    "# a=1, b=2, args=(3,4,5), and hence keyword argument 'c' is missing"
   ]
  },
  {
   "cell_type": "code",
   "execution_count": 19,
   "id": "14a231d4",
   "metadata": {},
   "outputs": [
    {
     "name": "stdout",
     "output_type": "stream",
     "text": [
      "args=(1, 2, 3, 4), kw=keyword argument\n"
     ]
    }
   ],
   "source": [
    "def func(*args, kw):\n",
    "    print(f\"args={args}, kw={kw}\")\n",
    "    \n",
    "func(1,2,3,4, kw=\"keyword argument\")"
   ]
  },
  {
   "cell_type": "code",
   "execution_count": 20,
   "id": "a90bab73",
   "metadata": {},
   "outputs": [
    {
     "name": "stdout",
     "output_type": "stream",
     "text": [
      "args=(), kw=keyword argument\n"
     ]
    }
   ],
   "source": [
    "func(kw=\"keyword argument\")\n"
   ]
  },
  {
   "cell_type": "code",
   "execution_count": 21,
   "id": "3c49677c",
   "metadata": {},
   "outputs": [
    {
     "ename": "TypeError",
     "evalue": "func() missing 1 required keyword-only argument: 'kw'",
     "output_type": "error",
     "traceback": [
      "\u001b[0;31m---------------------------------------------------------------------------\u001b[0m",
      "\u001b[0;31mTypeError\u001b[0m                                 Traceback (most recent call last)",
      "Input \u001b[0;32mIn [21]\u001b[0m, in \u001b[0;36m<cell line: 1>\u001b[0;34m()\u001b[0m\n\u001b[0;32m----> 1\u001b[0m \u001b[43mfunc\u001b[49m\u001b[43m(\u001b[49m\u001b[38;5;241;43m1\u001b[39;49m\u001b[43m,\u001b[49m\u001b[38;5;241;43m2\u001b[39;49m\u001b[43m,\u001b[49m\u001b[38;5;241;43m3\u001b[39;49m\u001b[43m)\u001b[49m\n",
      "\u001b[0;31mTypeError\u001b[0m: func() missing 1 required keyword-only argument: 'kw'"
     ]
    }
   ],
   "source": [
    "func(1,2,3)"
   ]
  },
  {
   "cell_type": "markdown",
   "id": "6e044343",
   "metadata": {},
   "source": [
    "### No Positional Arguments at all\n",
    "- '*' indicates the end of positional arguments\n",
    "    - *args => any number of positional arguments"
   ]
  },
  {
   "cell_type": "code",
   "execution_count": 23,
   "id": "eb625fe0",
   "metadata": {},
   "outputs": [
    {
     "name": "stdout",
     "output_type": "stream",
     "text": [
      "kw1=1, kw2=2\n"
     ]
    }
   ],
   "source": [
    "def func(*, kw1, kw2):\n",
    "    print(f\"kw1={kw1}, kw2={kw2}\")\n",
    "    \n",
    "func(kw1=1, kw2=2)"
   ]
  },
  {
   "cell_type": "markdown",
   "id": "c3bd6074",
   "metadata": {},
   "source": [
    "### putting it together"
   ]
  },
  {
   "cell_type": "code",
   "execution_count": 1,
   "id": "2842e6d6",
   "metadata": {},
   "outputs": [],
   "source": [
    "def func1(a,b=1,*args,d,e=True):\n",
    "    print(f\"a={a}, b={b}, args={args}, d={d}, e={e}\")\n",
    "    \n",
    "def func2(a,b=1,*,d,e=True):\n",
    "    print(f\"a={a}, b={b}, args={args}, d={d}, e={e}\")\n",
    "    "
   ]
  },
  {
   "cell_type": "markdown",
   "id": "a118c30e",
   "metadata": {},
   "source": [
    "- a : mandatory positional arguments(we can also use named arguments, but its not needed)\n",
    "- b : optional positional argument(can specify as named argument or can be skipped as well)\n",
    "- args: catch ALL for any (optional) additional positional arguments. OPTIONAL, can be empty as well args=()\n",
    "- * : no additional positional arguments allowed. Exhausts all positional arguments\n",
    "- d : mandatory keyword argument\n",
    "- e : Optional keyword argument, defaults to True"
   ]
  },
  {
   "cell_type": "markdown",
   "id": "930deefe",
   "metadata": {},
   "source": [
    "# **kwargs\n",
    "- *args : used to scoop up variable amount of remaining positional arguments.\n",
    "    - it collects all of these positional arguments in a **tuple**\n",
    "    - generally we use *args\n",
    "- * *args : used to scoop up a variable amount of remaining keyword arguments\n",
    "    - it collects all these keyword arguments in a **dictionary**\n",
    "    \n",
    "**kwargs can be specified even if the positional arguments have NOT been EXHAUSTED (unlike the keyword-only arguments)\n",
    "\n",
    "**No parameters can come after * * kwargs**\n"
   ]
  },
  {
   "cell_type": "code",
   "execution_count": 3,
   "id": "f101a284",
   "metadata": {},
   "outputs": [
    {
     "name": "stdout",
     "output_type": "stream",
     "text": [
      "d=2, kwargs={'e': True, 'a': 1, 'b': 2}\n"
     ]
    }
   ],
   "source": [
    "def func(*, d, **kwargs):\n",
    "    print(f\"d={d}, kwargs={kwargs}\")\n",
    "          \n",
    "func(d=2, e=True, a=1, b=2)"
   ]
  },
  {
   "cell_type": "code",
   "execution_count": 4,
   "id": "9dec19d1",
   "metadata": {},
   "outputs": [
    {
     "name": "stdout",
     "output_type": "stream",
     "text": [
      "d=1, kwargs={}\n"
     ]
    }
   ],
   "source": [
    "func(d=1)"
   ]
  },
  {
   "cell_type": "code",
   "execution_count": 5,
   "id": "7665ad79",
   "metadata": {},
   "outputs": [
    {
     "ename": "SyntaxError",
     "evalue": "positional argument follows keyword argument (2606198685.py, line 1)",
     "output_type": "error",
     "traceback": [
      "\u001b[0;36m  Input \u001b[0;32mIn [5]\u001b[0;36m\u001b[0m\n\u001b[0;31m    func(d=1, 1,2)\u001b[0m\n\u001b[0m                 ^\u001b[0m\n\u001b[0;31mSyntaxError\u001b[0m\u001b[0;31m:\u001b[0m positional argument follows keyword argument\n"
     ]
    }
   ],
   "source": [
    "func(d=1, 1,2)"
   ]
  },
  {
   "cell_type": "code",
   "execution_count": 8,
   "id": "9722af40",
   "metadata": {},
   "outputs": [
    {
     "name": "stdout",
     "output_type": "stream",
     "text": [
      "args={'result': 'PASS'}\n"
     ]
    }
   ],
   "source": [
    "def func(**kwargs):\n",
    "    print(f\"args={kwargs}\")\n",
    "\n",
    "func(result='PASS')"
   ]
  },
  {
   "cell_type": "code",
   "execution_count": 9,
   "id": "4ee8d3fa",
   "metadata": {},
   "outputs": [
    {
     "name": "stdout",
     "output_type": "stream",
     "text": [
      "args={}\n"
     ]
    }
   ],
   "source": [
    "func()\n"
   ]
  },
  {
   "cell_type": "code",
   "execution_count": 11,
   "id": "4830acc5",
   "metadata": {},
   "outputs": [
    {
     "name": "stdout",
     "output_type": "stream",
     "text": [
      "args=(1, 2, 3, 4), kwargs={'tests': '10'}\n"
     ]
    }
   ],
   "source": [
    "def func(*args, **kwargs):\n",
    "    print(f\"args={args}, kwargs={kwargs}\")\n",
    "    \n",
    "func(1,2,3,4, tests=\"10\")"
   ]
  },
  {
   "cell_type": "code",
   "execution_count": 12,
   "id": "caa23fe7",
   "metadata": {},
   "outputs": [
    {
     "name": "stdout",
     "output_type": "stream",
     "text": [
      "args=(), kwargs={}\n"
     ]
    }
   ],
   "source": [
    "func()"
   ]
  },
  {
   "cell_type": "code",
   "execution_count": 13,
   "id": "71859f8e",
   "metadata": {},
   "outputs": [
    {
     "name": "stdout",
     "output_type": "stream",
     "text": [
      "args=(), kwargs={'result': True}\n"
     ]
    }
   ],
   "source": [
    "func(result=True)"
   ]
  },
  {
   "cell_type": "code",
   "execution_count": 14,
   "id": "9fbc22ca",
   "metadata": {},
   "outputs": [
    {
     "name": "stdout",
     "output_type": "stream",
     "text": [
      "args=(123,), kwargs={}\n"
     ]
    }
   ],
   "source": [
    "func(123)"
   ]
  },
  {
   "cell_type": "code",
   "execution_count": 15,
   "id": "28c04743",
   "metadata": {},
   "outputs": [
    {
     "ename": "SyntaxError",
     "evalue": "named arguments must follow bare * (2524219345.py, line 1)",
     "output_type": "error",
     "traceback": [
      "\u001b[0;36m  Input \u001b[0;32mIn [15]\u001b[0;36m\u001b[0m\n\u001b[0;31m    def func(a,b,*, **kwargs):\u001b[0m\n\u001b[0m                    ^\u001b[0m\n\u001b[0;31mSyntaxError\u001b[0m\u001b[0;31m:\u001b[0m named arguments must follow bare *\n"
     ]
    }
   ],
   "source": [
    "def func(a,b,*, **kwargs): # this will not work, \n",
    "    pass"
   ]
  },
  {
   "cell_type": "code",
   "execution_count": 16,
   "id": "0ba4d7f4",
   "metadata": {},
   "outputs": [
    {
     "name": "stdout",
     "output_type": "stream",
     "text": [
      "a=1, b=2, d=True, kwargs={'test': False}\n"
     ]
    }
   ],
   "source": [
    "def func(a,b,*,d,**kwargs):\n",
    "    print(f\"a={a}, b={b}, d={d}, kwargs={kwargs}\")\n",
    "    \n",
    "func(1,2,d=True, test=False)"
   ]
  },
  {
   "cell_type": "code",
   "execution_count": 18,
   "id": "b5797c84",
   "metadata": {},
   "outputs": [
    {
     "ename": "SyntaxError",
     "evalue": "invalid syntax (908054490.py, line 1)",
     "output_type": "error",
     "traceback": [
      "\u001b[0;36m  Input \u001b[0;32mIn [18]\u001b[0;36m\u001b[0m\n\u001b[0;31m    def func(a,b,*, *args):\u001b[0m\n\u001b[0m                    ^\u001b[0m\n\u001b[0;31mSyntaxError\u001b[0m\u001b[0;31m:\u001b[0m invalid syntax\n"
     ]
    }
   ],
   "source": [
    "def func(a,b,*, *args): # after '*', we cant immediately use *args/**kwargs\n",
    "    pass"
   ]
  },
  {
   "cell_type": "markdown",
   "id": "49cbc01c",
   "metadata": {},
   "source": [
    "# Simple Function Timer"
   ]
  },
  {
   "cell_type": "code",
   "execution_count": 2,
   "id": "40fd4348",
   "metadata": {},
   "outputs": [
    {
     "name": "stdout",
     "output_type": "stream",
     "text": [
      "start=13.709804211\n",
      "args=(1, 2, 3), kwargs={'sep': ' - ', 'end': ' ***\\n '}\n",
      "1 - 2 - 3 ***\n",
      " end=13.71727731\n",
      "****************************\n",
      "start=13.717640197\n",
      "args=(1, 2, 3), kwargs={'sep': ' - ', 'end': ' ***\\n '}\n",
      "1 - 2 - 3 ***\n",
      " 1 - 2 - 3 ***\n",
      " 1 - 2 - 3 ***\n",
      " 1 - 2 - 3 ***\n",
      " 1 - 2 - 3 ***\n",
      " 1 - 2 - 3 ***\n",
      " 1 - 2 - 3 ***\n",
      " 1 - 2 - 3 ***\n",
      " 1 - 2 - 3 ***\n",
      " 1 - 2 - 3 ***\n",
      " 1 - 2 - 3 ***\n",
      " 1 - 2 - 3 ***\n",
      " 1 - 2 - 3 ***\n",
      " 1 - 2 - 3 ***\n",
      " 1 - 2 - 3 ***\n",
      " 1 - 2 - 3 ***\n",
      " 1 - 2 - 3 ***\n",
      " 1 - 2 - 3 ***\n",
      " 1 - 2 - 3 ***\n",
      " 1 - 2 - 3 ***\n",
      " end=13.719332509\n"
     ]
    },
    {
     "data": {
      "text/plain": [
       "0.0016923119999994185"
      ]
     },
     "execution_count": 2,
     "metadata": {},
     "output_type": "execute_result"
    }
   ],
   "source": [
    "import time\n",
    "def time_it(fn, *args, times=1,**kwargs):\n",
    "    start = time.perf_counter()\n",
    "    print(f\"start={start}\")\n",
    "    print(f\"args={args}, kwargs={kwargs}\")\n",
    "    for _ in range(times):\n",
    "        fn(*args, **kwargs)\n",
    "    end = time.perf_counter()\n",
    "    print(f\"end={end}\")\n",
    "    return end-start\n",
    "\n",
    "time_it(print, 1,2,3, sep=\" - \", end=\" ***\\n \" )\n",
    "\n",
    "print(\"****************************\")\n",
    "\n",
    "time_it(print, 1,2,3, times=20, sep=\" - \", end=\" ***\\n \" )\n",
    "\n",
    "    "
   ]
  },
  {
   "cell_type": "code",
   "execution_count": 34,
   "id": "267eaedd",
   "metadata": {},
   "outputs": [
    {
     "name": "stdout",
     "output_type": "stream",
     "text": [
      "1 2 3  - \n"
     ]
    }
   ],
   "source": [
    "print(1,2,3,' - ')"
   ]
  },
  {
   "cell_type": "code",
   "execution_count": 4,
   "id": "2df9f3dd",
   "metadata": {},
   "outputs": [
    {
     "data": {
      "text/plain": [
       "[2, 4, 8, 16]"
      ]
     },
     "execution_count": 4,
     "metadata": {},
     "output_type": "execute_result"
    }
   ],
   "source": [
    "def compute_powers_1(n, *, start=1, end):\n",
    "    results = []\n",
    "    for i in range(start, end):\n",
    "        results.append(n**i)\n",
    "        \n",
    "    return results\n",
    "\n",
    "compute_powers_1(2, end=5)"
   ]
  },
  {
   "cell_type": "code",
   "execution_count": 5,
   "id": "5e4cb9cd",
   "metadata": {},
   "outputs": [
    {
     "data": {
      "text/plain": [
       "[2, 4, 8, 16]"
      ]
     },
     "execution_count": 5,
     "metadata": {},
     "output_type": "execute_result"
    }
   ],
   "source": [
    "def compute_powers_2(n, *, start=1, end):\n",
    "    return [n**i for i in range(start,end)]\n",
    "\n",
    "compute_powers_2(2, end=5)"
   ]
  },
  {
   "cell_type": "code",
   "execution_count": 6,
   "id": "8eeefeab",
   "metadata": {},
   "outputs": [
    {
     "data": {
      "text/plain": [
       "<generator object compute_powers_3.<locals>.<genexpr> at 0x7fa344d92d60>"
      ]
     },
     "execution_count": 6,
     "metadata": {},
     "output_type": "execute_result"
    }
   ],
   "source": [
    "def compute_powers_3(n, *, start=1, end):\n",
    "    return (n**i for i in range(start,end))\n",
    "\n",
    "compute_powers_3(2, end=5) # returns a generator, that can be looped once"
   ]
  },
  {
   "cell_type": "code",
   "execution_count": 7,
   "id": "7e11a75e",
   "metadata": {},
   "outputs": [
    {
     "name": "stdout",
     "output_type": "stream",
     "text": [
      "start=27.264526452\n",
      "args=(2,), kwargs={'end': 5}\n",
      "end=31.091479772\n"
     ]
    },
    {
     "data": {
      "text/plain": [
       "3.826953320000001"
      ]
     },
     "execution_count": 7,
     "metadata": {},
     "output_type": "execute_result"
    }
   ],
   "source": [
    "time_it(compute_powers_1, 2, end=5, times=2000000)"
   ]
  },
  {
   "cell_type": "code",
   "execution_count": 8,
   "id": "1bc32309",
   "metadata": {},
   "outputs": [
    {
     "name": "stdout",
     "output_type": "stream",
     "text": [
      "start=58.747430081\n",
      "args=(2,), kwargs={'end': 5}\n",
      "end=62.445211105\n"
     ]
    },
    {
     "data": {
      "text/plain": [
       "3.697781024000001"
      ]
     },
     "execution_count": 8,
     "metadata": {},
     "output_type": "execute_result"
    }
   ],
   "source": [
    "time_it(compute_powers_2, 2, end=5, times=2000000)"
   ]
  },
  {
   "cell_type": "code",
   "execution_count": 9,
   "id": "06feffac",
   "metadata": {},
   "outputs": [
    {
     "name": "stdout",
     "output_type": "stream",
     "text": [
      "start=75.805310861\n",
      "args=(2,), kwargs={'end': 5}\n",
      "end=77.378290077\n"
     ]
    },
    {
     "data": {
      "text/plain": [
       "1.5729792160000073"
      ]
     },
     "execution_count": 9,
     "metadata": {},
     "output_type": "execute_result"
    }
   ],
   "source": [
    "time_it(compute_powers_3, 2, end=5, times=2000000)"
   ]
  },
  {
   "cell_type": "markdown",
   "id": "15ded59b",
   "metadata": {},
   "source": [
    "# Beware Of Parameter Defaults\n",
    "- When a module is loaded, all code is executed immediately\n",
    "- In a module\n",
    "    a=10 --> The integer object is created and a references it\n",
    "    \n",
    "    def func(a):  --> The function object is created and func references it. func is defined\n",
    "        print(a)\n",
    "        \n",
    "    the execution of func is done only when it is invoked func(a)\n",
    "    \n",
    "    def func_with_default_param(a=10):  --> The function object is created and 'func_with_default_param' references it.                                            func is defined. the integer object 10 is created and assigned as default for                                          'a'\n",
    "        print(a)\n",
    "        \n",
    "    func_with_default_param() --> when we invoke the functon, a is already 10\n",
    "    \n",
    "    **This should be kept in mind when handling few scenarios\n",
    "    \n",
    "#### Consider this:\n",
    "- We want to create a function that will write a log entry to the console with a user-specified event data/time. If the user does not supply the date/time, we want to set it to the current date/time\n"
   ]
  },
  {
   "cell_type": "code",
   "execution_count": 22,
   "id": "a2ca829d",
   "metadata": {},
   "outputs": [
    {
     "name": "stdout",
     "output_type": "stream",
     "text": [
      "2022-10-02 15:43:25.040430: first message\n",
      "2022-10-02 15:43:25.040430: second message\n"
     ]
    }
   ],
   "source": [
    "from datetime import datetime\n",
    "import time\n",
    "\n",
    "def log(msg, *, dt=datetime.now()): # dt is evaluated when the module is loaded and not when we execute the function\n",
    "                                    # so the log time will be same for both the messages\n",
    "    print(f\"{dt}: {msg}\")\n",
    "    \n",
    "log(\"first message\")\n",
    "time.sleep(1)\n",
    "log(\"second message\")\n",
    "\n"
   ]
  },
  {
   "cell_type": "code",
   "execution_count": 24,
   "id": "60e447e4",
   "metadata": {},
   "outputs": [
    {
     "name": "stdout",
     "output_type": "stream",
     "text": [
      "2022-10-02 15:43:47.921103: first message\n",
      "2022-10-02 15:43:49.922781: second message\n"
     ]
    }
   ],
   "source": [
    "def log1(msg, *, dt=None):\n",
    "    dt = dt or datetime.now()\n",
    "    print(f\"{dt}: {msg}\")\n",
    "\n",
    "log1(\"first message\")\n",
    "time.sleep(2)\n",
    "log1(\"second message\")"
   ]
  },
  {
   "cell_type": "markdown",
   "id": "64e9e107",
   "metadata": {},
   "source": [
    "# Parameter Defaults - Beware with Mutable values\n",
    "        - When we use default nutable types we should be careful as it will be created when the module is loaded and will be refered to it in the future invocations of the functions"
   ]
  },
  {
   "cell_type": "code",
   "execution_count": 14,
   "id": "315bc5e1",
   "metadata": {},
   "outputs": [],
   "source": [
    "def add_item(name, quantity, unit=1, grocery_list=[]):\n",
    "    grocery_list.append(f\"{name} ({quantity} {unit})\")\n",
    "    return grocery_list"
   ]
  },
  {
   "cell_type": "code",
   "execution_count": 15,
   "id": "af4f7997",
   "metadata": {},
   "outputs": [],
   "source": [
    "store1 = add_item('banana', 2, 'pieces')"
   ]
  },
  {
   "cell_type": "code",
   "execution_count": 16,
   "id": "0b377b14",
   "metadata": {},
   "outputs": [],
   "source": [
    "store2 = add_item('milk', 5, 'liters')"
   ]
  },
  {
   "cell_type": "code",
   "execution_count": 17,
   "id": "e4f395ea",
   "metadata": {},
   "outputs": [
    {
     "name": "stdout",
     "output_type": "stream",
     "text": [
      "['banana (2 pieces)', 'milk (5 liters)']\n"
     ]
    }
   ],
   "source": [
    "print(store2)"
   ]
  },
  {
   "cell_type": "code",
   "execution_count": 18,
   "id": "458ad963",
   "metadata": {},
   "outputs": [],
   "source": [
    "def add_item(name, quantity, unit=1, grocery_list=None):\n",
    "    if not grocery_list:\n",
    "        grocery_list = []\n",
    "    grocery_list.append(f\"{name} ({quantity} {unit})\")\n",
    "    return grocery_list"
   ]
  },
  {
   "cell_type": "code",
   "execution_count": 19,
   "id": "d50748c1",
   "metadata": {},
   "outputs": [],
   "source": [
    "store3 = add_item('banana', 2, 'pieces')"
   ]
  },
  {
   "cell_type": "code",
   "execution_count": 20,
   "id": "cd818a52",
   "metadata": {},
   "outputs": [],
   "source": [
    "store4 = add_item('milk', 5, 'liters')"
   ]
  },
  {
   "cell_type": "code",
   "execution_count": 22,
   "id": "084752de",
   "metadata": {},
   "outputs": [
    {
     "name": "stdout",
     "output_type": "stream",
     "text": [
      "['banana (2 pieces)']\n"
     ]
    }
   ],
   "source": [
    "print(store3)"
   ]
  },
  {
   "cell_type": "code",
   "execution_count": 23,
   "id": "cf226e68",
   "metadata": {},
   "outputs": [
    {
     "name": "stdout",
     "output_type": "stream",
     "text": [
      "['milk (5 liters)']\n"
     ]
    }
   ],
   "source": [
    "print(store4)"
   ]
  },
  {
   "cell_type": "markdown",
   "id": "73b75a14",
   "metadata": {},
   "source": [
    "#### Using this defualt parameter for our advantage"
   ]
  },
  {
   "cell_type": "code",
   "execution_count": 24,
   "id": "4028519f",
   "metadata": {},
   "outputs": [],
   "source": [
    "def factorial(n):\n",
    "    if n <= 1:\n",
    "        return 1\n",
    "    else:\n",
    "        print(f\"calculating {n} factorial!!\")\n",
    "        return n * factorial(n-1)"
   ]
  },
  {
   "cell_type": "code",
   "execution_count": 25,
   "id": "a5483f74",
   "metadata": {},
   "outputs": [
    {
     "data": {
      "text/plain": [
       "1"
      ]
     },
     "execution_count": 25,
     "metadata": {},
     "output_type": "execute_result"
    }
   ],
   "source": [
    "factorial(1)"
   ]
  },
  {
   "cell_type": "code",
   "execution_count": 26,
   "id": "16125625",
   "metadata": {},
   "outputs": [
    {
     "name": "stdout",
     "output_type": "stream",
     "text": [
      "calculating 2 factorial!!\n"
     ]
    },
    {
     "data": {
      "text/plain": [
       "2"
      ]
     },
     "execution_count": 26,
     "metadata": {},
     "output_type": "execute_result"
    }
   ],
   "source": [
    "factorial(2)"
   ]
  },
  {
   "cell_type": "code",
   "execution_count": 27,
   "id": "134cb934",
   "metadata": {},
   "outputs": [
    {
     "name": "stdout",
     "output_type": "stream",
     "text": [
      "calculating 3 factorial!!\n",
      "calculating 2 factorial!!\n"
     ]
    },
    {
     "data": {
      "text/plain": [
       "6"
      ]
     },
     "execution_count": 27,
     "metadata": {},
     "output_type": "execute_result"
    }
   ],
   "source": [
    "factorial(3)"
   ]
  },
  {
   "cell_type": "code",
   "execution_count": 35,
   "id": "2a5aa43a",
   "metadata": {},
   "outputs": [],
   "source": [
    "def factorial(n, cache ={}):\n",
    "    if n < 1:\n",
    "        return 1\n",
    "    elif n in cache:\n",
    "        return cache[n]\n",
    "    else:\n",
    "        print(f\"calculating {n} factorial!!\")\n",
    "        val = n*factorial(n-1)\n",
    "        cache[n] = val\n",
    "        print(cache)\n",
    "        return val"
   ]
  },
  {
   "cell_type": "code",
   "execution_count": 36,
   "id": "5659c3ff",
   "metadata": {},
   "outputs": [
    {
     "name": "stdout",
     "output_type": "stream",
     "text": [
      "calculating 3 factorial!!\n",
      "calculating 2 factorial!!\n",
      "calculating 1 factorial!!\n",
      "{1: 1}\n",
      "{1: 1, 2: 2}\n",
      "{1: 1, 2: 2, 3: 6}\n"
     ]
    },
    {
     "data": {
      "text/plain": [
       "6"
      ]
     },
     "execution_count": 36,
     "metadata": {},
     "output_type": "execute_result"
    }
   ],
   "source": [
    "factorial(3)"
   ]
  },
  {
   "cell_type": "code",
   "execution_count": 37,
   "id": "b4ec6f11",
   "metadata": {},
   "outputs": [
    {
     "name": "stdout",
     "output_type": "stream",
     "text": [
      "calculating 4 factorial!!\n",
      "{1: 1, 2: 2, 3: 6, 4: 24}\n"
     ]
    },
    {
     "data": {
      "text/plain": [
       "24"
      ]
     },
     "execution_count": 37,
     "metadata": {},
     "output_type": "execute_result"
    }
   ],
   "source": [
    "factorial(4)"
   ]
  },
  {
   "cell_type": "code",
   "execution_count": 38,
   "id": "62eaaeb7",
   "metadata": {},
   "outputs": [
    {
     "name": "stdout",
     "output_type": "stream",
     "text": [
      "calculating 5 factorial!!\n",
      "{1: 1, 2: 2, 3: 6, 4: 24, 5: 120}\n"
     ]
    },
    {
     "data": {
      "text/plain": [
       "120"
      ]
     },
     "execution_count": 38,
     "metadata": {},
     "output_type": "execute_result"
    }
   ],
   "source": [
    "factorial(5)"
   ]
  },
  {
   "cell_type": "code",
   "execution_count": null,
   "id": "34af4c4e",
   "metadata": {},
   "outputs": [],
   "source": []
  }
 ],
 "metadata": {
  "kernelspec": {
   "display_name": "Python 3 (ipykernel)",
   "language": "python",
   "name": "python3"
  },
  "language_info": {
   "codemirror_mode": {
    "name": "ipython",
    "version": 3
   },
   "file_extension": ".py",
   "mimetype": "text/x-python",
   "name": "python",
   "nbconvert_exporter": "python",
   "pygments_lexer": "ipython3",
   "version": "3.9.12"
  }
 },
 "nbformat": 4,
 "nbformat_minor": 5
}

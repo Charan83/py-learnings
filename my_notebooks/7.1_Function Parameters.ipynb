{
 "cells": [
  {
   "cell_type": "markdown",
   "id": "1a0bb08b",
   "metadata": {},
   "source": [
    "# Positional Arguments\n",
    "- Most common way of assigning arguments to parameters : Via the order in which they are passed ie. their position\n",
    "\n",
    "# Default Values\n",
    "- A positional argument can be made optional by specifying a default value for the corresponding parameter\n",
    "- **If a positional parameter is defined with a default value, then every positional parameter after it MUST also be given a default value**\n",
    "\n",
    "# Keyword Arguments: (named arguments)\n",
    "- specify the name of the parameter with value, when calling a function\n",
    "- **Once we use keyword argument, all arguments thereafter MUST be keyword arguments too.**"
   ]
  },
  {
   "cell_type": "code",
   "execution_count": 4,
   "id": "911f0537",
   "metadata": {},
   "outputs": [],
   "source": [
    "def my_funct(a, b=5, c=10):\n",
    "    pass\n",
    "\n",
    "my_funct(1, c=20)\n",
    "\n",
    "my_funct(a=1, c=3)\n",
    "\n",
    "\n",
    "# **Once we use keyword argument, all arguments thereafter MUST be keyword arguments too.**\n",
    "# my_funct(c=1, 2,3) # SyntaxError: positional argument follows keyword argument\n",
    "my_funct(c=1, a=4, b=2)\n",
    "\n",
    "my_funct(1, c=3, b=4)\n"
   ]
  },
  {
   "cell_type": "markdown",
   "id": "f21f4987",
   "metadata": {},
   "source": [
    "## Keyword Arguments Continue\n",
    "- All arguments after the first named(keyword) argument, must be  named too\n",
    "- Default arguments may still be omitted\n"
   ]
  },
  {
   "cell_type": "code",
   "execution_count": 8,
   "id": "603356e0",
   "metadata": {},
   "outputs": [],
   "source": [
    "def my_func(a, b=2, c=3):\n",
    "    pass\n",
    "\n",
    "my_func(a=1)\n",
    "my_func(a=1, c=5)\n",
    "my_func(1)"
   ]
  },
  {
   "cell_type": "markdown",
   "id": "008d1c20",
   "metadata": {},
   "source": [
    "# Coding: Positional and Keyword Arguments\n"
   ]
  },
  {
   "cell_type": "code",
   "execution_count": 9,
   "id": "d50a2260",
   "metadata": {},
   "outputs": [],
   "source": [
    "def my_func(a,b,c):\n",
    "    print(f\"{a}, {b}, {c}\")\n"
   ]
  },
  {
   "cell_type": "code",
   "execution_count": 10,
   "id": "17319ad3",
   "metadata": {},
   "outputs": [
    {
     "name": "stdout",
     "output_type": "stream",
     "text": [
      "1, 2, 3\n"
     ]
    }
   ],
   "source": [
    "my_func(1,2,3)"
   ]
  },
  {
   "cell_type": "code",
   "execution_count": 11,
   "id": "d8dc02a9",
   "metadata": {},
   "outputs": [
    {
     "ename": "TypeError",
     "evalue": "my_func() missing 1 required positional argument: 'c'",
     "output_type": "error",
     "traceback": [
      "\u001b[0;31m---------------------------------------------------------------------------\u001b[0m",
      "\u001b[0;31mTypeError\u001b[0m                                 Traceback (most recent call last)",
      "Input \u001b[0;32mIn [11]\u001b[0m, in \u001b[0;36m<cell line: 1>\u001b[0;34m()\u001b[0m\n\u001b[0;32m----> 1\u001b[0m \u001b[43mmy_func\u001b[49m\u001b[43m(\u001b[49m\u001b[38;5;241;43m1\u001b[39;49m\u001b[43m,\u001b[49m\u001b[38;5;241;43m2\u001b[39;49m\u001b[43m)\u001b[49m\n",
      "\u001b[0;31mTypeError\u001b[0m: my_func() missing 1 required positional argument: 'c'"
     ]
    }
   ],
   "source": [
    "my_func(1,2)"
   ]
  },
  {
   "cell_type": "code",
   "execution_count": 12,
   "id": "530ebfd5",
   "metadata": {},
   "outputs": [
    {
     "ename": "SyntaxError",
     "evalue": "non-default argument follows default argument (3228342276.py, line 1)",
     "output_type": "error",
     "traceback": [
      "\u001b[0;36m  Input \u001b[0;32mIn [12]\u001b[0;36m\u001b[0m\n\u001b[0;31m    def my_func(a,b=2,c):\u001b[0m\n\u001b[0m                       ^\u001b[0m\n\u001b[0;31mSyntaxError\u001b[0m\u001b[0;31m:\u001b[0m non-default argument follows default argument\n"
     ]
    }
   ],
   "source": [
    "# If a positional parameter is defined with a default value, \n",
    "# then every positional parameter after it MUST also be given a default value\n",
    "def my_func(a,b=2,c):\n",
    "    print(f\"{a}, {b}, {c}\")"
   ]
  },
  {
   "cell_type": "code",
   "execution_count": 15,
   "id": "a5edfa72",
   "metadata": {},
   "outputs": [],
   "source": [
    "def my_func(a,b=2,c=10):\n",
    "    print(f\"a={a}, b={b}, c={c}\")"
   ]
  },
  {
   "cell_type": "code",
   "execution_count": 16,
   "id": "22d22fd7",
   "metadata": {},
   "outputs": [
    {
     "name": "stdout",
     "output_type": "stream",
     "text": [
      "a=1, b=2, c=10\n"
     ]
    }
   ],
   "source": [
    "my_func(1)"
   ]
  },
  {
   "cell_type": "code",
   "execution_count": 18,
   "id": "bfacc809",
   "metadata": {},
   "outputs": [
    {
     "name": "stdout",
     "output_type": "stream",
     "text": [
      "a=1, b=2, c=10\n"
     ]
    }
   ],
   "source": [
    "my_func(1, b=2)"
   ]
  },
  {
   "cell_type": "code",
   "execution_count": 19,
   "id": "6fc6976e",
   "metadata": {},
   "outputs": [
    {
     "name": "stdout",
     "output_type": "stream",
     "text": [
      "a=10, b=30, c=20\n"
     ]
    }
   ],
   "source": [
    "my_func(10, c=20, b = 30)"
   ]
  },
  {
   "cell_type": "code",
   "execution_count": 20,
   "id": "2cb97dc1",
   "metadata": {},
   "outputs": [
    {
     "name": "stdout",
     "output_type": "stream",
     "text": [
      "a=1, b=2, c=10\n"
     ]
    }
   ],
   "source": [
    "my_func(1)"
   ]
  },
  {
   "cell_type": "markdown",
   "id": "49d86ec3",
   "metadata": {},
   "source": [
    "# Unpacking Iterables\n",
    "\n",
    "### A side note on Tuple\n",
    "(1,2,3) : what defines a tuple in Python is not '()' but ','\n",
    "1,2,3 --> is a tuple \n",
    "(1,2,3) --> '()' is just used to make Tuple clearer\n",
    "\n",
    "### To create a tuple with a single element:\n",
    "(1) --> will not create a Tuple even though we use '()'\n",
    "(1,) or 1, --> will create a Tuple as we have ','\n",
    "\n",
    "### The only exception is when we create an empty tuple:\n",
    "() or tuple()\n",
    "\n",
    "## Packed values:\n",
    "Packed values refers to values that are bundled together in some way\n",
    "\n",
    "- Tuples and lists : \n",
    "    - t = (1,2,3)\n",
    "    - l = [1,2,3]\n",
    "- strings \n",
    "    - s = 'abcd\n",
    "- sets and dictionaries\n",
    "    - set1 = {1,2,3}\n",
    "    - d = {'a':1, 'b':2, 'c':3}\n",
    "    \n",
    "    \n",
    "**Infact any iterable can be considered as a packed value**\n",
    "\n",
    "# Unpacking Packed Values\n",
    "- unpacking is the act of splitting packed values into individual variables contained in a list or tuple\n",
    "a,b,c = [1,2,3]\n",
    "\n",
    "- The unpacking into individual variables is based on the relative positions of each element\n",
    "- This is how the positional arguments were assigned to parameters in function\n",
    "\n"
   ]
  },
  {
   "cell_type": "code",
   "execution_count": 21,
   "id": "7620557d",
   "metadata": {},
   "outputs": [
    {
     "name": "stdout",
     "output_type": "stream",
     "text": [
      "a=10, b=20, c=hello\n"
     ]
    }
   ],
   "source": [
    "a,b,c = 10, 20, 'hello'\n",
    "print(f\"a={a}, b={b}, c={c}\")"
   ]
  },
  {
   "cell_type": "code",
   "execution_count": 22,
   "id": "ad78efe2",
   "metadata": {},
   "outputs": [
    {
     "name": "stdout",
     "output_type": "stream",
     "text": [
      "a=x, b=y, c=z\n"
     ]
    }
   ],
   "source": [
    "a,b,c = 'xyz'\n",
    "print(f\"a={a}, b={b}, c={c}\")"
   ]
  },
  {
   "cell_type": "code",
   "execution_count": 23,
   "id": "991787ea",
   "metadata": {},
   "outputs": [
    {
     "name": "stdout",
     "output_type": "stream",
     "text": [
      "a=20, b=10\n"
     ]
    }
   ],
   "source": [
    "# Swapping Values\n",
    "a,b= 10, 20\n",
    "b,a = a,b\n",
    "print(f\"a={a}, b={b}\")\n"
   ]
  },
  {
   "cell_type": "markdown",
   "id": "344d23fa",
   "metadata": {},
   "source": [
    "**The above works as in python, the entire RHS is evaluated first and then assignment are made to the LHS**\n",
    "\n",
    "## Unpacking Sets and Dictionaries\n",
    "- We can unpack Sets and Dictionaries, but as they are not ordered(unlike Lists/Tuples), when we unpack we are not sure which item will be assigned to which variable\n"
   ]
  }
 ],
 "metadata": {
  "kernelspec": {
   "display_name": "Python 3 (ipykernel)",
   "language": "python",
   "name": "python3"
  },
  "language_info": {
   "codemirror_mode": {
    "name": "ipython",
    "version": 3
   },
   "file_extension": ".py",
   "mimetype": "text/x-python",
   "name": "python",
   "nbconvert_exporter": "python",
   "pygments_lexer": "ipython3",
   "version": "3.9.12"
  }
 },
 "nbformat": 4,
 "nbformat_minor": 5
}

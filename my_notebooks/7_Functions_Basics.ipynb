{
 "cells": [
  {
   "cell_type": "markdown",
   "id": "c851e76e",
   "metadata": {},
   "source": [
    "# funtions :\n",
    "   - use 'def' to define a function\n",
    "   - use 'return' to return from a function\n",
    "   - we can have default parameters def square(num = 2):\n",
    "   - we can use **keyword arguments**\n",
    "       - when calling a function. so we can pass arguments in different order\n",
    "       - Also useful when we pass a dict to a function and unpacking its values\n",
    "   - inside a function if you want to look for a global variable you need to mention explicitly by using 'global' keyword only when you try to change the variable value. You can still access it without using 'global'\n",
    "   - 'nonlocal' used in inner function to reference a variable in the outer function\n",
    "   - for documentation use triple double quotes \"\"\"doc string\"\"\"\n",
    "       - ex : random.randint.__doc__"
   ]
  },
  {
   "cell_type": "markdown",
   "id": "85de75b0",
   "metadata": {},
   "source": [
    "## Example 1 : define a function, call the function, doc string"
   ]
  },
  {
   "cell_type": "code",
   "execution_count": 7,
   "id": "adbaee72",
   "metadata": {},
   "outputs": [
    {
     "name": "stdout",
     "output_type": "stream",
     "text": [
      "I'm making noizeeeee!!\n",
      "None\n",
      "prints noise string\n"
     ]
    }
   ],
   "source": [
    "from random import random\n",
    "\n",
    "def make_noise():\n",
    "    \"\"\"prints noise string\"\"\"\n",
    "    print(\"I'm making noizeeeee!!\")\n",
    "    \n",
    "print(make_noise())\n",
    "print(make_noise.__doc__)"
   ]
  },
  {
   "cell_type": "markdown",
   "id": "7e547f1d",
   "metadata": {},
   "source": [
    "## example 2 : returning value from a function\n",
    "- using 'return'"
   ]
  },
  {
   "cell_type": "code",
   "execution_count": 13,
   "id": "f8129c7c",
   "metadata": {},
   "outputs": [
    {
     "name": "stdout",
     "output_type": "stream",
     "text": [
      "return value from heads_or_tails() : HEADS\n"
     ]
    }
   ],
   "source": [
    "def heads_or_tails():\n",
    "    if random() > 0.5:\n",
    "        return \"HEADS\"\n",
    "    else:\n",
    "        return \"TAILS\"\n",
    "print(f\"return value from heads_or_tails() : {heads_or_tails()}\")"
   ]
  },
  {
   "cell_type": "markdown",
   "id": "3f95e3ad",
   "metadata": {},
   "source": [
    "##   example 3 : returning list from a function"
   ]
  },
  {
   "cell_type": "code",
   "execution_count": 14,
   "id": "0d571164",
   "metadata": {},
   "outputs": [
    {
     "name": "stdout",
     "output_type": "stream",
     "text": [
      "list of evens generate_evens(25) : [2, 4, 6, 8, 10, 12, 14, 16, 18, 20, 22, 24]\n"
     ]
    }
   ],
   "source": [
    "def generate_evens(end_num):\n",
    "    return [num for num in range(1, end_num) if num % 2 == 0]\n",
    "\n",
    "print(f\"list of evens generate_evens(25) : {generate_evens(25)}\")"
   ]
  },
  {
   "cell_type": "markdown",
   "id": "bf1372df",
   "metadata": {},
   "source": [
    "## example 4 : count the 'dollar sign' in a word"
   ]
  },
  {
   "cell_type": "code",
   "execution_count": 17,
   "id": "9c3034a7",
   "metadata": {},
   "outputs": [
    {
     "name": "stdout",
     "output_type": "stream",
     "text": [
      "count_dollars('$ollar$') : 2\n",
      "count_dollars('abc$$$$abc$$$') : 7\n"
     ]
    }
   ],
   "source": [
    "def count_dollars(word):\n",
    "    return len(tuple(ch for ch in word if ch=='$'))\n",
    "print(f\"count_dollars('$ollar$') : {count_dollars('$ollar$')}\")\n",
    "print(f\"count_dollars('abc$$$$abc$$$') : {count_dollars('abc$$$$abc$$$')}\")"
   ]
  },
  {
   "cell_type": "markdown",
   "id": "11613ac2",
   "metadata": {},
   "source": [
    "## example 5 : default parameters and keyword arguments"
   ]
  },
  {
   "cell_type": "code",
   "execution_count": 20,
   "id": "a0ce7f7a",
   "metadata": {},
   "outputs": [
    {
     "name": "stdout",
     "output_type": "stream",
     "text": [
      "full_name() : Gurucharan annapantula\n",
      "full_name(last='annapantula', first='Prem Sakhi') : Prem Sakhi annapantula\n"
     ]
    }
   ],
   "source": [
    "def full_name(first='Gurucharan', last='annapantula'):\n",
    "    return f\"{first} {last}\"\n",
    "\n",
    "print(f\"full_name() : {full_name()}\")\n",
    "print(f\"full_name(last='annapantula', first='Prem Sakhi') : {full_name(last='annapantula', first='Prem Sakhi')}\")"
   ]
  },
  {
   "cell_type": "markdown",
   "id": "b65814ab",
   "metadata": {},
   "source": [
    "# understanding global variable\n",
    "- we have to explicitly tell python to look for global variable (ex: total)\n",
    "- we need to explicitly tell python when we assign a value to a global variable in the funtion, if we are not assigning then we need not specify global explicitly"
   ]
  },
  {
   "cell_type": "code",
   "execution_count": 22,
   "id": "05c86b2d",
   "metadata": {},
   "outputs": [
    {
     "name": "stdout",
     "output_type": "stream",
     "text": [
      "calling increment will throw error as total is not available for the scope of the funtion\n"
     ]
    },
    {
     "ename": "UnboundLocalError",
     "evalue": "local variable 'total' referenced before assignment",
     "output_type": "error",
     "traceback": [
      "\u001b[0;31m---------------------------------------------------------------------------\u001b[0m",
      "\u001b[0;31mUnboundLocalError\u001b[0m                         Traceback (most recent call last)",
      "Input \u001b[0;32mIn [22]\u001b[0m, in \u001b[0;36m<cell line: 6>\u001b[0;34m()\u001b[0m\n\u001b[1;32m      4\u001b[0m     \u001b[38;5;28;01mreturn\u001b[39;00m total\n\u001b[1;32m      5\u001b[0m \u001b[38;5;28mprint\u001b[39m(\u001b[38;5;124mf\u001b[39m\u001b[38;5;124m\"\u001b[39m\u001b[38;5;124mcalling increment will throw error as total is not available for the scope of the funtion\u001b[39m\u001b[38;5;124m\"\u001b[39m)\n\u001b[0;32m----> 6\u001b[0m \u001b[38;5;28mprint\u001b[39m(\u001b[43mincrement\u001b[49m\u001b[43m(\u001b[49m\u001b[43m)\u001b[49m)\n",
      "Input \u001b[0;32mIn [22]\u001b[0m, in \u001b[0;36mincrement\u001b[0;34m()\u001b[0m\n\u001b[1;32m      2\u001b[0m \u001b[38;5;28;01mdef\u001b[39;00m \u001b[38;5;21mincrement\u001b[39m():\n\u001b[0;32m----> 3\u001b[0m     total \u001b[38;5;241m+\u001b[39m\u001b[38;5;241m=\u001b[39m \u001b[38;5;241m1\u001b[39m\n\u001b[1;32m      4\u001b[0m     \u001b[38;5;28;01mreturn\u001b[39;00m total\n",
      "\u001b[0;31mUnboundLocalError\u001b[0m: local variable 'total' referenced before assignment"
     ]
    }
   ],
   "source": [
    "total = 0\n",
    "def increment():\n",
    "    total += 1\n",
    "    return total\n",
    "print(f\"calling increment will throw error as total is not defined in the scope of the funtion\")\n",
    "print(increment())"
   ]
  },
  {
   "cell_type": "code",
   "execution_count": 23,
   "id": "80c031c7",
   "metadata": {},
   "outputs": [
    {
     "name": "stdout",
     "output_type": "stream",
     "text": [
      "we have to explicitly tell python to use the global variable we defined at global scope\n",
      "1\n"
     ]
    }
   ],
   "source": [
    "total = 0\n",
    "def increment():\n",
    "    global total\n",
    "    total += 1\n",
    "    return total\n",
    "print(f\"we have to explicitly tell python to use the global variable we defined at global scope\")\n",
    "print(increment())"
   ]
  },
  {
   "cell_type": "code",
   "execution_count": 26,
   "id": "a59f8159",
   "metadata": {},
   "outputs": [
    {
     "name": "stdout",
     "output_type": "stream",
     "text": [
      "we need to explicitly tell python when we assign a value to a global variable in the funtion, if we are not assigning then we need not specify global explicitly\n",
      "100\n"
     ]
    }
   ],
   "source": [
    "new_total = 100\n",
    "def print_global_val():\n",
    "    print(new_total)\n",
    "    \n",
    "print(\"we need to explicitly tell python when we assign a value to a global variable in the funtion, if we are not assigning then we need not specify global explicitly\")\n",
    "print_global_val()"
   ]
  },
  {
   "cell_type": "markdown",
   "id": "0bc5c6d3",
   "metadata": {},
   "source": [
    "# understanding nonlocal and nested functions"
   ]
  },
  {
   "cell_type": "code",
   "execution_count": 27,
   "id": "08169dcc",
   "metadata": {},
   "outputs": [
    {
     "name": "stdout",
     "output_type": "stream",
     "text": [
      "outer() : 1\n"
     ]
    }
   ],
   "source": [
    "def outer():\n",
    "    count = 0\n",
    "    def inner():\n",
    "        nonlocal count\n",
    "        count += 1\n",
    "        return count\n",
    "    return inner()\n",
    "\n",
    "print(f\"outer() : {outer()}\")"
   ]
  },
  {
   "cell_type": "markdown",
   "id": "f4bbb725",
   "metadata": {},
   "source": [
    "## example : return the day of the week when we pass the number to the function\n",
    "'''\n",
    "return_day(1) # \"Sunday\"\n",
    "return_day(2) # \"Monday\"\n",
    "return_day(3) # \"Tuesday\"\n",
    "return_day(4) # \"Wednesday\"\n",
    "return_day(5) # \"Thursday\"\n",
    "return_day(6) # \"Friday\"\n",
    "return_day(7) # \"Saturday\"\n",
    "return_day(41) # None\n",
    "'''"
   ]
  },
  {
   "cell_type": "code",
   "execution_count": 29,
   "id": "e035a41c",
   "metadata": {},
   "outputs": [
    {
     "name": "stdout",
     "output_type": "stream",
     "text": [
      "return_day(3): Tuesday\n",
      "return_day(33): None\n"
     ]
    }
   ],
   "source": [
    "days_of_week = {1: \"Sunday\", 2: \"Monday\", 3: \"Tuesday\",\n",
    "                4: \"Wednesday\", 5: \"Thursday\", 6: \"Friday\", 7: \"Saturday\"}\n",
    "def return_day(num):\n",
    "    week_day = days_of_week.get(num)\n",
    "    if week_day:\n",
    "        return week_day\n",
    "    else:\n",
    "        return None\n",
    "\n",
    "print(f\"return_day(3): {return_day(3)}\")\n",
    "print(f\"return_day(33): {return_day(33)}\")"
   ]
  },
  {
   "cell_type": "markdown",
   "id": "250a78e0",
   "metadata": {},
   "source": [
    "## example : return last element of the list passed"
   ]
  },
  {
   "cell_type": "code",
   "execution_count": 31,
   "id": "22d41eeb",
   "metadata": {},
   "outputs": [
    {
     "name": "stdout",
     "output_type": "stream",
     "text": [
      "last element of [1,2,3,4] : 4\n",
      "last element of [] : None\n"
     ]
    }
   ],
   "source": [
    "def last_element(lst):\n",
    "    if not lst:\n",
    "        return None\n",
    "    else:\n",
    "        return lst[len(lst)-1]\n",
    "print(f\"last element of [1,2,3,4] : {last_element([1,2,3,4])}\")\n",
    "print(f\"last element of [] : {last_element([])}\")"
   ]
  },
  {
   "cell_type": "markdown",
   "id": "efe16a4f",
   "metadata": {},
   "source": [
    "## example : compare two numbers sent to a function"
   ]
  },
  {
   "cell_type": "code",
   "execution_count": 47,
   "id": "d63029c4",
   "metadata": {},
   "outputs": [
    {
     "name": "stdout",
     "output_type": "stream",
     "text": [
      "Please pass only numbers\n"
     ]
    },
    {
     "ename": "TypeError",
     "evalue": "'>' not supported between instances of 'int' and 'str'",
     "output_type": "error",
     "traceback": [
      "\u001b[0;31m---------------------------------------------------------------------------\u001b[0m",
      "\u001b[0;31mTypeError\u001b[0m                                 Traceback (most recent call last)",
      "Input \u001b[0;32mIn [47]\u001b[0m, in \u001b[0;36m<cell line: 13>\u001b[0;34m()\u001b[0m\n\u001b[1;32m     11\u001b[0m compare_nums(\u001b[38;5;241m2\u001b[39m,\u001b[38;5;241m2\u001b[39m)\n\u001b[1;32m     12\u001b[0m compare_nums(\u001b[38;5;241m7\u001b[39m,\u001b[38;5;241m2\u001b[39m)\n\u001b[0;32m---> 13\u001b[0m \u001b[43mcompare_nums\u001b[49m\u001b[43m(\u001b[49m\u001b[38;5;241;43m1\u001b[39;49m\u001b[43m,\u001b[49m\u001b[38;5;124;43m'\u001b[39;49m\u001b[38;5;124;43m2\u001b[39;49m\u001b[38;5;124;43m'\u001b[39;49m\u001b[43m)\u001b[49m\n",
      "Input \u001b[0;32mIn [47]\u001b[0m, in \u001b[0;36mcompare_nums\u001b[0;34m(num1, num2)\u001b[0m\n\u001b[1;32m      4\u001b[0m \u001b[38;5;28;01mif\u001b[39;00m num1 \u001b[38;5;241m==\u001b[39m num2:\n\u001b[1;32m      5\u001b[0m     \u001b[38;5;28;01mreturn\u001b[39;00m \u001b[38;5;124m'\u001b[39m\u001b[38;5;124mNumbers are equal\u001b[39m\u001b[38;5;124m'\u001b[39m\n\u001b[0;32m----> 6\u001b[0m \u001b[38;5;28;01melif\u001b[39;00m \u001b[43mnum1\u001b[49m\u001b[43m \u001b[49m\u001b[38;5;241;43m>\u001b[39;49m\u001b[43m \u001b[49m\u001b[43mnum2\u001b[49m:\n\u001b[1;32m      7\u001b[0m     \u001b[38;5;28;01mreturn\u001b[39;00m \u001b[38;5;124m'\u001b[39m\u001b[38;5;124mnum1 is greater than num2\u001b[39m\u001b[38;5;124m'\u001b[39m\n\u001b[1;32m      8\u001b[0m \u001b[38;5;28;01melse\u001b[39;00m:\n",
      "\u001b[0;31mTypeError\u001b[0m: '>' not supported between instances of 'int' and 'str'"
     ]
    }
   ],
   "source": [
    "def compare_nums(num1, num2):\n",
    "    if not isinstance(num1,int) or not isinstance(num2,int):\n",
    "        print('Please pass only numbers')\n",
    "    if num1 == num2:\n",
    "        return 'Numbers are equal'\n",
    "    elif num1 > num2:\n",
    "        return 'num1 is greater than num2'\n",
    "    else:\n",
    "        return 'num2 is greater than num1'\n",
    "compare_nums(1,2)\n",
    "compare_nums(2,2)\n",
    "compare_nums(7,2)\n",
    "compare_nums(1,'2')"
   ]
  },
  {
   "cell_type": "code",
   "execution_count": null,
   "id": "9d723193",
   "metadata": {},
   "outputs": [],
   "source": []
  }
 ],
 "metadata": {
  "kernelspec": {
   "display_name": "Python 3 (ipykernel)",
   "language": "python",
   "name": "python3"
  },
  "language_info": {
   "codemirror_mode": {
    "name": "ipython",
    "version": 3
   },
   "file_extension": ".py",
   "mimetype": "text/x-python",
   "name": "python",
   "nbconvert_exporter": "python",
   "pygments_lexer": "ipython3",
   "version": "3.9.12"
  }
 },
 "nbformat": 4,
 "nbformat_minor": 5
}

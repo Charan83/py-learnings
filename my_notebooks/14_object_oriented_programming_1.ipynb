{
 "cells": [
  {
   "cell_type": "markdown",
   "id": "7a65a648",
   "metadata": {},
   "source": [
    "#   oop\n",
    "   - represents things that exists in world in computers world using classes/object\n",
    "#   class:\n",
    "   - blue print for objects. classes can contain methods(functions) and attributes(similar to keys in dict) object/instance:\n",
    "   - objects are constructed from a class blueprint that contains their claas's methods n properties\n",
    "\n",
    "\n",
    "#   encapsulation:\n",
    "   - grouping of public n private attributes and methods into a programmatic class, making abstraction possible\n",
    "\n",
    "#   abstraction:\n",
    "   - exposing only \"revelent\" data in a class interface, hiding private attributes and methods from the users"
   ]
  },
  {
   "cell_type": "code",
   "execution_count": 3,
   "id": "3f853e6e",
   "metadata": {},
   "outputs": [
    {
     "name": "stdout",
     "output_type": "stream",
     "text": [
      "<__main__.User object at 0x7ff1830a01f0>\n",
      "<__main__.User object at 0x7ff1830a0490>\n",
      "<class '__main__.User'>\n",
      "False\n",
      "False\n"
     ]
    }
   ],
   "source": [
    "class User:\n",
    "    pass\n",
    "\n",
    "user1 = User()\n",
    "user2 = User()\n",
    "\n",
    "print(user1)\n",
    "print(user2)\n",
    "print(type(user1))\n",
    "print(user1 == user2)\n",
    "print(user1 is user2)"
   ]
  },
  {
   "cell_type": "markdown",
   "id": "135867af",
   "metadata": {},
   "source": [
    "# __init__\n",
    "\n",
    "- Anytime you make an instance of a class, python will automatically look for special '__init__' method and execute the code inside that __init__ method\n",
    "- generally used to initialize the instace variables of the class (data related to the instance of the class)\n",
    "- Classes in python have a special __init__ method, which gets called everytime you create an instance of the class\n",
    "- Well almost everytime in a class we need __init__ method.\n",
    "- In few cases, when a class only holds methods and no data, you wouldn't need an __init__ method in that case\n",
    "\n"
   ]
  },
  {
   "cell_type": "code",
   "execution_count": 4,
   "id": "f5a2856e",
   "metadata": {},
   "outputs": [
    {
     "name": "stdout",
     "output_type": "stream",
     "text": [
      "a new user is created\n",
      "a new user is created\n"
     ]
    }
   ],
   "source": [
    "class User:\n",
    "    def __init__(self): # every time a new object is created automatically python will execute __init__ method\n",
    "        print(f\"a new user is created\")\n",
    "\n",
    "user1 = User()\n",
    "user2 = User()"
   ]
  },
  {
   "cell_type": "markdown",
   "id": "ff6d1ecb",
   "metadata": {},
   "source": [
    "# self\n",
    "- self keyword refers to specific instance of the class\n",
    "- technically this(self) parameter can be any name, but its a standard to call it as ***'self'***\n",
    "- 'self' is always the first parameter\n",
    "- we dont need to pass the argument for this parameter, python will take care of it\n",
    "- refers to specific instance of the class\n",
    "- always will be the first parameter in the __init__ method or any method in the class"
   ]
  },
  {
   "cell_type": "code",
   "execution_count": 6,
   "id": "2f32b7cc",
   "metadata": {},
   "outputs": [
    {
     "name": "stdout",
     "output_type": "stream",
     "text": [
      "<__main__.User object at 0x7ff18322fbb0> <__main__.User object at 0x7ff18322f5b0>\n",
      "<class '__main__.User'> <class '__main__.User'>\n",
      "guru prem\n"
     ]
    }
   ],
   "source": [
    "class User:\n",
    "    def __init__(self, firstname, lastname):\n",
    "        self.fname = firstname\n",
    "        self.lname = lastname\n",
    "        \n",
    "user1 = User('guru', 'annapantula')\n",
    "user2 = User('prem', 'annapantula')\n",
    "\n",
    "print(user1, user2)\n",
    "print(type(user1), type(user2))\n",
    "print(user1.fname, user2.fname)"
   ]
  },
  {
   "cell_type": "code",
   "execution_count": 9,
   "id": "9411f76f",
   "metadata": {},
   "outputs": [
    {
     "name": "stdout",
     "output_type": "stream",
     "text": [
      "davey123\n",
      "lol you're so silly\n",
      "3\n",
      "rosa77\n",
      "soooo cute!!!\n",
      "0\n"
     ]
    }
   ],
   "source": [
    "class Comment:\n",
    "    def __init__(self, username, text, likes=0):\n",
    "        self.username = username\n",
    "        self.text = text\n",
    "        self.likes = likes\n",
    "        \n",
    "c = Comment(\"davey123\", \"lol you're so silly\", 3) \n",
    "print(c. username)       #\"davey123\"\n",
    "print(c. text)          #\"lol you're so silly\"\n",
    "print(c.likes)           #3\n",
    "another_comment = Comment(\"rosa77\", \"soooo cute!!!\") \n",
    "print(another_comment.username)        #\"rosa77\"\n",
    "print(another_comment.text)            #\"soooo cute!!!\"\n",
    "print(another_comment.likes)           #0 "
   ]
  },
  {
   "cell_type": "markdown",
   "id": "1693da10",
   "metadata": {},
   "source": [
    "# Underscores: Dunder Methods, Name Mangling, and More!\n",
    "\n",
    "#   single underscore\n",
    "- _name : private variable of a class (only convension as in python everything is public)\n",
    "    \n",
    "#   __name__\n",
    "   - __init__() : we dont define these normally, only when we want to overwrite python special methods like \n",
    "   ***__init__***\n",
    "#   __name\n",
    "- name mangling : when we put ***'__'**** before a name, python will under the hood change the name of the attribute and change it to _ClassName__name\n",
    "    - ex : __msg => _User__msg\n",
    "    \n",
    "# Instance Attributes and methods\n",
    " - Instance Attributes : are associated with each instance of that object\n",
    " - Instance Methods: functions that are part of a class are called as methods\n",
    " \n",
    "\n"
   ]
  },
  {
   "cell_type": "code",
   "execution_count": 13,
   "id": "a204b111",
   "metadata": {},
   "outputs": [
    {
     "name": "stdout",
     "output_type": "stream",
     "text": [
      "guru annapantula\n",
      "guru annapantula likes python\n"
     ]
    },
    {
     "ename": "TypeError",
     "evalue": "without_self_throws_error() takes 0 positional arguments but 1 was given",
     "output_type": "error",
     "traceback": [
      "\u001b[0;31m---------------------------------------------------------------------------\u001b[0m",
      "\u001b[0;31mTypeError\u001b[0m                                 Traceback (most recent call last)",
      "Input \u001b[0;32mIn [13]\u001b[0m, in \u001b[0;36m<cell line: 18>\u001b[0;34m()\u001b[0m\n\u001b[1;32m     16\u001b[0m \u001b[38;5;28mprint\u001b[39m(user1\u001b[38;5;241m.\u001b[39mfullname())\n\u001b[1;32m     17\u001b[0m \u001b[38;5;28mprint\u001b[39m(user1\u001b[38;5;241m.\u001b[39mlikes(\u001b[38;5;124m'\u001b[39m\u001b[38;5;124mpython\u001b[39m\u001b[38;5;124m'\u001b[39m))\n\u001b[0;32m---> 18\u001b[0m \u001b[38;5;28mprint\u001b[39m(\u001b[43muser1\u001b[49m\u001b[38;5;241;43m.\u001b[39;49m\u001b[43mwithout_self_throws_error\u001b[49m\u001b[43m(\u001b[49m\u001b[43m)\u001b[49m)\n",
      "\u001b[0;31mTypeError\u001b[0m: without_self_throws_error() takes 0 positional arguments but 1 was given"
     ]
    }
   ],
   "source": [
    "class User:\n",
    "    def __init__(self, fname, lname):\n",
    "        self.fname = fname\n",
    "        self.lname = lname\n",
    "        \n",
    "    def fullname(self):\n",
    "        return f\"{self.fname} {self.lname}\"\n",
    "    \n",
    "    def likes(self, item):\n",
    "        return f\"{self.fullname()} likes {item}\"\n",
    "    \n",
    "    def without_self_throws_error():\n",
    "        return f\"always use self as the first parameter for all the instance methods, even if we are not using\"\n",
    "    \n",
    "user1 = User('guru', 'annapantula')\n",
    "print(user1.fullname())\n",
    "print(user1.likes('python'))\n",
    "print(user1.without_self_throws_error())"
   ]
  },
  {
   "cell_type": "markdown",
   "id": "c6ae93f6",
   "metadata": {},
   "source": [
    "# Bank Account Example"
   ]
  },
  {
   "cell_type": "code",
   "execution_count": 14,
   "id": "17cd7dc4",
   "metadata": {},
   "outputs": [
    {
     "name": "stdout",
     "output_type": "stream",
     "text": [
      "Darcy\n",
      "0.0\n",
      "10.0\n",
      "7.0\n",
      "7.0\n"
     ]
    }
   ],
   "source": [
    "class BankAccount:\n",
    "    def __init__(self, owner, balance=0.0):\n",
    "        self.owner = owner\n",
    "        self.balance = balance\n",
    "        \n",
    "    def deposit(self, amount):\n",
    "        self.balance += amount\n",
    "        return self.balance\n",
    "    \n",
    "    def withdraw(self, amount):\n",
    "        self.balance -= amount\n",
    "        return self.balance\n",
    "    \n",
    "acct = BankAccount(\"Darcy\")\n",
    "print(acct.owner) #Darcy\n",
    "print(acct.balance) #0.0\n",
    "print(acct.deposit(10))  #10.0\n",
    "print(acct.withdraw(3))  #7.0\n",
    "print(acct.balance)  #7.0"
   ]
  },
  {
   "cell_type": "markdown",
   "id": "f0783e24",
   "metadata": {},
   "source": [
    "# Class Attribute\n",
    "##   class attributes/properties/variables\n",
    "       - are defined at class level, they are shared by all objects of the class\n",
    "       - we can use them for validations (see Pet.py)"
   ]
  },
  {
   "cell_type": "code",
   "execution_count": 15,
   "id": "37a137be",
   "metadata": {},
   "outputs": [
    {
     "name": "stdout",
     "output_type": "stream",
     "text": [
      "2\n"
     ]
    }
   ],
   "source": [
    "class User:\n",
    "    active_users = 0\n",
    "    def __init__(self, fname, lname):\n",
    "        self.fname = fname\n",
    "        self.lname = lname\n",
    "        User.active_users += 1\n",
    "        \n",
    "    def fullname(self):\n",
    "        return f\"{self.fname} {self.lname}\"\n",
    "    \n",
    "    def likes(self, item):\n",
    "        return f\"{self.fullname()} likes {item}\"\n",
    "    \n",
    "user1 = User('guru', 'annapantula')\n",
    "user2 = User('charan', 'annapantula')\n",
    "print(User.active_users)"
   ]
  },
  {
   "cell_type": "markdown",
   "id": "5ff64e42",
   "metadata": {},
   "source": [
    "### creating a class attribute that stores the list of permitted animals\n"
   ]
  },
  {
   "cell_type": "code",
   "execution_count": 17,
   "id": "b2d7b7d7",
   "metadata": {},
   "outputs": [
    {
     "ename": "ValueError",
     "evalue": "dog1 is not a valid species. Only allowed species are : ('cat', 'dog')",
     "output_type": "error",
     "traceback": [
      "\u001b[0;31m---------------------------------------------------------------------------\u001b[0m",
      "\u001b[0;31mValueError\u001b[0m                                Traceback (most recent call last)",
      "Input \u001b[0;32mIn [17]\u001b[0m, in \u001b[0;36m<cell line: 11>\u001b[0;34m()\u001b[0m\n\u001b[1;32m      9\u001b[0m pet1 \u001b[38;5;241m=\u001b[39m Pet(\u001b[38;5;124m'\u001b[39m\u001b[38;5;124mcat1\u001b[39m\u001b[38;5;124m'\u001b[39m, \u001b[38;5;124m'\u001b[39m\u001b[38;5;124mcat\u001b[39m\u001b[38;5;124m'\u001b[39m)\n\u001b[1;32m     10\u001b[0m pet2 \u001b[38;5;241m=\u001b[39m Pet(\u001b[38;5;124m'\u001b[39m\u001b[38;5;124mdog1\u001b[39m\u001b[38;5;124m'\u001b[39m, \u001b[38;5;124m'\u001b[39m\u001b[38;5;124mdog\u001b[39m\u001b[38;5;124m'\u001b[39m)\n\u001b[0;32m---> 11\u001b[0m pet3 \u001b[38;5;241m=\u001b[39m \u001b[43mPet\u001b[49m\u001b[43m(\u001b[49m\u001b[38;5;124;43m'\u001b[39;49m\u001b[38;5;124;43mno-name\u001b[39;49m\u001b[38;5;124;43m'\u001b[39;49m\u001b[43m,\u001b[49m\u001b[43m \u001b[49m\u001b[38;5;124;43m'\u001b[39;49m\u001b[38;5;124;43mdog1\u001b[39;49m\u001b[38;5;124;43m'\u001b[39;49m\u001b[43m)\u001b[49m\n",
      "Input \u001b[0;32mIn [17]\u001b[0m, in \u001b[0;36mPet.__init__\u001b[0;34m(self, name, species)\u001b[0m\n\u001b[1;32m      3\u001b[0m \u001b[38;5;28;01mdef\u001b[39;00m \u001b[38;5;21m__init__\u001b[39m(\u001b[38;5;28mself\u001b[39m, name, species):\n\u001b[1;32m      4\u001b[0m     \u001b[38;5;28;01mif\u001b[39;00m species \u001b[38;5;129;01mnot\u001b[39;00m \u001b[38;5;129;01min\u001b[39;00m Pet\u001b[38;5;241m.\u001b[39mallowed:\n\u001b[0;32m----> 5\u001b[0m         \u001b[38;5;28;01mraise\u001b[39;00m \u001b[38;5;167;01mValueError\u001b[39;00m(\u001b[38;5;124mf\u001b[39m\u001b[38;5;124m\"\u001b[39m\u001b[38;5;132;01m{\u001b[39;00mspecies\u001b[38;5;132;01m}\u001b[39;00m\u001b[38;5;124m is not a valid species. Only allowed species are : \u001b[39m\u001b[38;5;132;01m{\u001b[39;00mPet\u001b[38;5;241m.\u001b[39mallowed\u001b[38;5;132;01m}\u001b[39;00m\u001b[38;5;124m\"\u001b[39m)\n\u001b[1;32m      6\u001b[0m     \u001b[38;5;28mself\u001b[39m\u001b[38;5;241m.\u001b[39mname \u001b[38;5;241m=\u001b[39m name\n\u001b[1;32m      7\u001b[0m     \u001b[38;5;28mself\u001b[39m\u001b[38;5;241m.\u001b[39mspecies \u001b[38;5;241m=\u001b[39m species\n",
      "\u001b[0;31mValueError\u001b[0m: dog1 is not a valid species. Only allowed species are : ('cat', 'dog')"
     ]
    }
   ],
   "source": [
    "class Pet:\n",
    "    allowed = ('cat', 'dog')\n",
    "    def __init__(self, name, species):\n",
    "        if species not in Pet.allowed:\n",
    "            raise ValueError(f\"{species} is not a valid species. Only allowed species are : {Pet.allowed}\")\n",
    "        self.name = name\n",
    "        self.species = species\n",
    "        \n",
    "pet1 = Pet('cat1', 'cat')\n",
    "pet2 = Pet('dog1', 'dog')\n",
    "pet3 = Pet('no-name', 'dog1')"
   ]
  },
  {
   "cell_type": "markdown",
   "id": "c61384a1",
   "metadata": {},
   "source": [
    "### EX : Chicken Coop"
   ]
  },
  {
   "cell_type": "code",
   "execution_count": 2,
   "id": "58c9c1e1",
   "metadata": {},
   "outputs": [
    {
     "name": "stdout",
     "output_type": "stream",
     "text": [
      "Chicken.total_eggs : 0\n",
      "Chicken.total_eggs : 1\n",
      "Chicken.total_eggs : 3\n"
     ]
    }
   ],
   "source": [
    "class Chicken:\n",
    "    total_eggs = 0\n",
    "    def __init__(self, species, name, eggs=0):\n",
    "        self.species = species\n",
    "        self.name = name\n",
    "        self.eggs = eggs\n",
    "        \n",
    "    def lay_egg(self):\n",
    "        self.eggs += 1\n",
    "        Chicken.total_eggs += 1\n",
    "        return self.eggs\n",
    "    \n",
    "\n",
    "c1 = Chicken(name=\"Alice\", species=\"Partridge Silkie\")\n",
    "c2 = Chicken(name=\"Amelia\", species=\"Speckled Sussex\")\n",
    "\n",
    "print(f\"Chicken.total_eggs : {Chicken.total_eggs}\")\n",
    "c1.lay_egg()\n",
    "print(f\"Chicken.total_eggs : {Chicken.total_eggs}\")\n",
    "c2.lay_egg()  \n",
    "c2.lay_egg() \n",
    "print(f\"Chicken.total_eggs : {Chicken.total_eggs}\")"
   ]
  },
  {
   "cell_type": "markdown",
   "id": "3a1c40ff",
   "metadata": {},
   "source": [
    "# Class Methods\n",
    "   - methods with @classmethod decorator\n",
    "   - they are not concerned with instances, but the class itself\n",
    "   - can be used for validation\n",
    "   - can be use to create objects if the data is coming in different format"
   ]
  },
  {
   "cell_type": "code",
   "execution_count": 14,
   "id": "2d9bad48",
   "metadata": {},
   "outputs": [
    {
     "name": "stdout",
     "output_type": "stream",
     "text": [
      "<class '__main__.User'>\n",
      "active user count : 3\n",
      "User Guru is logout\n",
      "<class '__main__.User'>\n",
      "active user count : 2\n"
     ]
    }
   ],
   "source": [
    "class User:\n",
    "    active_users = 0\n",
    "    @classmethod\n",
    "    def display_active_users(cls):\n",
    "        print(cls)\n",
    "        # print(f\"Current Active users Count : {User.active_users}\")\n",
    "        return User.active_users\n",
    "    \n",
    "    @classmethod\n",
    "    def from_csv(cls, data_string):\n",
    "        first, last, age = data_string.split(',')\n",
    "        return cls(first, last, age)\n",
    "        \n",
    "    def __init__(self, fname, lname, age):\n",
    "        self.fname = fname\n",
    "        self.lname = lname\n",
    "        self.age = age\n",
    "        User.active_users += 1\n",
    "    \n",
    "    def __repr__(self):\n",
    "        return f\"fname : {self.fname}, lname : {self.lname}, age : {self.age}\"\n",
    "        \n",
    "    def logout(self):\n",
    "        User.active_users -= 1\n",
    "        print(f\"User {self.fname} is logout\")\n",
    "        \n",
    "    \n",
    "u1 = User('Guru', 'Annapantula', 38)     \n",
    "u2 = User('prem', 'Annapantula', 38)     \n",
    "u3 = User('Hansni', 'Annapantula', 38)     \n",
    "\n",
    "print(f\"active user count : {User.display_active_users()}\")\n",
    "\n",
    "u1.logout()\n",
    "\n",
    "print(f\"active user count : {User.display_active_users()}\")\n",
    "\n",
    "    "
   ]
  },
  {
   "cell_type": "code",
   "execution_count": 15,
   "id": "22e7f8b4",
   "metadata": {},
   "outputs": [
    {
     "name": "stdout",
     "output_type": "stream",
     "text": [
      "<class '__main__.User'>\n",
      "active user count : 3\n",
      "DEtails of u4 : sakhi, annapantula\n"
     ]
    }
   ],
   "source": [
    "\"\"\"\n",
    "*** Make sure the User class above is executed before running this snippet***\n",
    "image data is coming from csv file in the format (fname, lname, age)\n",
    "we can't send User(\"Guru,Annapantula,12\") like this\n",
    "\n",
    "- Create a class method --> from_csv which will create an instance of the class from the string that we pass and return the user instance\n",
    "\"\"\" \n",
    "u4 = User.from_csv(\"sakhi,annapantula,38\")\n",
    "print(f\"active user count : {User.display_active_users()}\")\n",
    "print(f\"DEtails of u4 : {u4.fname}, {u4.lname}\")\n",
    "\n",
    "                \n",
    "\n",
    "\n",
    "\n"
   ]
  },
  {
   "cell_type": "markdown",
   "id": "6c1fd5bb",
   "metadata": {},
   "source": [
    "# The __repr__ method\n",
    "\n",
    "    - when we print the object it will print whatever is returned from __repr__ method\n",
    "    - Also when we convert to string as well __repr__ method is called"
   ]
  },
  {
   "cell_type": "code",
   "execution_count": 17,
   "id": "806d6d61",
   "metadata": {},
   "outputs": [
    {
     "name": "stdout",
     "output_type": "stream",
     "text": [
      "fname : Guru, lname : Annapantula, age : 38\n",
      "fname : prem, lname : Annapantula, age : 38\n",
      "fname : Hansni, lname : Annapantula, age : 38\n",
      "fname : sakhi, lname : annapantula, age : 38\n"
     ]
    }
   ],
   "source": [
    "print(u1)\n",
    "print(u2)\n",
    "print(u3)\n",
    "print(u4)"
   ]
  },
  {
   "cell_type": "markdown",
   "id": "25f60033",
   "metadata": {},
   "source": [
    "# Deck Of Cards Exercise"
   ]
  },
  {
   "cell_type": "code",
   "execution_count": null,
   "id": "a1c2c23a",
   "metadata": {},
   "outputs": [],
   "source": []
  }
 ],
 "metadata": {
  "kernelspec": {
   "display_name": "Python 3 (ipykernel)",
   "language": "python",
   "name": "python3"
  },
  "language_info": {
   "codemirror_mode": {
    "name": "ipython",
    "version": 3
   },
   "file_extension": ".py",
   "mimetype": "text/x-python",
   "name": "python",
   "nbconvert_exporter": "python",
   "pygments_lexer": "ipython3",
   "version": "3.9.12"
  }
 },
 "nbformat": 4,
 "nbformat_minor": 5
}

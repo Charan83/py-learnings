{
 "cells": [
  {
   "cell_type": "markdown",
   "id": "8f64f3f0",
   "metadata": {},
   "source": [
    "#   oop\n",
    "   - represents things that exists in world in computers world using classes/object\n",
    "#   class:\n",
    "   - blue print for objects. classes can contain methods(functions) and attributes(similar to keys in dict) object/instance:\n",
    "   - objects are constructed from a class blueprint that contains their claas's methods n properties\n",
    "\n",
    "\n",
    "#   encapsulation:\n",
    "   - grouping of public n private attributes and methods into a programmatic class, making abstraction possible\n",
    "\n",
    "#   abstraction:\n",
    "   - exposing only \"revelent\" data in a class interface, hiding private attributes and methods from the users"
   ]
  },
  {
   "cell_type": "code",
   "execution_count": 3,
   "id": "f83a7123",
   "metadata": {},
   "outputs": [
    {
     "name": "stdout",
     "output_type": "stream",
     "text": [
      "<__main__.User object at 0x7ff1830a01f0>\n",
      "<__main__.User object at 0x7ff1830a0490>\n",
      "<class '__main__.User'>\n",
      "False\n",
      "False\n"
     ]
    }
   ],
   "source": [
    "class User:\n",
    "    pass\n",
    "\n",
    "user1 = User()\n",
    "user2 = User()\n",
    "\n",
    "print(user1)\n",
    "print(user2)\n",
    "print(type(user1))\n",
    "print(user1 == user2)\n",
    "print(user1 is user2)"
   ]
  },
  {
   "cell_type": "markdown",
   "id": "569ece35",
   "metadata": {},
   "source": [
    "# __init__\n",
    "\n",
    "- Anytime you make an instance of a class, python will automatically look for special '__init__' method and execute the code inside that __init__ method\n",
    "- generally used to initialize the instace variables of the class\n",
    "- Classes in python have a special __init__ method, which gets called everytime you create an instance of the class\n",
    "- Well almost everytime in a class we need __init__ method.\n",
    "- In few cases, when a class only holds methods and no data, you wouldn't need an __init__ method in that case\n",
    "\n"
   ]
  },
  {
   "cell_type": "code",
   "execution_count": 4,
   "id": "5407470b",
   "metadata": {},
   "outputs": [
    {
     "name": "stdout",
     "output_type": "stream",
     "text": [
      "a new user is created\n",
      "a new user is created\n"
     ]
    }
   ],
   "source": [
    "class User:\n",
    "    def __init__(self): # every time a new object is created automatically python will execute __init__ method\n",
    "        print(f\"a new user is created\")\n",
    "\n",
    "user1 = User()\n",
    "user2 = User()"
   ]
  },
  {
   "cell_type": "markdown",
   "id": "d00f9672",
   "metadata": {},
   "source": [
    "# self\n",
    "- self keyword refers to specific instance of the class\n",
    "- technically the parameter can be any name, but its a standard to call it as ***'self'***\n",
    "- 'self' is always the first parameter\n",
    "- we dont need to pass the argument for this parameter, python will take care of it\n",
    "- refers to specific instance of the class\n",
    "- always will be the first parameter in the __init__ method"
   ]
  },
  {
   "cell_type": "code",
   "execution_count": 6,
   "id": "ba522ec6",
   "metadata": {},
   "outputs": [
    {
     "name": "stdout",
     "output_type": "stream",
     "text": [
      "<__main__.User object at 0x7ff18322fbb0> <__main__.User object at 0x7ff18322f5b0>\n",
      "<class '__main__.User'> <class '__main__.User'>\n",
      "guru prem\n"
     ]
    }
   ],
   "source": [
    "class User:\n",
    "    def __init__(self, firstname, lastname):\n",
    "        self.fname = firstname\n",
    "        self.lname = lastname\n",
    "        \n",
    "user1 = User('guru', 'annapantula')\n",
    "user2 = User('prem', 'annapantula')\n",
    "\n",
    "print(user1, user2)\n",
    "print(type(user1), type(user2))\n",
    "print(user1.fname, user2.fname)"
   ]
  },
  {
   "cell_type": "code",
   "execution_count": 9,
   "id": "984cf030",
   "metadata": {},
   "outputs": [
    {
     "name": "stdout",
     "output_type": "stream",
     "text": [
      "davey123\n",
      "lol you're so silly\n",
      "3\n",
      "rosa77\n",
      "soooo cute!!!\n",
      "0\n"
     ]
    }
   ],
   "source": [
    "class Comment:\n",
    "    def __init__(self, username, text, likes=0):\n",
    "        self.username = username\n",
    "        self.text = text\n",
    "        self.likes = likes\n",
    "        \n",
    "c = Comment(\"davey123\", \"lol you're so silly\", 3) \n",
    "print(c. username)       #\"davey123\"\n",
    "print(c. text)          #\"lol you're so silly\"\n",
    "print(c.likes)           #3\n",
    "another_comment = Comment(\"rosa77\", \"soooo cute!!!\") \n",
    "print(another_comment.username)        #\"rosa77\"\n",
    "print(another_comment.text)            #\"soooo cute!!!\"\n",
    "print(another_comment.likes)           #0 "
   ]
  },
  {
   "cell_type": "markdown",
   "id": "6c29429e",
   "metadata": {},
   "source": [
    "# Underscores: Dunder Methods, Name Mangling, and More!\n",
    "\n",
    "#   single underscore\n",
    "- _name : private variable of a class (only convension as in python everything is public)\n",
    "    \n",
    "#   __name__\n",
    "   - __init__() : we dont define these normally, only when we want to overwrite python special methods like \n",
    "   ***__init__***\n",
    "#   __name\n",
    "- name mangling : when we put '__' before a name, python will under the hood change the name of the attribute and change it to _ClassName__name\n",
    "    - ex : __msg => _User__msg\n",
    "    \n",
    "# Instance Attributes and methods\n",
    " - Instance Attributes : are associated with each instance of that object\n",
    " - Instance Methods: functions that are part of a class are called as methods\n",
    " \n",
    "\n"
   ]
  },
  {
   "cell_type": "code",
   "execution_count": 13,
   "id": "c0a5b272",
   "metadata": {},
   "outputs": [
    {
     "name": "stdout",
     "output_type": "stream",
     "text": [
      "guru annapantula\n",
      "guru annapantula likes python\n"
     ]
    },
    {
     "ename": "TypeError",
     "evalue": "without_self_throws_error() takes 0 positional arguments but 1 was given",
     "output_type": "error",
     "traceback": [
      "\u001b[0;31m---------------------------------------------------------------------------\u001b[0m",
      "\u001b[0;31mTypeError\u001b[0m                                 Traceback (most recent call last)",
      "Input \u001b[0;32mIn [13]\u001b[0m, in \u001b[0;36m<cell line: 18>\u001b[0;34m()\u001b[0m\n\u001b[1;32m     16\u001b[0m \u001b[38;5;28mprint\u001b[39m(user1\u001b[38;5;241m.\u001b[39mfullname())\n\u001b[1;32m     17\u001b[0m \u001b[38;5;28mprint\u001b[39m(user1\u001b[38;5;241m.\u001b[39mlikes(\u001b[38;5;124m'\u001b[39m\u001b[38;5;124mpython\u001b[39m\u001b[38;5;124m'\u001b[39m))\n\u001b[0;32m---> 18\u001b[0m \u001b[38;5;28mprint\u001b[39m(\u001b[43muser1\u001b[49m\u001b[38;5;241;43m.\u001b[39;49m\u001b[43mwithout_self_throws_error\u001b[49m\u001b[43m(\u001b[49m\u001b[43m)\u001b[49m)\n",
      "\u001b[0;31mTypeError\u001b[0m: without_self_throws_error() takes 0 positional arguments but 1 was given"
     ]
    }
   ],
   "source": [
    "class User:\n",
    "    def __init__(self, fname, lname):\n",
    "        self.fname = fname\n",
    "        self.lname = lname\n",
    "        \n",
    "    def fullname(self):\n",
    "        return f\"{self.fname} {self.lname}\"\n",
    "    \n",
    "    def likes(self, item):\n",
    "        return f\"{self.fullname()} likes {item}\"\n",
    "    \n",
    "    def without_self_throws_error():\n",
    "        return f\"always use self as the first parameter for all the instance methods, even if we are not using\"\n",
    "    \n",
    "user1 = User('guru', 'annapantula')\n",
    "print(user1.fullname())\n",
    "print(user1.likes('python'))\n",
    "print(user1.without_self_throws_error())"
   ]
  },
  {
   "cell_type": "markdown",
   "id": "a20034c3",
   "metadata": {},
   "source": [
    "# Bank Account Example"
   ]
  },
  {
   "cell_type": "code",
   "execution_count": 14,
   "id": "4a8523b6",
   "metadata": {},
   "outputs": [
    {
     "name": "stdout",
     "output_type": "stream",
     "text": [
      "Darcy\n",
      "0.0\n",
      "10.0\n",
      "7.0\n",
      "7.0\n"
     ]
    }
   ],
   "source": [
    "class BankAccount:\n",
    "    def __init__(self, owner, balance=0.0):\n",
    "        self.owner = owner\n",
    "        self.balance = balance\n",
    "        \n",
    "    def deposit(self, amount):\n",
    "        self.balance += amount\n",
    "        return self.balance\n",
    "    \n",
    "    def withdraw(self, amount):\n",
    "        self.balance -= amount\n",
    "        return self.balance\n",
    "    \n",
    "acct = BankAccount(\"Darcy\")\n",
    "print(acct.owner) #Darcy\n",
    "print(acct.balance) #0.0\n",
    "print(acct.deposit(10))  #10.0\n",
    "print(acct.withdraw(3))  #7.0\n",
    "print(acct.balance)  #7.0"
   ]
  },
  {
   "cell_type": "code",
   "execution_count": null,
   "id": "fe96b0a4",
   "metadata": {},
   "outputs": [],
   "source": []
  }
 ],
 "metadata": {
  "kernelspec": {
   "display_name": "Python 3 (ipykernel)",
   "language": "python",
   "name": "python3"
  },
  "language_info": {
   "codemirror_mode": {
    "name": "ipython",
    "version": 3
   },
   "file_extension": ".py",
   "mimetype": "text/x-python",
   "name": "python",
   "nbconvert_exporter": "python",
   "pygments_lexer": "ipython3",
   "version": "3.9.12"
  }
 },
 "nbformat": 4,
 "nbformat_minor": 5
}

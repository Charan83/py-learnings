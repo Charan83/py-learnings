{
 "cells": [
  {
   "cell_type": "markdown",
   "id": "cfdfc221",
   "metadata": {},
   "source": [
    "# sets\n",
    "   - **NO order**\n",
    "   - **NO duplicates**\n",
    "   - collection of items\n",
    "   - can't access the items in set using index, as they are not in order\n",
    "   - like combination of list & dictionary features\n",
    "       - no order like dict, and syntax like dict use {}\n",
    "       - no key, val pairs like list"
   ]
  },
  {
   "cell_type": "code",
   "execution_count": 1,
   "id": "30e1ad71",
   "metadata": {},
   "outputs": [
    {
     "name": "stdout",
     "output_type": "stream",
     "text": [
      "set1 : {1, 2, 3, 4, 5}\n"
     ]
    }
   ],
   "source": [
    "set1 = set({1,2,3,4,5})\n",
    "print(f\"set1 : {set1}\")"
   ]
  },
  {
   "cell_type": "markdown",
   "id": "3171ea41",
   "metadata": {},
   "source": [
    "## sets can have different data types, and no order"
   ]
  },
  {
   "cell_type": "code",
   "execution_count": 2,
   "id": "6dc51cf9",
   "metadata": {},
   "outputs": [
    {
     "name": "stdout",
     "output_type": "stream",
     "text": [
      "set2 : {1, 2, 3, 4, 'a'}\n"
     ]
    }
   ],
   "source": [
    "set2 = {1, 'a', 2, 3, 4}\n",
    "print(f\"set2 : {set2}\")"
   ]
  },
  {
   "cell_type": "markdown",
   "id": "e1cc6f6e",
   "metadata": {},
   "source": [
    "## no duplicates"
   ]
  },
  {
   "cell_type": "code",
   "execution_count": 3,
   "id": "233dae9c",
   "metadata": {},
   "outputs": [
    {
     "name": "stdout",
     "output_type": "stream",
     "text": [
      "no_duplicates_set : {1, 2, 3, 4, 5}\n"
     ]
    }
   ],
   "source": [
    "no_duplicates_set = {1,2,3,4,5,5,4,3,2,1}\n",
    "print(f\"no_duplicates_set : {no_duplicates_set}\")"
   ]
  },
  {
   "cell_type": "markdown",
   "id": "c4420113",
   "metadata": {},
   "source": [
    "## checking if a item is there in the set"
   ]
  },
  {
   "cell_type": "code",
   "execution_count": 4,
   "id": "81b0fc15",
   "metadata": {},
   "outputs": [
    {
     "name": "stdout",
     "output_type": "stream",
     "text": [
      "'Python' in item_exists_set : True\n"
     ]
    }
   ],
   "source": [
    "item_exists_set = {'love', 'Python'}\n",
    "print(f\"'Python' in item_exists_set : {'Python' in item_exists_set}\")"
   ]
  },
  {
   "cell_type": "markdown",
   "id": "ed406297",
   "metadata": {},
   "source": [
    "## accessing with index throws error"
   ]
  },
  {
   "cell_type": "code",
   "execution_count": 5,
   "id": "061392f3",
   "metadata": {},
   "outputs": [
    {
     "ename": "TypeError",
     "evalue": "'set' object is not subscriptable",
     "output_type": "error",
     "traceback": [
      "\u001b[0;31m---------------------------------------------------------------------------\u001b[0m",
      "\u001b[0;31mTypeError\u001b[0m                                 Traceback (most recent call last)",
      "Input \u001b[0;32mIn [5]\u001b[0m, in \u001b[0;36m<cell line: 2>\u001b[0;34m()\u001b[0m\n\u001b[1;32m      1\u001b[0m accessing_set_idx \u001b[38;5;241m=\u001b[39m {\u001b[38;5;241m1\u001b[39m,\u001b[38;5;241m2\u001b[39m,\u001b[38;5;241m3\u001b[39m,\u001b[38;5;241m4\u001b[39m,\u001b[38;5;241m5\u001b[39m,\u001b[38;5;241m5\u001b[39m,\u001b[38;5;241m4\u001b[39m,\u001b[38;5;241m3\u001b[39m,\u001b[38;5;241m2\u001b[39m,\u001b[38;5;241m1\u001b[39m}\n\u001b[0;32m----> 2\u001b[0m \u001b[43maccessing_set_idx\u001b[49m\u001b[43m[\u001b[49m\u001b[38;5;241;43m0\u001b[39;49m\u001b[43m]\u001b[49m\n",
      "\u001b[0;31mTypeError\u001b[0m: 'set' object is not subscriptable"
     ]
    }
   ],
   "source": [
    "accessing_set_idx = {1,2,3,4,5,5,4,3,2,1}\n",
    "accessing_set_idx[0]"
   ]
  },
  {
   "cell_type": "markdown",
   "id": "1d816a73",
   "metadata": {},
   "source": [
    "# example looping"
   ]
  },
  {
   "cell_type": "code",
   "execution_count": 6,
   "id": "ae12594a",
   "metadata": {},
   "outputs": [
    {
     "name": "stdout",
     "output_type": "stream",
     "text": [
      "1\n",
      "2\n",
      "3\n",
      "4\n",
      "5\n"
     ]
    }
   ],
   "source": [
    "set_loop = {1, 2, 3, 4, 5, 5, 5, 5}\n",
    "for item in set_loop:\n",
    "    print(item)"
   ]
  },
  {
   "cell_type": "markdown",
   "id": "5bc5870c",
   "metadata": {},
   "source": [
    "# example : find the unique countries of users"
   ]
  },
  {
   "cell_type": "code",
   "execution_count": 10,
   "id": "df95a21b",
   "metadata": {},
   "outputs": [
    {
     "name": "stdout",
     "output_type": "stream",
     "text": [
      "to get unique_countries convert to set, from list of duplicate countries : {'USA', 'UK', 'France', 'India', 'Sweden'}, count : 5\n",
      "unique_countries_list : ['USA', 'UK', 'France', 'India', 'Sweden'], count : 5\n"
     ]
    }
   ],
   "source": [
    "user_countries = ['India', 'Sweden', 'Sweden',\n",
    "                  'India', 'USA', 'UK', 'USA', 'France']\n",
    "\n",
    "unique_countries_set = set(user_countries)\n",
    "print(f\"to get unique_countries convert to set, from list of duplicate countries : {unique_countries_set}, count : {len(unique_countries_set)}\")\n",
    "unique_countries_list = list(unique_countries_set)\n",
    "print(f\"unique_countries_list : {unique_countries_list}, count : {len(unique_countries_list)}\")\n"
   ]
  },
  {
   "cell_type": "markdown",
   "id": "7a057f4c",
   "metadata": {},
   "source": [
    "# set methods\n",
    "\n",
    "## add\n",
    "## remove\n",
    "## discard\n",
    "## copy\n",
    "## clear\n",
    "## intersection\n",
    "## union"
   ]
  },
  {
   "cell_type": "code",
   "execution_count": 16,
   "id": "d989d8c5",
   "metadata": {},
   "outputs": [
    {
     "name": "stdout",
     "output_type": "stream",
     "text": [
      "set1.add(6) : None \n",
      "now the set is : {1, 2, 3, 4, 5, 6}\n",
      "remove item from set : None \n",
      "now the set is {1, 2, 3, 4, 6}\n"
     ]
    },
    {
     "ename": "KeyError",
     "evalue": "12",
     "output_type": "error",
     "traceback": [
      "\u001b[0;31m---------------------------------------------------------------------------\u001b[0m",
      "\u001b[0;31mKeyError\u001b[0m                                  Traceback (most recent call last)",
      "Input \u001b[0;32mIn [16]\u001b[0m, in \u001b[0;36m<cell line: 4>\u001b[0;34m()\u001b[0m\n\u001b[1;32m      2\u001b[0m \u001b[38;5;28mprint\u001b[39m(\u001b[38;5;124mf\u001b[39m\u001b[38;5;124m\"\u001b[39m\u001b[38;5;124mset1.add(6) : \u001b[39m\u001b[38;5;132;01m{\u001b[39;00mset1\u001b[38;5;241m.\u001b[39madd(\u001b[38;5;241m6\u001b[39m)\u001b[38;5;132;01m}\u001b[39;00m\u001b[38;5;124m\"\u001b[39m, \u001b[38;5;124mf\u001b[39m\u001b[38;5;124m\"\u001b[39m\u001b[38;5;130;01m\\n\u001b[39;00m\u001b[38;5;124mnow the set is : \u001b[39m\u001b[38;5;132;01m{\u001b[39;00mset1\u001b[38;5;132;01m}\u001b[39;00m\u001b[38;5;124m\"\u001b[39m)\n\u001b[1;32m      3\u001b[0m \u001b[38;5;28mprint\u001b[39m(\u001b[38;5;124mf\u001b[39m\u001b[38;5;124m\"\u001b[39m\u001b[38;5;124mremove item from set : \u001b[39m\u001b[38;5;132;01m{\u001b[39;00mset1\u001b[38;5;241m.\u001b[39mremove(\u001b[38;5;241m5\u001b[39m)\u001b[38;5;132;01m}\u001b[39;00m\u001b[38;5;124m\"\u001b[39m, \u001b[38;5;124mf\u001b[39m\u001b[38;5;124m\"\u001b[39m\u001b[38;5;130;01m\\n\u001b[39;00m\u001b[38;5;124mnow the set is \u001b[39m\u001b[38;5;132;01m{\u001b[39;00mset1\u001b[38;5;132;01m}\u001b[39;00m\u001b[38;5;124m\"\u001b[39m)\n\u001b[0;32m----> 4\u001b[0m \u001b[38;5;28mprint\u001b[39m(\u001b[38;5;124mf\u001b[39m\u001b[38;5;124m\"\u001b[39m\u001b[38;5;124mtrying to remove the item not in set will throw error : \u001b[39m\u001b[38;5;132;01m{\u001b[39;00mset1\u001b[38;5;241m.\u001b[39mremove(\u001b[38;5;241m12\u001b[39m)\u001b[38;5;132;01m}\u001b[39;00m\u001b[38;5;124m\"\u001b[39m)\n",
      "\u001b[0;31mKeyError\u001b[0m: 12"
     ]
    }
   ],
   "source": [
    "set1 = {1, 2, 3, 4, 5, 5, 5, 5}\n",
    "print(f\"set1.add(6) : {set1.add(6)}\", f\"\\nnow the set is : {set1}\")\n",
    "print(f\"remove item from set : {set1.remove(5)}\", f\"\\nnow the set is {set1}\")\n",
    "print(f\"trying to remove the item not in set will throw KeyError error : {set1.remove(12)}\")"
   ]
  },
  {
   "cell_type": "code",
   "execution_count": 17,
   "id": "daa8d0b2",
   "metadata": {},
   "outputs": [
    {
     "name": "stdout",
     "output_type": "stream",
     "text": [
      "trying to remove the item not in set *using discard* will NOT throw KeyError error : None\n"
     ]
    }
   ],
   "source": [
    "set2 = {1, 2, 3, 4, 5, 5, 5, 5}\n",
    "print(f\"trying to remove the item not in set *using discard* will NOT throw KeyError error but None : {set1.discard(12)}\")"
   ]
  },
  {
   "cell_type": "markdown",
   "id": "524a3d62",
   "metadata": {},
   "source": [
    "## copy\n",
    "- creates a new copy of set\n",
    "- == --> true\n",
    "- is --> False"
   ]
  },
  {
   "cell_type": "code",
   "execution_count": 18,
   "id": "4caf15fd",
   "metadata": {},
   "outputs": [
    {
     "name": "stdout",
     "output_type": "stream",
     "text": [
      "set_copy : {1, 2, 3, 4}\n",
      "set3 == set_copy : True\n",
      "set3 is set_copy : False\n"
     ]
    }
   ],
   "source": [
    "set3 = {1,2,3,4,4,4}\n",
    "set_copy = set3.copy()\n",
    "print(f\"set_copy : {set_copy}\")\n",
    "print(f\"set3 == set_copy : {set3 == set_copy}\")\n",
    "print(f\"set3 is set_copy : {set3 is set_copy}\")"
   ]
  },
  {
   "cell_type": "markdown",
   "id": "0fdb97ea",
   "metadata": {},
   "source": [
    "## clear"
   ]
  },
  {
   "cell_type": "code",
   "execution_count": 22,
   "id": "8deaad33",
   "metadata": {},
   "outputs": [
    {
     "name": "stdout",
     "output_type": "stream",
     "text": [
      "set4.clear() : None \n",
      " set()\n"
     ]
    }
   ],
   "source": [
    "set4 = {1,2,3,4,4,4}\n",
    "print(f\"set4.clear() : {set4.clear()}\", \"\\n\",set4)"
   ]
  },
  {
   "cell_type": "code",
   "execution_count": null,
   "id": "92f0e252",
   "metadata": {},
   "outputs": [],
   "source": [
    "## set Math : intersection / union / symmetric_difference"
   ]
  },
  {
   "cell_type": "code",
   "execution_count": 24,
   "id": "807eb1d6",
   "metadata": {},
   "outputs": [
    {
     "name": "stdout",
     "output_type": "stream",
     "text": [
      "union(|) of both sets : {'Dhoni', 'Fah', 'Virat', 'Match1', 'Match2', 'Jaddu', 'Padikal', 'Bravo'}\n",
      "intersection(&) of both sets : {'Match1', 'Match2'}\n"
     ]
    }
   ],
   "source": [
    "rcb_team = {'Virat', 'Fah', 'Padikal', 'Match1', 'Match2'}\n",
    "csk_team = {'Dhoni', 'Jaddu', 'Bravo', 'Match1', 'Match2'}\n",
    "print(f\"union(|) of both sets : {rcb_team | csk_team}\")\n",
    "print(f\"intersection(&) of both sets : {rcb_team & csk_team}\")"
   ]
  },
  {
   "cell_type": "markdown",
   "id": "ab0fe7af",
   "metadata": {},
   "source": [
    "# set comprehensions\n",
    "   - similar to dictionary comprehension but it will have only one val and not key,val"
   ]
  },
  {
   "cell_type": "markdown",
   "id": "34fc9e4f",
   "metadata": {},
   "source": [
    "## set comprehension with if\n",
    "### ***example 1 : set and dictionary can be the output***"
   ]
  },
  {
   "cell_type": "code",
   "execution_count": 28,
   "id": "3996650e",
   "metadata": {},
   "outputs": [
    {
     "name": "stdout",
     "output_type": "stream",
     "text": [
      "set_evens : {2, 4, 6} \n",
      "type of set_evens : <class 'set'>\n",
      "dict_evens : {2: 'even', 4: 'even', 6: 'even'} \n",
      "type of dict_evens : <class 'dict'>\n"
     ]
    }
   ],
   "source": [
    "set1 = {1, 2, 3, 4, 5, 6, 7}\n",
    "set_evens = { num for num in set1 if num%2 == 0}\n",
    "print(f\"set_evens : {set_evens}\", f\"\\ntype of set_evens : {type(set_evens)}\")\n",
    "dict_evens = {num:'even' for num in set1 if num%2 == 0}\n",
    "print(f\"dict_evens : {dict_evens}\", f\"\\ntype of dict_evens : {type(dict_evens)}\")"
   ]
  },
  {
   "cell_type": "markdown",
   "id": "ac68c5e2",
   "metadata": {},
   "source": [
    "### example 2 : create set from ranges"
   ]
  },
  {
   "cell_type": "code",
   "execution_count": 31,
   "id": "f2880866",
   "metadata": {},
   "outputs": [
    {
     "name": "stdout",
     "output_type": "stream",
     "text": [
      "creating set from ranges : {64, 1, 4, 36, 9, 16, 49, 81, 25}\n"
     ]
    }
   ],
   "source": [
    "set_from_ranges = {num*num for num in range(1,10)}\n",
    "print(f\"creating set from ranges and note set is not ordered collection: {set_from_ranges}\")"
   ]
  },
  {
   "cell_type": "markdown",
   "id": "6c168456",
   "metadata": {},
   "source": [
    "### example 3 : creating set from string with duplicate characters"
   ]
  },
  {
   "cell_type": "code",
   "execution_count": 33,
   "id": "51954871",
   "metadata": {},
   "outputs": [
    {
     "name": "stdout",
     "output_type": "stream",
     "text": [
      "set will hold only unique values and they are not ordered: {'H', 'e', 'o', 'l'}\n"
     ]
    }
   ],
   "source": [
    "set_from_string = { ch for ch in 'Hello'}\n",
    "print(f\"set will hold only unique values and they are not ordered: {set_from_string}\")"
   ]
  },
  {
   "cell_type": "markdown",
   "id": "ef2ce461",
   "metadata": {},
   "source": [
    "### example 4 : how many unique vowels are there in a string"
   ]
  },
  {
   "cell_type": "code",
   "execution_count": 34,
   "id": "6c75c459",
   "metadata": {},
   "outputs": [
    {
     "name": "stdout",
     "output_type": "stream",
     "text": [
      "unique_vowels : {'a', 'u'} count of vowels : 2\n"
     ]
    }
   ],
   "source": [
    "str1 = \"Gurucharan\"\n",
    "unique_vowels = { ch for ch in str1 if ch.lower() in 'aeiou'}\n",
    "print(f\"unique_vowels : {unique_vowels}\", f\"count of vowels : {len(unique_vowels)}\")"
   ]
  },
  {
   "cell_type": "code",
   "execution_count": null,
   "id": "7d097e79",
   "metadata": {},
   "outputs": [],
   "source": []
  }
 ],
 "metadata": {
  "kernelspec": {
   "display_name": "Python 3 (ipykernel)",
   "language": "python",
   "name": "python3"
  },
  "language_info": {
   "codemirror_mode": {
    "name": "ipython",
    "version": 3
   },
   "file_extension": ".py",
   "mimetype": "text/x-python",
   "name": "python",
   "nbconvert_exporter": "python",
   "pygments_lexer": "ipython3",
   "version": "3.9.12"
  }
 },
 "nbformat": 4,
 "nbformat_minor": 5
}

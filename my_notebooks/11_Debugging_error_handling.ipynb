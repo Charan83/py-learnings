{
 "cells": [
  {
   "cell_type": "markdown",
   "id": "23ebd588",
   "metadata": {},
   "source": [
    "#   SyntaxErrors\n",
    "       - def first:\n",
    "       - None = 1\n",
    "\n",
    "#   NameError\n",
    "       - when a variable is not defined\n",
    "\n",
    "#   TypeError\n",
    "       - miss match of data types\n",
    "\n",
    "#   IndexError\n",
    "       - trying to access a list item using invalid index (outside the range of the list/string)\n",
    "\n",
    "#   ValueError\n",
    "       - occurs when a built-in operator or function receives an argument that has the right type but an unappropriate value\n",
    "       - ex: int(foo)\n",
    "\n",
    "#    KeyError\n",
    "       - occurs when a dictionary does not have a specific key\n",
    "\n",
    "\n",
    "#   AttributeError\n",
    "       - occurs when a variable doesnot have an attribute\n",
    "       - ''.joint(['hi','hello'])\n",
    "       \n",
    "# Raise Own Errors"
   ]
  },
  {
   "cell_type": "code",
   "execution_count": 3,
   "id": "a4309059",
   "metadata": {},
   "outputs": [
    {
     "name": "stdout",
     "output_type": "stream",
     "text": [
      "printing:  'gurucharan' in red\n"
     ]
    },
    {
     "ename": "ValueError",
     "evalue": "blue should be part of ['red', 'green', 'yellow']",
     "output_type": "error",
     "traceback": [
      "\u001b[0;31m---------------------------------------------------------------------------\u001b[0m",
      "\u001b[0;31mValueError\u001b[0m                                Traceback (most recent call last)",
      "Input \u001b[0;32mIn [3]\u001b[0m, in \u001b[0;36m<cell line: 12>\u001b[0;34m()\u001b[0m\n\u001b[1;32m      8\u001b[0m     \u001b[38;5;28mprint\u001b[39m(\u001b[38;5;124mf\u001b[39m\u001b[38;5;124m\"\u001b[39m\u001b[38;5;124mprinting:  \u001b[39m\u001b[38;5;124m'\u001b[39m\u001b[38;5;132;01m{\u001b[39;00mtxt\u001b[38;5;132;01m}\u001b[39;00m\u001b[38;5;124m'\u001b[39m\u001b[38;5;124m in \u001b[39m\u001b[38;5;132;01m{\u001b[39;00mcolor\u001b[38;5;132;01m}\u001b[39;00m\u001b[38;5;124m\"\u001b[39m)\n\u001b[1;32m     11\u001b[0m colorize(\u001b[38;5;124m'\u001b[39m\u001b[38;5;124mgurucharan\u001b[39m\u001b[38;5;124m'\u001b[39m, \u001b[38;5;124m'\u001b[39m\u001b[38;5;124mred\u001b[39m\u001b[38;5;124m'\u001b[39m)\n\u001b[0;32m---> 12\u001b[0m \u001b[43mcolorize\u001b[49m\u001b[43m(\u001b[49m\u001b[38;5;124;43m'\u001b[39;49m\u001b[38;5;124;43mSatya\u001b[39;49m\u001b[38;5;124;43m'\u001b[39;49m\u001b[43m,\u001b[49m\u001b[43m \u001b[49m\u001b[38;5;124;43m'\u001b[39;49m\u001b[38;5;124;43mblue\u001b[39;49m\u001b[38;5;124;43m'\u001b[39;49m\u001b[43m)\u001b[49m\n\u001b[1;32m     13\u001b[0m colorize(\u001b[38;5;241m7\u001b[39m, \u001b[38;5;124m'\u001b[39m\u001b[38;5;124mred\u001b[39m\u001b[38;5;124m'\u001b[39m)\n",
      "Input \u001b[0;32mIn [3]\u001b[0m, in \u001b[0;36mcolorize\u001b[0;34m(txt, color)\u001b[0m\n\u001b[1;32m      4\u001b[0m     \u001b[38;5;28;01mraise\u001b[39;00m \u001b[38;5;167;01mTypeError\u001b[39;00m(\u001b[38;5;124mf\u001b[39m\u001b[38;5;124m\"\u001b[39m\u001b[38;5;132;01m{\u001b[39;00mtxt\u001b[38;5;132;01m}\u001b[39;00m\u001b[38;5;124m passed should be a string\u001b[39m\u001b[38;5;124m\"\u001b[39m)\n\u001b[1;32m      5\u001b[0m \u001b[38;5;28;01mif\u001b[39;00m color \u001b[38;5;129;01mnot\u001b[39;00m \u001b[38;5;129;01min\u001b[39;00m colors:\n\u001b[0;32m----> 6\u001b[0m     \u001b[38;5;28;01mraise\u001b[39;00m \u001b[38;5;167;01mValueError\u001b[39;00m(\u001b[38;5;124mf\u001b[39m\u001b[38;5;124m\"\u001b[39m\u001b[38;5;132;01m{\u001b[39;00mcolor\u001b[38;5;132;01m}\u001b[39;00m\u001b[38;5;124m should be part of \u001b[39m\u001b[38;5;132;01m{\u001b[39;00mcolors\u001b[38;5;132;01m}\u001b[39;00m\u001b[38;5;124m\"\u001b[39m)\n\u001b[1;32m      8\u001b[0m \u001b[38;5;28mprint\u001b[39m(\u001b[38;5;124mf\u001b[39m\u001b[38;5;124m\"\u001b[39m\u001b[38;5;124mprinting:  \u001b[39m\u001b[38;5;124m'\u001b[39m\u001b[38;5;132;01m{\u001b[39;00mtxt\u001b[38;5;132;01m}\u001b[39;00m\u001b[38;5;124m'\u001b[39m\u001b[38;5;124m in \u001b[39m\u001b[38;5;132;01m{\u001b[39;00mcolor\u001b[38;5;132;01m}\u001b[39;00m\u001b[38;5;124m\"\u001b[39m)\n",
      "\u001b[0;31mValueError\u001b[0m: blue should be part of ['red', 'green', 'yellow']"
     ]
    }
   ],
   "source": [
    "def colorize(txt, color):\n",
    "    colors = ['red', 'green', 'yellow']\n",
    "    if type(txt) is not str:\n",
    "        raise TypeError(f\"{txt} passed should be a string\")\n",
    "    if color not in colors:\n",
    "        raise ValueError(f\"{color} should be part of {colors}\")\n",
    "    \n",
    "    print(f\"printing:  '{txt}' in {color}\")\n",
    "    \n",
    "    \n",
    "colorize('gurucharan', 'red')\n",
    "colorize('Satya', 'blue')\n",
    "colorize(7, 'red')"
   ]
  },
  {
   "cell_type": "markdown",
   "id": "88de5b18",
   "metadata": {},
   "source": [
    "# Handling errors using try/except/else/finally\n",
    "\n",
    "#   try_except\n",
    "#       - syntax\n",
    "           try:\n",
    "               foo\n",
    "           except NameError as err:\n",
    "               print(err)\n",
    "  \n",
    "## catching any kind of Errors\n"
   ]
  },
  {
   "cell_type": "code",
   "execution_count": 5,
   "id": "0e83e221",
   "metadata": {},
   "outputs": [
    {
     "name": "stdout",
     "output_type": "stream",
     "text": [
      "Gurucharan\n",
      "KeyError, no such key in the dictionary : fname1\n"
     ]
    },
    {
     "ename": "UnboundLocalError",
     "evalue": "local variable 'val' referenced before assignment",
     "output_type": "error",
     "traceback": [
      "\u001b[0;31m---------------------------------------------------------------------------\u001b[0m",
      "\u001b[0;31mUnboundLocalError\u001b[0m                         Traceback (most recent call last)",
      "Input \u001b[0;32mIn [5]\u001b[0m, in \u001b[0;36m<cell line: 9>\u001b[0;34m()\u001b[0m\n\u001b[1;32m      7\u001b[0m dic_1 \u001b[38;5;241m=\u001b[39m {\u001b[38;5;124m'\u001b[39m\u001b[38;5;124mfname\u001b[39m\u001b[38;5;124m'\u001b[39m: \u001b[38;5;124m'\u001b[39m\u001b[38;5;124mGurucharan\u001b[39m\u001b[38;5;124m'\u001b[39m, \u001b[38;5;124m'\u001b[39m\u001b[38;5;124mlname\u001b[39m\u001b[38;5;124m'\u001b[39m: \u001b[38;5;124m'\u001b[39m\u001b[38;5;124mAnnapantula\u001b[39m\u001b[38;5;124m'\u001b[39m}\n\u001b[1;32m      8\u001b[0m \u001b[38;5;28mprint\u001b[39m(get(dic_1, \u001b[38;5;124m'\u001b[39m\u001b[38;5;124mfname\u001b[39m\u001b[38;5;124m'\u001b[39m))\n\u001b[0;32m----> 9\u001b[0m \u001b[38;5;28mprint\u001b[39m(\u001b[43mget\u001b[49m\u001b[43m(\u001b[49m\u001b[43mdic_1\u001b[49m\u001b[43m,\u001b[49m\u001b[43m \u001b[49m\u001b[38;5;124;43m'\u001b[39;49m\u001b[38;5;124;43mfname1\u001b[39;49m\u001b[38;5;124;43m'\u001b[39;49m\u001b[43m)\u001b[49m)\n",
      "Input \u001b[0;32mIn [5]\u001b[0m, in \u001b[0;36mget\u001b[0;34m(d, _key)\u001b[0m\n\u001b[1;32m      4\u001b[0m \u001b[38;5;28;01mexcept\u001b[39;00m:\n\u001b[1;32m      5\u001b[0m     \u001b[38;5;28mprint\u001b[39m(\u001b[38;5;124mf\u001b[39m\u001b[38;5;124m\"\u001b[39m\u001b[38;5;124mKeyError, no such key in the dictionary : \u001b[39m\u001b[38;5;132;01m{\u001b[39;00m_key\u001b[38;5;132;01m}\u001b[39;00m\u001b[38;5;124m\"\u001b[39m)\n\u001b[0;32m----> 6\u001b[0m \u001b[38;5;28;01mreturn\u001b[39;00m \u001b[43mval\u001b[49m\n",
      "\u001b[0;31mUnboundLocalError\u001b[0m: local variable 'val' referenced before assignment"
     ]
    }
   ],
   "source": [
    "def get(d, _key):\n",
    "    try:\n",
    "        val = d[_key]\n",
    "    except:\n",
    "        print(f\"KeyError, no such key in the dictionary : {_key}\")\n",
    "    return val\n",
    "dic_1 = {'fname': 'Gurucharan', 'lname': 'Annapantula'}\n",
    "print(get(dic_1, 'fname'))\n",
    "print(get(dic_1, 'fname1'))"
   ]
  },
  {
   "cell_type": "markdown",
   "id": "b616c08f",
   "metadata": {},
   "source": [
    "# try_except_else_finally\n",
    "### syntax\n",
    "           try:\n",
    "               foo\n",
    "           except NameError as err:\n",
    "               print(err) # runs when there is an error in try block\n",
    "           else:\n",
    "               # runs when the try block runs successfully\n",
    "           finally:\n",
    "               # runs all the time"
   ]
  },
  {
   "cell_type": "code",
   "execution_count": null,
   "id": "9f216221",
   "metadata": {},
   "outputs": [
    {
     "name": "stdout",
     "output_type": "stream",
     "text": [
      "Please enter a number : 10\n",
      "executed when try block executes without error!\n",
      "Executes in all cases\n"
     ]
    }
   ],
   "source": [
    "while True:\n",
    "    try:\n",
    "        num = int(input('Please enter a number : '))\n",
    "    except ValueError as err:\n",
    "        print(\"except block executed. Please enter a valid number\")\n",
    "    else:\n",
    "        print(\"executed when try block executes without error!\")\n",
    "    finally:\n",
    "        print(\"Executes in all cases\")\n"
   ]
  },
  {
   "cell_type": "code",
   "execution_count": 4,
   "id": "7398b28d",
   "metadata": {},
   "outputs": [
    {
     "name": "stdout",
     "output_type": "stream",
     "text": [
      "the results is 0.5\n",
      "finally the result is  0.5\n",
      "the results is 0.0\n",
      "finally the result is  0.0\n",
      "someting went wrong, division by zero\n"
     ]
    },
    {
     "ename": "UnboundLocalError",
     "evalue": "local variable 'result' referenced before assignment",
     "output_type": "error",
     "traceback": [
      "\u001b[0;31m---------------------------------------------------------------------------\u001b[0m",
      "\u001b[0;31mUnboundLocalError\u001b[0m                         Traceback (most recent call last)",
      "Input \u001b[0;32mIn [4]\u001b[0m, in \u001b[0;36m<cell line: 13>\u001b[0;34m()\u001b[0m\n\u001b[1;32m     11\u001b[0m div(\u001b[38;5;241m2\u001b[39m,\u001b[38;5;241m4\u001b[39m)\n\u001b[1;32m     12\u001b[0m div(\u001b[38;5;241m0\u001b[39m,\u001b[38;5;241m5\u001b[39m)\n\u001b[0;32m---> 13\u001b[0m \u001b[43mdiv\u001b[49m\u001b[43m(\u001b[49m\u001b[38;5;241;43m9\u001b[39;49m\u001b[43m,\u001b[49m\u001b[38;5;241;43m0\u001b[39;49m\u001b[43m)\u001b[49m\n",
      "Input \u001b[0;32mIn [4]\u001b[0m, in \u001b[0;36mdiv\u001b[0;34m(a, b)\u001b[0m\n\u001b[1;32m      7\u001b[0m     \u001b[38;5;28mprint\u001b[39m(\u001b[38;5;124mf\u001b[39m\u001b[38;5;124m\"\u001b[39m\u001b[38;5;124mthe results is \u001b[39m\u001b[38;5;132;01m{\u001b[39;00mresult\u001b[38;5;132;01m}\u001b[39;00m\u001b[38;5;124m\"\u001b[39m)\n\u001b[1;32m      8\u001b[0m \u001b[38;5;28;01mfinally\u001b[39;00m:\n\u001b[0;32m----> 9\u001b[0m     \u001b[38;5;28mprint\u001b[39m(\u001b[38;5;124mf\u001b[39m\u001b[38;5;124m\"\u001b[39m\u001b[38;5;124mfinally the result is  \u001b[39m\u001b[38;5;132;01m{\u001b[39;00mresult\u001b[38;5;132;01m}\u001b[39;00m\u001b[38;5;124m\"\u001b[39m)\n",
      "\u001b[0;31mUnboundLocalError\u001b[0m: local variable 'result' referenced before assignment"
     ]
    }
   ],
   "source": [
    "def div(a,b):\n",
    "    try:\n",
    "        result = a/b\n",
    "    except (TypeError, ZeroDivisionError) as err:\n",
    "        print(f\"someting went wrong, {err}\")\n",
    "    else:\n",
    "        print(f\"the results is {result}\")\n",
    "    finally:\n",
    "        print(f\"finally the result is  {result}\")\n",
    "        \n",
    "div(2,4)\n",
    "div(0,5)\n",
    "div(9,0)\n"
   ]
  },
  {
   "cell_type": "code",
   "execution_count": 5,
   "id": "53493acb",
   "metadata": {},
   "outputs": [
    {
     "name": "stdout",
     "output_type": "stream",
     "text": [
      "someting went wrong, unsupported operand type(s) for /: 'str' and 'int'\n"
     ]
    },
    {
     "ename": "UnboundLocalError",
     "evalue": "local variable 'result' referenced before assignment",
     "output_type": "error",
     "traceback": [
      "\u001b[0;31m---------------------------------------------------------------------------\u001b[0m",
      "\u001b[0;31mUnboundLocalError\u001b[0m                         Traceback (most recent call last)",
      "Input \u001b[0;32mIn [5]\u001b[0m, in \u001b[0;36m<cell line: 1>\u001b[0;34m()\u001b[0m\n\u001b[0;32m----> 1\u001b[0m \u001b[43mdiv\u001b[49m\u001b[43m(\u001b[49m\u001b[38;5;124;43m'\u001b[39;49m\u001b[38;5;124;43mg\u001b[39;49m\u001b[38;5;124;43m'\u001b[39;49m\u001b[43m,\u001b[49m\u001b[38;5;241;43m3\u001b[39;49m\u001b[43m)\u001b[49m\n",
      "Input \u001b[0;32mIn [4]\u001b[0m, in \u001b[0;36mdiv\u001b[0;34m(a, b)\u001b[0m\n\u001b[1;32m      7\u001b[0m     \u001b[38;5;28mprint\u001b[39m(\u001b[38;5;124mf\u001b[39m\u001b[38;5;124m\"\u001b[39m\u001b[38;5;124mthe results is \u001b[39m\u001b[38;5;132;01m{\u001b[39;00mresult\u001b[38;5;132;01m}\u001b[39;00m\u001b[38;5;124m\"\u001b[39m)\n\u001b[1;32m      8\u001b[0m \u001b[38;5;28;01mfinally\u001b[39;00m:\n\u001b[0;32m----> 9\u001b[0m     \u001b[38;5;28mprint\u001b[39m(\u001b[38;5;124mf\u001b[39m\u001b[38;5;124m\"\u001b[39m\u001b[38;5;124mfinally the result is  \u001b[39m\u001b[38;5;132;01m{\u001b[39;00mresult\u001b[38;5;132;01m}\u001b[39;00m\u001b[38;5;124m\"\u001b[39m)\n",
      "\u001b[0;31mUnboundLocalError\u001b[0m: local variable 'result' referenced before assignment"
     ]
    }
   ],
   "source": [
    "div('g',3)"
   ]
  },
  {
   "cell_type": "code",
   "execution_count": 6,
   "id": "ca75b9d7",
   "metadata": {},
   "outputs": [
    {
     "name": "stdout",
     "output_type": "stream",
     "text": [
      "2.0\n",
      "Please provide two integers or floats\n",
      "Please do not divide by zero\n"
     ]
    }
   ],
   "source": [
    "def divide_ex(num1, num2):\n",
    "    try:\n",
    "        result = num1 / num2\n",
    "    except ZeroDivisionError:\n",
    "        return \"Please do not divide by zero\"\n",
    "    except TypeError:\n",
    "        return \"Please provide two integers or floats\"\n",
    "    else:\n",
    "        return result\n",
    "\n",
    "\n",
    "print(divide_ex(4, 2))\n",
    "print(divide_ex([], \"1\"))\n",
    "print(divide_ex(1, 0))"
   ]
  },
  {
   "cell_type": "markdown",
   "id": "6dedb5d4",
   "metadata": {},
   "source": [
    "#   pdb : python debugger\n",
    "       - its a module that we have to import (like random)\n",
    "       - so we need to : import pdb\n",
    "       - and then : pdb.set_trace()\n",
    "\n",
    "#   common pdb commands:\n",
    "       - l --> list\n",
    "       - n --> next line\n",
    "       - p --> print\n",
    "       - c --> continue -finishes debugging\n",
    "\n",
    "\n",
    "\n"
   ]
  },
  {
   "cell_type": "code",
   "execution_count": null,
   "id": "bdcb10d1",
   "metadata": {},
   "outputs": [
    {
     "name": "stdout",
     "output_type": "stream",
     "text": [
      "--Return--\n",
      "None\n",
      "> \u001b[0;32m/var/folders/kh/fr262tk93zl14j_06d2tk_nm0000gp/T/ipykernel_5718/54112517.py\u001b[0m(6)\u001b[0;36m<cell line: 6>\u001b[0;34m()\u001b[0m\n",
      "\u001b[0;32m      4 \u001b[0;31m\u001b[0mfirst\u001b[0m \u001b[0;34m=\u001b[0m \u001b[0;34m\"First\"\u001b[0m\u001b[0;34m\u001b[0m\u001b[0;34m\u001b[0m\u001b[0m\n",
      "\u001b[0m\u001b[0;32m      5 \u001b[0;31m\u001b[0msecond\u001b[0m \u001b[0;34m=\u001b[0m \u001b[0;34m\"Second\"\u001b[0m\u001b[0;34m\u001b[0m\u001b[0;34m\u001b[0m\u001b[0m\n",
      "\u001b[0m\u001b[0;32m----> 6 \u001b[0;31m\u001b[0mpdb\u001b[0m\u001b[0;34m.\u001b[0m\u001b[0mset_trace\u001b[0m\u001b[0;34m(\u001b[0m\u001b[0;34m)\u001b[0m\u001b[0;34m\u001b[0m\u001b[0;34m\u001b[0m\u001b[0m\n",
      "\u001b[0m\u001b[0;32m      7 \u001b[0;31m\u001b[0mresult\u001b[0m \u001b[0;34m=\u001b[0m \u001b[0mfirst\u001b[0m \u001b[0;34m+\u001b[0m \u001b[0msecond\u001b[0m\u001b[0;34m\u001b[0m\u001b[0;34m\u001b[0m\u001b[0m\n",
      "\u001b[0m\u001b[0;32m      8 \u001b[0;31m\u001b[0mthird\u001b[0m \u001b[0;34m=\u001b[0m \u001b[0;34m\"Third\"\u001b[0m\u001b[0;34m\u001b[0m\u001b[0;34m\u001b[0m\u001b[0m\n",
      "\u001b[0m\n"
     ]
    }
   ],
   "source": [
    "#   example 1\n",
    "import pdb\n",
    "import re\n",
    "first = \"First\"\n",
    "second = \"Second\"\n",
    "pdb.set_trace()\n",
    "result = first + second\n",
    "third = \"Third\"\n",
    "result += third\n",
    "print(result)\n",
    "\n",
    "\n",
    "#   example 2\n",
    "def add_numbers(n1, n2, n3, n4):\n",
    "    import pdb\n",
    "    pdb.set_trace()\n",
    "    return n1+n2+n3+n4\n",
    "\n",
    "\n",
    "print(add_numbers(1, 2, 3, 4))"
   ]
  },
  {
   "cell_type": "code",
   "execution_count": null,
   "id": "dbfdc8f2",
   "metadata": {},
   "outputs": [],
   "source": []
  }
 ],
 "metadata": {
  "kernelspec": {
   "display_name": "Python 3 (ipykernel)",
   "language": "python",
   "name": "python3"
  },
  "language_info": {
   "codemirror_mode": {
    "name": "ipython",
    "version": 3
   },
   "file_extension": ".py",
   "mimetype": "text/x-python",
   "name": "python",
   "nbconvert_exporter": "python",
   "pygments_lexer": "ipython3",
   "version": "3.9.12"
  }
 },
 "nbformat": 4,
 "nbformat_minor": 5
}

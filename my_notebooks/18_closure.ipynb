{
 "cells": [
  {
   "cell_type": "markdown",
   "id": "057658a3",
   "metadata": {},
   "source": [
    "# About Closures\n",
    "\n",
    "- x is not in the scope of inner(), its a free variable thats living outside of inner.\n",
    "\n",
    "- When we talk about inner() funct we are looking at the inner() function itself and the 'x' free variable which is not part of inner\n",
    "\n",
    "- inner() funct encloses its free variables, and this is called closure\n",
    "- return a function from a function(Higher Order Function)\n",
    "\n",
    "- when outer runs, a closure is created, but inner() is not  executed, instead its returned\n",
    "\n",
    "- When we are returning inner() we are not just returning inner() function but a closure.\n",
    "\n",
    "     - function inner() is returned and also\n",
    "\n",
    "     - the free variables enclosed\n",
    "\n",
    "- How did the closure retain the value of 'x' even though the scope of the function that defined 'x' went away?\n",
    "\n",
    "    - This is because of closure. When outer() finishes running the closure still has that variable x with it\n",
    "\n",
    "- what is the cell object in python and how it helps in closures\n",
    "\n",
    "- list all the free variables lables\n",
    "\n",
    "    - closure.__code__.co_freevars --> returns a tuple of free variables that the closure has enclosed with it\n",
    "    \n",
    "- non local will not look into the global space\n"
   ]
  },
  {
   "cell_type": "code",
   "execution_count": 4,
   "id": "0ef315f7",
   "metadata": {},
   "outputs": [
    {
     "name": "stdout",
     "output_type": "stream",
     "text": [
      "1\n",
      "2\n",
      "20\n",
      "70\n"
     ]
    }
   ],
   "source": [
    "def increment():\n",
    "    x = 0\n",
    "    def _increment(n=1):\n",
    "        nonlocal x\n",
    "        x += n\n",
    "        print(x)\n",
    "    return _increment\n",
    "\n",
    "i1 = increment()\n",
    "i2 = increment()\n",
    "\n",
    "i1()\n",
    "i1()\n",
    "i2(20)\n",
    "i2(50)\n",
    "\n"
   ]
  },
  {
   "cell_type": "code",
   "execution_count": 8,
   "id": "7776852f",
   "metadata": {},
   "outputs": [],
   "source": [
    "from time import perf_counter\n",
    "class Timer:\n",
    "    def __init__(self):\n",
    "        self.start = perf_counter()\n",
    "    \n",
    "    def __call__(self):\n",
    "        return perf_counter() - self.start"
   ]
  },
  {
   "cell_type": "code",
   "execution_count": 9,
   "id": "12171d24",
   "metadata": {},
   "outputs": [],
   "source": [
    "t1 = Timer()\n"
   ]
  },
  {
   "cell_type": "code",
   "execution_count": 11,
   "id": "05ff5746",
   "metadata": {},
   "outputs": [
    {
     "data": {
      "text/plain": [
       "6.840467344000018"
      ]
     },
     "execution_count": 11,
     "metadata": {},
     "output_type": "execute_result"
    }
   ],
   "source": [
    "t1()"
   ]
  },
  {
   "cell_type": "code",
   "execution_count": 13,
   "id": "84f9a34c",
   "metadata": {},
   "outputs": [
    {
     "data": {
      "text/plain": [
       "14.491521732000024"
      ]
     },
     "execution_count": 13,
     "metadata": {},
     "output_type": "execute_result"
    }
   ],
   "source": [
    "t1()"
   ]
  },
  {
   "cell_type": "code",
   "execution_count": 21,
   "id": "9d38f5fd",
   "metadata": {},
   "outputs": [],
   "source": [
    "def timer():\n",
    "    startTime = perf_counter()\n",
    "    \n",
    "    def elapsed():\n",
    "        print(f\"start time : {startTime}\")\n",
    "        endTime = perf_counter()\n",
    "        elapsedTime = endTime - startTime\n",
    "        print(f\"elapsed time : {elapsedTime}\")\n",
    "    return elapsed\n",
    "\n",
    "time = timer()\n",
    "\n",
    "\n"
   ]
  },
  {
   "cell_type": "code",
   "execution_count": 22,
   "id": "d961d773",
   "metadata": {},
   "outputs": [
    {
     "name": "stdout",
     "output_type": "stream",
     "text": [
      "start time : 638.921085389\n",
      "elapsed time : 0.8639390219999541\n"
     ]
    }
   ],
   "source": [
    "time()"
   ]
  },
  {
   "cell_type": "code",
   "execution_count": 23,
   "id": "7e59a268",
   "metadata": {},
   "outputs": [
    {
     "name": "stdout",
     "output_type": "stream",
     "text": [
      "start time : 638.921085389\n",
      "elapsed time : 5.48982072199999\n"
     ]
    }
   ],
   "source": [
    "time()"
   ]
  },
  {
   "cell_type": "code",
   "execution_count": 24,
   "id": "0d47e5c1",
   "metadata": {},
   "outputs": [
    {
     "name": "stdout",
     "output_type": "stream",
     "text": [
      "start time : 638.921085389\n",
      "elapsed time : 15.886058097999921\n"
     ]
    }
   ],
   "source": [
    "time()"
   ]
  },
  {
   "cell_type": "markdown",
   "id": "1dbd5e0f",
   "metadata": {},
   "source": [
    "# Examples"
   ]
  },
  {
   "cell_type": "code",
   "execution_count": 23,
   "id": "370f5695",
   "metadata": {},
   "outputs": [
    {
     "data": {
      "text/plain": [
       "('x',)"
      ]
     },
     "execution_count": 23,
     "metadata": {},
     "output_type": "execute_result"
    }
   ],
   "source": [
    "def outer():\n",
    "    x = \"python\"\n",
    "    \n",
    "    def inner():\n",
    "        print(x)\n",
    "    \n",
    "    return inner\n",
    "\n",
    "fn = outer()\n",
    "fn.__code__.co_freevars"
   ]
  },
  {
   "cell_type": "code",
   "execution_count": 13,
   "id": "55e1dd5a",
   "metadata": {},
   "outputs": [
    {
     "data": {
      "text/plain": [
       "('x',)"
      ]
     },
     "execution_count": 13,
     "metadata": {},
     "output_type": "execute_result"
    }
   ],
   "source": [
    "fn.__code__.co_freevars"
   ]
  },
  {
   "cell_type": "code",
   "execution_count": 16,
   "id": "4ac79507",
   "metadata": {},
   "outputs": [
    {
     "data": {
      "text/plain": [
       "(<cell at 0x7ff7c8e4d250: str object at 0x7ff7c69153f0>,)"
      ]
     },
     "execution_count": 16,
     "metadata": {},
     "output_type": "execute_result"
    }
   ],
   "source": [
    "fn.__closure__"
   ]
  },
  {
   "cell_type": "code",
   "execution_count": 26,
   "id": "0b001c1b",
   "metadata": {},
   "outputs": [
    {
     "name": "stdout",
     "output_type": "stream",
     "text": [
      "0x7f951b66cc80\n",
      "0x7f951a655b40\n"
     ]
    }
   ],
   "source": [
    "def outer():\n",
    "    x = [1,2,3,4]\n",
    "    print(hex(id(x)))\n",
    "    def inner():\n",
    "        x = [1,2,3,4] # as we have assignment, we have a new local variable\n",
    "        print(hex(id(x)))\n",
    "    return inner\n",
    "\n",
    "fn1 = outer()\n",
    "fn1.__code__.co_freevars\n",
    "fn1.__closure__\n",
    "fn1()"
   ]
  },
  {
   "cell_type": "code",
   "execution_count": 27,
   "id": "736be11b",
   "metadata": {},
   "outputs": [
    {
     "name": "stdout",
     "output_type": "stream",
     "text": [
      "0x7f95181154f0\n",
      "0x7f95181154f0\n"
     ]
    }
   ],
   "source": [
    "def outer():\n",
    "    x = \"python\"\n",
    "    print(hex(id(x)))\n",
    "    def inner():\n",
    "        x = \"python\" # as we have assignment, we have a new local variable\n",
    "        print(hex(id(x))) # but as its a string python will do string interpolation and refer to the same object\n",
    "    return inner\n",
    "\n",
    "fn = outer()\n",
    "\n",
    "fn()"
   ]
  },
  {
   "cell_type": "code",
   "execution_count": 30,
   "id": "3095a02f",
   "metadata": {},
   "outputs": [],
   "source": [
    "fn.__closure__"
   ]
  },
  {
   "cell_type": "code",
   "execution_count": 3,
   "id": "d2cd1617",
   "metadata": {},
   "outputs": [
    {
     "name": "stdout",
     "output_type": "stream",
     "text": [
      "0x7f9515521a50\n",
      "0x7f9515521a50\n"
     ]
    }
   ],
   "source": [
    "def outer():\n",
    "    x = 10\n",
    "    print(hex(id(x)))\n",
    "    def inner():\n",
    "        x = 10 # as we have assignment, we have a new local variable\n",
    "        print(hex(id(x))) # but as its a int python will uses singleton object and refer to the same object\n",
    "    return inner\n",
    "\n",
    "fn = outer()\n",
    "fn()"
   ]
  },
  {
   "cell_type": "code",
   "execution_count": 67,
   "id": "25bbd2b9",
   "metadata": {},
   "outputs": [
    {
     "name": "stdout",
     "output_type": "stream",
     "text": [
      "0x7f9515521910\n"
     ]
    }
   ],
   "source": [
    "def inc():\n",
    "    count = 0\n",
    "    print(hex(id(count)))\n",
    "    def _inc():\n",
    "        nonlocal count\n",
    "        count += 1\n",
    "        print(hex(id(count))) # the count var will now point to a different int\n",
    "        print(count)\n",
    "    return _inc\n",
    "increment = inc()"
   ]
  },
  {
   "cell_type": "code",
   "execution_count": 90,
   "id": "dc47882a",
   "metadata": {},
   "outputs": [
    {
     "name": "stdout",
     "output_type": "stream",
     "text": [
      "0x7f9515521bf0\n",
      "23\n"
     ]
    },
    {
     "data": {
      "text/plain": [
       "'0x7f9515521bd0'"
      ]
     },
     "execution_count": 90,
     "metadata": {},
     "output_type": "execute_result"
    }
   ],
   "source": [
    "increment()\n",
    "hex(id(22))"
   ]
  },
  {
   "cell_type": "code",
   "execution_count": 92,
   "id": "9552a03f",
   "metadata": {},
   "outputs": [
    {
     "data": {
      "text/plain": [
       "(<cell at 0x7f951a3fb730: int object at 0x7f9515521bf0>,)"
      ]
     },
     "execution_count": 92,
     "metadata": {},
     "output_type": "execute_result"
    }
   ],
   "source": [
    "increment.__closure__"
   ]
  },
  {
   "cell_type": "code",
   "execution_count": 93,
   "id": "ca88669c",
   "metadata": {},
   "outputs": [],
   "source": [
    "def outer():\n",
    "    count = 0\n",
    "    \n",
    "    def inc1():\n",
    "        nonlocal count\n",
    "        count += 1\n",
    "        return count\n",
    "    \n",
    "    def inc2():\n",
    "        nonlocal count\n",
    "        count += 1\n",
    "        return count\n",
    "    \n",
    "    return (inc1, inc2)"
   ]
  },
  {
   "cell_type": "code",
   "execution_count": 94,
   "id": "4ae9713b",
   "metadata": {},
   "outputs": [],
   "source": [
    "f1, f2 = outer()"
   ]
  },
  {
   "cell_type": "code",
   "execution_count": 95,
   "id": "fff85243",
   "metadata": {},
   "outputs": [
    {
     "data": {
      "text/plain": [
       "(('count',), ('count',))"
      ]
     },
     "execution_count": 95,
     "metadata": {},
     "output_type": "execute_result"
    }
   ],
   "source": [
    "f1.__code__.co_freevars, f2.__code__.co_freevars"
   ]
  },
  {
   "cell_type": "code",
   "execution_count": 96,
   "id": "93f2117c",
   "metadata": {},
   "outputs": [
    {
     "data": {
      "text/plain": [
       "((<cell at 0x7f951a955c40: int object at 0x7f9515521910>,),\n",
       " (<cell at 0x7f951a955c40: int object at 0x7f9515521910>,))"
      ]
     },
     "execution_count": 96,
     "metadata": {},
     "output_type": "execute_result"
    }
   ],
   "source": [
    "f1.__closure__, f2.__closure__"
   ]
  },
  {
   "cell_type": "code",
   "execution_count": 97,
   "id": "aa07889c",
   "metadata": {},
   "outputs": [],
   "source": [
    "f1_r, f2_r = f1(), f2()"
   ]
  },
  {
   "cell_type": "code",
   "execution_count": 99,
   "id": "166fc3b1",
   "metadata": {},
   "outputs": [
    {
     "data": {
      "text/plain": [
       "(1, 2)"
      ]
     },
     "execution_count": 99,
     "metadata": {},
     "output_type": "execute_result"
    }
   ],
   "source": [
    "f1_r, f2_r"
   ]
  },
  {
   "cell_type": "code",
   "execution_count": 100,
   "id": "f8154b0c",
   "metadata": {},
   "outputs": [
    {
     "data": {
      "text/plain": [
       "((<cell at 0x7f951a955c40: int object at 0x7f9515521950>,),\n",
       " (<cell at 0x7f951a955c40: int object at 0x7f9515521950>,))"
      ]
     },
     "execution_count": 100,
     "metadata": {},
     "output_type": "execute_result"
    }
   ],
   "source": [
    "f1.__closure__, f2.__closure__"
   ]
  },
  {
   "cell_type": "code",
   "execution_count": 101,
   "id": "18c49ecd",
   "metadata": {},
   "outputs": [],
   "source": [
    "def pow(n):\n",
    "    def _pow(x):\n",
    "        return x**n\n",
    "    return _pow"
   ]
  },
  {
   "cell_type": "code",
   "execution_count": 102,
   "id": "cdabdc72",
   "metadata": {},
   "outputs": [],
   "source": [
    "square = pow(2)\n",
    "cube = pow(3)"
   ]
  },
  {
   "cell_type": "code",
   "execution_count": 105,
   "id": "d9242c8e",
   "metadata": {},
   "outputs": [
    {
     "data": {
      "text/plain": [
       "400"
      ]
     },
     "execution_count": 105,
     "metadata": {},
     "output_type": "execute_result"
    }
   ],
   "source": [
    "square(20)"
   ]
  },
  {
   "cell_type": "code",
   "execution_count": 106,
   "id": "65c84bb7",
   "metadata": {},
   "outputs": [
    {
     "data": {
      "text/plain": [
       "15625"
      ]
     },
     "execution_count": 106,
     "metadata": {},
     "output_type": "execute_result"
    }
   ],
   "source": [
    "cube(25)"
   ]
  },
  {
   "cell_type": "code",
   "execution_count": 107,
   "id": "14e16958",
   "metadata": {},
   "outputs": [],
   "source": [
    "def create_adder():\n",
    "    adders = []\n",
    "    for n in range(1,4):\n",
    "        adders.append(lambda x: x+n)\n",
    "    return adders"
   ]
  },
  {
   "cell_type": "code",
   "execution_count": 108,
   "id": "15e72545",
   "metadata": {},
   "outputs": [],
   "source": [
    "adders = create_adder()"
   ]
  },
  {
   "cell_type": "code",
   "execution_count": 109,
   "id": "23e41cb6",
   "metadata": {},
   "outputs": [
    {
     "data": {
      "text/plain": [
       "[<function __main__.create_adder.<locals>.<lambda>(x)>,\n",
       " <function __main__.create_adder.<locals>.<lambda>(x)>,\n",
       " <function __main__.create_adder.<locals>.<lambda>(x)>]"
      ]
     },
     "execution_count": 109,
     "metadata": {},
     "output_type": "execute_result"
    }
   ],
   "source": [
    "adders"
   ]
  },
  {
   "cell_type": "code",
   "execution_count": 122,
   "id": "8fb71c3c",
   "metadata": {},
   "outputs": [
    {
     "data": {
      "text/plain": [
       "4"
      ]
     },
     "execution_count": 122,
     "metadata": {},
     "output_type": "execute_result"
    }
   ],
   "source": [
    "adders[0](1)"
   ]
  },
  {
   "cell_type": "code",
   "execution_count": 123,
   "id": "5affd629",
   "metadata": {},
   "outputs": [],
   "source": [
    "y=0"
   ]
  },
  {
   "cell_type": "code",
   "execution_count": 127,
   "id": "30d675ed",
   "metadata": {},
   "outputs": [],
   "source": [
    "def create_adder():\n",
    "    adders = []\n",
    "    for n in range(1,4):\n",
    "        adders.append(lambda x, y=n: y+x)\n",
    "    return adders"
   ]
  },
  {
   "cell_type": "code",
   "execution_count": 128,
   "id": "cb5f70c1",
   "metadata": {},
   "outputs": [],
   "source": [
    "adders = create_adder()"
   ]
  },
  {
   "cell_type": "code",
   "execution_count": 131,
   "id": "a32be8b6",
   "metadata": {},
   "outputs": [
    {
     "data": {
      "text/plain": [
       "2"
      ]
     },
     "execution_count": 131,
     "metadata": {},
     "output_type": "execute_result"
    }
   ],
   "source": [
    "adders[0](1)"
   ]
  },
  {
   "cell_type": "code",
   "execution_count": 133,
   "id": "2dbb4814",
   "metadata": {},
   "outputs": [
    {
     "data": {
      "text/plain": [
       "3"
      ]
     },
     "execution_count": 133,
     "metadata": {},
     "output_type": "execute_result"
    }
   ],
   "source": [
    "adders[1](1)"
   ]
  },
  {
   "cell_type": "code",
   "execution_count": null,
   "id": "1da0f699",
   "metadata": {},
   "outputs": [],
   "source": []
  }
 ],
 "metadata": {
  "kernelspec": {
   "display_name": "Python 3 (ipykernel)",
   "language": "python",
   "name": "python3"
  },
  "language_info": {
   "codemirror_mode": {
    "name": "ipython",
    "version": 3
   },
   "file_extension": ".py",
   "mimetype": "text/x-python",
   "name": "python",
   "nbconvert_exporter": "python",
   "pygments_lexer": "ipython3",
   "version": "3.9.12"
  }
 },
 "nbformat": 4,
 "nbformat_minor": 5
}

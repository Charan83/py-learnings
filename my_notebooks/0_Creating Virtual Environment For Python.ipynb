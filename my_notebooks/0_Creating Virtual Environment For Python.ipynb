{
 "cells": [
  {
   "cell_type": "markdown",
   "id": "d268e200",
   "metadata": {},
   "source": [
    "# Download and install python\n",
    "\n",
    "- Download python (https://www.python.org/downloads/) 3.10 is the current latest\n",
    "- Install it (by default on mac it will be installed in /usr/local/bin\n",
    "    - python3.10 --version --> python 3.10\n",
    "- now we have installed python 3.10, we can create a virtual environment with this python version\n",
    "\n",
    "# Creating venv for python3.10\n",
    "````\n",
    "cd /usr/local/bin\n",
    "ls python* --> can see all the python versions installed on this machine\n",
    "python3.10 -m venv <location for our venv>\n",
    "python3.10 -m venv ~/venvs/fwenv --> so we are creating all teh virtual environments in home dir/venvs --> fwenv is our virtual environment\n",
    "\n",
    "- Go to the folder where all virtual environments are created and see : cd ~/venvs --< we can see our venv called fwenv\n",
    "\n",
    "cd ~/venvs/fwenv/bin\n",
    "\n",
    "````\n",
    "# Activate venv\n",
    "````\n",
    "cd ~/venvs/fwenv/bin\n",
    "\n",
    "source activate\n",
    "\n",
    "python --version --> python 3.10\n",
    "\n",
    "````\n",
    "\n",
    "# Deactivate venv\n",
    "````\n",
    "deactivate\n",
    "````"
   ]
  },
  {
   "cell_type": "code",
   "execution_count": null,
   "id": "77c3f54b",
   "metadata": {},
   "outputs": [],
   "source": []
  },
  {
   "cell_type": "code",
   "execution_count": null,
   "id": "65b31302",
   "metadata": {},
   "outputs": [],
   "source": []
  }
 ],
 "metadata": {
  "kernelspec": {
   "display_name": "Python 3 (ipykernel)",
   "language": "python",
   "name": "python3"
  },
  "language_info": {
   "codemirror_mode": {
    "name": "ipython",
    "version": 3
   },
   "file_extension": ".py",
   "mimetype": "text/x-python",
   "name": "python",
   "nbconvert_exporter": "python",
   "pygments_lexer": "ipython3",
   "version": "3.9.12"
  }
 },
 "nbformat": 4,
 "nbformat_minor": 5
}

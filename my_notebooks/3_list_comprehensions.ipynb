{
 "cells": [
  {
   "cell_type": "markdown",
   "id": "d77cdfc7",
   "metadata": {},
   "source": [
    "# list comprehention\n",
    "   - generates a new list\n",
    "   - syntax : [ - for - in - ]\n",
    "   \n",
    "# list comprehension vs loops\n",
    "nums = [1, 2, 3]"
   ]
  },
  {
   "cell_type": "code",
   "execution_count": 2,
   "id": "28459372",
   "metadata": {},
   "outputs": [
    {
     "name": "stdout",
     "output_type": "stream",
     "text": [
      "nums :[1, 2, 3], sq_lst : [1, 4, 9]\n",
      "nums :[1, 2, 3], sq_lst1 : [1, 4, 9]\n"
     ]
    }
   ],
   "source": [
    "nums = [1, 2, 3]\n",
    "sq_lst = [num*num for num in nums]\n",
    "print(f\"nums :{nums}, sq_lst : {sq_lst}\")\n",
    "\n",
    "sq_lst1 = []\n",
    "for num in nums:\n",
    "    sq_lst1.append(num*num)\n",
    "\n",
    "print(f\"nums :{nums}, sq_lst1 : {sq_lst1}\")"
   ]
  },
  {
   "cell_type": "markdown",
   "id": "4080b924",
   "metadata": {},
   "source": [
    "# list comprehension"
   ]
  },
  {
   "cell_type": "markdown",
   "id": "b3a2bea5",
   "metadata": {},
   "source": [
    "# example 1 on strings\n",
    "friends = [\"guru\", \"prem\", \"hansni\"]"
   ]
  },
  {
   "cell_type": "code",
   "execution_count": 4,
   "id": "7328bafb",
   "metadata": {},
   "outputs": [
    {
     "name": "stdout",
     "output_type": "stream",
     "text": [
      "friends : ['guru', 'prem', 'hansni'], friends_lst : ['Guru', 'Prem', 'Hansni']\n"
     ]
    }
   ],
   "source": [
    "friends = [\"guru\", \"prem\", \"hansni\"]\n",
    "friends_lst = [friend[0].upper() + friend[1:] for friend in friends]\n",
    "print(f\"friends : {friends}, friends_lst : {friends_lst}\")"
   ]
  },
  {
   "cell_type": "markdown",
   "id": "0ca761f5",
   "metadata": {},
   "source": [
    "# example 2 : on ranges"
   ]
  },
  {
   "cell_type": "code",
   "execution_count": 5,
   "id": "b88c99f4",
   "metadata": {},
   "outputs": [
    {
     "name": "stdout",
     "output_type": "stream",
     "text": [
      "[1, 4, 9, 16, 25, 36, 49, 64]\n"
     ]
    }
   ],
   "source": [
    "range_ex = [num*num for num in range(1,9)]\n",
    "print(f\"{range_ex}\")"
   ]
  },
  {
   "cell_type": "markdown",
   "id": "4288ea34",
   "metadata": {},
   "source": [
    "# example 3 : with bool function"
   ]
  },
  {
   "cell_type": "code",
   "execution_count": 7,
   "id": "50fc0437",
   "metadata": {},
   "outputs": [
    {
     "name": "stdout",
     "output_type": "stream",
     "text": [
      "[False, False, False, True, True]\n"
     ]
    }
   ],
   "source": [
    "lst = [0, [], '', [1, 2], 'Hello']\n",
    "bool_lst = [bool(val) for val in lst]\n",
    "print(f\"{bool_lst}\")\n"
   ]
  },
  {
   "cell_type": "markdown",
   "id": "55d5237d",
   "metadata": {},
   "source": [
    "# example 4 : take list of nums and convert to list of strings"
   ]
  },
  {
   "cell_type": "code",
   "execution_count": 8,
   "id": "7cc14747",
   "metadata": {},
   "outputs": [
    {
     "name": "stdout",
     "output_type": "stream",
     "text": [
      "['1', '2', '3', '4', '5', '6']\n"
     ]
    }
   ],
   "source": [
    "nums_list = [1, 2, 3, 4, 5, 6]\n",
    "str_lst = [str(num) for num in nums_list]\n",
    "print(f\"{str_lst}\")"
   ]
  },
  {
   "cell_type": "markdown",
   "id": "2e14933d",
   "metadata": {},
   "source": [
    "# example 5 : even/odd\n",
    "# if :  then it will come at the end\n",
    "# example 6 : if-else"
   ]
  },
  {
   "cell_type": "code",
   "execution_count": 9,
   "id": "96f02970",
   "metadata": {},
   "outputs": [
    {
     "name": "stdout",
     "output_type": "stream",
     "text": [
      "nums : [1, 2, 3, 4, 5, 6, 7, 8, 9, 10, 11, 12, 13, 14]\n",
      "evens : [2, 4, 6, 8, 10, 12, 14], odds : [1, 3, 5, 7, 9, 11, 13], double_tripple : [3, 4, 9, 8, 15, 12, 21, 16, 27, 20, 33, 24, 39, 28]\n"
     ]
    }
   ],
   "source": [
    "nums = list(range(1, 15))\n",
    "evens = [num for num in nums if num%2==0]\n",
    "odds = [num for num in nums if num%2 != 0]\n",
    "double_tripple = [num*2 if num%2 == 0 else num*3 for num in nums]\n",
    "print(f\"nums : {nums}\")\n",
    "print(f\"evens : {evens}, odds : {odds}, double_tripple : {double_tripple}\")\n"
   ]
  },
  {
   "cell_type": "markdown",
   "id": "a41324c7",
   "metadata": {},
   "source": [
    "# example 7 : if with string"
   ]
  },
  {
   "cell_type": "code",
   "execution_count": 11,
   "id": "a7a9ba41",
   "metadata": {},
   "outputs": [
    {
     "name": "stdout",
     "output_type": "stream",
     "text": [
      "with_vowels : This is so much fun\n",
      "without_vowels : Ths s s mch fn\n",
      "without_vowels_lst : ['T', 'h', 's', ' ', 's', ' ', 's', ' ', 'm', 'c', 'h', ' ', 'f', 'n']\n"
     ]
    }
   ],
   "source": [
    "with_vowels = \"This is so much fun\"\n",
    "without_vowels = \"\".join([ch for ch in with_vowels if ch not in ['a', 'e', 'i', 'o', 'u']])\n",
    "print(f\"with_vowels : {with_vowels}\")\n",
    "print(f\"without_vowels : {without_vowels}\")\n",
    "without_vowels_lst = [ch for ch in with_vowels if ch not in ['a', 'e', 'i', 'o', 'u']]\n",
    "print(f\"without_vowels_lst : {without_vowels_lst}\")"
   ]
  },
  {
   "cell_type": "markdown",
   "id": "74788cb7",
   "metadata": {},
   "source": [
    "# example 8 : if-else with string"
   ]
  },
  {
   "cell_type": "code",
   "execution_count": 14,
   "id": "61f01724",
   "metadata": {},
   "outputs": [
    {
     "name": "stdout",
     "output_type": "stream",
     "text": [
      "['T', 'h', '€', 's', ' ', '€', 's', ' ', 's', '€', ' ', 'm', '€', 'c', 'h', ' ', 'f', '€', 'n']\n",
      "Th€s €s s€ m€ch f€n\n"
     ]
    }
   ],
   "source": [
    "with_vowels = \"This is so much fun\"\n",
    "without_vowels_lst = [ch if ch not in 'aeiou' else '€' for ch in with_vowels]\n",
    "print(without_vowels_lst)\n",
    "without_vowels = ''.join(without_vowels_lst)\n",
    "print(without_vowels)"
   ]
  },
  {
   "cell_type": "markdown",
   "id": "297c82cf",
   "metadata": {},
   "source": [
    "# example 9: intersection from 2 lists"
   ]
  },
  {
   "cell_type": "code",
   "execution_count": 15,
   "id": "a7c08928",
   "metadata": {},
   "outputs": [
    {
     "name": "stdout",
     "output_type": "stream",
     "text": [
      "lst1 : [1, 2, 3, 4], lst2 : [3, 4, 5, 6],  intersection_lst : [3, 4]\n"
     ]
    }
   ],
   "source": [
    "lst1 = [1, 2, 3, 4]\n",
    "lst2 = [3, 4, 5, 6]\n",
    "intersection_lst = [val for val in lst1 if val in lst2]\n",
    "print(f\"lst1 : {lst1}, lst2 : {lst2},  intersection_lst : {intersection_lst}\")"
   ]
  },
  {
   "cell_type": "markdown",
   "id": "03bace7b",
   "metadata": {},
   "source": [
    "# example 10: reverse the items in the list\n",
    "names = [\"Elie\", \"Tim\", \"Matt\"]"
   ]
  },
  {
   "cell_type": "code",
   "execution_count": 16,
   "id": "7856a1fd",
   "metadata": {},
   "outputs": [
    {
     "name": "stdout",
     "output_type": "stream",
     "text": [
      "names : ['Elie', 'Tim', 'Matt'], rev_names : ['eilE', 'miT', 'ttaM']\n"
     ]
    }
   ],
   "source": [
    "names = [\"Elie\", \"Tim\", \"Matt\"]\n",
    "rev_names = [item[::-1] for item in names]\n",
    "print(f\"names : {names}, rev_names : {rev_names}\")"
   ]
  },
  {
   "cell_type": "code",
   "execution_count": null,
   "id": "778f56b1",
   "metadata": {},
   "outputs": [],
   "source": []
  }
 ],
 "metadata": {
  "kernelspec": {
   "display_name": "Python 3 (ipykernel)",
   "language": "python",
   "name": "python3"
  },
  "language_info": {
   "codemirror_mode": {
    "name": "ipython",
    "version": 3
   },
   "file_extension": ".py",
   "mimetype": "text/x-python",
   "name": "python",
   "nbconvert_exporter": "python",
   "pygments_lexer": "ipython3",
   "version": "3.9.12"
  }
 },
 "nbformat": 4,
 "nbformat_minor": 5
}

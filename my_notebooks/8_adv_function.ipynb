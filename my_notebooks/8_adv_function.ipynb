{
 "cells": [
  {
   "cell_type": "markdown",
   "id": "25e7fea5",
   "metadata": {},
   "source": [
    "#   *args\n",
    "       - we can catch all the arguments passed in one *args variable\n",
    "       - *args is a tuple with all the arguments passed\n",
    "       - should be after all the regular parameters\n",
    "\n",
    "#   parameters ordering\n",
    "       - parameters\n",
    "       - *args\n",
    "       - default parameters\n",
    "       - **kwargs"
   ]
  },
  {
   "cell_type": "markdown",
   "id": "c32e4b9e",
   "metadata": {},
   "source": [
    "## using *args to pass n number of params"
   ]
  },
  {
   "cell_type": "code",
   "execution_count": 8,
   "id": "cdf99a0d",
   "metadata": {},
   "outputs": [
    {
     "name": "stdout",
     "output_type": "stream",
     "text": [
      "args :  (1, 2, 3, 4, 5, 6)\n",
      "sum(1,2,3,4,5,6) : 21\n"
     ]
    }
   ],
   "source": [
    "def sum(*args):\n",
    "    print('args : ', args)\n",
    "    sum = 0\n",
    "    for arg in args:\n",
    "        sum += arg    \n",
    "    return sum\n",
    "\n",
    "print(f\"sum(1,2,3,4,5,6) : {sum(1,2,3,4,5,6)}\")"
   ]
  },
  {
   "cell_type": "markdown",
   "id": "bccfde3d",
   "metadata": {},
   "source": [
    "## in the params check we send 'purple' as one of the argument"
   ]
  },
  {
   "cell_type": "code",
   "execution_count": 10,
   "id": "20ee40e3",
   "metadata": {},
   "outputs": [
    {
     "name": "stdout",
     "output_type": "stream",
     "text": [
      "is_purple(2,3,4,'purple'): True\n",
      "is_purple(2,3,4,'ted'): False\n"
     ]
    }
   ],
   "source": [
    "def is_purple(*args):\n",
    "    if 'purple' in args:\n",
    "        return True\n",
    "    return False\n",
    "\n",
    "print(f\"is_purple(2,3,4,'purple'): {is_purple(2,3,4,'purple')}\")\n",
    "print(f\"is_purple(2,3,4,'ted'): {is_purple(2,3,4,'ted')}\")"
   ]
  },
  {
   "cell_type": "markdown",
   "id": "745d5cf6",
   "metadata": {},
   "source": [
    "#   **kwargs\n",
    "       - when we call a function with arguments like key=val, we can hold those using **kwargs\n",
    "       - **kwargs is a dictionary\n",
    "       - should be the last argument"
   ]
  },
  {
   "cell_type": "markdown",
   "id": "2bc0d63b",
   "metadata": {},
   "source": [
    "## example with **kwargs"
   ]
  },
  {
   "cell_type": "code",
   "execution_count": 13,
   "id": "5f9aa4e7",
   "metadata": {},
   "outputs": [
    {
     "name": "stdout",
     "output_type": "stream",
     "text": [
      "kwargs:  {'name': 'gurucharan'}\n",
      "Welcome to Mr. A gurucharan\n",
      "kwargs:  {'name': 'annapantula'}\n",
      "Who are You?\n"
     ]
    }
   ],
   "source": [
    "def special_greetings(salutation, initial, **kwargs):\n",
    "    print('kwargs: ', kwargs)\n",
    "    # by default 'if 'name' in kwargs' in a dictionary it will check keys\n",
    "    if 'name' in kwargs and kwargs.get('name') == 'gurucharan':\n",
    "        return f\"Welcome to {salutation}. {initial} {kwargs.get('name')}\"\n",
    "    else:\n",
    "        return \"Who are You?\"\n",
    "\n",
    "print(special_greetings('Mr', 'A', name='gurucharan'))\n",
    "print(special_greetings('Mr', 'A', name='annapantula'))"
   ]
  },
  {
   "cell_type": "markdown",
   "id": "beba3726",
   "metadata": {},
   "source": [
    "## example with **kwargs : prefix, suffix"
   ]
  },
  {
   "cell_type": "code",
   "execution_count": 17,
   "id": "ed3ae3b2",
   "metadata": {},
   "outputs": [
    {
     "name": "stdout",
     "output_type": "stream",
     "text": [
      "combine_words('child', suffix='ish') : childish\n",
      "combine_words('hole', prefix='man') : manhole\n"
     ]
    }
   ],
   "source": [
    "def combine_words(word, **kwargs):\n",
    "    if 'prefix' in kwargs:\n",
    "        return f\"{kwargs.get('prefix')}{word}\"\n",
    "    elif 'suffix' in kwargs:\n",
    "        return f\"{word}{kwargs.get('suffix')}\"\n",
    "    else:\n",
    "        return word\n",
    "    \n",
    "print(f\"combine_words('child', suffix='ish') : {combine_words('child', suffix='ish')}\")\n",
    "print(f\"combine_words('hole', prefix='man') : {combine_words('hole', prefix='man')}\")"
   ]
  },
  {
   "cell_type": "markdown",
   "id": "32578eb8",
   "metadata": {},
   "source": [
    "#   parameters ordering\n",
    "       - parameters\n",
    "       - *args\n",
    "       - default parameters\n",
    "       - **kwargs"
   ]
  },
  {
   "cell_type": "code",
   "execution_count": 25,
   "id": "ca62b70f",
   "metadata": {},
   "outputs": [
    {
     "name": "stdout",
     "output_type": "stream",
     "text": [
      "num1, num2 : 1, 2\n",
      "*args : (3, 4, 5, 6)\n",
      "name : parameter ordering\n",
      "**kwargs: {'is_return': True}\n",
      "sum of params and args : 21\n",
      "default parameter 'name' value : parameter ordering \n",
      "21\n",
      "*******************************************\n",
      "num1, num2 : 1, 2\n",
      "*args : (3, 4, 5, 6)\n",
      "name : parameter ordering\n",
      "**kwargs: {'is_return': False}\n",
      "sum of params and args : 21\n",
      "default parameter 'name' value : parameter ordering \n",
      "None\n",
      "*******************************************\n",
      "num1, num2 : 1, 2\n",
      "*args : (3, 4, 5, 6)\n",
      "name : default param\n",
      "**kwargs: {'is_true': True, 'is_return': True}\n",
      "sum of params and args : 21\n",
      "default parameter 'name' value : default param \n",
      "21\n"
     ]
    }
   ],
   "source": [
    "def param_odering(num1, num2, *args, name='parameter ordering', **kwargs):\n",
    "    print(f\"num1, num2 : {num1}, {num2}\")\n",
    "    print(f\"*args : {args}\")\n",
    "    print(f\"name : {name}\")\n",
    "    print(f\"**kwargs: {kwargs}\")\n",
    "    \n",
    "    total = num1 + num2\n",
    "    for arg in args:\n",
    "        total += arg\n",
    "    print(f\"sum of params and args : {total}\")\n",
    "    print(f\"default parameter 'name' value : {name} \")\n",
    "    if 'is_return' in kwargs and kwargs.get('is_return'):\n",
    "        return total\n",
    "    else:\n",
    "        return None\n",
    "\n",
    "print(param_odering(1,2,3,4,5,6,is_return=True))\n",
    "print(\"*******************************************\")\n",
    "print(param_odering(1,2,3,4,5,6,is_return=False))\n",
    "print(\"*******************************************\")\n",
    "print(param_odering(1,2,3,4,5,6,name='default param', is_true=True,is_return=True))\n",
    "\n",
    "    \n",
    "    \n",
    "    \n",
    "    "
   ]
  },
  {
   "cell_type": "code",
   "execution_count": null,
   "id": "1357b990",
   "metadata": {},
   "outputs": [],
   "source": []
  }
 ],
 "metadata": {
  "kernelspec": {
   "display_name": "Python 3 (ipykernel)",
   "language": "python",
   "name": "python3"
  },
  "language_info": {
   "codemirror_mode": {
    "name": "ipython",
    "version": 3
   },
   "file_extension": ".py",
   "mimetype": "text/x-python",
   "name": "python",
   "nbconvert_exporter": "python",
   "pygments_lexer": "ipython3",
   "version": "3.9.12"
  }
 },
 "nbformat": 4,
 "nbformat_minor": 5
}

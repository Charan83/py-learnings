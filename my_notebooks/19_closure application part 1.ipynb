{
 "cells": [
  {
   "cell_type": "markdown",
   "id": "23964a82",
   "metadata": {},
   "source": [
    "# Example1\n",
    "\n",
    "## using class"
   ]
  },
  {
   "cell_type": "code",
   "execution_count": 1,
   "id": "6032e40b",
   "metadata": {},
   "outputs": [],
   "source": [
    "class Averager():\n",
    "    def __init__(self):\n",
    "        self.numbers = []\n",
    "        \n",
    "    def append_and_return_average(self, number):\n",
    "        self.numbers.append(number)\n",
    "        self.total = sum(self.numbers)\n",
    "        self.average = self.total/len(self.numbers)\n",
    "        return self.average"
   ]
  },
  {
   "cell_type": "code",
   "execution_count": 2,
   "id": "a54114d2",
   "metadata": {},
   "outputs": [
    {
     "data": {
      "text/plain": [
       "10.0"
      ]
     },
     "execution_count": 2,
     "metadata": {},
     "output_type": "execute_result"
    }
   ],
   "source": [
    "ave = Averager()\n",
    "ave.append_and_return_average(10)"
   ]
  },
  {
   "cell_type": "code",
   "execution_count": 3,
   "id": "86e1ef36",
   "metadata": {},
   "outputs": [
    {
     "data": {
      "text/plain": [
       "15.0"
      ]
     },
     "execution_count": 3,
     "metadata": {},
     "output_type": "execute_result"
    }
   ],
   "source": [
    "ave.append_and_return_average(20)"
   ]
  },
  {
   "cell_type": "markdown",
   "id": "9dc23b45",
   "metadata": {},
   "source": [
    "# Example 2\n",
    "## using closure"
   ]
  },
  {
   "cell_type": "code",
   "execution_count": 9,
   "id": "a9c0665c",
   "metadata": {},
   "outputs": [],
   "source": [
    "def average():\n",
    "    numbers = []\n",
    "    \n",
    "    def _append_average(num):\n",
    "        nonlocal numbers\n",
    "        numbers.append(num)\n",
    "        return sum(numbers)/len(numbers)\n",
    "    return _append_average\n"
   ]
  },
  {
   "cell_type": "code",
   "execution_count": 10,
   "id": "93697e3a",
   "metadata": {},
   "outputs": [
    {
     "data": {
      "text/plain": [
       "10.0"
      ]
     },
     "execution_count": 10,
     "metadata": {},
     "output_type": "execute_result"
    }
   ],
   "source": [
    "aver = average()\n",
    "aver(10)"
   ]
  },
  {
   "cell_type": "code",
   "execution_count": 11,
   "id": "e5a71bd3",
   "metadata": {},
   "outputs": [
    {
     "data": {
      "text/plain": [
       "15.0"
      ]
     },
     "execution_count": 11,
     "metadata": {},
     "output_type": "execute_result"
    }
   ],
   "source": [
    "aver(20)"
   ]
  },
  {
   "cell_type": "markdown",
   "id": "c60b07bf",
   "metadata": {},
   "source": [
    "# Better Approach"
   ]
  },
  {
   "cell_type": "code",
   "execution_count": 1,
   "id": "9026754f",
   "metadata": {},
   "outputs": [],
   "source": [
    "def average():\n",
    "    total = 0\n",
    "    count = 0\n",
    "    def _average(num):\n",
    "        nonlocal total\n",
    "        nonlocal count\n",
    "        total += num\n",
    "        count += 1\n",
    "        return total/count\n",
    "    \n",
    "    return _average"
   ]
  },
  {
   "cell_type": "code",
   "execution_count": 2,
   "id": "3056355b",
   "metadata": {},
   "outputs": [
    {
     "data": {
      "text/plain": [
       "10.0"
      ]
     },
     "execution_count": 2,
     "metadata": {},
     "output_type": "execute_result"
    }
   ],
   "source": [
    "aver = average()\n",
    "aver(10)"
   ]
  },
  {
   "cell_type": "code",
   "execution_count": 3,
   "id": "e3be4667",
   "metadata": {},
   "outputs": [
    {
     "data": {
      "text/plain": [
       "15.0"
      ]
     },
     "execution_count": 3,
     "metadata": {},
     "output_type": "execute_result"
    }
   ],
   "source": [
    "aver(20)"
   ]
  },
  {
   "cell_type": "code",
   "execution_count": 4,
   "id": "fe1dd711",
   "metadata": {},
   "outputs": [
    {
     "data": {
      "text/plain": [
       "20.0"
      ]
     },
     "execution_count": 4,
     "metadata": {},
     "output_type": "execute_result"
    }
   ],
   "source": [
    "aver(30)"
   ]
  },
  {
   "cell_type": "markdown",
   "id": "864b4dec",
   "metadata": {},
   "source": [
    "# Example 3\n",
    "## Using Class"
   ]
  },
  {
   "cell_type": "code",
   "execution_count": 9,
   "id": "63f91f4f",
   "metadata": {},
   "outputs": [
    {
     "data": {
      "text/plain": [
       "5.2185000015469996e-05"
      ]
     },
     "execution_count": 9,
     "metadata": {},
     "output_type": "execute_result"
    }
   ],
   "source": [
    "from time import perf_counter\n",
    "class Timer:\n",
    "    def __init__(self):\n",
    "        self.start = perf_counter()\n",
    "        \n",
    "    def __call__(self): # this makes instance of Timer a callable\n",
    "        return perf_counter() - self.start\n",
    "        \n",
    "    def poll(self):\n",
    "        return perf_counter() - self.start\n",
    "    \n",
    "t = Timer()\n",
    "t.poll()"
   ]
  },
  {
   "cell_type": "code",
   "execution_count": 40,
   "id": "2a97afe9",
   "metadata": {},
   "outputs": [
    {
     "name": "stdout",
     "output_type": "stream",
     "text": [
      "163.57718911299992\n"
     ]
    },
    {
     "data": {
      "text/plain": [
       "163.57718911299992"
      ]
     },
     "execution_count": 40,
     "metadata": {},
     "output_type": "execute_result"
    }
   ],
   "source": [
    "# as the instance is callable we can directly use instance and execute\n",
    "t()"
   ]
  },
  {
   "cell_type": "markdown",
   "id": "fb6c9010",
   "metadata": {},
   "source": [
    "## Using closure"
   ]
  },
  {
   "cell_type": "code",
   "execution_count": 23,
   "id": "c86ead0f",
   "metadata": {},
   "outputs": [
    {
     "name": "stdout",
     "output_type": "stream",
     "text": [
      "783.71243145\n"
     ]
    }
   ],
   "source": [
    "from time import perf_counter\n",
    "def timer():\n",
    "    start = perf_counter()\n",
    "    print(start)\n",
    "    def _timer():\n",
    "        poll_time = perf_counter() - start\n",
    "        print(poll_time)\n",
    "        return poll_time\n",
    "        \n",
    "    return _timer\n",
    "\n",
    "t = timer()"
   ]
  },
  {
   "cell_type": "code",
   "execution_count": 24,
   "id": "a07ef1f7",
   "metadata": {},
   "outputs": [
    {
     "name": "stdout",
     "output_type": "stream",
     "text": [
      "11.60986142999991\n"
     ]
    },
    {
     "data": {
      "text/plain": [
       "11.60986142999991"
      ]
     },
     "execution_count": 24,
     "metadata": {},
     "output_type": "execute_result"
    }
   ],
   "source": [
    "t()"
   ]
  },
  {
   "cell_type": "code",
   "execution_count": 37,
   "id": "95497f37",
   "metadata": {},
   "outputs": [
    {
     "name": "stdout",
     "output_type": "stream",
     "text": [
      "48.23949513999992\n"
     ]
    },
    {
     "data": {
      "text/plain": [
       "48.23949513999992"
      ]
     },
     "execution_count": 37,
     "metadata": {},
     "output_type": "execute_result"
    }
   ],
   "source": [
    "t()"
   ]
  }
 ],
 "metadata": {
  "kernelspec": {
   "display_name": "Python 3 (ipykernel)",
   "language": "python",
   "name": "python3"
  },
  "language_info": {
   "codemirror_mode": {
    "name": "ipython",
    "version": 3
   },
   "file_extension": ".py",
   "mimetype": "text/x-python",
   "name": "python",
   "nbconvert_exporter": "python",
   "pygments_lexer": "ipython3",
   "version": "3.9.12"
  }
 },
 "nbformat": 4,
 "nbformat_minor": 5
}

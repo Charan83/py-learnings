{
 "cells": [
  {
   "cell_type": "markdown",
   "id": "354707ad",
   "metadata": {},
   "source": [
    "# Counter\n",
    "- HOF : a function which accepts another function or returns another funtion is Higher Order Function\n"
   ]
  },
  {
   "cell_type": "code",
   "execution_count": 12,
   "id": "7f1db4d2",
   "metadata": {},
   "outputs": [
    {
     "name": "stdout",
     "output_type": "stream",
     "text": [
      "the function 'add'' has been called '1' times\n"
     ]
    },
    {
     "data": {
      "text/plain": [
       "60"
      ]
     },
     "execution_count": 12,
     "metadata": {},
     "output_type": "execute_result"
    }
   ],
   "source": [
    "def counter(fn):\n",
    "    count = 0\n",
    "    def inner(*args, **kwargs):\n",
    "        nonlocal count\n",
    "        count += 1\n",
    "        print(\"the function '{0}'' has been called '{1}' times\".format(fn.__name__, count))\n",
    "        return fn(*args, **kwargs)\n",
    "    return inner\n",
    "\n",
    "def add(a,b):\n",
    "    return a+b\n",
    "\n",
    "def mul(a,b):\n",
    "    return a*b\n",
    "\n",
    "ctr_add = counter(add)\n",
    "ctr_add(20,40)"
   ]
  },
  {
   "cell_type": "code",
   "execution_count": 13,
   "id": "5f0884c3",
   "metadata": {},
   "outputs": [
    {
     "name": "stdout",
     "output_type": "stream",
     "text": [
      "the function 'mul'' has been called '1' times\n"
     ]
    },
    {
     "data": {
      "text/plain": [
       "800"
      ]
     },
     "execution_count": 13,
     "metadata": {},
     "output_type": "execute_result"
    }
   ],
   "source": [
    "ctr_mul = counter(mul)\n",
    "ctr_mul(20, 40)"
   ]
  },
  {
   "cell_type": "code",
   "execution_count": 14,
   "id": "6718244a",
   "metadata": {},
   "outputs": [
    {
     "name": "stdout",
     "output_type": "stream",
     "text": [
      "the function 'mul'' has been called '2' times\n"
     ]
    },
    {
     "data": {
      "text/plain": [
       "4100"
      ]
     },
     "execution_count": 14,
     "metadata": {},
     "output_type": "execute_result"
    }
   ],
   "source": [
    "ctr_mul(10, 410)"
   ]
  },
  {
   "cell_type": "code",
   "execution_count": 15,
   "id": "85ef81dc",
   "metadata": {},
   "outputs": [
    {
     "data": {
      "text/plain": [
       "(<cell at 0x7ff391536d00: int object at 0x7ff38be21930>,\n",
       " <cell at 0x7ff391536760: function object at 0x7ff391e8bc10>)"
      ]
     },
     "execution_count": 15,
     "metadata": {},
     "output_type": "execute_result"
    }
   ],
   "source": [
    "ctr_add.__closure__"
   ]
  },
  {
   "cell_type": "code",
   "execution_count": 16,
   "id": "343f785a",
   "metadata": {},
   "outputs": [
    {
     "data": {
      "text/plain": [
       "(<cell at 0x7ff391536d90: int object at 0x7ff38be21950>,\n",
       " <cell at 0x7ff391536f10: function object at 0x7ff391e8b700>)"
      ]
     },
     "execution_count": 16,
     "metadata": {},
     "output_type": "execute_result"
    }
   ],
   "source": [
    "ctr_mul.__closure__"
   ]
  },
  {
   "cell_type": "markdown",
   "id": "3b60cbe2",
   "metadata": {},
   "source": [
    "# using a dict to track the function calls"
   ]
  },
  {
   "cell_type": "code",
   "execution_count": 20,
   "id": "4929d4dc",
   "metadata": {},
   "outputs": [
    {
     "data": {
      "text/plain": [
       "{}"
      ]
     },
     "execution_count": 20,
     "metadata": {},
     "output_type": "execute_result"
    }
   ],
   "source": [
    "counters = {}\n",
    "def counter(fn):\n",
    "    count = 0\n",
    "    \n",
    "    def inner(*args, **kwargs):\n",
    "        nonlocal count\n",
    "        count += 1\n",
    "        counters[fn.__name__] = count\n",
    "        return fn(*args, **kwargs)\n",
    "\n",
    "    return inner\n",
    "\n",
    "def add(a,b):\n",
    "    return a+b\n",
    "\n",
    "def mul(a,b):\n",
    "    return a*b\n",
    "\n",
    "c_add = counter(add)\n",
    "c_mul = counter(mul)\n",
    "counters"
   ]
  },
  {
   "cell_type": "code",
   "execution_count": 21,
   "id": "e133e66e",
   "metadata": {},
   "outputs": [
    {
     "data": {
      "text/plain": [
       "60"
      ]
     },
     "execution_count": 21,
     "metadata": {},
     "output_type": "execute_result"
    }
   ],
   "source": [
    "c_add(20,40)"
   ]
  },
  {
   "cell_type": "code",
   "execution_count": 22,
   "id": "93d90d5e",
   "metadata": {},
   "outputs": [
    {
     "data": {
      "text/plain": [
       "{'add': 1}"
      ]
     },
     "execution_count": 22,
     "metadata": {},
     "output_type": "execute_result"
    }
   ],
   "source": [
    "counters"
   ]
  },
  {
   "cell_type": "code",
   "execution_count": 23,
   "id": "c98417b9",
   "metadata": {},
   "outputs": [
    {
     "data": {
      "text/plain": [
       "800"
      ]
     },
     "execution_count": 23,
     "metadata": {},
     "output_type": "execute_result"
    }
   ],
   "source": [
    "c_mul(20,40)"
   ]
  },
  {
   "cell_type": "code",
   "execution_count": 24,
   "id": "8dc7d8a5",
   "metadata": {},
   "outputs": [
    {
     "data": {
      "text/plain": [
       "{'add': 1, 'mul': 1}"
      ]
     },
     "execution_count": 24,
     "metadata": {},
     "output_type": "execute_result"
    }
   ],
   "source": [
    "counters"
   ]
  },
  {
   "cell_type": "code",
   "execution_count": 25,
   "id": "80b39594",
   "metadata": {},
   "outputs": [
    {
     "data": {
      "text/plain": [
       "28800"
      ]
     },
     "execution_count": 25,
     "metadata": {},
     "output_type": "execute_result"
    }
   ],
   "source": [
    "c_add(120,240)\n",
    "c_mul(120,240)"
   ]
  },
  {
   "cell_type": "code",
   "execution_count": 26,
   "id": "1927e777",
   "metadata": {},
   "outputs": [
    {
     "data": {
      "text/plain": [
       "{'add': 2, 'mul': 2}"
      ]
     },
     "execution_count": 26,
     "metadata": {},
     "output_type": "execute_result"
    }
   ],
   "source": [
    "counters"
   ]
  },
  {
   "cell_type": "markdown",
   "id": "a3d34a02",
   "metadata": {},
   "source": [
    "# sending counters as local variable"
   ]
  },
  {
   "cell_type": "code",
   "execution_count": 5,
   "id": "89d0b00c",
   "metadata": {},
   "outputs": [
    {
     "data": {
      "text/plain": [
       "{}"
      ]
     },
     "execution_count": 5,
     "metadata": {},
     "output_type": "execute_result"
    }
   ],
   "source": [
    "def counter(fn, fn_counter):\n",
    "    count = 0\n",
    "    \n",
    "    def inner(*args, **kwargs):\n",
    "        nonlocal count\n",
    "        # nonlocal fn_counter\n",
    "        count += 1\n",
    "        fn_counter[fn.__name__] = count\n",
    "        return fn(*args, **kwargs)\n",
    "\n",
    "    return inner\n",
    "\n",
    "def add(a,b):\n",
    "    return a+b\n",
    "\n",
    "def mul(a,b):\n",
    "    return a*b\n",
    "c = {}\n",
    "c_add = counter(add, c)\n",
    "c_mul = counter(mul, c)\n",
    "c"
   ]
  },
  {
   "cell_type": "code",
   "execution_count": 6,
   "id": "d487a215",
   "metadata": {},
   "outputs": [
    {
     "data": {
      "text/plain": [
       "60"
      ]
     },
     "execution_count": 6,
     "metadata": {},
     "output_type": "execute_result"
    }
   ],
   "source": [
    "c_add(20,40)"
   ]
  },
  {
   "cell_type": "code",
   "execution_count": 7,
   "id": "a2295e4b",
   "metadata": {},
   "outputs": [
    {
     "data": {
      "text/plain": [
       "{'add': 1}"
      ]
     },
     "execution_count": 7,
     "metadata": {},
     "output_type": "execute_result"
    }
   ],
   "source": [
    "c"
   ]
  },
  {
   "cell_type": "code",
   "execution_count": 8,
   "id": "2fcddea3",
   "metadata": {},
   "outputs": [
    {
     "data": {
      "text/plain": [
       "800"
      ]
     },
     "execution_count": 8,
     "metadata": {},
     "output_type": "execute_result"
    }
   ],
   "source": [
    "c_mul(20,40)"
   ]
  },
  {
   "cell_type": "code",
   "execution_count": 9,
   "id": "434a1049",
   "metadata": {},
   "outputs": [
    {
     "data": {
      "text/plain": [
       "{'add': 1, 'mul': 1}"
      ]
     },
     "execution_count": 9,
     "metadata": {},
     "output_type": "execute_result"
    }
   ],
   "source": [
    "c"
   ]
  },
  {
   "cell_type": "code",
   "execution_count": 10,
   "id": "a2a07fa6",
   "metadata": {},
   "outputs": [
    {
     "data": {
      "text/plain": [
       "28800"
      ]
     },
     "execution_count": 10,
     "metadata": {},
     "output_type": "execute_result"
    }
   ],
   "source": [
    "c_add(120,240)\n",
    "c_mul(120,240)"
   ]
  },
  {
   "cell_type": "code",
   "execution_count": 11,
   "id": "af7fdd54",
   "metadata": {},
   "outputs": [
    {
     "data": {
      "text/plain": [
       "{'add': 2, 'mul': 2}"
      ]
     },
     "execution_count": 11,
     "metadata": {},
     "output_type": "execute_result"
    }
   ],
   "source": [
    "c"
   ]
  },
  {
   "cell_type": "markdown",
   "id": "c638ad3a",
   "metadata": {},
   "source": [
    "# factorial n"
   ]
  },
  {
   "cell_type": "code",
   "execution_count": 17,
   "id": "b5ee3bab",
   "metadata": {},
   "outputs": [
    {
     "data": {
      "text/plain": [
       "120"
      ]
     },
     "execution_count": 17,
     "metadata": {},
     "output_type": "execute_result"
    }
   ],
   "source": [
    "def counter(fn, fn_counter):\n",
    "    count = 0\n",
    "    \n",
    "    def inner(*args, **kwargs):\n",
    "        nonlocal count\n",
    "        # nonlocal fn_counter\n",
    "        count += 1\n",
    "        fn_counter[fn.__name__] = count\n",
    "        return fn(*args, **kwargs)\n",
    "\n",
    "    return inner\n",
    "\n",
    "def fact(n):\n",
    "    product = 1\n",
    "    for i in range(2,n+1):\n",
    "        product *= i # in python there is no block scope for if/else/for/while....\n",
    "    return product\n",
    "\n",
    "fact(5)"
   ]
  },
  {
   "cell_type": "code",
   "execution_count": 18,
   "id": "170329c3",
   "metadata": {},
   "outputs": [],
   "source": [
    "c_fact = counter(fact,c)"
   ]
  },
  {
   "cell_type": "code",
   "execution_count": 19,
   "id": "41c8dc0c",
   "metadata": {},
   "outputs": [
    {
     "data": {
      "text/plain": [
       "120"
      ]
     },
     "execution_count": 19,
     "metadata": {},
     "output_type": "execute_result"
    }
   ],
   "source": [
    "c_fact(5)"
   ]
  },
  {
   "cell_type": "code",
   "execution_count": 20,
   "id": "c986c373",
   "metadata": {},
   "outputs": [
    {
     "data": {
      "text/plain": [
       "{'add': 2, 'mul': 2, 'fact': 1}"
      ]
     },
     "execution_count": 20,
     "metadata": {},
     "output_type": "execute_result"
    }
   ],
   "source": [
    "c"
   ]
  },
  {
   "cell_type": "markdown",
   "id": "c37f0626",
   "metadata": {},
   "source": [
    "# we can assign fact to this new closure"
   ]
  },
  {
   "cell_type": "code",
   "execution_count": 22,
   "id": "90b9ac83",
   "metadata": {},
   "outputs": [],
   "source": [
    "fact = counter(fact, c)"
   ]
  },
  {
   "cell_type": "code",
   "execution_count": 23,
   "id": "cbc33525",
   "metadata": {},
   "outputs": [
    {
     "data": {
      "text/plain": [
       "(<cell at 0x7fa70dcee8e0: int object at 0x7fa708e21910>,\n",
       " <cell at 0x7fa70dcee280: function object at 0x7fa70e6e6700>,\n",
       " <cell at 0x7fa70dcee0a0: dict object at 0x7fa70e693780>)"
      ]
     },
     "execution_count": 23,
     "metadata": {},
     "output_type": "execute_result"
    }
   ],
   "source": [
    "fact.__closure__ # now fact is not just a function its a closure"
   ]
  },
  {
   "cell_type": "code",
   "execution_count": 26,
   "id": "cafc3268",
   "metadata": {},
   "outputs": [
    {
     "data": {
      "text/plain": [
       "120"
      ]
     },
     "execution_count": 26,
     "metadata": {},
     "output_type": "execute_result"
    }
   ],
   "source": [
    "fact(5)"
   ]
  },
  {
   "cell_type": "code",
   "execution_count": 27,
   "id": "06b82ec2",
   "metadata": {},
   "outputs": [
    {
     "data": {
      "text/plain": [
       "{'add': 2, 'mul': 2, 'fact': 2}"
      ]
     },
     "execution_count": 27,
     "metadata": {},
     "output_type": "execute_result"
    }
   ],
   "source": [
    "c"
   ]
  },
  {
   "cell_type": "code",
   "execution_count": null,
   "id": "4c754268",
   "metadata": {},
   "outputs": [],
   "source": []
  }
 ],
 "metadata": {
  "kernelspec": {
   "display_name": "Python 3 (ipykernel)",
   "language": "python",
   "name": "python3"
  },
  "language_info": {
   "codemirror_mode": {
    "name": "ipython",
    "version": 3
   },
   "file_extension": ".py",
   "mimetype": "text/x-python",
   "name": "python",
   "nbconvert_exporter": "python",
   "pygments_lexer": "ipython3",
   "version": "3.9.12"
  }
 },
 "nbformat": 4,
 "nbformat_minor": 5
}

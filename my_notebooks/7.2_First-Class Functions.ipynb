{
 "cells": [
  {
   "cell_type": "markdown",
   "id": "8cefa9ee",
   "metadata": {},
   "source": [
    "# First class Objects\n",
    "Any object is first class object when\n",
    "- can be passed to a function as an argument\n",
    "- can be returned from a function\n",
    "- can be assigned to a variable\n",
    "- can be stored in a data structure(such as list, tuple, dictionary, etc.)\n",
    "\n",
    "**Types such as int, float, string, tuple, list and many more are first-class objects.\n",
    "\n",
    "**Functions are also first-class objects\n",
    "\n",
    "# Higher Order Functions:\n",
    "- functions which can take function as an argument (eg: the simple timer we wrote in that last section)\n",
    "    \n",
    "    **and/or\n",
    "\n",
    "- return a function (like in decorators)"
   ]
  },
  {
   "cell_type": "markdown",
   "id": "1e118608",
   "metadata": {},
   "source": [
    "#### Docstrings and Annotations - Lecture\n",
    "- if the first line in the function body is a string(not an assignment, not a comment, just a string by itself) it will be interpreted as a docstring.\n",
    "- Multi-line docstrings are achieved using... multi-line strings"
   ]
  },
  {
   "cell_type": "code",
   "execution_count": 1,
   "id": "2afe1b94",
   "metadata": {},
   "outputs": [],
   "source": [
    "def my_funct(a):\n",
    "    \"documentation for my_funct\"\n",
    "    return a"
   ]
  },
  {
   "cell_type": "code",
   "execution_count": 2,
   "id": "f96aa21f",
   "metadata": {},
   "outputs": [
    {
     "name": "stdout",
     "output_type": "stream",
     "text": [
      "Help on function my_funct in module __main__:\n",
      "\n",
      "my_funct(a)\n",
      "    documentation for my_funct\n",
      "\n"
     ]
    }
   ],
   "source": [
    "help(my_funct)"
   ]
  },
  {
   "cell_type": "markdown",
   "id": "be511fbb",
   "metadata": {},
   "source": [
    "#### Where are docstrings stored\n",
    "- Functions are objects and objects have properties\n",
    "- docstring are stored in __ doc __ property"
   ]
  },
  {
   "cell_type": "code",
   "execution_count": 3,
   "id": "8de7bc21",
   "metadata": {},
   "outputs": [
    {
     "data": {
      "text/plain": [
       "'documentation for my_funct'"
      ]
     },
     "execution_count": 3,
     "metadata": {},
     "output_type": "execute_result"
    }
   ],
   "source": [
    "my_funct.__doc__"
   ]
  },
  {
   "cell_type": "markdown",
   "id": "3bdbac4d",
   "metadata": {},
   "source": [
    "#### Function Annotations\n",
    "- Function annotations gives us an additional way to dicument our function\n",
    "- Doesn't effect the function, its just a meta data\n",
    "- annotations can be any expression\n",
    "- we can pass in list or expression or even use functions"
   ]
  },
  {
   "cell_type": "code",
   "execution_count": 4,
   "id": "d84b2eca",
   "metadata": {},
   "outputs": [
    {
     "name": "stdout",
     "output_type": "stream",
     "text": [
      "Help on function multiply in module __main__:\n",
      "\n",
      "multiply(a: int, b: int) -> int\n",
      "\n"
     ]
    }
   ],
   "source": [
    "def multiply(a:int, b:int) -> int:\n",
    "    return a*b\n",
    "\n",
    "help(multiply)"
   ]
  },
  {
   "cell_type": "code",
   "execution_count": 7,
   "id": "034fcda3",
   "metadata": {},
   "outputs": [
    {
     "name": "stdout",
     "output_type": "stream",
     "text": [
      "Help on function str_mul in module __main__:\n",
      "\n",
      "str_mul(a: 'a string', b: 'a positive integer') -> 'a string'\n",
      "\n"
     ]
    }
   ],
   "source": [
    "def str_mul(a: 'a string', b: 'a positive integer') -> 'a string':\n",
    "    return a*b\n",
    "\n",
    "str_mul('Guru', 10)\n",
    "help(str_mul)"
   ]
  },
  {
   "cell_type": "code",
   "execution_count": 8,
   "id": "2228486f",
   "metadata": {},
   "outputs": [
    {
     "name": "stdout",
     "output_type": "stream",
     "text": [
      "Help on function mul in module __main__:\n",
      "\n",
      "mul(a: str, b: [1, 2, 3, 4]) -> str\n",
      "\n"
     ]
    }
   ],
   "source": [
    "def mul(a: str, b:[1,2,3,4]) -> str:\n",
    "    return a*b\n",
    "help(mul)"
   ]
  },
  {
   "cell_type": "code",
   "execution_count": 9,
   "id": "f8f9b2ba",
   "metadata": {},
   "outputs": [
    {
     "name": "stdout",
     "output_type": "stream",
     "text": [
      "Help on function mul in module __main__:\n",
      "\n",
      "mul(a: str, b: 'int>0') -> str\n",
      "\n"
     ]
    }
   ],
   "source": [
    "def mul(a: str, b: 'int>0') -> str:\n",
    "    return a*b\n",
    "help(mul)"
   ]
  },
  {
   "cell_type": "code",
   "execution_count": 12,
   "id": "8336dc5f",
   "metadata": {},
   "outputs": [
    {
     "name": "stdout",
     "output_type": "stream",
     "text": [
      "Help on function my_funct in module __main__:\n",
      "\n",
      "my_funct(a: str) -> 'a repeated 5 times'\n",
      "\n"
     ]
    }
   ],
   "source": [
    "x=3\n",
    "y=5\n",
    "def my_funct(a: str) -> f\"a repeated {str(max(x,y))} times\":\n",
    "    return a*max(x,y)\n",
    "\n",
    "help(my_funct)"
   ]
  },
  {
   "cell_type": "markdown",
   "id": "b2ed6913",
   "metadata": {},
   "source": [
    "**please note: the above function meta data is determined when the module is loaded and NOT when the function is called**\n",
    "\n",
    "- How about handling * args & ** kwargs\n",
    "\n",
    "**These annotations are stored in _ _annotations_ _ property of the function, in the form of a dictionary\n",
    "- keys are the parameter names, **for return annotation , the key is return"
   ]
  },
  {
   "cell_type": "code",
   "execution_count": 2,
   "id": "88acd347",
   "metadata": {},
   "outputs": [
    {
     "name": "stdout",
     "output_type": "stream",
     "text": [
      "Help on function func in module __main__:\n",
      "\n",
      "func(a: str = 'first param', *args: 'additional params', b: int = 1, **kwargs: 'additiona kw only param') -> str\n",
      "\n"
     ]
    }
   ],
   "source": [
    "def func(a: str = 'first param', \n",
    "        *args: 'additional params',\n",
    "        b: int = 1,\n",
    "        **kwargs: 'additiona kw only param') -> str:\n",
    "    pass\n",
    "\n",
    "help(func)"
   ]
  },
  {
   "cell_type": "code",
   "execution_count": 3,
   "id": "722c7dd6",
   "metadata": {},
   "outputs": [
    {
     "data": {
      "text/plain": [
       "{'a': str,\n",
       " 'args': 'additional params',\n",
       " 'b': int,\n",
       " 'kwargs': 'additiona kw only param',\n",
       " 'return': str}"
      ]
     },
     "execution_count": 3,
     "metadata": {},
     "output_type": "execute_result"
    }
   ],
   "source": [
    "func.__annotations__"
   ]
  },
  {
   "cell_type": "markdown",
   "id": "abd461a2",
   "metadata": {},
   "source": [
    "## Lambda Expressions - Lecture"
   ]
  },
  {
   "cell_type": "code",
   "execution_count": null,
   "id": "469a8959",
   "metadata": {},
   "outputs": [],
   "source": []
  }
 ],
 "metadata": {
  "kernelspec": {
   "display_name": "Python 3 (ipykernel)",
   "language": "python",
   "name": "python3"
  },
  "language_info": {
   "codemirror_mode": {
    "name": "ipython",
    "version": 3
   },
   "file_extension": ".py",
   "mimetype": "text/x-python",
   "name": "python",
   "nbconvert_exporter": "python",
   "pygments_lexer": "ipython3",
   "version": "3.9.12"
  }
 },
 "nbformat": 4,
 "nbformat_minor": 5
}

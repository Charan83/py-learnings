{
 "cells": [
  {
   "cell_type": "markdown",
   "id": "764d8075",
   "metadata": {},
   "source": [
    "# Lists / Tuple Unpacking\n",
    "   - using * as an argument to a function to 'unpack' the values\n",
    "   - For unpacking the values, we use '*' as an argument to a function and not for the parameter in a function definition\n",
    "   - we have a list/tuple of values and we want to send then to a function as separate values, then we have to unpack"
   ]
  },
  {
   "cell_type": "code",
   "execution_count": 4,
   "id": "2f4c7f89",
   "metadata": {},
   "outputs": [
    {
     "name": "stdout",
     "output_type": "stream",
     "text": [
      "unpacking_list_tuple(*nums_list) : 28\n",
      "unpacking_list_tuple(*nums_tuple) : 45\n"
     ]
    },
    {
     "ename": "TypeError",
     "evalue": "unsupported operand type(s) for +=: 'int' and 'list'",
     "output_type": "error",
     "traceback": [
      "\u001b[0;31m---------------------------------------------------------------------------\u001b[0m",
      "\u001b[0;31mTypeError\u001b[0m                                 Traceback (most recent call last)",
      "Input \u001b[0;32mIn [4]\u001b[0m, in \u001b[0;36m<cell line: 12>\u001b[0;34m()\u001b[0m\n\u001b[1;32m     10\u001b[0m \u001b[38;5;28mprint\u001b[39m(\u001b[38;5;124mf\u001b[39m\u001b[38;5;124m\"\u001b[39m\u001b[38;5;124munpacking_list_tuple(*nums_list) : \u001b[39m\u001b[38;5;132;01m{\u001b[39;00munpacking_list_tuple(\u001b[38;5;241m*\u001b[39mnums_list)\u001b[38;5;132;01m}\u001b[39;00m\u001b[38;5;124m\"\u001b[39m) \u001b[38;5;66;03m# unpack list of values\u001b[39;00m\n\u001b[1;32m     11\u001b[0m \u001b[38;5;28mprint\u001b[39m(\u001b[38;5;124mf\u001b[39m\u001b[38;5;124m\"\u001b[39m\u001b[38;5;124munpacking_list_tuple(*nums_tuple) : \u001b[39m\u001b[38;5;132;01m{\u001b[39;00munpacking_list_tuple(\u001b[38;5;241m*\u001b[39mnums_tuple)\u001b[38;5;132;01m}\u001b[39;00m\u001b[38;5;124m\"\u001b[39m) \u001b[38;5;66;03m# unpack tuple of values\u001b[39;00m\n\u001b[0;32m---> 12\u001b[0m \u001b[38;5;28mprint\u001b[39m(\u001b[38;5;124mf\u001b[39m\u001b[38;5;124m\"\u001b[39m\u001b[38;5;124munpacking_list_tuple(nums_list) : \u001b[39m\u001b[38;5;132;01m{\u001b[39;00munpacking_list_tuple(nums_list)\u001b[38;5;132;01m}\u001b[39;00m\u001b[38;5;124m\"\u001b[39m)\n",
      "Input \u001b[0;32mIn [4]\u001b[0m, in \u001b[0;36munpacking_list_tuple\u001b[0;34m(*args)\u001b[0m\n\u001b[1;32m      5\u001b[0m \u001b[38;5;28msum\u001b[39m \u001b[38;5;241m=\u001b[39m \u001b[38;5;241m0\u001b[39m\n\u001b[1;32m      6\u001b[0m \u001b[38;5;28;01mfor\u001b[39;00m arg \u001b[38;5;129;01min\u001b[39;00m args:\n\u001b[0;32m----> 7\u001b[0m     \u001b[38;5;28msum\u001b[39m \u001b[38;5;241m+\u001b[39m\u001b[38;5;241m=\u001b[39m arg\n\u001b[1;32m      8\u001b[0m \u001b[38;5;28;01mreturn\u001b[39;00m \u001b[38;5;28msum\u001b[39m\n",
      "\u001b[0;31mTypeError\u001b[0m: unsupported operand type(s) for +=: 'int' and 'list'"
     ]
    }
   ],
   "source": [
    "nums_list = [1, 2, 3, 4, 5, 6, 7]\n",
    "nums_tuple = (1, 2, 3, 4, 5, 6, 7, 8, 9)\n",
    "\n",
    "def unpacking_list_tuple(*args):\n",
    "    sum = 0\n",
    "    for arg in args:\n",
    "        sum += arg\n",
    "    return sum\n",
    "\n",
    "print(f\"unpacking_list_tuple(*nums_list) : {unpacking_list_tuple(*nums_list)}\") # unpack list of values\n",
    "print(f\"unpacking_list_tuple(*nums_tuple) : {unpacking_list_tuple(*nums_tuple)}\") # unpack tuple of values\n",
    "print(f\"unpacking_list_tuple(nums_list) : {unpacking_list_tuple(nums_list)}\") # error when we pass the list without unpacking"
   ]
  },
  {
   "cell_type": "markdown",
   "id": "b0b5287a",
   "metadata": {},
   "source": [
    "## example : unpacking list: count 7's or any numbers"
   ]
  },
  {
   "cell_type": "code",
   "execution_count": 7,
   "id": "82683b73",
   "metadata": {},
   "outputs": [
    {
     "name": "stdout",
     "output_type": "stream",
     "text": [
      "args : (1, 2, 3, 4, 5, 6, 7)\n",
      "count_numbers(1,2,3,4,5,6,7) : 1\n",
      "args : (90, 1, 35, 67, 89, 20, 3, 1, 2, 3, 4, 5, 6, 9, 34, 46, 57, 68, 79, 12, 23, 34, 55, 1, 90, 54, 34, 76, 8, 23, 34, 45, 56, 67, 78, 12, 23, 34, 45, 56, 67, 768, 23, 4, 5, 6, 7, 8, 9, 12, 34, 14, 15, 16, 17, 11, 7, 11, 8, 4, 6, 2, 5, 8, 7, 10, 12, 13, 14, 15, 7, 8, 7, 7, 345, 23, 34, 45, 56, 67, 1, 7, 3, 6, 7, 2, 3, 4, 5, 6, 7, 8, 9, 8, 7, 6, 5, 4, 2, 1, 2, 3, 4, 5, 6, 7, 8, 9, 0, 9, 8, 7, 8, 7, 6, 5, 4, 3, 2, 1, 7)\n",
      "count_numbers(*nums) : 14\n",
      "args : (90, 1, 35, 67, 89, 20, 3, 1, 2, 3, 4, 5, 6, 9, 34, 46, 57, 68, 79, 12, 23, 34, 55, 1, 90, 54, 34, 76, 8, 23, 34, 45, 56, 67, 78, 12, 23, 34, 45, 56, 67, 768, 23, 4, 5, 6, 7, 8, 9, 12, 34, 14, 15, 16, 17, 11, 7, 11, 8, 4, 6, 2, 5, 8, 7, 10, 12, 13, 14, 15, 7, 8, 7, 7, 345, 23, 34, 45, 56, 67, 1, 7, 3, 6, 7, 2, 3, 4, 5, 6, 7, 8, 9, 8, 7, 6, 5, 4, 2, 1, 2, 3, 4, 5, 6, 7, 8, 9, 0, 9, 8, 7, 8, 7, 6, 5, 4, 3, 2, 1, 7, 1)\n",
      "count_numbers(*nums, 1) : 14\n"
     ]
    }
   ],
   "source": [
    "nums = [90, 1, 35, 67, 89, 20, 3, 1, 2, 3, 4, 5, 6, 9, 34, 46, 57, 68, 79, 12, 23, 34, 55, 1, 90, 54, 34, 76, 8, 23, 34, 45, 56, 67, 78, 12, 23, 34, 45, 56, 67, 768, 23, 4, 5, 6, 7, 8, 9, 12, 34, 14, 15, 16, 17,\n",
    "        11, 7, 11, 8, 4, 6, 2, 5, 8, 7, 10, 12, 13, 14, 15, 7, 8, 7, 7, 345, 23, 34, 45, 56, 67, 1, 7, 3, 6, 7, 2, 3, 4, 5, 6, 7, 8, 9, 8, 7, 6, 5, 4, 2, 1, 2, 3, 4, 5, 6, 7, 8, 9, 0, 9, 8, 7, 8, 7, 6, 5, 4, 3, 2, 1, 7]\n",
    "\n",
    "def count_numbers(*args, num_to_count=7):\n",
    "    print(f\"args : {args}\")\n",
    "    return args.count(num_to_count)\n",
    "\n",
    "print(f\"count_numbers(1,2,3,4,5,6,7) : {count_numbers(1,2,3,4,5,6,7)}\")\n",
    "print(f\"count_numbers(*nums) : {count_numbers(*nums)}\")\n",
    "print(f\"count_numbers(*nums, 1) : {count_numbers(*nums,1)}\")\n",
    "    "
   ]
  },
  {
   "cell_type": "markdown",
   "id": "7bce411d",
   "metadata": {},
   "source": [
    "# Dictionary unpacking\n",
    "    - using ** as an argument, for dictionary unpacking\n",
    "    - for unpacking it should have same keys\n",
    "    - when we pass a dictionary we have to unpack and make sure the keys are the parameter names"
   ]
  },
  {
   "cell_type": "code",
   "execution_count": 11,
   "id": "a865b721",
   "metadata": {},
   "outputs": [
    {
     "name": "stdout",
     "output_type": "stream",
     "text": [
      "Guru Annapantula\n",
      "full_name(**name1) : Prem Annapantula\n"
     ]
    },
    {
     "ename": "TypeError",
     "evalue": "full_name() got an unexpected keyword argument 'Keys_should_be_same'",
     "output_type": "error",
     "traceback": [
      "\u001b[0;31m---------------------------------------------------------------------------\u001b[0m",
      "\u001b[0;31mTypeError\u001b[0m                                 Traceback (most recent call last)",
      "Input \u001b[0;32mIn [11]\u001b[0m, in \u001b[0;36m<cell line: 9>\u001b[0;34m()\u001b[0m\n\u001b[1;32m      7\u001b[0m \u001b[38;5;28mprint\u001b[39m(full_name(\u001b[38;5;124m'\u001b[39m\u001b[38;5;124mGuru\u001b[39m\u001b[38;5;124m'\u001b[39m, \u001b[38;5;124m'\u001b[39m\u001b[38;5;124mAnnapantula\u001b[39m\u001b[38;5;124m'\u001b[39m)) \u001b[38;5;66;03m# can pass simple arguments\u001b[39;00m\n\u001b[1;32m      8\u001b[0m \u001b[38;5;28mprint\u001b[39m(\u001b[38;5;124mf\u001b[39m\u001b[38;5;124m\"\u001b[39m\u001b[38;5;124mfull_name(**name1) : \u001b[39m\u001b[38;5;132;01m{\u001b[39;00mfull_name(\u001b[38;5;241m*\u001b[39m\u001b[38;5;241m*\u001b[39mname1)\u001b[38;5;132;01m}\u001b[39;00m\u001b[38;5;124m\"\u001b[39m) \u001b[38;5;66;03m# when we pass a dictionary we have to unpack and make sure the keys are the parameter names\u001b[39;00m\n\u001b[0;32m----> 9\u001b[0m \u001b[38;5;28mprint\u001b[39m(\u001b[38;5;124mf\u001b[39m\u001b[38;5;124m\"\u001b[39m\u001b[38;5;124mfull_name(**name2) Error as parameter names are different from the keys in the dictionary: \u001b[39m\u001b[38;5;132;01m{\u001b[39;00mfull_name(\u001b[38;5;241m*\u001b[39m\u001b[38;5;241m*\u001b[39mname2)\u001b[38;5;132;01m}\u001b[39;00m\u001b[38;5;124m\"\u001b[39m)\n",
      "\u001b[0;31mTypeError\u001b[0m: full_name() got an unexpected keyword argument 'Keys_should_be_same'"
     ]
    }
   ],
   "source": [
    "def full_name(first_name, initial):\n",
    "    return f\"{first_name} {initial}\"\n",
    "\n",
    "name1 = {\"first_name\": \"Prem\", \"initial\": \"Annapantula\" }\n",
    "name2 = {\"Keys_should_be_same\": \"Prem\", \"initial\": \"Annapantula\" }\n",
    "\n",
    "print(full_name('Guru', 'Annapantula')) # can pass simple arguments\n",
    "print(f\"full_name(**name1) : {full_name(**name1)}\") # when we pass a dictionary we have to unpack and make sure the keys are the parameter names\n",
    "print(f\"full_name(**name2) Error as parameter names are different from the keys in the dictionary: {full_name(**name2)}\") "
   ]
  },
  {
   "cell_type": "code",
   "execution_count": 24,
   "id": "649f3907",
   "metadata": {},
   "outputs": [
    {
     "name": "stdout",
     "output_type": "stream",
     "text": [
      "{'make_float': False, 'operation': 'add', 'message': 'You just added', 'first': 2, 'second': 4}\n",
      "You just added, the result is : 6\n",
      "{'make_float': False, 'operation': 'multiply', 'message': 'You just multiplied', 'first': 2, 'second': 40}\n",
      "You just multiplied, the result is : 80\n",
      "{'make_float': False, 'operation': 'subtract', 'message': 'You just subtracted', 'first': 2, 'second': 4}\n",
      "You just subtracted, the result is : -2\n",
      "{'make_float': False, 'operation': 'divide', 'message': 'You just divided', 'first': 2, 'second': 40}\n",
      "You just divided, the result is : 0\n"
     ]
    }
   ],
   "source": [
    "def calculate(**kwargs):\n",
    "    print(kwargs)\n",
    "    operation_lookup = {\n",
    "        'add': kwargs.get('first', 0) + kwargs.get('second', 0),\n",
    "        'multiply': kwargs.get('first', 0) * kwargs.get('second', 0),\n",
    "        'divide': kwargs.get('first', 0) / kwargs.get('second', 1),\n",
    "        'subtract': kwargs.get('first', 0) - kwargs.get('second', 0)\n",
    "    }\n",
    "    is_float = kwargs.get('make_float', False)\n",
    "    operation_val = operation_lookup.get(kwargs.get('operation', 'add'))\n",
    "    \n",
    "    if is_float:\n",
    "        result = f\"{kwargs['message']}, the result is : {float(operation_val)}\"\n",
    "    else:\n",
    "        result = f\"{kwargs['message']}, the result is : {int(operation_val)}\"\n",
    "    \n",
    "    return result\n",
    "\n",
    "    \n",
    "print(calculate(make_float=False, operation='add',\n",
    "          message='You just added', first=2, second=4))\n",
    "print(calculate(make_float=False, operation='multiply',\n",
    "          message='You just multiplied', first=2, second=40))\n",
    "print(calculate(make_float=False, operation='subtract',\n",
    "          message='You just subtracted', first=2, second=4))\n",
    "print(calculate(make_float=False, operation='divide',\n",
    "          message='You just divided', first=2, second=40))\n",
    "    "
   ]
  },
  {
   "cell_type": "code",
   "execution_count": null,
   "id": "b9c1179a",
   "metadata": {},
   "outputs": [],
   "source": []
  }
 ],
 "metadata": {
  "kernelspec": {
   "display_name": "Python 3 (ipykernel)",
   "language": "python",
   "name": "python3"
  },
  "language_info": {
   "codemirror_mode": {
    "name": "ipython",
    "version": 3
   },
   "file_extension": ".py",
   "mimetype": "text/x-python",
   "name": "python",
   "nbconvert_exporter": "python",
   "pygments_lexer": "ipython3",
   "version": "3.9.12"
  }
 },
 "nbformat": 4,
 "nbformat_minor": 5
}

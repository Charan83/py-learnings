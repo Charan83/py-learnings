{
 "cells": [
  {
   "cell_type": "markdown",
   "id": "82995e43",
   "metadata": {},
   "source": [
    "# Working with Built-in Modules\n",
    "\n",
    "\n",
    "##   module\n",
    "       - a module is just a python file\n",
    "       - import code from built-in module\n",
    "           - https://docs.python.org/3/py-modindex.html\n",
    "           - these are built in, so no need to install then we can directly import them and use\n",
    "               - ex: import random (https://docs.python.org/3/library/random.html#module-random)\n",
    "               - then we can use as, random.randint(), random.choice()\n",
    "           - alias the module\n",
    "               - ex: import ramdom as rand\n",
    "               - rand.randint(), rand.choice()\n",
    "           - importing parts of a module (recommended : only import what you need)\n",
    "               - from random import choice"
   ]
  },
  {
   "cell_type": "code",
   "execution_count": 6,
   "id": "e9de7602",
   "metadata": {},
   "outputs": [
    {
     "name": "stdout",
     "output_type": "stream",
     "text": [
      "Prem\n"
     ]
    }
   ],
   "source": [
    "import random as rand\n",
    "\n",
    "print(rand.choice(['Guru','Prem','Hansni']))"
   ]
  },
  {
   "cell_type": "code",
   "execution_count": 8,
   "id": "52e093c0",
   "metadata": {},
   "outputs": [
    {
     "name": "stdout",
     "output_type": "stream",
     "text": [
      "Hansni\n"
     ]
    }
   ],
   "source": [
    "from random import choice as ch\n",
    "print(ch(['Guru','Prem','Hansni']))"
   ]
  },
  {
   "cell_type": "code",
   "execution_count": 9,
   "id": "e98730b9",
   "metadata": {},
   "outputs": [
    {
     "name": "stdout",
     "output_type": "stream",
     "text": [
      "Hansni\n",
      "26\n"
     ]
    }
   ],
   "source": [
    "from random import choice as cho, randint as num_chooser\n",
    "\n",
    "print(cho(['Guru','Prem','Hansni', 'Satya', 'Madhav']))\n",
    "print(num_chooser(1,100))"
   ]
  },
  {
   "cell_type": "code",
   "execution_count": 10,
   "id": "42eb18f4",
   "metadata": {},
   "outputs": [
    {
     "name": "stdout",
     "output_type": "stream",
     "text": [
      "123.0\n"
     ]
    }
   ],
   "source": [
    "from math import sqrt\n",
    "print(sqrt(15129))"
   ]
  },
  {
   "cell_type": "markdown",
   "id": "e05574c1",
   "metadata": {},
   "source": [
    "### Example : check if its a python keyword\n",
    "- use the module 'keyword' which had a function iskeyword"
   ]
  },
  {
   "cell_type": "code",
   "execution_count": 12,
   "id": "58fb1b5e",
   "metadata": {},
   "outputs": [
    {
     "name": "stdout",
     "output_type": "stream",
     "text": [
      "('hello', 'Goodbye')\n",
      "False\n",
      "('hello', 'Goodbye', 'def')\n",
      "True\n",
      "('hello', 'Goodbye', 'if')\n",
      "True\n"
     ]
    }
   ],
   "source": [
    "from keyword import iskeyword as ik\n",
    "def contains_keyword(*args):\n",
    "    print(args)\n",
    "    return any([True for arg in args if ik(arg)])\n",
    "\n",
    "print(contains_keyword(\"hello\", \"Goodbye\"))\n",
    "print(contains_keyword(\"hello\", \"Goodbye\", \"def\"))\n",
    "print(contains_keyword(\"hello\", \"Goodbye\", \"if\"))"
   ]
  },
  {
   "cell_type": "markdown",
   "id": "08081f6f",
   "metadata": {},
   "source": [
    "# Custom Modules\n",
    "   - import code from other files\n",
    "   - **import using the name of the other py file**"
   ]
  },
  {
   "cell_type": "markdown",
   "id": "3a23222b",
   "metadata": {},
   "source": [
    "# Installing External Modules And TermColor\n",
    "### importing external modules\n",
    "   - ex : https://pypi.org/project/pytest/\n",
    "   - external modules are first downloaded and installed using pip\n",
    "   - python3 -m pip install pytest\n",
    "   - python3 -m pip install termcolor\n",
    "   - dir(termcolor)\n",
    "   - python3 --> help(termcolor)"
   ]
  },
  {
   "cell_type": "code",
   "execution_count": 23,
   "id": "d9072bed",
   "metadata": {},
   "outputs": [
    {
     "name": "stdout",
     "output_type": "stream",
     "text": [
      "\u001b[35mHi There!!\u001b[0m\n"
     ]
    }
   ],
   "source": [
    "# pip install termcolor  # (after installing it we commnted in the notes as we dont want to install all the time)\n",
    "from termcolor import colored\n",
    "# help(termcolor)\n",
    "\n",
    "print(colored(\"Hi There!!\", color='magenta'))"
   ]
  },
  {
   "cell_type": "markdown",
   "id": "c62610a7",
   "metadata": {},
   "source": [
    "# Installing external module pyfiglet"
   ]
  },
  {
   "cell_type": "code",
   "execution_count": 31,
   "id": "63821634",
   "metadata": {},
   "outputs": [
    {
     "name": "stdout",
     "output_type": "stream",
     "text": [
      " _   _      _ _        __        __         _     _ \n",
      "| | | | ___| | | ___   \\ \\      / /__  _ __| | __| |\n",
      "| |_| |/ _ \\ | |/ _ \\   \\ \\ /\\ / / _ \\| '__| |/ _` |\n",
      "|  _  |  __/ | | (_) |   \\ V  V / (_) | |  | | (_| |\n",
      "|_| |_|\\___|_|_|\\___/     \\_/\\_/ \\___/|_|  |_|\\__,_|\n",
      "                                                    \n",
      "\n",
      "\u001b[32m _   _      _ _        __        __         _     _ \n",
      "| | | | ___| | | ___   \\ \\      / /__  _ __| | __| |\n",
      "| |_| |/ _ \\ | |/ _ \\   \\ \\ /\\ / / _ \\| '__| |/ _` |\n",
      "|  _  |  __/ | | (_) |   \\ V  V / (_) | |  | | (_| |\n",
      "|_| |_|\\___|_|_|\\___/     \\_/\\_/ \\___/|_|  |_|\\__,_|\n",
      "                                                    \n",
      "\u001b[0m\n"
     ]
    }
   ],
   "source": [
    "# pip install pyfiglet==0.7\n",
    "from pyfiglet import figlet_format\n",
    "from termcolor import colored\n",
    "\n",
    "# help(pyfiglet)\n",
    "ascii_text = figlet_format('Hello World')\n",
    "print(ascii_text)\n",
    "colored_ascii_text = colored(ascii_text, color='green')\n",
    "print(colored_ascii_text)\n"
   ]
  },
  {
   "cell_type": "markdown",
   "id": "8aafd380",
   "metadata": {},
   "source": [
    "# Installing autopep8 module : formating py files\n",
    "pip install autopep8"
   ]
  },
  {
   "cell_type": "markdown",
   "id": "72bfb54c",
   "metadata": {},
   "source": [
    "# All About __name__ varialbe\n",
    "\n",
    "\n",
    "   - every file has this __name__ variable\n",
    "   - if the file is the main file being run , for that file __name__ == \"__main__\"\n",
    "   - otherwise its value is the file name\n",
    "   - when another file runs as main file and then the rest of the files if they are executed then\n",
    "           **__name__ == FILE_NAME (ex: __name__variable2)\n",
    "           \n",
    "           \n",
    "# What happens when we import \n",
    "   - when we import a python module, it finds the module and then run the file, all the code inside the module will run. So if there are any function calls those will be executed as well.\n",
    "       - so to ignore the code to execute, if its the not the main file that we are running,  we need to use the check \n",
    "       \n",
    "       **if __name__ == \"__main__\":**"
   ]
  },
  {
   "cell_type": "code",
   "execution_count": 33,
   "id": "88bd6828",
   "metadata": {},
   "outputs": [
    {
     "name": "stdout",
     "output_type": "stream",
     "text": [
      "__main__\n",
      "__main__\n"
     ]
    }
   ],
   "source": [
    "print(__name__)\n",
    "def my_name():\n",
    "    print(__name__)\n",
    "\n",
    "my_name()"
   ]
  },
  {
   "cell_type": "code",
   "execution_count": null,
   "id": "323c347b",
   "metadata": {},
   "outputs": [],
   "source": []
  }
 ],
 "metadata": {
  "kernelspec": {
   "display_name": "Python 3 (ipykernel)",
   "language": "python",
   "name": "python3"
  },
  "language_info": {
   "codemirror_mode": {
    "name": "ipython",
    "version": 3
   },
   "file_extension": ".py",
   "mimetype": "text/x-python",
   "name": "python",
   "nbconvert_exporter": "python",
   "pygments_lexer": "ipython3",
   "version": "3.9.12"
  }
 },
 "nbformat": 4,
 "nbformat_minor": 5
}

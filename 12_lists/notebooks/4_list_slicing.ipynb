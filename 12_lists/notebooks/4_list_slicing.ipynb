{
 "cells": [
  {
   "cell_type": "markdown",
   "id": "a369651b",
   "metadata": {},
   "source": [
    "# Slicing\n",
    "   - list[start:end:step]\n",
    "   - works in the same way for strings as well\n",
    "   - list[0:] --> will get a copy of the list, ***original list is not mutated/changes***\n",
    "   - list[:] --> complete copy of the list( a new list ). ***Note : oldList is newList => false***"
   ]
  },
  {
   "cell_type": "code",
   "execution_count": 3,
   "id": "d3953129",
   "metadata": {},
   "outputs": [
    {
     "name": "stdout",
     "output_type": "stream",
     "text": [
      "copied list after slice : [2, 3, 4, 5]\n",
      "original list is not changes : [1, 2, 3, 4, 5]\n",
      "sliced list : [5], original list : [1, 2, 3, 4, 5]\n"
     ]
    }
   ],
   "source": [
    "num_list = [1, 2, 3, 4, 5]\n",
    "slice_list1 = num_list[1:]\n",
    "print(f\"copied list after slice : {slice_list1}\")\n",
    "# original list is not changes: [1, 2, 3, 4, 5]\n",
    "print(f\"original list is not changes : {num_list}\")\n",
    "# sliced list: [5], original list: [1, 2, 3, 4, 5]\n",
    "print(f\"sliced list : {num_list[4:]}, original list : {num_list}\")"
   ]
  },
  {
   "cell_type": "markdown",
   "id": "7314c29d",
   "metadata": {},
   "source": [
    "## sliced list using negative index: \n",
    "    - # slicing with start param [3, 4, 5], original list : [1, 2, 3, 4, 5]\n",
    "    - slicing with end param"
   ]
  },
  {
   "cell_type": "code",
   "execution_count": 4,
   "id": "7d8bfeef",
   "metadata": {},
   "outputs": [
    {
     "name": "stdout",
     "output_type": "stream",
     "text": [
      "num_list : [1, 2, 3, 4, 5], sliced list : [3, 4, 5]\n"
     ]
    }
   ],
   "source": [
    "num_list = [1, 2, 3, 4, 5]\n",
    "sliced_lst = num_list[-3:]\n",
    "print(f\"num_list : {num_list}, sliced list : {sliced_lst}\")"
   ]
  },
  {
   "cell_type": "code",
   "execution_count": 6,
   "id": "684d9906",
   "metadata": {},
   "outputs": [
    {
     "name": "stdout",
     "output_type": "stream",
     "text": [
      "num_list_slice_using_end_param : [1, 2, 3, 4]\n"
     ]
    }
   ],
   "source": [
    "num_list = [1, 2, 3, 4, 5, 6]\n",
    "num_list_slice_using_end_param =num_list[:-2]\n",
    "print(f\"num_list_slice_using_end_param : {num_list_slice_using_end_param}\")"
   ]
  },
  {
   "cell_type": "markdown",
   "id": "93d0113b",
   "metadata": {},
   "source": [
    "# slicing with step param"
   ]
  },
  {
   "cell_type": "code",
   "execution_count": 1,
   "id": "0a38897c",
   "metadata": {},
   "outputs": [
    {
     "name": "stdout",
     "output_type": "stream",
     "text": [
      "sliced list using step index: [1, 3, 5, 7], original list : [1, 2, 3, 4, 5, 6, 7, 8]\n",
      "sliced list using end index: [1, 3], original list : [1, 2, 3, 4, 5, 6, 7, 8]\n",
      "sliced list using -ve step index: [8, 7, 6], original list : [1, 2, 3, 4, 5, 6, 7, 8]\n"
     ]
    }
   ],
   "source": [
    "# slicing with step param\n",
    "num_list_slice_using_step_param = [1, 2, 3, 4, 5, 6, 7, 8]\n",
    "# sliced list using end index: [1, 3, 5, 7], original list: [1, 2, 3, 4, 5, 6, 7, 8]\n",
    "print(\n",
    "    f\"sliced list using step index: {num_list_slice_using_step_param[::2]}, original list : {num_list_slice_using_step_param}\")\n",
    "# sliced list using end index: [1, 3], original list : [1, 2, 3, 4, 5, 6, 7, 8]\n",
    "print(\n",
    "    f\"sliced list using end index: {num_list_slice_using_step_param[:4:2]}, original list : {num_list_slice_using_step_param}\")\n",
    "\n",
    "# slicing with -ve step param : to reverse the order of items in the list\n",
    "# sliced list using -ve step index: [8, 7, 6], original list : [1, 2, 3, 4, 5, 6, 7, 8]\n",
    "print(\n",
    "    f\"sliced list using -ve step index: {num_list_slice_using_step_param[:4:-1]}, original list : {num_list_slice_using_step_param}\")"
   ]
  },
  {
   "cell_type": "markdown",
   "id": "46f84e88",
   "metadata": {},
   "source": [
    "# reversing using slice (lists / strings)"
   ]
  },
  {
   "cell_type": "code",
   "execution_count": 2,
   "id": "ec9dc75b",
   "metadata": {},
   "outputs": [
    {
     "name": "stdout",
     "output_type": "stream",
     "text": [
      "!nuf si sihT\n"
     ]
    }
   ],
   "source": [
    "# reversing using slice (lists / strings)\n",
    "my_string = \"This is fun!\"\n",
    "reverse_string = my_string[::-1]\n",
    "# !nuf si sihT\n",
    "print(reverse_string)"
   ]
  },
  {
   "cell_type": "code",
   "execution_count": null,
   "id": "54cc4192",
   "metadata": {},
   "outputs": [],
   "source": []
  }
 ],
 "metadata": {
  "kernelspec": {
   "display_name": "Python 3 (ipykernel)",
   "language": "python",
   "name": "python3"
  },
  "language_info": {
   "codemirror_mode": {
    "name": "ipython",
    "version": 3
   },
   "file_extension": ".py",
   "mimetype": "text/x-python",
   "name": "python",
   "nbconvert_exporter": "python",
   "pygments_lexer": "ipython3",
   "version": "3.9.12"
  }
 },
 "nbformat": 4,
 "nbformat_minor": 5
}

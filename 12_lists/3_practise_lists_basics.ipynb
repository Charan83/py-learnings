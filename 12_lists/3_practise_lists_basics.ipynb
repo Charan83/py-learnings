{
 "cells": [
  {
   "cell_type": "code",
   "execution_count": 1,
   "id": "ad6bfcdf",
   "metadata": {},
   "outputs": [
    {
     "name": "stdout",
     "output_type": "stream",
     "text": [
      "['one', 'two', 'three']\n"
     ]
    }
   ],
   "source": [
    "tasks = ['one', 'two', 'three']\n",
    "print(tasks)"
   ]
  },
  {
   "cell_type": "code",
   "execution_count": 4,
   "id": "7afdfdd2",
   "metadata": {},
   "outputs": [
    {
     "name": "stdout",
     "output_type": "stream",
     "text": [
      "range(1, 10)\n",
      "[1, 2, 3, 4, 5, 6, 7, 8, 9]\n",
      "9\n",
      "1 9\n"
     ]
    }
   ],
   "source": [
    "_range = range(1,10)\n",
    "print(_range)\n",
    "range_lst = list(_range)\n",
    "print(range_lst)\n",
    "print(len(range_lst))\n",
    "print(range_lst[0], range_lst[-1])"
   ]
  },
  {
   "cell_type": "markdown",
   "id": "6a2a983a",
   "metadata": {},
   "source": [
    "# Iterating through a list using\n",
    "- for loop\n",
    "- while loop"
   ]
  },
  {
   "cell_type": "code",
   "execution_count": 5,
   "id": "c777a150",
   "metadata": {},
   "outputs": [
    {
     "name": "stdout",
     "output_type": "stream",
     "text": [
      "purple\n",
      "teal\n",
      "magenta\n"
     ]
    }
   ],
   "source": [
    "colors = [\"purple\", \"teal\", \"magenta\"]\n",
    "for color in colors:\n",
    "    print(color)"
   ]
  },
  {
   "cell_type": "code",
   "execution_count": 6,
   "id": "8777445d",
   "metadata": {},
   "outputs": [
    {
     "name": "stdout",
     "output_type": "stream",
     "text": [
      "purple\n",
      "teal\n",
      "magenta\n"
     ]
    }
   ],
   "source": [
    "colors = [\"purple\", \"teal\", \"magenta\"]\n",
    "i=0\n",
    "while i<len(colors):\n",
    "    print(colors[i])\n",
    "    i += 1"
   ]
  },
  {
   "cell_type": "markdown",
   "id": "86bcca2e",
   "metadata": {},
   "source": [
    "# List methods (Mutates List)\n",
    " - Append, Insert, Extend (can be called on instance of any list)\n",
    "     - append :\n",
    "        - Adds data to the end of the list\n",
    "        - Cannot add multiple values to the list, it can only add one value to the list\n",
    "     - extend\n",
    "        - can add multiple values to the end of the list, when passes as a list"
   ]
  },
  {
   "cell_type": "code",
   "execution_count": 7,
   "id": "c7efb432",
   "metadata": {},
   "outputs": [
    {
     "name": "stdout",
     "output_type": "stream",
     "text": [
      "[1, 2, 3, 4]\n",
      "[1, 2, 3, 4, 5]\n",
      "[1, 2, 3, 4, 5, [6, 7, 8, 9]]\n",
      "[1, 2, 3, 4, 5, 6, 7, 8, 9]\n"
     ]
    }
   ],
   "source": [
    "first_list = list(range(1, 5))\n",
    "print(first_list)\n",
    "first_list.append(5)\n",
    "print(first_list)\n",
    "first_list.append([6,7,8,9])\n",
    "print(first_list)\n",
    "second_list = list(range(1, 5))\n",
    "second_list.extend([5,6,7,8,9])\n",
    "print(second_list)"
   ]
  },
  {
   "cell_type": "markdown",
   "id": "129c50e2",
   "metadata": {},
   "source": [
    "# insert\n",
    "    - where to insert an item in the list"
   ]
  },
  {
   "cell_type": "code",
   "execution_count": 9,
   "id": "42a538c8",
   "metadata": {},
   "outputs": [
    {
     "name": "stdout",
     "output_type": "stream",
     "text": [
      "[1, 2, 3, [5, 6, 7, 8, 9], 4]\n",
      "[1, 2, 3, [5, 6, 7, 8, 9], 4, ['last item']]\n"
     ]
    }
   ],
   "source": [
    "insert_list = [1, 2, 3, 4]\n",
    "insert_list.insert(-1,[5,6,7,8,9])\n",
    "print(insert_list)\n",
    "insert_list.insert(len(insert_list), ['last item'])\n",
    "print(insert_list)"
   ]
  },
  {
   "cell_type": "markdown",
   "id": "fd8d65fc",
   "metadata": {},
   "source": [
    "# clear\n",
    "   - removes all items from the list\n",
    "\n",
    "# pop\n",
    "   - removes the item at a perticular position or the last item when the position is not passes\n",
    "   - returns the removed item\n",
    "# remove\n",
    "   - remove the first instance of the value that is passed\n",
    "   - throws ValueError if the item is not found"
   ]
  },
  {
   "cell_type": "code",
   "execution_count": 14,
   "id": "45a9e36e",
   "metadata": {},
   "outputs": [
    {
     "name": "stdout",
     "output_type": "stream",
     "text": [
      "**************clear********************\n",
      "items : []\n",
      "**************pop********************\n",
      "5\n",
      "[0, 1, 2, 3, 4]\n",
      "**************remove********************\n",
      "[1, 2, 3, 4, 5, 6]\n"
     ]
    },
    {
     "ename": "ValueError",
     "evalue": "list.remove(x): x not in list",
     "output_type": "error",
     "traceback": [
      "\u001b[0;31m---------------------------------------------------------------------------\u001b[0m",
      "\u001b[0;31mValueError\u001b[0m                                Traceback (most recent call last)",
      "Input \u001b[0;32mIn [14]\u001b[0m, in \u001b[0;36m<cell line: 16>\u001b[0;34m()\u001b[0m\n\u001b[1;32m     14\u001b[0m     remove_list\u001b[38;5;241m.\u001b[39mremove(\u001b[38;5;241m7\u001b[39m)\n\u001b[1;32m     15\u001b[0m     \u001b[38;5;28mprint\u001b[39m(remove_list)\n\u001b[0;32m---> 16\u001b[0m \u001b[43mremove_list\u001b[49m\u001b[38;5;241;43m.\u001b[39;49m\u001b[43mremove\u001b[49m\u001b[43m(\u001b[49m\u001b[38;5;241;43m9\u001b[39;49m\u001b[43m)\u001b[49m\n",
      "\u001b[0;31mValueError\u001b[0m: list.remove(x): x not in list"
     ]
    }
   ],
   "source": [
    "print(\"**************clear********************\")\n",
    "items = [1, 2, 3, 4, 5]\n",
    "items.clear()\n",
    "print(f\"items : {items}\")\n",
    "\n",
    "print(\"**************pop********************\")\n",
    "pop_items = [0, 1, 2, 3, 4, 5]\n",
    "print(pop_items.pop())\n",
    "print(pop_items)\n",
    "\n",
    "print(\"**************remove********************\")\n",
    "remove_list = [1, 2, 3, 4, 5, 6, 7]\n",
    "if 7 in remove_list:\n",
    "    remove_list.remove(7)\n",
    "    print(remove_list)\n",
    "remove_list.remove(9)"
   ]
  },
  {
   "cell_type": "markdown",
   "id": "36129f77",
   "metadata": {},
   "source": [
    "# index\n",
    "    - returns the index position if the item in the list\n",
    "    - if the item is not there in the list it will throw error : ValueError\n",
    "# count\n",
    "    - returns the number of times the item is in the list\n",
    "    - if its not there, it will return 0"
   ]
  },
  {
   "cell_type": "code",
   "execution_count": 19,
   "id": "1a2b9676",
   "metadata": {},
   "outputs": [
    {
     "name": "stdout",
     "output_type": "stream",
     "text": [
      "index position of 2 : 1\n",
      "count of 3: 3\n",
      "count of 99: 0\n"
     ]
    }
   ],
   "source": [
    "index_list = [1, 2, 1, 2, 3, 4, 5, 6, 7]\n",
    "print(f\"index position of 2 : {index_list.index(2)}\")\n",
    "count_list = [1, 1, 3, 2, 4, 3, 6, 3, 32]\n",
    "print(f\"count of 3: {count_list.count(3)}\")\n",
    "print(f\"count of 99: {count_list.count(99)}\")"
   ]
  },
  {
   "cell_type": "markdown",
   "id": "77ec0bf0",
   "metadata": {},
   "source": [
    "# reverse\n",
    "   - reverses the list, the list is mutated, it will NOT create a copy, the same list is reversed"
   ]
  },
  {
   "cell_type": "code",
   "execution_count": 21,
   "id": "07f8d3ec",
   "metadata": {},
   "outputs": [
    {
     "name": "stdout",
     "output_type": "stream",
     "text": [
      "[5, 4, 3, 2, 1]\n",
      "['Hans', 'Prem', 'Guru']\n"
     ]
    }
   ],
   "source": [
    "reverse_num_list = [1, 2, 3, 4, 5]\n",
    "reverse_num_list.reverse()\n",
    "print(reverse_num_list)\n",
    "\n",
    "reverse_str_list = ['Guru', 'Prem', 'Hans']\n",
    "reverse_str_list.reverse()\n",
    "print(reverse_str_list)"
   ]
  },
  {
   "cell_type": "markdown",
   "id": "e97b9b84",
   "metadata": {},
   "source": [
    "# sort\n",
    "   - sorts the list, the list is mutated, it will NOT create a copy, the same list is sorted"
   ]
  },
  {
   "cell_type": "code",
   "execution_count": 22,
   "id": "1ec5d092",
   "metadata": {},
   "outputs": [
    {
     "name": "stdout",
     "output_type": "stream",
     "text": [
      "sort_list : [1, 2, 2, 3, 3, 4, 4, 5, 5]\n"
     ]
    }
   ],
   "source": [
    "sort_list = [1, 2, 3, 4, 5, 2, 3, 4, 5]\n",
    "sort_list.sort()\n",
    "print(f\"sort_list : {sort_list}\")"
   ]
  },
  {
   "cell_type": "markdown",
   "id": "e5322fc6",
   "metadata": {},
   "source": [
    "# join\n",
    "   - string method\n",
    "   - used a lot with list"
   ]
  },
  {
   "cell_type": "code",
   "execution_count": 23,
   "id": "95a3e2d8",
   "metadata": {},
   "outputs": [
    {
     "name": "stdout",
     "output_type": "stream",
     "text": [
      "Coding is fun!\n"
     ]
    }
   ],
   "source": [
    "join_list = ['Coding', 'is', 'fun!']\n",
    "print(' '.join(join_list))"
   ]
  },
  {
   "cell_type": "code",
   "execution_count": null,
   "id": "18f3185f",
   "metadata": {},
   "outputs": [],
   "source": []
  }
 ],
 "metadata": {
  "kernelspec": {
   "display_name": "Python 3 (ipykernel)",
   "language": "python",
   "name": "python3"
  },
  "language_info": {
   "codemirror_mode": {
    "name": "ipython",
    "version": 3
   },
   "file_extension": ".py",
   "mimetype": "text/x-python",
   "name": "python",
   "nbconvert_exporter": "python",
   "pygments_lexer": "ipython3",
   "version": "3.9.12"
  }
 },
 "nbformat": 4,
 "nbformat_minor": 5
}

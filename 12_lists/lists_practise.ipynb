{
 "cells": [
  {
   "cell_type": "code",
   "execution_count": 1,
   "id": "ad6bfcdf",
   "metadata": {},
   "outputs": [
    {
     "name": "stdout",
     "output_type": "stream",
     "text": [
      "['one', 'two', 'three']\n"
     ]
    }
   ],
   "source": [
    "tasks = ['one', 'two', 'three']\n",
    "print(tasks)"
   ]
  },
  {
   "cell_type": "code",
   "execution_count": 4,
   "id": "7afdfdd2",
   "metadata": {},
   "outputs": [
    {
     "name": "stdout",
     "output_type": "stream",
     "text": [
      "range(1, 10)\n",
      "[1, 2, 3, 4, 5, 6, 7, 8, 9]\n",
      "9\n",
      "1 9\n"
     ]
    }
   ],
   "source": [
    "_range = range(1,10)\n",
    "print(_range)\n",
    "range_lst = list(_range)\n",
    "print(range_lst)\n",
    "print(len(range_lst))\n",
    "print(range_lst[0], range_lst[-1])"
   ]
  },
  {
   "cell_type": "markdown",
   "id": "6a2a983a",
   "metadata": {},
   "source": [
    "# Iterating through a list using\n",
    "- for loop\n",
    "- while loop"
   ]
  },
  {
   "cell_type": "code",
   "execution_count": 5,
   "id": "c777a150",
   "metadata": {},
   "outputs": [
    {
     "name": "stdout",
     "output_type": "stream",
     "text": [
      "purple\n",
      "teal\n",
      "magenta\n"
     ]
    }
   ],
   "source": [
    "colors = [\"purple\", \"teal\", \"magenta\"]\n",
    "for color in colors:\n",
    "    print(color)"
   ]
  },
  {
   "cell_type": "code",
   "execution_count": 6,
   "id": "8777445d",
   "metadata": {},
   "outputs": [
    {
     "name": "stdout",
     "output_type": "stream",
     "text": [
      "purple\n",
      "teal\n",
      "magenta\n"
     ]
    }
   ],
   "source": [
    "colors = [\"purple\", \"teal\", \"magenta\"]\n",
    "i=0\n",
    "while i<len(colors):\n",
    "    print(colors[i])\n",
    "    i += 1"
   ]
  },
  {
   "cell_type": "markdown",
   "id": "7d0a055e",
   "metadata": {},
   "source": [
    "# List methods\n",
    " - Append, Insert, Extend (can be called on instance of any list)\n",
    "     - append :\n",
    "        - Adds data to the end of the list\n",
    "        - Cannot add multiple values to the list, it can only add one value to the list\n",
    "     - extend\n",
    "        - can add multiple values to the end of the list, when passes as a list"
   ]
  },
  {
   "cell_type": "code",
   "execution_count": 10,
   "id": "c7efb432",
   "metadata": {},
   "outputs": [
    {
     "name": "stdout",
     "output_type": "stream",
     "text": [
      "[1, 2, 3, 4]\n",
      "[1, 2, 3, 4, 5]\n",
      "[1, 2, 3, 4, 5, [6, 7, 8, 9]]\n"
     ]
    }
   ],
   "source": [
    "first_list = list(range(1, 5))\n",
    "print(first_list)\n",
    "first_list.append(5)\n",
    "print(first_list)\n",
    "first_list.append([6,7,8,9])\n",
    "print(first_list)"
   ]
  },
  {
   "cell_type": "code",
   "execution_count": null,
   "id": "dd7ec0fe",
   "metadata": {},
   "outputs": [],
   "source": []
  }
 ],
 "metadata": {
  "kernelspec": {
   "display_name": "Python 3 (ipykernel)",
   "language": "python",
   "name": "python3"
  },
  "language_info": {
   "codemirror_mode": {
    "name": "ipython",
    "version": 3
   },
   "file_extension": ".py",
   "mimetype": "text/x-python",
   "name": "python",
   "nbconvert_exporter": "python",
   "pygments_lexer": "ipython3",
   "version": "3.9.12"
  }
 },
 "nbformat": 4,
 "nbformat_minor": 5
}

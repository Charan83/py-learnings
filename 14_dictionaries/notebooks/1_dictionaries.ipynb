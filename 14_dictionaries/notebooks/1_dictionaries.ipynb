{
 "cells": [
  {
   "cell_type": "markdown",
   "id": "7abbd660",
   "metadata": {},
   "source": [
    "# dictionaries\n",
    "   - dictionaries are key, value pairs and list are ordered list of elements\n",
    "   - key, value pairs\n",
    "   - keys can only be strings/numbers\n",
    "   - values can be anything\n",
    "   \n",
    "# example 1 : simple dictionary (object in js)"
   ]
  },
  {
   "cell_type": "code",
   "execution_count": 1,
   "id": "155ba361",
   "metadata": {},
   "outputs": [
    {
     "name": "stdout",
     "output_type": "stream",
     "text": [
      "instructor : {'name': 'Guru', 'num_of_courses': 4, 35: 'apartment number'}\n"
     ]
    }
   ],
   "source": [
    "instructor = {\n",
    "    \"name\": \"Guru\",\n",
    "    \"num_of_courses\": 4,\n",
    "    35: \"apartment number\"\n",
    "}\n",
    "print(f\"instructor : {instructor}\")"
   ]
  },
  {
   "cell_type": "markdown",
   "id": "2095d294",
   "metadata": {},
   "source": [
    "# example 2 : list of dictionary items"
   ]
  },
  {
   "cell_type": "code",
   "execution_count": 2,
   "id": "ce393496",
   "metadata": {},
   "outputs": [
    {
     "name": "stdout",
     "output_type": "stream",
     "text": [
      "cart : [{'name': 'Learning Python', 'price': 99}, {'name': 'Learning GCP', 'price': 999}]\n"
     ]
    }
   ],
   "source": [
    "cart = [\n",
    "    {\n",
    "        \"name\": \"Learning Python\",\n",
    "        \"price\": 99\n",
    "    },\n",
    "    {\n",
    "        \"name\": \"Learning GCP\",\n",
    "        \"price\": 999\n",
    "    },\n",
    "]\n",
    "print(f\"cart : {cart}\")"
   ]
  },
  {
   "cell_type": "markdown",
   "id": "832a61ed",
   "metadata": {},
   "source": [
    "# example 3 : another way to create dictionary is using dict"
   ]
  },
  {
   "cell_type": "code",
   "execution_count": null,
   "id": "6ec613fd",
   "metadata": {},
   "outputs": [],
   "source": [
    "using_dict = dict(name=\"Learning JS\", price=99)\n",
    "print(f\"using dict to create dictionary : {using_dict}\")"
   ]
  }
 ],
 "metadata": {
  "kernelspec": {
   "display_name": "Python 3 (ipykernel)",
   "language": "python",
   "name": "python3"
  },
  "language_info": {
   "codemirror_mode": {
    "name": "ipython",
    "version": 3
   },
   "file_extension": ".py",
   "mimetype": "text/x-python",
   "name": "python",
   "nbconvert_exporter": "python",
   "pygments_lexer": "ipython3",
   "version": "3.9.12"
  }
 },
 "nbformat": 4,
 "nbformat_minor": 5
}

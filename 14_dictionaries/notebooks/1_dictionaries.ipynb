{
 "cells": [
  {
   "cell_type": "markdown",
   "id": "a4fff481",
   "metadata": {},
   "source": [
    "# dictionaries\n",
    "   - dictionaries are key, value pairs and list are ordered list of elements\n",
    "   - key, value pairs\n",
    "   - keys can only be strings/numbers\n",
    "   - values can be anything\n",
    "   \n",
    "# example 1 : simple dictionary (object in js)"
   ]
  },
  {
   "cell_type": "code",
   "execution_count": 1,
   "id": "3062e232",
   "metadata": {},
   "outputs": [
    {
     "name": "stdout",
     "output_type": "stream",
     "text": [
      "instructor : {'name': 'Guru', 'num_of_courses': 4, 35: 'apartment number'}\n"
     ]
    }
   ],
   "source": [
    "instructor = {\n",
    "    \"name\": \"Guru\",\n",
    "    \"num_of_courses\": 4,\n",
    "    35: \"apartment number\"\n",
    "}\n",
    "print(f\"instructor : {instructor}\")"
   ]
  },
  {
   "cell_type": "markdown",
   "id": "6e778c17",
   "metadata": {},
   "source": [
    "# example 2 : list of dictionary items"
   ]
  },
  {
   "cell_type": "code",
   "execution_count": 2,
   "id": "5ee2cfbf",
   "metadata": {},
   "outputs": [
    {
     "name": "stdout",
     "output_type": "stream",
     "text": [
      "cart : [{'name': 'Learning Python', 'price': 99}, {'name': 'Learning GCP', 'price': 999}]\n"
     ]
    }
   ],
   "source": [
    "cart = [\n",
    "    {\n",
    "        \"name\": \"Learning Python\",\n",
    "        \"price\": 99\n",
    "    },\n",
    "    {\n",
    "        \"name\": \"Learning GCP\",\n",
    "        \"price\": 999\n",
    "    },\n",
    "]\n",
    "print(f\"cart : {cart}\")"
   ]
  },
  {
   "cell_type": "markdown",
   "id": "8b21e522",
   "metadata": {},
   "source": [
    "# example 3 : another way to create dictionary is using dict"
   ]
  },
  {
   "cell_type": "code",
   "execution_count": 3,
   "id": "b1477765",
   "metadata": {},
   "outputs": [
    {
     "name": "stdout",
     "output_type": "stream",
     "text": [
      "using dict to create dictionary : {'name': 'Learning JS', 'price': 99}\n"
     ]
    }
   ],
   "source": [
    "using_dict = dict(name=\"Learning JS\", price=99)\n",
    "print(f\"using dict to create dictionary : {using_dict}\")"
   ]
  },
  {
   "cell_type": "markdown",
   "id": "c0d4c633",
   "metadata": {},
   "source": [
    "# Accessing Dictionary Values\n",
    "   - we access the values almost in the same way as list\n",
    "   - but here instead of index, we use key\n",
    "   - we get KeyError, when we look for a key that doesn't exists"
   ]
  },
  {
   "cell_type": "code",
   "execution_count": 5,
   "id": "9cfce3c4",
   "metadata": {},
   "outputs": [
    {
     "name": "stdout",
     "output_type": "stream",
     "text": [
      "first_item_name : Learning Python\n"
     ]
    },
    {
     "ename": "KeyError",
     "evalue": "'names'",
     "output_type": "error",
     "traceback": [
      "\u001b[0;31m---------------------------------------------------------------------------\u001b[0m",
      "\u001b[0;31mKeyError\u001b[0m                                  Traceback (most recent call last)",
      "Input \u001b[0;32mIn [5]\u001b[0m, in \u001b[0;36m<cell line: 14>\u001b[0;34m()\u001b[0m\n\u001b[1;32m     11\u001b[0m first_item_name \u001b[38;5;241m=\u001b[39m cart[\u001b[38;5;241m0\u001b[39m][\u001b[38;5;124m'\u001b[39m\u001b[38;5;124mname\u001b[39m\u001b[38;5;124m'\u001b[39m]\n\u001b[1;32m     12\u001b[0m \u001b[38;5;28mprint\u001b[39m(\u001b[38;5;124mf\u001b[39m\u001b[38;5;124m\"\u001b[39m\u001b[38;5;124mfirst_item_name : \u001b[39m\u001b[38;5;132;01m{\u001b[39;00mfirst_item_name\u001b[38;5;132;01m}\u001b[39;00m\u001b[38;5;124m\"\u001b[39m)\n\u001b[0;32m---> 14\u001b[0m \u001b[38;5;28mprint\u001b[39m(\u001b[38;5;124mf\u001b[39m\u001b[38;5;124m\"\u001b[39m\u001b[38;5;124mError when we look for something that doesn\u001b[39m\u001b[38;5;124m'\u001b[39m\u001b[38;5;124mt exists : \u001b[39m\u001b[38;5;132;01m{\u001b[39;00minstructor[\u001b[38;5;124m'\u001b[39m\u001b[38;5;124mnames\u001b[39m\u001b[38;5;124m'\u001b[39m]\u001b[38;5;132;01m}\u001b[39;00m\u001b[38;5;124m\"\u001b[39m)\n",
      "\u001b[0;31mKeyError\u001b[0m: 'names'"
     ]
    }
   ],
   "source": [
    "cart = [\n",
    "    {\n",
    "        \"name\": \"Learning Python\",\n",
    "        \"price\": 99\n",
    "    },\n",
    "    {\n",
    "        \"name\": \"Learning GCP\",\n",
    "        \"price\": 999\n",
    "    },\n",
    "]\n",
    "first_item_name = cart[0]['name']\n",
    "print(f\"first_item_name : {first_item_name}\")\n",
    "\n",
    "print(f\"Error when we look for something that doesn't exists : {instructor['names']}\")"
   ]
  },
  {
   "cell_type": "markdown",
   "id": "c9f4dd58",
   "metadata": {},
   "source": [
    "# Iterating Dictionaries\n",
    "    - values() : Accessing all values in a Dictionary\n",
    "    - keys() : Accessing all keys in a Dictionary\n",
    "    - items() : Accessing all key,values in a Dictionary\n",
    "      "
   ]
  },
  {
   "cell_type": "code",
   "execution_count": 7,
   "id": "7f6d7a03",
   "metadata": {},
   "outputs": [
    {
     "name": "stdout",
     "output_type": "stream",
     "text": [
      "values : dict_values(['Guru', 'A', 911, 'address'])\n",
      "keys : dict_keys(['Student Name', 'Grade', 'Score', 35])\n",
      "items : dict_items([('Student Name', 'Guru'), ('Grade', 'A'), ('Score', 911), (35, 'address')])\n"
     ]
    }
   ],
   "source": [
    "user_info = {\n",
    "    \"Student Name\": \"Guru\",\n",
    "    \"Grade\": 'A',\n",
    "    \"Score\": 911,\n",
    "    35: 'address'\n",
    "}\n",
    "\n",
    "print(f\"values : {user_info.values()}\")\n",
    "print(f\"keys : {user_info.keys()}\")\n",
    "print(f\"items : {user_info.items()}\")"
   ]
  },
  {
   "cell_type": "code",
   "execution_count": 5,
   "id": "0cb96811",
   "metadata": {},
   "outputs": [
    {
     "name": "stdout",
     "output_type": "stream",
     "text": [
      "---------------Printing Keys---------------\n",
      "Student Name\n",
      "Grade\n",
      "Score\n",
      "35\n",
      "---------------Printing Values---------------\n",
      "Guru\n",
      "A\n",
      "911\n",
      "address\n",
      "---------------Printing items---------------\n",
      "key: Student Name; value: Guru\n",
      "key: Grade; value: A\n",
      "key: Score; value: 911\n",
      "key: 35; value: address\n"
     ]
    }
   ],
   "source": [
    "user_info = {\n",
    "    \"Student Name\": \"Guru\",\n",
    "    \"Grade\": 'A',\n",
    "    \"Score\": 911,\n",
    "    35: 'address'\n",
    "}\n",
    "\n",
    "print(f\"---------------Printing Keys---------------\")\n",
    "for k in user_info.keys():\n",
    "    print(k)\n",
    "        \n",
    "print(f\"---------------Printing Values---------------\")\n",
    "for v in user_info.values():\n",
    "    print(v)\n",
    " \n",
    "print(f\"---------------Printing items---------------\")\n",
    "for k,v in user_info.items():\n",
    "    print(f\"key: {k}; value: {v}\")\n",
    "    \n"
   ]
  },
  {
   "cell_type": "markdown",
   "id": "a1cbc4cb",
   "metadata": {},
   "source": [
    "# Dictionary Methods\n",
    "## clear()\n",
    "   - clears the dictionary\n",
    "   \n",
    "## copy()\n",
    "   - creates a new copy of the dictionary\n",
    "   - original dictionary doesn't change\n",
    "## is\n",
    "   - can be used for checking, if after copying[copy()] do both the variables refer to the same object? --> NO\n",
    "   - '==' will tell if both the objects have same values (similar to : '==' is JS)\n",
    "   - 'is' will tell if both are same objects in the memory or different (similar to : '===' is JS)"
   ]
  },
  {
   "cell_type": "code",
   "execution_count": 6,
   "id": "4a84a78f",
   "metadata": {},
   "outputs": [
    {
     "name": "stdout",
     "output_type": "stream",
     "text": [
      "{'Student Name': 'Guru', 'Grade': 'A', 'Score': 911, 35: 'address'}\n",
      "{}\n"
     ]
    }
   ],
   "source": [
    "user_info_clear = {\n",
    "    \"Student Name\": \"Guru\",\n",
    "    \"Grade\": 'A',\n",
    "    \"Score\": 911,\n",
    "    35: 'address'\n",
    "}\n",
    "\n",
    "print(user_info_clear)\n",
    "user_info_clear.clear()\n",
    "print(user_info_clear)"
   ]
  },
  {
   "cell_type": "code",
   "execution_count": 7,
   "id": "55ee471a",
   "metadata": {},
   "outputs": [
    {
     "name": "stdout",
     "output_type": "stream",
     "text": [
      "True\n",
      "False\n"
     ]
    }
   ],
   "source": [
    "user_info_copy = {\n",
    "    \"Student Name\": \"Guru\",\n",
    "    \"Grade\": 'A',\n",
    "    \"Score\": 911,\n",
    "    35: 'address'\n",
    "}\n",
    "\n",
    "copy = user_info_copy.copy()\n",
    "\n",
    "print(f\"{copy == user_info_copy}\")\n",
    "print(f\"{copy is user_info_copy}\")"
   ]
  },
  {
   "cell_type": "markdown",
   "id": "01c27151",
   "metadata": {},
   "source": [
    "# fromKeys()\n",
    "   - creates keys-value pairs from comma separated values of iterable (list, strings)\n",
    "   - first argument if its iterable then each item in the iterable is the key and will be assigned the value(2nd param)\n",
    "   - will be called on a dictionary\n",
    "   - creates a new copy of dictionary and the original dict is not modified"
   ]
  },
  {
   "cell_type": "code",
   "execution_count": 1,
   "id": "76b8b1c4",
   "metadata": {},
   "outputs": [
    {
     "name": "stdout",
     "output_type": "stream",
     "text": [
      "dictionary method : fromkeys()\n"
     ]
    }
   ],
   "source": [
    "print(f\"dictionary method : fromkeys()\")"
   ]
  },
  {
   "cell_type": "markdown",
   "id": "65f33fb3",
   "metadata": {},
   "source": [
    "## example 1"
   ]
  },
  {
   "cell_type": "code",
   "execution_count": 3,
   "id": "7b64c7d2",
   "metadata": {},
   "outputs": [
    {
     "name": "stdout",
     "output_type": "stream",
     "text": [
      "dic_from_keys : {'a': 'b'}\n"
     ]
    }
   ],
   "source": [
    "dic_from_keys = {}.fromkeys(\"a\", \"b\")\n",
    "print(f\"dic_from_keys : {dic_from_keys}\")"
   ]
  },
  {
   "cell_type": "markdown",
   "id": "40cf9da6",
   "metadata": {},
   "source": [
    "## example 2 : dict on which we are calling this method is not changed"
   ]
  },
  {
   "cell_type": "code",
   "execution_count": 4,
   "id": "8ccc5352",
   "metadata": {},
   "outputs": [
    {
     "name": "stdout",
     "output_type": "stream",
     "text": [
      "dict_wont_change : {'name': 'Guru'} \n",
      " dict_from_keys : {'email': 'unknown', 'mobile': 'unknown'}\n"
     ]
    }
   ],
   "source": [
    "dict_wont_change = {\"name\": \"Guru\"}\n",
    "dict_from_keys = dict_wont_change.fromkeys(['email', 'mobile'], 'unknown')\n",
    "print(f\"dict_wont_change : {dict_wont_change} \\n dict_from_keys : {dict_from_keys}\")"
   ]
  },
  {
   "cell_type": "markdown",
   "id": "f8cb1698",
   "metadata": {},
   "source": [
    "## example 3 : each iterable item is assigned the value"
   ]
  },
  {
   "cell_type": "code",
   "execution_count": 5,
   "id": "5f264409",
   "metadata": {},
   "outputs": [
    {
     "name": "stdout",
     "output_type": "stream",
     "text": [
      "from_keys : {'e': 'unknown', 'm': 'unknown', 'a': 'unknown', 'i': 'unknown', 'l': 'unknown'}\n"
     ]
    }
   ],
   "source": [
    "from_keys = {}.fromkeys('email', 'unknown')\n",
    "print(f\"from_keys : {from_keys}\")"
   ]
  },
  {
   "cell_type": "markdown",
   "id": "769a83da",
   "metadata": {},
   "source": [
    "## example 4 : using dict"
   ]
  },
  {
   "cell_type": "code",
   "execution_count": 6,
   "id": "36738524",
   "metadata": {},
   "outputs": [
    {
     "name": "stdout",
     "output_type": "stream",
     "text": [
      "from_keys : {'p': 'learning', 'y': 'learning', 't': 'learning', 'h': 'learning', 'o': 'learning', 'n': 'learning'}\n"
     ]
    }
   ],
   "source": [
    "from_keys = dict.fromkeys('python', 'learning')\n",
    "print(f\"from_keys : {from_keys}\")"
   ]
  },
  {
   "cell_type": "markdown",
   "id": "18f6599b",
   "metadata": {},
   "source": [
    "## example 5 : using range"
   ]
  },
  {
   "cell_type": "code",
   "execution_count": 7,
   "id": "e2b82f1e",
   "metadata": {},
   "outputs": [
    {
     "name": "stdout",
     "output_type": "stream",
     "text": [
      "from_keys : {1: 'unknown', 2: 'unknown', 3: 'unknown', 4: 'unknown', 5: 'unknown', 6: 'unknown', 7: 'unknown', 8: 'unknown', 9: 'unknown'}\n"
     ]
    }
   ],
   "source": [
    "from_keys = dict.fromkeys(range(1,10), 'unknown')\n",
    "print(f\"from_keys : {from_keys}\")"
   ]
  },
  {
   "cell_type": "markdown",
   "id": "5649433c",
   "metadata": {},
   "source": [
    "## get()\n",
    "   - retrives the value for that key\n",
    "   - **If the key is not there it will return 'None' and will not throw 'KeyError'**\n",
    "   - earlier we are using 'in' to check if there is key in list of values from dict.keys() as dict['no_key] will throw KeyError"
   ]
  },
  {
   "cell_type": "code",
   "execution_count": 9,
   "id": "c5672ff8",
   "metadata": {},
   "outputs": [
    {
     "name": "stdout",
     "output_type": "stream",
     "text": [
      "dict1.get('a') : 1\n",
      "dict1.get('aa') : None\n",
      "dict1['a'] : 1\n"
     ]
    },
    {
     "ename": "KeyError",
     "evalue": "'aa'",
     "output_type": "error",
     "traceback": [
      "\u001b[0;31m---------------------------------------------------------------------------\u001b[0m",
      "\u001b[0;31mKeyError\u001b[0m                                  Traceback (most recent call last)",
      "Input \u001b[0;32mIn [9]\u001b[0m, in \u001b[0;36m<cell line: 5>\u001b[0;34m()\u001b[0m\n\u001b[1;32m      3\u001b[0m \u001b[38;5;28mprint\u001b[39m(\u001b[38;5;124mf\u001b[39m\u001b[38;5;124m\"\u001b[39m\u001b[38;5;124mdict1.get(\u001b[39m\u001b[38;5;124m'\u001b[39m\u001b[38;5;124maa\u001b[39m\u001b[38;5;124m'\u001b[39m\u001b[38;5;124m) : \u001b[39m\u001b[38;5;132;01m{\u001b[39;00mdict1\u001b[38;5;241m.\u001b[39mget(\u001b[38;5;124m'\u001b[39m\u001b[38;5;124maa\u001b[39m\u001b[38;5;124m'\u001b[39m)\u001b[38;5;132;01m}\u001b[39;00m\u001b[38;5;124m\"\u001b[39m)\n\u001b[1;32m      4\u001b[0m \u001b[38;5;28mprint\u001b[39m(\u001b[38;5;124mf\u001b[39m\u001b[38;5;124m\"\u001b[39m\u001b[38;5;124mdict1[\u001b[39m\u001b[38;5;124m'\u001b[39m\u001b[38;5;124ma\u001b[39m\u001b[38;5;124m'\u001b[39m\u001b[38;5;124m] : \u001b[39m\u001b[38;5;132;01m{\u001b[39;00mdict1[\u001b[38;5;124m'\u001b[39m\u001b[38;5;124ma\u001b[39m\u001b[38;5;124m'\u001b[39m]\u001b[38;5;132;01m}\u001b[39;00m\u001b[38;5;124m\"\u001b[39m)\n\u001b[0;32m----> 5\u001b[0m \u001b[38;5;28mprint\u001b[39m(\u001b[38;5;124mf\u001b[39m\u001b[38;5;124m\"\u001b[39m\u001b[38;5;124mdict1[\u001b[39m\u001b[38;5;124m'\u001b[39m\u001b[38;5;124maa\u001b[39m\u001b[38;5;124m'\u001b[39m\u001b[38;5;124m] : \u001b[39m\u001b[38;5;132;01m{\u001b[39;00mdict1[\u001b[38;5;124m'\u001b[39m\u001b[38;5;124maa\u001b[39m\u001b[38;5;124m'\u001b[39m]\u001b[38;5;132;01m}\u001b[39;00m\u001b[38;5;124m\"\u001b[39m)\n",
      "\u001b[0;31mKeyError\u001b[0m: 'aa'"
     ]
    }
   ],
   "source": [
    "dict1 = dict(a=1, b=2, c=3)\n",
    "print(f\"dict1.get('a') : {dict1.get('a')}\")\n",
    "print(f\"dict1.get('aa') : {dict1.get('aa')}\")\n",
    "print(f\"dict1['a'] : {dict1['a']}\")\n",
    "print(f\"dict1['aa'] : {dict1['aa']}\")"
   ]
  },
  {
   "cell_type": "markdown",
   "id": "ae296b91",
   "metadata": {},
   "source": [
    "## pop()\n",
    "   - pops the item(key,val pair) whose key is passed(key should be passed (mandatory) or we get TypeError)\n",
    "   - unlike for lists we have to pass a value to pop to tell which key should be pop'ed\n",
    "   - returns the value for the key\n",
    "   - KeyError if non existing key is passed"
   ]
  },
  {
   "cell_type": "code",
   "execution_count": 6,
   "id": "a0f0639a",
   "metadata": {},
   "outputs": [
    {
     "name": "stdout",
     "output_type": "stream",
     "text": [
      "using_dict before pop : {'name': 'Learning JS', 'price': 99}\n",
      "using_dict.pop('price') : 99\n",
      "using_dict after pop :{'name': 'Learning JS'}\n"
     ]
    },
    {
     "ename": "KeyError",
     "evalue": "'error'",
     "output_type": "error",
     "traceback": [
      "\u001b[0;31m---------------------------------------------------------------------------\u001b[0m",
      "\u001b[0;31mKeyError\u001b[0m                                  Traceback (most recent call last)",
      "Input \u001b[0;32mIn [6]\u001b[0m, in \u001b[0;36m<cell line: 5>\u001b[0;34m()\u001b[0m\n\u001b[1;32m      3\u001b[0m \u001b[38;5;28mprint\u001b[39m(\u001b[38;5;124mf\u001b[39m\u001b[38;5;124m\"\u001b[39m\u001b[38;5;124musing_dict.pop(\u001b[39m\u001b[38;5;124m'\u001b[39m\u001b[38;5;124mprice\u001b[39m\u001b[38;5;124m'\u001b[39m\u001b[38;5;124m) : \u001b[39m\u001b[38;5;132;01m{\u001b[39;00musing_dict\u001b[38;5;241m.\u001b[39mpop(\u001b[38;5;124m'\u001b[39m\u001b[38;5;124mprice\u001b[39m\u001b[38;5;124m'\u001b[39m)\u001b[38;5;132;01m}\u001b[39;00m\u001b[38;5;124m\"\u001b[39m)\n\u001b[1;32m      4\u001b[0m \u001b[38;5;28mprint\u001b[39m(\u001b[38;5;124mf\u001b[39m\u001b[38;5;124m\"\u001b[39m\u001b[38;5;124musing_dict after pop :\u001b[39m\u001b[38;5;132;01m{\u001b[39;00musing_dict\u001b[38;5;132;01m}\u001b[39;00m\u001b[38;5;124m\"\u001b[39m)\n\u001b[0;32m----> 5\u001b[0m \u001b[38;5;28mprint\u001b[39m(\u001b[43musing_dict\u001b[49m\u001b[38;5;241;43m.\u001b[39;49m\u001b[43mpop\u001b[49m\u001b[43m(\u001b[49m\u001b[38;5;124;43m'\u001b[39;49m\u001b[38;5;124;43merror\u001b[39;49m\u001b[38;5;124;43m'\u001b[39;49m\u001b[43m)\u001b[49m)\n",
      "\u001b[0;31mKeyError\u001b[0m: 'error'"
     ]
    }
   ],
   "source": [
    "using_dict = dict(name=\"Learning JS\", price=99)\n",
    "print(f\"using_dict before pop : {using_dict}\")\n",
    "print(f\"using_dict.pop('price') : {using_dict.pop('price')}\")\n",
    "print(f\"using_dict after pop :{using_dict}\")\n",
    "print(using_dict.pop('error'))"
   ]
  },
  {
   "cell_type": "markdown",
   "id": "19e52902",
   "metadata": {},
   "source": [
    "## popitem()\n",
    "   - removed random item(key,value pair) from the dictionary\n",
    "   - no need to pass argument\n",
    "   - retuns the key,val pair that is removed"
   ]
  },
  {
   "cell_type": "code",
   "execution_count": 2,
   "id": "d611dae4",
   "metadata": {},
   "outputs": [
    {
     "name": "stdout",
     "output_type": "stream",
     "text": [
      "using_dict.popitem() : ('price', 99)\n",
      "using_dict : {'name': 'Learning JS'}\n",
      "dict_another.popitem() : ('c', 3)\n",
      "dict_another : {'a': 1, 'b': 2}\n",
      "dict_another.popitem() : ('b', 2)\n",
      "dict_another : {'a': 1}\n"
     ]
    }
   ],
   "source": [
    "using_dict = dict(name=\"Learning JS\", price=99)\n",
    "print(f\"using_dict.popitem() : {using_dict.popitem()}\")\n",
    "print(f\"using_dict : {using_dict}\")\n",
    "\n",
    "dict_another = dict(a=1, b=2, c=3)\n",
    "print(f\"dict_another.popitem() : {dict_another.popitem()}\")\n",
    "print(f\"dict_another : {dict_another}\")\n",
    "print(f\"dict_another.popitem() : {dict_another.popitem()}\")\n",
    "print(f\"dict_another : {dict_another}\")"
   ]
  },
  {
   "cell_type": "markdown",
   "id": "4622fbd8",
   "metadata": {},
   "source": [
    "## update()\n",
    "   - add/update items from the passed list to the base dict\n",
    "   - passed dict is not changed\n",
    "   - base dict : if keys are present in passed dict and base dict then the values are updated in the base dict\n",
    "   - if we pass empty dict, it will not remove the items from the base dict"
   ]
  },
  {
   "cell_type": "code",
   "execution_count": 9,
   "id": "13abb491",
   "metadata": {},
   "outputs": [
    {
     "name": "stdout",
     "output_type": "stream",
     "text": [
      "\n",
      "initial base_dict : {'a': 1, 'd': 2, 'e': 3}\n",
      "after update base_dict : {'a': 10, 'd': 2, 'e': 3, 'b': 20, 'c': 30} \n",
      "passing_dict: {'a': 10, 'b': 20, 'c': 30}\n",
      "after update with empty dictionary: {'a': 10, 'd': 2, 'e': 3, 'b': 20, 'c': 30}\n"
     ]
    }
   ],
   "source": [
    "passing_dict = dict(a=10, b=20, c=30)\n",
    "base_dict = dict(a=1, d=2, e=3)\n",
    "print(f\"\\ninitial base_dict : {base_dict}\")\n",
    "base_dict.update(passing_dict)\n",
    "print(f\"after update base_dict : {base_dict} \\npassing_dict: {passing_dict}\")\n",
    "base_dict.update({})\n",
    "print(f\"after update with empty dictionary: {base_dict}\")\n"
   ]
  },
  {
   "cell_type": "markdown",
   "id": "79ff8904",
   "metadata": {},
   "source": [
    "## task"
   ]
  },
  {
   "cell_type": "code",
   "execution_count": 15,
   "id": "44695bca",
   "metadata": {},
   "outputs": [
    {
     "name": "stdout",
     "output_type": "stream",
     "text": [
      "{'croissant': 19, 'bagel': 4, 'muffin': 8, 'cake': 1}\n",
      "inventory == stock_list : True\n",
      "inventory is stock_list : False\n",
      "stock_list after cookie update : {'croissant': 19, 'bagel': 4, 'muffin': 8, 'cake': 1, 'cookie': 18}\n",
      "stock_list after removing cake : {'croissant': 19, 'bagel': 4, 'muffin': 8, 'cookie': 18}\n"
     ]
    }
   ],
   "source": [
    "inventory = {'croissant': 19, 'bagel': 4, 'muffin': 8, 'cake': 1}\n",
    "stock_list = inventory.copy()\n",
    "print(stock_list)\n",
    "print(f\"inventory == stock_list : {inventory == stock_list}\")\n",
    "print(f\"inventory is stock_list : {inventory is stock_list}\")\n",
    "stock_list.update({'cookie': 18})\n",
    "print(f\"stock_list after cookie update : {stock_list}\")\n",
    "stock_list.pop('cake')\n",
    "print(f\"stock_list after removing cake : {stock_list}\")"
   ]
  },
  {
   "cell_type": "markdown",
   "id": "3a5a7869",
   "metadata": {},
   "source": [
    "# Checking key or value exists in the dictionary"
   ]
  },
  {
   "cell_type": "code",
   "execution_count": 18,
   "id": "15606dde",
   "metadata": {},
   "outputs": [
    {
     "name": "stdout",
     "output_type": "stream",
     "text": [
      "'Grade' key exists, the value is A\n",
      "value 'Guru' exists in the dictionary : Guru\n",
      "'Gurus' NOT in user_info\n"
     ]
    }
   ],
   "source": [
    "user_info = {\n",
    "    \"Student Name\": \"Guru\",\n",
    "    \"Grade\": 'A',\n",
    "    \"Score\": 911,\n",
    "    35: 'address'\n",
    "}\n",
    "# check if 'Grade' key exists, then print its value\n",
    "if 'Grade' in user_info:\n",
    "    print(f\"'Grade' key exists, the value is {user_info.get('Grade')}\")\n",
    "    \n",
    "if 'Guru' in user_info.values():\n",
    "    print(f\"value 'Guru' exists in the dictionary : {user_info['Student Name']}\")\n",
    "if 'Gurus' in user_info:\n",
    "    print(\"'Gurus' in user_info\")\n",
    "else:\n",
    "    print(\"'Gurus' NOT in user_info\")"
   ]
  },
  {
   "cell_type": "markdown",
   "id": "6e0ea44d",
   "metadata": {},
   "source": [
    "# Play list task"
   ]
  },
  {
   "cell_type": "code",
   "execution_count": 19,
   "id": "dc2d2b70",
   "metadata": {},
   "outputs": [
    {
     "name": "stdout",
     "output_type": "stream",
     "text": [
      "total duration of the playlist is : 17.6\n"
     ]
    }
   ],
   "source": [
    "playlist = {\n",
    "    'title': 'motivational songs',\n",
    "    'author': 'Guru',\n",
    "    'songs': [\n",
    "        {'title': 'song1', 'artist': 'artist1', 'duration': 2.9},\n",
    "        {'title': 'song2', 'artist': 'artist2', 'duration': 3.9},\n",
    "        {'title': 'song3', 'artist': 'artist3', 'duration': 4.9},\n",
    "        {'title': 'song4', 'artist': 'artist4', 'duration': 5.9}\n",
    "    ]\n",
    "}\n",
    "\n",
    "# total duration of playlist\n",
    "songs_lst = playlist['songs']\n",
    "total_duration = 0\n",
    "for song in songs_lst:\n",
    "    total_duration += song.get('duration')\n",
    "\n",
    "print(f\"total duration of the playlist is : {total_duration}\")"
   ]
  },
  {
   "cell_type": "markdown",
   "id": "c0527e41",
   "metadata": {},
   "source": [
    "# dictionary comprehension\n",
    "   - similar to list comprehension\n",
    "   - But we need to enclose in {}\n",
    "   - default we can iterate thr keys\n",
    "   - to iterate thr values or key,val we can use values() or items() respectively"
   ]
  },
  {
   "cell_type": "markdown",
   "id": "d4ba3c19",
   "metadata": {},
   "source": [
    "## example 1 : iterating thr k,v of dict"
   ]
  },
  {
   "cell_type": "code",
   "execution_count": 24,
   "id": "8ed6f3f5",
   "metadata": {},
   "outputs": [
    {
     "name": "stdout",
     "output_type": "stream",
     "text": [
      "result_default_keys : {'first', 'third', 'second'}\n",
      "result_values : {1, 2, 3}\n",
      "result_key_value : {'first': 1, 'second': 4, 'third': 9}\n"
     ]
    }
   ],
   "source": [
    "numbers = {'first': 1, 'second': 2, 'third': 3}\n",
    "result_default_keys = {num for num in numbers}\n",
    "print(f\"result_default_keys : {result_default_keys}\")\n",
    "result_values = {vals for vals in numbers.values()}\n",
    "print(f\"result_values : {result_values}\")\n",
    "result_key_value = {k:v*v for k,v in numbers.items()}\n",
    "print(f\"result_key_value : {result_key_value}\")\n"
   ]
  },
  {
   "cell_type": "markdown",
   "id": "fe552dea",
   "metadata": {},
   "source": [
    "## example 2 : iterating thr list and creating dict"
   ]
  },
  {
   "cell_type": "code",
   "execution_count": 25,
   "id": "3ef02d40",
   "metadata": {},
   "outputs": [
    {
     "name": "stdout",
     "output_type": "stream",
     "text": [
      "dict_from_lst : {1: 1, 2: 4, 3: 9, 4: 16, 5: 25, 6: 36}\n"
     ]
    }
   ],
   "source": [
    "lst = [1, 2, 3, 4, 5, 6]\n",
    "dict_from_lst = {item : item*item for item in lst}\n",
    "print(f\"dict_from_lst : {dict_from_lst}\")"
   ]
  },
  {
   "cell_type": "markdown",
   "id": "8b646ac2",
   "metadata": {},
   "source": [
    "## example 3 : creating a dictionary from 2 strings"
   ]
  },
  {
   "cell_type": "code",
   "execution_count": 27,
   "id": "5923110a",
   "metadata": {},
   "outputs": [
    {
     "name": "stdout",
     "output_type": "stream",
     "text": [
      "dict_from_strings : {'A': '1', 'B': '2', 'C': '3'}\n"
     ]
    }
   ],
   "source": [
    "str1 = 'ABC'\n",
    "str2 = '123'\n",
    "dict_from_strings = {str1[idx]:str2[idx] for idx in range(0,len(str2))}\n",
    "print(f\"dict_from_strings : {dict_from_strings}\")"
   ]
  },
  {
   "cell_type": "markdown",
   "id": "b2a940d3",
   "metadata": {},
   "source": [
    "## example 4 : all key,val to upper case"
   ]
  },
  {
   "cell_type": "code",
   "execution_count": 28,
   "id": "874066ea",
   "metadata": {},
   "outputs": [
    {
     "name": "stdout",
     "output_type": "stream",
     "text": [
      "all_upper : {'FIRST': 'ORANGE', 'SECOND': 'BLUE', 'THIRD': 'GREEN'}\n"
     ]
    }
   ],
   "source": [
    "num = {'first': 'orange', 'second': 'blue', 'third': 'green'}\n",
    "all_upper = {k.upper():v.upper() for k,v in num.items()}\n",
    "print(f\"all_upper : {all_upper}\")"
   ]
  },
  {
   "cell_type": "markdown",
   "id": "b3e62c4a",
   "metadata": {},
   "source": [
    "## example 5 : conditional logic - if"
   ]
  },
  {
   "cell_type": "code",
   "execution_count": 29,
   "id": "0fabe66d",
   "metadata": {},
   "outputs": [
    {
     "name": "stdout",
     "output_type": "stream",
     "text": [
      "even_dict : {2: 'even', 4: 'even', 6: 'even', 8: 'even', 10: 'even', 12: 'even', 14: 'even', 16: 'even', 18: 'even', 20: 'even', 22: 'even', 24: 'even', 26: 'even', 28: 'even', 30: 'even', 32: 'even', 34: 'even', 36: 'even', 38: 'even', 40: 'even', 42: 'even', 44: 'even', 46: 'even', 48: 'even', 50: 'even', 52: 'even', 54: 'even', 56: 'even', 58: 'even', 60: 'even', 62: 'even', 64: 'even', 66: 'even', 68: 'even', 70: 'even', 72: 'even', 74: 'even', 76: 'even', 78: 'even', 80: 'even', 82: 'even', 84: 'even', 86: 'even', 88: 'even', 90: 'even', 92: 'even', 94: 'even', 96: 'even', 98: 'even', 100: 'even'}\n"
     ]
    }
   ],
   "source": [
    "num_list = list(range(1, 101))\n",
    "even_dict = {num: 'even' for num in num_list if num%2 == 0}\n",
    "print(f\"even_dict : {even_dict}\")"
   ]
  },
  {
   "cell_type": "markdown",
   "id": "8ecd1e74",
   "metadata": {},
   "source": [
    "## example 6 : conditional logic as part of value - if else"
   ]
  },
  {
   "cell_type": "code",
   "execution_count": 32,
   "id": "291e8b37",
   "metadata": {},
   "outputs": [
    {
     "name": "stdout",
     "output_type": "stream",
     "text": [
      "even_odd_dict : {1: 'odd', 2: 'even', 3: 'odd', 4: 'even', 5: 'odd', 6: 'even', 7: 'odd', 8: 'even', 9: 'odd', 10: 'even', 11: 'odd', 12: 'even', 13: 'odd', 14: 'even'}\n"
     ]
    }
   ],
   "source": [
    "num_list = list(range(1, 15))\n",
    "even_odd_dict = {num:('even' if num%2 == 0 else 'odd') for num in num_list}\n",
    "print(f\"even_odd_dict : {even_odd_dict}\")"
   ]
  },
  {
   "cell_type": "markdown",
   "id": "a6fb95dc",
   "metadata": {},
   "source": [
    "## example 5 : conditional logic as part of key and value : specific key,val to upper case"
   ]
  },
  {
   "cell_type": "code",
   "execution_count": 35,
   "id": "d244bf42",
   "metadata": {},
   "outputs": [
    {
     "name": "stdout",
     "output_type": "stream",
     "text": [
      "caps_specific_dict : {'first': 'orange', 'SECOND': 'BLUE', 'third': 'green'}\n"
     ]
    }
   ],
   "source": [
    "num = {'first': 'orange', 'second': 'blue', 'third': 'green'}\n",
    "caps_specific_dict = {k.upper() if k=='second' else k : v.upper() if v=='blue' else v for k,v in num.items()}\n",
    "print(f\"caps_specific_dict : {caps_specific_dict}\")"
   ]
  },
  {
   "cell_type": "markdown",
   "id": "19069c59",
   "metadata": {},
   "source": [
    "## example 6 : State Abbrevation dict"
   ]
  },
  {
   "cell_type": "code",
   "execution_count": 36,
   "id": "4431587d",
   "metadata": {},
   "outputs": [
    {
     "name": "stdout",
     "output_type": "stream",
     "text": [
      "dict_state : {'CA': 'California', 'NJ': 'New Jersey', 'RI': 'Rhode Island'}\n"
     ]
    }
   ],
   "source": [
    "list1 = [\"CA\", \"NJ\", \"RI\"]\n",
    "list2 = [\"California\", \"New Jersey\", \"Rhode Island\"]\n",
    "dict_state = { list1[idx]:list2[idx] for idx in range(0,len(list2))}\n",
    "print(f\"dict_state : {dict_state}\")"
   ]
  },
  {
   "cell_type": "markdown",
   "id": "c2d7c3de",
   "metadata": {},
   "source": [
    "## example 7:  list to dictionary"
   ]
  },
  {
   "cell_type": "code",
   "execution_count": 37,
   "id": "270572ab",
   "metadata": {},
   "outputs": [
    {
     "name": "stdout",
     "output_type": "stream",
     "text": [
      "dict_person : {'name': 'Jared', 'job': 'Musician', 'city': 'Bern'}\n"
     ]
    }
   ],
   "source": [
    "person = [[\"name\", \"Jared\"], [\"job\", \"Musician\"], [\"city\", \"Bern\"]]\n",
    "dict_person = {item[0]:item[1] for item in person}\n",
    "print(f\"dict_person : {dict_person}\")"
   ]
  },
  {
   "cell_type": "markdown",
   "id": "63d04ab7",
   "metadata": {},
   "source": [
    "## example 8: Vowels Dict"
   ]
  },
  {
   "cell_type": "code",
   "execution_count": 38,
   "id": "9ec0bc79",
   "metadata": {},
   "outputs": [
    {
     "name": "stdout",
     "output_type": "stream",
     "text": [
      "{'a': 0, 'e': 0, 'i': 0, 'o': 0, 'u': 0}\n"
     ]
    }
   ],
   "source": [
    "vowels_dict = { vowel: 0 for vowel in 'aeiou'}\n",
    "print(vowels_dict)"
   ]
  },
  {
   "cell_type": "markdown",
   "id": "1a1a3d79",
   "metadata": {},
   "source": [
    "## example 9 : ASCII codes dict"
   ]
  },
  {
   "cell_type": "code",
   "execution_count": null,
   "id": "535c5fd3",
   "metadata": {},
   "outputs": [],
   "source": [
    "ascii_dict = { for }"
   ]
  }
 ],
 "metadata": {
  "kernelspec": {
   "display_name": "Python 3 (ipykernel)",
   "language": "python",
   "name": "python3"
  },
  "language_info": {
   "codemirror_mode": {
    "name": "ipython",
    "version": 3
   },
   "file_extension": ".py",
   "mimetype": "text/x-python",
   "name": "python",
   "nbconvert_exporter": "python",
   "pygments_lexer": "ipython3",
   "version": "3.9.12"
  }
 },
 "nbformat": 4,
 "nbformat_minor": 5
}

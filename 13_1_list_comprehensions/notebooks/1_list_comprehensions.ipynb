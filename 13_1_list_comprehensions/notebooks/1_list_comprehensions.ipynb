{
 "cells": [
  {
   "cell_type": "markdown",
   "id": "d77cdfc7",
   "metadata": {},
   "source": [
    "# list comprehention\n",
    "   - generates a new list\n",
    "   - syntax : [ - for - in - ]\n",
    "   \n",
    "# list comprehension vs loops\n",
    "nums = [1, 2, 3]"
   ]
  },
  {
   "cell_type": "code",
   "execution_count": 2,
   "id": "28459372",
   "metadata": {},
   "outputs": [
    {
     "name": "stdout",
     "output_type": "stream",
     "text": [
      "nums :[1, 2, 3], sq_lst : [1, 4, 9]\n",
      "nums :[1, 2, 3], sq_lst1 : [1, 4, 9]\n"
     ]
    }
   ],
   "source": [
    "nums = [1, 2, 3]\n",
    "sq_lst = [num*num for num in nums]\n",
    "print(f\"nums :{nums}, sq_lst : {sq_lst}\")\n",
    "\n",
    "sq_lst1 = []\n",
    "for num in nums:\n",
    "    sq_lst1.append(num*num)\n",
    "\n",
    "print(f\"nums :{nums}, sq_lst1 : {sq_lst1}\")"
   ]
  },
  {
   "cell_type": "markdown",
   "id": "4080b924",
   "metadata": {},
   "source": [
    "# list comprehension"
   ]
  },
  {
   "cell_type": "markdown",
   "id": "b3a2bea5",
   "metadata": {},
   "source": [
    "# example 1 on strings\n",
    "friends = [\"guru\", \"prem\", \"hansni\"]"
   ]
  },
  {
   "cell_type": "code",
   "execution_count": 4,
   "id": "7328bafb",
   "metadata": {},
   "outputs": [
    {
     "name": "stdout",
     "output_type": "stream",
     "text": [
      "friends : ['guru', 'prem', 'hansni'], friends_lst : ['Guru', 'Prem', 'Hansni']\n"
     ]
    }
   ],
   "source": [
    "friends = [\"guru\", \"prem\", \"hansni\"]\n",
    "friends_lst = [friend[0].upper() + friend[1:] for friend in friends]\n",
    "print(f\"friends : {friends}, friends_lst : {friends_lst}\")"
   ]
  },
  {
   "cell_type": "markdown",
   "id": "0ca761f5",
   "metadata": {},
   "source": [
    "# example 2 : on ranges"
   ]
  },
  {
   "cell_type": "code",
   "execution_count": 5,
   "id": "b88c99f4",
   "metadata": {},
   "outputs": [
    {
     "name": "stdout",
     "output_type": "stream",
     "text": [
      "[1, 4, 9, 16, 25, 36, 49, 64]\n"
     ]
    }
   ],
   "source": [
    "range_ex = [num*num for num in range(1,9)]\n",
    "print(f\"{range_ex}\")"
   ]
  },
  {
   "cell_type": "markdown",
   "id": "4288ea34",
   "metadata": {},
   "source": [
    "# example 3 : with bool function"
   ]
  },
  {
   "cell_type": "code",
   "execution_count": 7,
   "id": "50fc0437",
   "metadata": {},
   "outputs": [
    {
     "name": "stdout",
     "output_type": "stream",
     "text": [
      "[False, False, False, True, True]\n"
     ]
    }
   ],
   "source": [
    "lst = [0, [], '', [1, 2], 'Hello']\n",
    "bool_lst = [bool(val) for val in lst]\n",
    "print(f\"{bool_lst}\")\n"
   ]
  },
  {
   "cell_type": "markdown",
   "id": "55d5237d",
   "metadata": {},
   "source": [
    "# example 4 : take list of nums and convert to list of strings"
   ]
  },
  {
   "cell_type": "code",
   "execution_count": 8,
   "id": "7cc14747",
   "metadata": {},
   "outputs": [
    {
     "name": "stdout",
     "output_type": "stream",
     "text": [
      "['1', '2', '3', '4', '5', '6']\n"
     ]
    }
   ],
   "source": [
    "nums_list = [1, 2, 3, 4, 5, 6]\n",
    "str_lst = [str(num) for num in nums_list]\n",
    "print(f\"{str_lst}\")"
   ]
  }
 ],
 "metadata": {
  "kernelspec": {
   "display_name": "Python 3 (ipykernel)",
   "language": "python",
   "name": "python3"
  },
  "language_info": {
   "codemirror_mode": {
    "name": "ipython",
    "version": 3
   },
   "file_extension": ".py",
   "mimetype": "text/x-python",
   "name": "python",
   "nbconvert_exporter": "python",
   "pygments_lexer": "ipython3",
   "version": "3.9.12"
  }
 },
 "nbformat": 4,
 "nbformat_minor": 5
}
